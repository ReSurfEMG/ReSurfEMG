{
 "cells": [
  {
   "cell_type": "code",
   "execution_count": null,
   "metadata": {},
   "outputs": [],
   "source": [
    "# Standard code libraries\n",
    "import os\n",
    "import platform\n",
    "import glob\n",
    "\n",
    "import numpy as np\n",
    "import scipy\n",
    "import matplotlib.pyplot as plt\n",
    "\n",
    "# Custom code libraries from the ReSurfEMG\n",
    "from resurfemg.config.config import Config\n",
    "from resurfemg.data_connector.tmsisdk_lite import Poly5Reader\n",
    "from resurfemg.data_classes.data_classes import (\n",
    "    TimeSeriesGroup, VentilatorDataGroup, EmgDataGroup)\n",
    "\n",
    "%matplotlib widget"
   ]
  },
  {
   "cell_type": "markdown",
   "metadata": {},
   "source": [
    "## 2. Load the ventilator and sEMG data"
   ]
  },
  {
   "cell_type": "code",
   "execution_count": null,
   "metadata": {},
   "outputs": [],
   "source": [
    "# Root directory for test data\n",
    "config = Config()\n",
    "root_patient_data_directory = \\\n",
    "    config.get_directory('test_data')\n",
    "\n",
    "if platform.system() == 'Windows':\n",
    "    path_sep = \"\\\\\"\n",
    "else:\n",
    "    path_sep = '/'\n",
    "\n",
    "# Identify all recordings available for the selected patient/measurement_date\n",
    "emg_pattern = os.path.join(root_patient_data_directory, '**/*.Poly5')\n",
    "emg_and_vent_files = glob.glob(emg_pattern, recursive=True)\n",
    "\n",
    "emg_files = []\n",
    "vent_files = []\n",
    "\n",
    "for file in emg_and_vent_files:\n",
    "    if 'vent' in file:\n",
    "        vent_files.append(file)\n",
    "    else:\n",
    "        emg_files.append(file)\n",
    "\n",
    "emg_file_chosen = emg_files[0]\n",
    "vent_file_chosen = vent_files[0]\n",
    "print(\"The chosen files are:\\n\", emg_file_chosen, '\\n', vent_file_chosen)"
   ]
  },
  {
   "cell_type": "code",
   "execution_count": null,
   "metadata": {},
   "outputs": [],
   "source": [
    "# Load the EMG and ventilator data recordings from the selected folders.\n",
    "data_emg = Poly5Reader(emg_file_chosen)\n",
    "data_vent = Poly5Reader(vent_file_chosen)\n",
    "data_emg_samples = data_emg.samples[:data_emg.num_samples]\n",
    "fs_emg = data_emg.sample_rate\n",
    "data_vent_samples = data_vent.samples[:data_vent.num_samples]\n",
    "fs_vent = data_vent.sample_rate\n",
    "\n",
    "# Define the time series of the EMG and ventilator recordings\n",
    "y_emg = data_emg_samples\n",
    "y_vent = data_vent_samples\n",
    "\n",
    "# Define the time axes\n",
    "t_emg = [i/fs_emg for i in range(len(y_emg[0, :]))]\n",
    "t_vent = [i/fs_vent for i in range(len(y_vent[0, :]))]\n",
    "\n",
    "# Default settings for window of interest including the end-expiratory occlusion\n",
    "# manoeuvres (Pocc)\n",
    "t_start_default = t_vent[-1]-60\n",
    "t_end_default = t_vent[-1]-5"
   ]
  },
  {
   "cell_type": "code",
   "execution_count": null,
   "metadata": {},
   "outputs": [],
   "source": [
    "emg_timeseries = EmgDataGroup(y_emg, fs=fs_emg, labels=['ECG', 'EMGdi'], units=3*['uV'])\n",
    "emg_timeseries.filter()\n",
    "emg_timeseries.gating()\n",
    "# emg_timeseries.envelope(signal_type='clean')\n",
    "emg_timeseries.envelope(env_type='arv', signal_type='clean')\n",
    "emg_timeseries.baseline()"
   ]
  },
  {
   "cell_type": "code",
   "execution_count": null,
   "metadata": {},
   "outputs": [],
   "source": [
    "vent_timeseries = VentilatorDataGroup(y_vent, fs=fs_vent, labels=['Paw', 'F', 'Vvent'], units=['cmH2O', 'L/s', 'L'])\n",
    "vent_timeseries.baseline(channel_idxs=[0], signal_type='raw')"
   ]
  },
  {
   "cell_type": "code",
   "execution_count": null,
   "metadata": {},
   "outputs": [],
   "source": [
    "# Plot the raw data\n",
    "fig, axis = plt.subplots(nrows=3, ncols=2, figsize=(12, 6), sharex=True)\n",
    "axes_emg = axis[:2, 0]\n",
    "colors = ['tab:cyan', 'tab:orange']\n",
    "# emg_timeseries.plot_full(axes_emg, signal_type='clean', baseline_bool=False)\n",
    "# emg_timeseries.plot_full(axes_emg, signal_type='env', colors=colors)\n",
    "emg_timeseries.plot_full(axes_emg, signal_type='env')\n",
    "emg_timeseries.plot_full(axes_emg[0], channel_idxs=0, signal_type='env')\n",
    "axes_emg[0].set_title('EMG data')\n",
    "axes_emg[-1].set_xlabel('t (s)')\n",
    "\n",
    "axes_vent = axis[:, 1]\n",
    "vent_timeseries.plot_full(axes_vent)\n",
    "axes_vent[0].set_title('Ventilator data')\n",
    "axes_vent[-1].set_xlabel('t (s)')\n",
    "\n",
    "axis[-1, 0].axis('off')\n",
    "\n",
    "axes_vent[-1].set_xlim([370, 410])"
   ]
  },
  {
   "cell_type": "code",
   "execution_count": null,
   "metadata": {},
   "outputs": [],
   "source": [
    "# Find occlusion pressures\n",
    "vent_timeseries.peep\n",
    "vent_timeseries.find_occluded_breaths(\n",
    "    vent_timeseries.p_aw_idx, start_idx=360*vent_timeseries.fs)\n",
    "\n",
    "paw = vent_timeseries.channels[vent_timeseries.p_aw_idx]\n",
    "paw.peaks['Pocc'].detect_on_offset(baseline=paw.y_baseline)\n",
    "\n",
    "paw.peaks['Pocc'].peak_idxs/paw.fs\n",
    "\n",
    "# Find supported breath pressures\n",
    "# paw.set_peaks(\n",
    "#     peak_set_name='breaths',\n",
    "#     peak_idxs=np.array(peak_idxs*paw.fs/emg_di.fs, dtype=int),\n",
    "#     signal=paw.y_raw)\n",
    "\n",
    "# paw.peaks['breaths'].detect_on_offset(\n",
    "#     baseline=paw.y_baseline\n",
    "# )"
   ]
  },
  {
   "cell_type": "code",
   "execution_count": null,
   "metadata": {},
   "outputs": [],
   "source": [
    "# Find sEAdi peaks in one channel (sEAdi)\n",
    "emg_di = emg_timeseries.channels[1]\n",
    "emg_di.detect_emg_breaths(peak_set_name='breaths')\n",
    "emg_di.peaks['breaths'].detect_on_offset(\n",
    "    baseline=emg_di.y_baseline\n",
    ")\n",
    "\n",
    "# Link ventilator Pocc peaks to EMG breaths\n",
    "t_pocc_peaks_vent = paw.peaks['Pocc'].peak_idxs/paw.fs\n",
    "emg_di.link_peak_set(\n",
    "    peak_set_name='breaths',\n",
    "    t_reference_peaks=t_pocc_peaks_vent,\n",
    "    linked_peak_set_name='Pocc',\n",
    ")\n",
    "emg_di.peaks['Pocc'].start_idxs/emg_di.fs, emg_di.peaks['Pocc'].peak_idxs/emg_di.fs\n"
   ]
  },
  {
   "cell_type": "code",
   "execution_count": null,
   "metadata": {},
   "outputs": [],
   "source": [
    "# Plot the raw data\n",
    "fig, axis = plt.subplots(nrows=3, ncols=2, figsize=(10, 6), sharex=True)\n",
    "axes_emg = axis[:-1, 0]\n",
    "colors = ['tab:cyan', 'tab:orange', 'tab:red']\n",
    "# emg_timeseries.plot_full(axes_emg, signal_type='clean', baseline_bool=False)\n",
    "# emg_timeseries.plot_full(axes_emg, signal_type='env', colors=colors)\n",
    "emg_timeseries.plot_full(axes_emg, signal_type='env')\n",
    "emg_di.plot_markers(peak_set_name='Pocc', axes=axes_emg[1])\n",
    "axes_emg[0].set_title('EMG data')\n",
    "axes_emg[-1].set_xlabel('t (s)')\n",
    "\n",
    "axes_vent = axis[:, 1]\n",
    "vent_timeseries.plot_full(axes_vent)\n",
    "paw.plot_markers(peak_set_name='Pocc', axes=axes_vent[0])\n",
    "\n",
    "axes_vent[0].set_title('Ventilator data')\n",
    "axes_vent[-1].set_xlabel('t (s)')\n",
    "axes_vent[-1].set_xlim([370, 410])"
   ]
  },
  {
   "cell_type": "code",
   "execution_count": null,
   "metadata": {},
   "outputs": [],
   "source": [
    "# Plot the peaks\n",
    "n_peaks = len(emg_di.peaks['Pocc'].start_idxs)\n",
    "fig, axis = plt.subplots(nrows=2, ncols=n_peaks, figsize=(10, 6), sharey='row')\n",
    "\n",
    "axes_emg = axis[0, :]\n",
    "colors = ['tab:cyan', 'tab:orange', 'tab:red']\n",
    "emg_di.plot_peaks(axes=axes_emg, peak_set_name='Pocc')\n",
    "# emg_di.plot_peaks(axes=axes_emg, peak_set_name='Pocc', colors=colors)\n",
    "emg_di.plot_markers(axes=axes_emg, peak_set_name='Pocc')\n",
    "\n",
    "axes_vent = axis[1, :]\n",
    "paw.plot_peaks(axes=axes_vent, peak_set_name='Pocc')\n",
    "paw.plot_markers(axes=axes_vent, peak_set_name='Pocc')\n",
    "\n",
    "for axis in axes_vent:\n",
    "    axis.set_xlabel('t (s)')"
   ]
  },
  {
   "cell_type": "code",
   "execution_count": null,
   "metadata": {},
   "outputs": [],
   "source": []
  },
  {
   "cell_type": "code",
   "execution_count": null,
   "metadata": {},
   "outputs": [],
   "source": []
  }
 ],
 "metadata": {
  "kernelspec": {
   "display_name": ".venv310_win",
   "language": "python",
   "name": "python3"
  },
  "language_info": {
   "codemirror_mode": {
    "name": "ipython",
    "version": 3
   },
   "file_extension": ".py",
   "mimetype": "text/x-python",
   "name": "python",
   "nbconvert_exporter": "python",
   "pygments_lexer": "ipython3",
   "version": "3.10.5"
  }
 },
 "nbformat": 4,
 "nbformat_minor": 2
}
