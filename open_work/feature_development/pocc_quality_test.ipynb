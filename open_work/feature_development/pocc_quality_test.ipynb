{
 "cells": [
  {
   "cell_type": "code",
   "execution_count": null,
   "metadata": {},
   "outputs": [],
   "source": [
    "# Standard code libraries\n",
    "import numpy as np\n",
    "from scipy.signal import find_peaks\n",
    "\n",
    "import matplotlib.pyplot as plt\n",
    "\n",
    "# Custom code libraries from the ReSurfEMG\n",
    "from resurfemg.postprocessing.baseline import moving_baseline\n",
    "from resurfemg.postprocessing.event_detection import onoffpeak_baseline_crossing\n",
    "import resurfemg.preprocessing.envelope as evl\n",
    "import resurfemg.postprocessing.quality_assessment as qa\n",
    "\n",
    "%matplotlib widget"
   ]
  },
  {
   "cell_type": "code",
   "execution_count": null,
   "metadata": {},
   "outputs": [],
   "source": [
    "# Define valid dummy signal\n",
    "fs_vent = 100\n",
    "s_vent = np.array([(s_t) for s_t in range(10*fs_vent)])\n",
    "t_vent = (s_vent + 1)/fs_vent\n",
    "rr = 12\n",
    "t_r = 60/rr\n",
    "f_r = 1/t_r\n",
    "y_sin = np.sin((f_r* t_vent)* 2 * np.pi)\n",
    "y_sin[y_sin > 0] = 0\n",
    "y_t = 5 * y_sin\n",
    "\n",
    "peaks_source, _ = find_peaks(-y_t, prominence=0.1)\n",
    "\n",
    "peak_ends = s_vent[(t_vent%t_r == 0)]\n",
    "peak_starts = s_vent[((t_vent+t_r/2)%t_r == 0)]\n",
    "\n",
    "PTP_occs = np.zeros(peaks_source.shape)\n",
    "for idx in range(len(peaks_source)):\n",
    "    PTP_occs[idx] = np.trapz(\n",
    "        -y_t[peak_starts[idx]:peak_ends[idx]],\n",
    "        dx=1/fs_vent\n",
    "    )\n",
    "\n",
    "valid_poccs, criteria_matrix = qa.pocc_quality(\n",
    "    y_t, peaks_source, peak_ends, PTP_occs)\n",
    "valid_poccs, criteria_matrix"
   ]
  },
  {
   "cell_type": "code",
   "execution_count": null,
   "metadata": {},
   "outputs": [],
   "source": [
    "# Simulate negative deflection in upslope\n",
    "y_sin_shifted = np.sin(((f_r-0.025)* t_vent - 0.11)* 2 * np.pi)\n",
    "y_sin_shifted[y_sin_shifted > 0] = 0\n",
    "y_sin_shifted[t_vent < 7.0] = 0\n",
    "y_t_shifted = 5 * y_sin + 4 * y_sin_shifted\n",
    "\n",
    "negative_upslope_poccs, criteria_matrix = qa.pocc_quality(\n",
    "    y_t_shifted, peaks_source, peak_ends, PTP_occs)\n",
    "negative_upslope_poccs, criteria_matrix"
   ]
  },
  {
   "cell_type": "code",
   "execution_count": null,
   "metadata": {},
   "outputs": [],
   "source": [
    "# Simulate steep upslope\n",
    "y_sin = np.sin((f_r* t_vent)* 2 * np.pi)\n",
    "y_sin[y_sin > 0] = 0\n",
    "y_sin_shifted = np.sin((f_r* t_vent - 0.4)* 2 * np.pi) \n",
    "y_sin_shifted[y_sin_shifted > 0] = 0\n",
    "y_sin_shifted = y_sin_shifted ** 4\n",
    "y_t_steeper = 1000 * y_sin * y_sin_shifted\n",
    "\n",
    "peaks_steeper, _ = find_peaks(-y_t_steeper, prominence=0.1)\n",
    "y_baseline = moving_baseline(-y_t_steeper, 7.5*fs_vent, fs_vent//5)\n",
    "\n",
    "_, peak_starts_steep, peak_ends_steep, _, _, _ = onoffpeak_baseline_crossing(\n",
    "    y_t_steeper, y_baseline, peaks_steeper)\n",
    "\n",
    "PTP_occs_steep = np.zeros(peaks_steeper.shape)\n",
    "for idx in range(len(peaks_steeper)):\n",
    "    PTP_occs_steep[idx] = np.trapz(\n",
    "        -y_t_steeper[peak_starts_steep[idx]:peak_ends_steep[idx]],\n",
    "        dx=1/fs_vent\n",
    "    )\n",
    "\n",
    "high_uplope_poccs, criteria_matrix = qa.pocc_quality(\n",
    "    y_t_steeper, peaks_steeper, peak_ends_steep, PTP_occs_steep)\n",
    "high_uplope_poccs, criteria_matrix"
   ]
  },
  {
   "cell_type": "code",
   "execution_count": null,
   "metadata": {},
   "outputs": [],
   "source": [
    "# Plot the raw data\n",
    "fig, axis = plt.subplots(nrows=3, ncols=1, figsize=(10, 6))\n",
    "axis[0].grid(True)\n",
    "axis[0].plot(t_vent, y_t, color='tab:blue')\n",
    "axis[0].plot(t_vent[peaks_source], y_t[peaks_source], 'x', color='tab:red')\n",
    "axis[0].plot(t_vent[peak_starts], y_t[peak_starts], 'x', color='tab:cyan')\n",
    "axis[0].plot(t_vent[peak_ends], y_t[peak_ends], 'x', color='tab:cyan')\n",
    "axis[0].set_ylabel('Valid')\n",
    "\n",
    "axis[1].grid(True)\n",
    "axis[1].plot(t_vent, y_t_shifted, color='tab:blue')\n",
    "axis[1].plot(t_vent[peaks_source], y_t_shifted[peaks_source], 'x', color='tab:red')\n",
    "axis[1].plot(t_vent[peak_starts], y_t_shifted[peak_starts], 'x', color='tab:cyan')\n",
    "axis[1].plot(t_vent[peak_ends], y_t_shifted[peak_ends], 'x', color='tab:cyan')\n",
    "axis[1].set_ylabel('Negative upslope')\n",
    "\n",
    "axis[2].grid(True)\n",
    "axis[2].plot(t_vent, y_t_steeper, color='tab:blue')\n",
    "axis[2].plot(t_vent[peaks_steeper], y_t_steeper[peaks_steeper], 'x', color='tab:red')\n",
    "axis[2].plot(t_vent[peak_starts_steep], y_t_steeper[peak_starts_steep], 'x', color='tab:cyan')\n",
    "axis[2].plot(t_vent[peak_ends_steep], y_t_steeper[peak_ends_steep], 'x', color='tab:cyan')\n",
    "axis[2].set_ylabel('Steep upslope')\n",
    "\n",
    "axis[2].set_xlabel('t (s)')"
   ]
  },
  {
   "cell_type": "code",
   "execution_count": null,
   "metadata": {},
   "outputs": [],
   "source": []
  },
  {
   "cell_type": "code",
   "execution_count": null,
   "metadata": {},
   "outputs": [],
   "source": []
  }
 ],
 "metadata": {
  "kernelspec": {
   "display_name": ".venv310_win",
   "language": "python",
   "name": "python3"
  },
  "language_info": {
   "codemirror_mode": {
    "name": "ipython",
    "version": 3
   },
   "file_extension": ".py",
   "mimetype": "text/x-python",
   "name": "python",
   "nbconvert_exporter": "python",
   "pygments_lexer": "ipython3",
   "version": "3.10.5"
  }
 },
 "nbformat": 4,
 "nbformat_minor": 2
}
