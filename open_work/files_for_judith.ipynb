{
 "cells": [
  {
   "cell_type": "markdown",
   "id": "e60b9d59",
   "metadata": {},
   "source": [
    "# Making numpy files for dashboard (Elshof)"
   ]
  },
  {
   "cell_type": "markdown",
   "id": "491b0e84",
   "metadata": {},
   "source": [
    "## Here we comment out  importing a bunch of libraries we are not using, but if we want to expand the script to do things like visualization we can uncomment them and use them"
   ]
  },
  {
   "cell_type": "markdown",
   "id": "ea6a5286",
   "metadata": {},
   "source": [
    "### imports"
   ]
  },
  {
   "cell_type": "code",
   "execution_count": 1,
   "id": "2d1b817b",
   "metadata": {},
   "outputs": [],
   "source": [
    "#%matplotlib widget\n",
    "#import ipywidgets as widgets\n",
    "import matplotlib.pyplot as plt\n",
    "import numpy as np\n",
    "import sys\n",
    "import os\n",
    "import glob\n",
    "import numpy as np\n",
    "import pandas as pd\n",
    "\n",
    "#from scipy.signal import savgol_filter\n",
    "#from scipy.signal import find_peaks\n",
    "#import collections\n",
    "#from collections import namedtuple\n",
    "import builtins\n",
    "import math\n",
    "# import our library as is now\n",
    "\n",
    "import resurfemg.helper_functions as hf\n",
    "#import resurfemg.converter_functions as cf\n",
    "from resurfemg.tmsisdk_lite import Poly5Reader\n",
    "from resurfemg.config import Config\n",
    "\n",
    "sys.path.insert(0, '../ReSurfEMG')\n",
    "import converter_functions as cf\n",
    "\n",
    "config = Config()\n"
   ]
  },
  {
   "cell_type": "code",
   "execution_count": null,
   "id": "aa429248",
   "metadata": {},
   "outputs": [],
   "source": []
  },
  {
   "cell_type": "markdown",
   "id": "8aeece7a",
   "metadata": {},
   "source": [
    "## Below you can load an entire directory, but in this example notebook we will do just one file. You will need to decide if you want to do this file by file, or run a loop on a directory"
   ]
  },
  {
   "cell_type": "code",
   "execution_count": 2,
   "id": "7bd9c5bc",
   "metadata": {},
   "outputs": [],
   "source": [
    "root_emg_directory = config.get_directory('root_emg_directory')"
   ]
  },
  {
   "cell_type": "code",
   "execution_count": 3,
   "id": "5a983356",
   "metadata": {},
   "outputs": [],
   "source": [
    "### For now let's do an example on just one file"
   ]
  },
  {
   "cell_type": "code",
   "execution_count": 4,
   "id": "765a24ee",
   "metadata": {},
   "outputs": [],
   "source": [
    "dvrman_example = 'C:/Users/judit/Projects/Devent_data/Devent_ctrl5_EMG.Poly5'"
   ]
  },
  {
   "cell_type": "markdown",
   "id": "945123b7",
   "metadata": {},
   "source": [
    "\n",
    " \n",
    "# what is inside duiverman emg? as a reminder this is what we think\n",
    "### 1 Int: EMG of intercostal muscles\n",
    "### 2 F dia: EMG of frontal diaphragm\n",
    "### 3 D dia: EMG of dorsal diaphragm\n",
    "### 4 Abd: EMG of abdominal muscles (not always recorded)\n",
    "### 5 VAR: no idea.. I have to look that up. Looking at the other arrays, it may be the EMG of the right diaphragm. Can you look at the data? Is it an EMG channel?\n",
    "### 6 L Dia: EMG of left diaphragm\n",
    "### 7 RMS int: root mean square of intercostal muscles (so filtered)\n",
    "### 8 RMS F dia: root mean square of frontal diaphragm (so filtered)\n",
    "### 9 RMS D dia: root mean square of dorsal diaphragm (so filtered)\n",
    "### 10 RMS abd: root mean square of abdominal diaphragm (so filtered)\n",
    "### 11 RMS R dia: root mean square of right diaphragm (so filtered)\n",
    "### 12 RMS L dia: root mean square of left diaphragm (so filtered)\n",
    "### 13 Paw: airway pressure (not always recorded)\n",
    "### 14 Pes: esophageal pressure (not always recorded)\n",
    "### 15 Pga: gastric pressure (not always recorded)\n",
    "### 16 RR: respiratory rate I guess (very unreliable)\n",
    "### 17 HR: heart rate (very unreliable)\n",
    "### 18 Tach: number of breath I gues (also very unreliable)\n",
    " ##"
   ]
  },
  {
   "cell_type": "code",
   "execution_count": 5,
   "id": "4f3cfca7",
   "metadata": {},
   "outputs": [
    {
     "name": "stdout",
     "output_type": "stream",
     "text": [
      "Reading file  C:/Users/judit/Projects/Devent_data/Devent_ctrl5_EMG.Poly5\n",
      "\t Number of samples:  3502156 \n",
      "\t Number of channels:  18 \n",
      "\t Sample rate: 500 Hz\n",
      "Done reading data.\n"
     ]
    }
   ],
   "source": [
    "data_emg = Poly5Reader(dvrman_example)\n",
    "#data_emg = Poly5Reader(our_sample)\n",
    "data_samples = data_emg.samples\n",
    "emg_sample_rate = data_emg.sample_rate\n",
    "converted_to_seconds =  []\n",
    "converted_to_samples = []\n",
    "for i in range(len(data_samples[0])):\n",
    "    converted_to_seconds.append(i/emg_sample_rate)\n",
    "    converted_to_samples.append(i)\n",
    "data_samples = data_emg.samples\n",
    "emg_sample_rate = data_emg.sample_rate\n",
    "converted_to_seconds =  []\n",
    "converted_to_samples = []\n",
    "for i in range(len(data_samples[0])):\n",
    "    converted_to_seconds.append(i/emg_sample_rate)\n",
    "    converted_to_samples.append(i)"
   ]
  },
  {
   "cell_type": "code",
   "execution_count": 6,
   "id": "cbe4c970",
   "metadata": {},
   "outputs": [
    {
     "data": {
      "text/plain": [
       "(18, 3502156)"
      ]
     },
     "execution_count": 6,
     "metadata": {},
     "output_type": "execute_result"
    }
   ],
   "source": [
    "data_samples.shape"
   ]
  },
  {
   "cell_type": "code",
   "execution_count": 7,
   "id": "99cd47ce",
   "metadata": {},
   "outputs": [
    {
     "name": "stdout",
     "output_type": "stream",
     "text": [
      "Reading file  C:/Users/judit/Projects/Devent_data/Devent_ctrl5_EMG.Poly5\n",
      "\t Number of samples:  3502156 \n",
      "\t Number of channels:  18 \n",
      "\t Sample rate: 500 Hz\n",
      "Done reading data.\n"
     ]
    }
   ],
   "source": [
    "numpy_array = cf.poly_dvrman_new(dvrman_example)\n",
    "\n",
    "#data_samples = Poly5Reader(dvrman_example)\n",
    "#samps = np.vstack([data_samples.samples[:3], data_samples.samples[4:6],  data_samples.samples[12:15]])\n",
    "\n"
   ]
  },
  {
   "cell_type": "code",
   "execution_count": 9,
   "id": "d0b92f4f",
   "metadata": {},
   "outputs": [
    {
     "data": {
      "text/plain": [
       "(8, 3502156)"
      ]
     },
     "execution_count": 9,
     "metadata": {},
     "output_type": "execute_result"
    }
   ],
   "source": [
    "numpy_array.shape"
   ]
  },
  {
   "cell_type": "code",
   "execution_count": 10,
   "id": "911dc4a3",
   "metadata": {},
   "outputs": [],
   "source": [
    "## Here you can check leads one by one to make sure they are not all zeros"
   ]
  },
  {
   "cell_type": "code",
   "execution_count": 18,
   "id": "fc4ae152",
   "metadata": {},
   "outputs": [
    {
     "data": {
      "text/plain": [
       "[<matplotlib.lines.Line2D at 0x155492473a0>]"
      ]
     },
     "execution_count": 18,
     "metadata": {},
     "output_type": "execute_result"
    },
    {
     "data": {
      "image/png": "[encoded data removed]",
      "text/plain": [
       "<Figure size 640x480 with 1 Axes>"
      ]
     },
     "metadata": {},
     "output_type": "display_data"
    }
   ],
   "source": [
    "plt.plot(numpy_array[7])"
   ]
  },
  {
   "cell_type": "markdown",
   "id": "46521cad",
   "metadata": {},
   "source": [
    "### Below put in the name including the whole directory chain where you want the files saved off to"
   ]
  },
  {
   "cell_type": "code",
   "execution_count": 19,
   "id": "ad8ad38e",
   "metadata": {},
   "outputs": [],
   "source": [
    "#file_name = 'C:/Projects/Devent_data/trala.npy'\n",
    "file_name = 'C:/Users/judit/Projects/Devent_data/Devent_ctrl5.npy'"
   ]
  },
  {
   "cell_type": "code",
   "execution_count": null,
   "id": "2fe853f1",
   "metadata": {},
   "outputs": [],
   "source": []
  },
  {
   "cell_type": "code",
   "execution_count": 20,
   "id": "5ea51c55",
   "metadata": {},
   "outputs": [],
   "source": [
    "np.save(file_name, numpy_array)"
   ]
  },
  {
   "cell_type": "code",
   "execution_count": 21,
   "id": "e39a75b1",
   "metadata": {},
   "outputs": [
    {
     "data": {
      "text/plain": [
       "array([[  0.91802669,   4.3595643 ,  11.89701748, ...,   0.        ,\n",
       "          0.        ,   0.        ],\n",
       "       [  0.87270671,   2.65343738,   6.67133141, ...,   0.        ,\n",
       "          0.        ,   0.        ],\n",
       "       [ -2.08440876, -10.27937317, -14.62784481, ...,   0.        ,\n",
       "          0.        ,   0.        ]])"
      ]
     },
     "execution_count": 21,
     "metadata": {},
     "output_type": "execute_result"
    }
   ],
   "source": [
    "numpy_array[:3]"
   ]
  },
  {
   "cell_type": "markdown",
   "id": "f52da28f",
   "metadata": {},
   "source": [
    "## Now let's save without our bad lead in this example"
   ]
  },
  {
   "cell_type": "code",
   "execution_count": 15,
   "id": "2b92dccf",
   "metadata": {},
   "outputs": [],
   "source": [
    "numpy_array_no_3 = np.vstack((numpy_array[:3],numpy_array[4:]))"
   ]
  },
  {
   "cell_type": "code",
   "execution_count": 16,
   "id": "df161759",
   "metadata": {},
   "outputs": [],
   "source": [
    "new_file_name = 'C:/Projects/Devent_data/trala_no3.npy'"
   ]
  },
  {
   "cell_type": "code",
   "execution_count": 17,
   "id": "4dba64b0",
   "metadata": {},
   "outputs": [],
   "source": [
    "np.save(new_file_name, numpy_array_no_3)"
   ]
  },
  {
   "cell_type": "markdown",
   "id": "aec99cdb",
   "metadata": {},
   "source": [
    "Now if you want to open and inspect the file just use numpy loading. "
   ]
  },
  {
   "cell_type": "code",
   "execution_count": null,
   "id": "3c54d573",
   "metadata": {},
   "outputs": [],
   "source": []
  },
  {
   "cell_type": "code",
   "execution_count": null,
   "id": "1e094068",
   "metadata": {},
   "outputs": [],
   "source": []
  },
  {
   "cell_type": "code",
   "execution_count": null,
   "id": "333bf5ee",
   "metadata": {},
   "outputs": [],
   "source": []
  }
 ],
 "metadata": {
  "kernelspec": {
   "display_name": "Python 3 (ipykernel)",
   "language": "python",
   "name": "python3"
  },
  "language_info": {
   "codemirror_mode": {
    "name": "ipython",
    "version": 3
   },
   "file_extension": ".py",
   "mimetype": "text/x-python",
   "name": "python",
   "nbconvert_exporter": "python",
   "pygments_lexer": "ipython3",
   "version": "3.9.18"
  }
 },
 "nbformat": 4,
 "nbformat_minor": 5
}
