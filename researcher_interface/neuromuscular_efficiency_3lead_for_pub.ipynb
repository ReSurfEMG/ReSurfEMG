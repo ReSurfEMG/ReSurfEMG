{
 "cells": [
  {
   "attachments": {},
   "cell_type": "markdown",
   "metadata": {},
   "source": [
    "# Here you need to add the paper title, and then a small block of general explanation for a binder"
   ]
  },
  {
   "attachments": {},
   "cell_type": "markdown",
   "metadata": {},
   "source": [
    "# Experiments on neuromuscular efficiency of respiratory muscles"
   ]
  },
  {
   "attachments": {},
   "cell_type": "markdown",
   "metadata": {},
   "source": [
    "Import libraries"
   ]
  },
  {
   "cell_type": "code",
   "execution_count": null,
   "metadata": {},
   "outputs": [],
   "source": [
    "import copy\n",
    "import math\n",
    "import collections\n",
    "from scipy import interpolate as interp\n",
    "import scipy\n",
    "import pandas as pd\n",
    "import glob\n",
    "import os\n",
    "import sys\n",
    "import numpy as np\n",
    "import matplotlib.pyplot as plt\n",
    "import ipywidgets as widgets\n",
    "from datetime import datetime\n",
    "%matplotlib widget"
   ]
  },
  {
   "attachments": {},
   "cell_type": "markdown",
   "metadata": {},
   "source": [
    "# The cell below will need to be changed for a generalized binder"
   ]
  },
  {
   "cell_type": "code",
   "execution_count": null,
   "metadata": {},
   "outputs": [],
   "source": [
    "sys.path.insert(0, '../ReSurfEMG')\n",
    "import helper_functions as hf\n",
    "from config import Config\n",
    "config = Config()"
   ]
  },
  {
   "cell_type": "code",
   "execution_count": null,
   "metadata": {},
   "outputs": [],
   "source": [
    "# get new changes in our library i.e. the tmsisdk\n",
    "import sys\n",
    "sys.path.insert(0, '../resurfemg')\n",
    "\n",
    "from tmsisdk_lite import Poly5Reader"
   ]
  },
  {
   "attachments": {},
   "cell_type": "markdown",
   "metadata": {},
   "source": [
    "# Prepare an output folder for experiments"
   ]
  },
  {
   "cell_type": "code",
   "execution_count": null,
   "metadata": {},
   "outputs": [],
   "source": [
    "# Output data - General path to dir for saving .csvs and plots\n",
    "main_output_dir = config.get_directory('preprocessed') + '/2023_03_rerun'\n",
    "if not os.path.exists(main_output_dir):\n",
    "    os.makedirs(main_output_dir)"
   ]
  },
  {
   "attachments": {},
   "cell_type": "markdown",
   "metadata": {},
   "source": [
    "The below cell allows you to pick whether to display and interact with the data in seconds or samples."
   ]
  },
  {
   "cell_type": "code",
   "execution_count": null,
   "metadata": {},
   "outputs": [],
   "source": [
    "y_axis = widgets.Dropdown(\n",
    "    options=[\"Samples\", \"Seconds\"],\n",
    "    value='Seconds',\n",
    "    description=\"Select View Option\",\n",
    "    disabled=False,\n",
    ")\n",
    "display(y_axis)"
   ]
  },
  {
   "attachments": {},
   "cell_type": "markdown",
   "metadata": {},
   "source": [
    "The below cell confirms your choice."
   ]
  },
  {
   "cell_type": "code",
   "execution_count": null,
   "metadata": {},
   "outputs": [],
   "source": [
    "time_view = y_axis.value\n",
    "time_view"
   ]
  },
  {
   "attachments": {},
   "cell_type": "markdown",
   "metadata": {},
   "source": [
    "<a id='#patient_select'>Input patient file path</a>"
   ]
  },
  {
   "cell_type": "code",
   "execution_count": null,
   "metadata": {},
   "outputs": [],
   "source": [
    "# Root directory for patient data\n",
    "root_patient_data_directory = config.get_directory('root_patient_data_directory')\n",
    "\n",
    "patient_idx = 0"
   ]
  },
  {
   "cell_type": "code",
   "execution_count": null,
   "metadata": {},
   "outputs": [],
   "source": [
    "patient_folders = glob.glob(root_patient_data_directory + '/**/', recursive=False)\n",
    "patients = []\n",
    "\n",
    "for folder in patient_folders:\n",
    "    name = folder.split(\"\\\\\")[-2]\n",
    "    patients.append(name)\n",
    "\n",
    "btn_pt = widgets.Dropdown(\n",
    "    options=patients,\n",
    "    value=patients[patient_idx],\n",
    "    description='Select patient:',\n",
    "    disabled=False,\n",
    ")\n",
    "\n",
    "date_idx = 0\n",
    "\n",
    "display(btn_pt)"
   ]
  },
  {
   "attachments": {},
   "cell_type": "markdown",
   "metadata": {},
   "source": [
    "<a id='section_date_step'>Next date</a>"
   ]
  },
  {
   "cell_type": "code",
   "execution_count": null,
   "metadata": {},
   "outputs": [],
   "source": [
    "patient = btn_pt.value\n",
    "patient_idx =btn_pt.index\n",
    "\n",
    "measurement_folders = glob.glob(root_patient_data_directory + '/' + patient + '/**/', recursive=False)\n",
    "measurements = []\n",
    "\n",
    "for folder in measurement_folders:\n",
    "    name = folder.split(\"\\\\\")[-2]\n",
    "    measurements.append(name)\n",
    "\n",
    "btn_measurement = widgets.Dropdown(\n",
    "    options=measurements,\n",
    "    value=measurements[date_idx],\n",
    "    description='Select measurement date:',\n",
    "    disabled=False,\n",
    ")\n",
    "display(btn_measurement)"
   ]
  },
  {
   "cell_type": "code",
   "execution_count": null,
   "metadata": {},
   "outputs": [],
   "source": [
    "measurement = btn_measurement.value\n",
    "date_idx = btn_measurement.index\n",
    "\n",
    "# Input data\n",
    "windows_str = root_patient_data_directory + '/' + patient + '/' + measurement\n",
    "root_emg_directory = os.path.join(windows_str)\n",
    "\n",
    "# do not rerun this cell\n",
    "big_data_list = []\n",
    "\n",
    "measurement_idx = 1"
   ]
  },
  {
   "attachments": {},
   "cell_type": "markdown",
   "metadata": {},
   "source": [
    "# Reruns should be done from this cell as the start"
   ]
  },
  {
   "attachments": {},
   "cell_type": "markdown",
   "metadata": {},
   "source": [
    "<a id='section_peep_step'>Next PEEP step</a>"
   ]
  },
  {
   "attachments": {},
   "cell_type": "markdown",
   "metadata": {},
   "source": [
    "Now you can pick a file from the list, which have been numbered."
   ]
  },
  {
   "cell_type": "code",
   "execution_count": null,
   "metadata": {},
   "outputs": [],
   "source": [
    "measurement_idx"
   ]
  },
  {
   "cell_type": "code",
   "execution_count": null,
   "metadata": {},
   "outputs": [],
   "source": [
    "# Select measurement number\n",
    "emg_pattern = os.path.join(root_emg_directory, '**/*.Poly5')\n",
    "emg_and_draeger_files = glob.glob(emg_pattern, recursive=True)\n",
    "\n",
    "emg_files = []\n",
    "draeger_files = []\n",
    "\n",
    "for file in emg_and_draeger_files:\n",
    "    if 'Draeger' in file:\n",
    "        draeger_files.append(file)\n",
    "    else:\n",
    "        emg_files.append(file)\n",
    "list_of_numbers_strung = []\n",
    "\n",
    "for i in range(len(emg_files)):\n",
    "    # list_of_numbers_strung.append(str(i))\n",
    "\n",
    "    list_of_numbers_strung.append(emg_files[i].split('\\\\')[-2])\n",
    "\n",
    "\n",
    "btn = widgets.Dropdown(\n",
    "    options=list_of_numbers_strung,\n",
    "    value=str(emg_files[measurement_idx].split('\\\\')[-2]),\n",
    "    description='Picked File:',\n",
    "    disabled=False,\n",
    ")\n",
    "display(btn)"
   ]
  },
  {
   "cell_type": "code",
   "execution_count": null,
   "metadata": {},
   "outputs": [],
   "source": [
    "number_chosen = int(btn.index)\n",
    "measurement_idx = int(btn.index)\n",
    "emg_file_chosen = emg_files[number_chosen]\n",
    "draeger_file_chosen = draeger_files[number_chosen]\n",
    "print(\"The files you chose are:\\n\", emg_file_chosen, '\\n', draeger_file_chosen)"
   ]
  },
  {
   "cell_type": "code",
   "execution_count": null,
   "metadata": {},
   "outputs": [],
   "source": [
    "# get the poly5 reading\n",
    "data_emg = Poly5Reader(emg_file_chosen)\n",
    "data_draeger = Poly5Reader(draeger_file_chosen)\n",
    "data_emg_samples = data_emg.samples[:data_emg.num_samples]\n",
    "emg_sample_rate = data_emg.sample_rate\n",
    "data_draeger_samples = data_draeger.samples[:data_draeger.num_samples]\n",
    "draeger_sample_rate = data_draeger.sample_rate\n",
    "\n",
    "# Output data path - Patient specific\n",
    "patient = emg_files[number_chosen].split('\\\\')[-3].split('/')[-2]\n",
    "measurement = emg_files[number_chosen].split('\\\\')[-2]\n",
    "\n",
    "if not os.path.exists(main_output_dir + '/' + patient + '/'):\n",
    "    os.makedirs(main_output_dir + '/' + patient + '/')\n",
    "\n",
    "if not os.path.exists(main_output_dir + '/' + patient + '/' + measurements[date_idx] + '/'):\n",
    "    os.makedirs(main_output_dir + '/' + patient + '/' + measurements[date_idx] + '/')"
   ]
  },
  {
   "cell_type": "code",
   "execution_count": null,
   "metadata": {},
   "outputs": [],
   "source": [
    "x_emg = data_emg_samples\n",
    "x_draeger = data_draeger_samples\n",
    "\n",
    "y_emg = [i/emg_sample_rate for i in range(len(x_emg[0, :]))]\n",
    "y_draeger = [i/draeger_sample_rate for i in range(len(x_draeger[0, :]))]\n",
    "\n",
    "fig, axis = plt.subplots(nrows=3, ncols=4, figsize=(10, 6))\n",
    "axis[0, 0].grid(True)\n",
    "axis[0, 0].plot(x_emg[0])\n",
    "axis[0, 0].set(title='EMG leads: samples')\n",
    "axis[1, 0].plot(x_emg[1])\n",
    "axis[2, 0].plot(x_emg[2])\n",
    "\n",
    "axis[0, 1].set(title='Draeger: samples')\n",
    "axis[0, 1].grid(True)\n",
    "axis[0, 1].plot(x_draeger[0])\n",
    "axis[1, 1].plot(x_draeger[1])\n",
    "axis[2, 1].plot(x_draeger[2])\n",
    "\n",
    "axis[0, 2].grid(True)\n",
    "axis[0, 2].plot(y_emg, x_emg[0])\n",
    "axis[0, 2].set(title='EMG leads: seconds')\n",
    "axis[1, 2].plot(y_emg, x_emg[1])\n",
    "axis[2, 2].plot(y_emg, x_emg[2])\n",
    "\n",
    "axis[0, 3].set(title='Draeger :seconds')\n",
    "axis[0, 3].grid(True)\n",
    "axis[0, 3].plot(y_draeger, x_draeger[0])\n",
    "axis[1, 3].plot(y_draeger, x_draeger[1])\n",
    "axis[2, 3].plot(y_draeger, x_draeger[2])"
   ]
  },
  {
   "attachments": {},
   "cell_type": "markdown",
   "metadata": {},
   "source": [
    "Here pick the part of the signal you want to look at. It is advised to never start at zero, or end after the signal, and the widgets have been constrained to do this."
   ]
  },
  {
   "cell_type": "code",
   "execution_count": null,
   "metadata": {},
   "outputs": [],
   "source": [
    "start_widget = widgets.BoundedFloatText(\n",
    "    value=np.floor(y_draeger[-1]-100),\n",
    "    min=1,\n",
    "    max=y_draeger[-1],\n",
    "    step=1,\n",
    "    description='Start:',\n",
    "    disabled=False\n",
    ")\n",
    "end_widget = widgets.BoundedFloatText(\n",
    "    value=np.floor(y_draeger[-1]-10),\n",
    "    min=1,\n",
    "    max=y_draeger[-1],\n",
    "    step=1,\n",
    "    description='End:',\n",
    "    disabled=False\n",
    ")\n",
    "widgets.VBox([start_widget, end_widget])"
   ]
  },
  {
   "cell_type": "code",
   "execution_count": null,
   "metadata": {},
   "outputs": [],
   "source": [
    "start = start_widget.value  \n",
    "end = end_widget.value  \n",
    "if start >= end:    \n",
    "    print('Please choose logical values. You made a mistake.')"
   ]
  },
  {
   "cell_type": "code",
   "execution_count": null,
   "metadata": {},
   "outputs": [],
   "source": [
    "# now examine at the selected window to contain all occlusions\n",
    "\n",
    "if time_view == 'Seconds':\n",
    "    start_s = int(float(start)* emg_sample_rate)\n",
    "    end_s = min([int(float(end)*emg_sample_rate), len(x_emg[0,:])-1])\n",
    "    start_draeger_s = int(float(start)* draeger_sample_rate)\n",
    "    end_draeger_s = min([int(float(end)* draeger_sample_rate), len(x_draeger[0,:])-1])\n",
    "\n",
    "else:\n",
    "    start_s = int(float(start))\n",
    "    end_s = min([int(float(end)), len(data_emg_samples[0])-1])\n",
    "    start_draeger_s = int(float(start)* draeger_sample_rate/emg_sample_rate)\n",
    "    end_draeger_s = min([int(float(start)* draeger_sample_rate/emg_sample_rate), len(data_draeger_samples[0])-1])\n",
    "    y_emg = [range(len(data_emg_samples[0]))]\n",
    "    y_draeger = [range(len(data_draeger_samples[0]))]\n",
    "\n",
    "\n",
    "fig, axis = plt.subplots(nrows=3, ncols=2, figsize=(12, 6))\n",
    "axis[0, 0].set(title='leads in EMG')\n",
    "axis[0, 0].grid(True)\n",
    "axis[0, 0].plot(y_emg[int(start_s):int(end_s)], x_emg[0][int(start_s):int(end_s)])\n",
    "axis[1, 0].plot(y_emg[int(start_s):int(end_s)], x_emg[1][int(start_s):int(end_s)])\n",
    "axis[2, 0].plot(y_emg[int(start_s):int(end_s)], x_emg[2][int(start_s):int(end_s)])\n",
    "\n",
    "axis[0, 1].set(title='leads in Draeger')\n",
    "axis[0, 1].grid(True)\n",
    "axis[0, 1].plot(\n",
    "    y_draeger[int(start_draeger_s):int(end_draeger_s)], \n",
    "    x_draeger[0][int(start_draeger_s):int(end_draeger_s)]\n",
    ")\n",
    "axis[1, 1].plot(\n",
    "    y_draeger[int(start_draeger_s):int(end_draeger_s)], \n",
    "    x_draeger[1][int(start_draeger_s):int(end_draeger_s)]\n",
    ")\n",
    "axis[2, 1].plot(\n",
    "    y_draeger[int(start_draeger_s):int(end_draeger_s)], \n",
    "    x_draeger[2][int(start_draeger_s):int(end_draeger_s)]\n",
    ")"
   ]
  },
  {
   "cell_type": "code",
   "execution_count": null,
   "metadata": {},
   "outputs": [],
   "source": [
    "# Eliminate the baseline wander from the data\n",
    "bd_filtered_file_data = hf.emg_bandpass_butter_sample(data_emg_samples, 1, 500, 2048, output='sos')\n",
    "    \n",
    "processed_data_emg_di = bd_filtered_file_data[1]\n",
    "processed_data_emg_para = bd_filtered_file_data[2]"
   ]
  },
  {
   "cell_type": "code",
   "execution_count": null,
   "metadata": {},
   "outputs": [],
   "source": [
    "# Gating settings\n",
    "plot_window = 5         # Window size to plot the gating results from\n",
    "peak_fraction = 0.30    # Peak height fraction\n",
    "ECG_shift = -10           # Shift of gated in samples relative to detected peaks\n",
    "gate_width = 0.1        # Gate width in seconds\n",
    "\n",
    "# QRS peak detection settings\n",
    "peak_width = 0.001\n",
    "peak_dist = int(emg_sample_rate/3)"
   ]
  },
  {
   "cell_type": "code",
   "execution_count": null,
   "metadata": {},
   "outputs": [],
   "source": [
    "# Apply QRS gating\n",
    "\n",
    "# Detect ECG peaks on 1Hz high-pass filtered signals\n",
    "ecg = bd_filtered_file_data[0]\n",
    "ecg_rms = hf.full_rolling_rms(ecg, 10)\n",
    "max_ecg_rms = max(ecg_rms[int(start_s):int(start_s+plot_window*emg_sample_rate)])\n",
    "min_ecg_rms = min(ecg_rms[int(start_s):int(start_s+plot_window*emg_sample_rate)])\n",
    "peak_height = peak_fraction*(max_ecg_rms - min_ecg_rms)\n",
    "\n",
    "ECG_peaks, properties  = scipy.signal.find_peaks(\n",
    "    ecg_rms, \n",
    "    height=peak_height, \n",
    "    width=peak_width*emg_sample_rate, \n",
    "    distance=peak_dist\n",
    ")\n",
    "ECG_peaks = ECG_peaks - ECG_shift\n",
    "\n",
    "# Filter EXG signals 20Hz high pass\n",
    "ECG_h20 = hf.emg_bandpass_butter_sample(ecg, 20, 500, 2048, output='sos')\n",
    "emg_di_h20 = hf.emg_bandpass_butter_sample(processed_data_emg_di, 20, 500, 2048, output='sos')\n",
    "emg_para_h20 = hf.emg_bandpass_butter_sample(processed_data_emg_para, 20, 500, 2048, output='sos')\n",
    "\n",
    "# Gate ECG and EMG signal\n",
    "gate_fill_method = 3    # 0: Zeros, 1: Interpolate start-end, 2: Average prior data, 3: Moving average\n",
    "gate_width_samples = int(gate_width*emg_sample_rate)\n",
    "\n",
    "gate_samples = list()\n",
    "for i in range(len(ECG_peaks)):\n",
    "    for k in range(int(ECG_peaks[i]-gate_width_samples/2),int(ECG_peaks[i]+gate_width_samples/2)):\n",
    "        gate_samples.append(k)\n",
    "\n",
    "ECG_gated = hf.gating(ECG_h20, ECG_peaks, gate_width=gate_width_samples, method=3)\n",
    "emg_di_gated = hf.gating(emg_di_h20, ECG_peaks, gate_width=gate_width_samples, method=3)\n",
    "emg_para_gated = hf.gating(emg_para_h20, ECG_peaks, gate_width=gate_width_samples, method=3)\n"
   ]
  },
  {
   "cell_type": "code",
   "execution_count": null,
   "metadata": {},
   "outputs": [],
   "source": [
    "# # Apply gating twice (in case of pacing)\n",
    "\n",
    "# # Detect ECG peaks on 1Hz high-pass filtered signals\n",
    "# ecg = ECG_gated\n",
    "# ecg_rms = hf.full_rolling_rms(ecg, 10)\n",
    "# max_ecg_rms = max(ecg_rms[int(start_s):int(start_s+plot_window*emg_sample_rate)])\n",
    "# min_ecg_rms = min(ecg_rms[int(start_s):int(start_s+plot_window*emg_sample_rate)])\n",
    "# peak_height = peak_fraction*(max_ecg_rms - min_ecg_rms)\n",
    "\n",
    "# ECG_peaks, properties  = scipy.signal.find_peaks(\n",
    "#     ecg_rms, \n",
    "#     height=peak_height, \n",
    "#     width=peak_width*emg_sample_rate, \n",
    "#     distance=peak_dist\n",
    "# )\n",
    "# ECG_peaks = ECG_peaks - ECG_shift\n",
    "\n",
    "# # # Filter EXG signals 20Hz high pass\n",
    "# # ECG_h20 = hf.emg_bandpass_butter_sample(ECG_gated, 20, 500, 2048, output='sos')\n",
    "# # emg_di_h20 = hf.emg_bandpass_butter_sample(emg_di_gated, 20, 500, 2048, output='sos')\n",
    "# # emg_para_h20 = hf.emg_bandpass_butter_sample(emg_para_gated, 20, 500, 2048, output='sos')\n",
    "\n",
    "# # Gate ECG and EMG signal\n",
    "# gate_fill_method = 3    # 0: Zeros, 1: Interpolate start-end, 2: Average prior data, 3: Moving average\n",
    "# gate_width_samples = int(gate_width*emg_sample_rate)\n",
    "\n",
    "# gate_samples = list()\n",
    "# for i in range(len(ECG_peaks)):\n",
    "#     for k in range(int(ECG_peaks[i]-gate_width_samples/2),int(ECG_peaks[i]+gate_width_samples/2)):\n",
    "#         gate_samples.append(k)\n",
    "\n",
    "# ECG_gated = hf.gating(ECG_gated, ECG_peaks, gate_width=gate_width_samples, method=3)\n",
    "# emg_di_gated = hf.gating(emg_di_gated, ECG_peaks, gate_width=gate_width_samples, method=3)\n",
    "# emg_para_gated = hf.gating(emg_para_gated, ECG_peaks, gate_width=gate_width_samples, method=3)\n"
   ]
  },
  {
   "cell_type": "code",
   "execution_count": null,
   "metadata": {},
   "outputs": [],
   "source": [
    "# Plot gating result\n",
    "\n",
    "fig, axis = plt.subplots(nrows=5, ncols=1, figsize=(12, 6))\n",
    "start_i = int(start_s)\n",
    "end_i = int(start_s+plot_window*2048)\n",
    "axis[0].grid(True)\n",
    "axis[0].plot(y_emg[start_i:end_i], bd_filtered_file_data[0, start_i:end_i])\n",
    "\n",
    "axis[0].set(title='leads in EMG')\n",
    "axis[1].grid(True)\n",
    "axis[1].plot(y_emg[start_i:end_i], ECG_gated[start_i:end_i])\n",
    "axis[2].grid(True)\n",
    "axis[2].plot(y_emg[start_i:end_i], emg_di_gated[start_i:end_i])\n",
    "axis[3].grid(True)\n",
    "axis[3].plot(y_emg[start_i:end_i], emg_para_gated[start_i:end_i])\n",
    "\n",
    "axis[4].grid(True)\n",
    "axis[4].plot(y_emg[start_i:end_i], ecg_rms[start_i:end_i])\n",
    "axis[4].hlines(\n",
    "    y=peak_height, \n",
    "    xmin=y_emg[start_i], \n",
    "    xmax=y_emg[end_i],\n",
    "    color = \"C1\"\n",
    ")\n",
    "\n",
    "for idx in range(len(ECG_peaks)):\n",
    "    if (ECG_peaks[idx] > int(start_s)) & (ECG_peaks[idx] < int(start_s+plot_window*2048)):\n",
    "        axis[4].plot(y_emg[ECG_peaks[idx]], ecg_rms[ECG_peaks[idx]],'rx')\n"
   ]
  },
  {
   "attachments": {},
   "cell_type": "markdown",
   "metadata": {},
   "source": [
    "# Calculate root mean squared (RMS)"
   ]
  },
  {
   "cell_type": "code",
   "execution_count": null,
   "metadata": {},
   "outputs": [],
   "source": [
    "RMS_window_ms = 200\n",
    "RMS_windows_samp = int(RMS_window_ms / 1000 *  emg_sample_rate)\n",
    "\n",
    "RMS_data_emg_di = hf.full_rolling_rms(emg_di_gated, RMS_windows_samp)\n",
    "RMS_data_emg_para = hf.full_rolling_rms(emg_para_gated, RMS_windows_samp)\n",
    "\n",
    "fig, axis = plt.subplots(nrows=5, ncols=1, figsize=(12, 6))\n",
    "axis[0].set(title='leads in EMG')\n",
    "axis[0].set_ylabel('sEMGdi (uV)')\n",
    "axis[0].grid(True)\n",
    "axis[0].plot(y_emg[int(start_s):int(end_s)], processed_data_emg_di[int(start_s):int(end_s)])\n",
    "axis[0].plot(y_emg[int(start_s):int(end_s)], RMS_data_emg_di[int(start_s):int(end_s)])\n",
    "\n",
    "axis[1].set_xlabel('t (s)')\n",
    "axis[1].set_ylabel('RMS{sEMGdi} (uV)')\n",
    "axis[1].plot(y_emg[int(start_s):int(end_s)], RMS_data_emg_di[int(start_s):int(end_s)])\n",
    "\n",
    "axis[2].set(title='leads in EMG')\n",
    "axis[2].set_ylabel('sEMGpara (uV)')\n",
    "axis[2].grid(True)\n",
    "axis[2].plot(y_emg[int(start_s):int(end_s)], processed_data_emg_para[int(start_s):int(end_s)])\n",
    "axis[2].plot(y_emg[int(start_s):int(end_s)], RMS_data_emg_para[int(start_s):int(end_s)])\n",
    "\n",
    "axis[3].set_xlabel('t (s)')\n",
    "axis[3].set_ylabel('RMS{sEMGpara} (uV)')\n",
    "axis[3].plot(y_emg[int(start_s):int(end_s)], RMS_data_emg_para[int(start_s):int(end_s)])\n",
    "\n",
    "axis[4].set_ylabel('P_vent (cmH2O)')\n",
    "axis[4].grid(True)\n",
    "axis[4].plot(\n",
    "    y_draeger[int(start_draeger_s):int(end_draeger_s)], \n",
    "    x_draeger[0][int(start_draeger_s):int(end_draeger_s)]\n",
    ")\n",
    "\n"
   ]
  },
  {
   "attachments": {},
   "cell_type": "markdown",
   "metadata": {},
   "source": [
    "Determine PEEP level"
   ]
  },
  {
   "cell_type": "code",
   "execution_count": null,
   "metadata": {},
   "outputs": [],
   "source": [
    "x = x_draeger[2][:int(start_draeger_s)]\n",
    "V_ee_PKS, _ = scipy.signal.find_peaks(-x)\n",
    "\n",
    "PEEP_set = np.floor(np.median(x_draeger[0, V_ee_PKS]))\n",
    "\n",
    "\n",
    "PEEP_set"
   ]
  },
  {
   "cell_type": "code",
   "execution_count": null,
   "metadata": {},
   "outputs": [],
   "source": [
    "# Moving baseline on pressure and all EMG signals for baseline crossing detection\n",
    "\n",
    "baseline_W_emg = 5 * emg_sample_rate  # window length\n",
    "baseline_W_draeger = 5 * draeger_sample_rate  # window length\n",
    "\n",
    "# emg_di_rolling_base_line = np.percentile(strided_app(RMS_data_emg[int(start_s):int(end_s)], W,1), 33, axis=-1)\n",
    "emg_di_rolling_base_line = np.zeros(\n",
    "    (len(RMS_data_emg_di[int(start_s):int(end_s)]), ))\n",
    "emg_para_rolling_base_line = np.zeros(\n",
    "    (len(RMS_data_emg_para[int(start_s):int(end_s)]), ))\n",
    "P_rolling_base_line = np.zeros(\n",
    "    (len(x_draeger[0, int(start_draeger_s):int(end_draeger_s)]), ))\n",
    "\n",
    "for idx in range(int(end_s)-int(start_s)):\n",
    "    start_i = max([int(start_s), int(start_s)+idx-int(baseline_W_emg/2)])\n",
    "    end_i = min([int(end_s), int(start_s)+idx+int(baseline_W_emg/2)])\n",
    "    emg_di_rolling_base_line[idx] = np.percentile(\n",
    "        RMS_data_emg_di[start_i:end_i], 33)\n",
    "    emg_para_rolling_base_line[idx] = np.percentile(\n",
    "        RMS_data_emg_para[start_i:end_i], 33)\n",
    "\n",
    "for idx in range(int(end_draeger_s)-int(start_draeger_s)):\n",
    "    start_i = max([int(start_draeger_s), int(\n",
    "        start_draeger_s)+idx-int(baseline_W_draeger/2)])\n",
    "    end_i = min([int(end_draeger_s), int(start_draeger_s) +\n",
    "                idx+int(baseline_W_draeger/2)])\n",
    "    P_rolling_base_line[idx] = np.percentile(x_draeger[0, start_i:end_i], 33)"
   ]
  },
  {
   "attachments": {},
   "cell_type": "markdown",
   "metadata": {},
   "source": [
    "Get PTPocc"
   ]
  },
  {
   "cell_type": "code",
   "execution_count": null,
   "metadata": {},
   "outputs": [],
   "source": [
    "Pocc_prominence_factor = 0.8"
   ]
  },
  {
   "cell_type": "code",
   "execution_count": null,
   "metadata": {},
   "outputs": [],
   "source": [
    "# Detect (negative) occlussion peaks in pressure signal\n",
    "\n",
    "treshold = 0\n",
    "width = int(0.1 * draeger_sample_rate)\n",
    "prominence = Pocc_prominence_factor *np.abs( PEEP_set - min(x_draeger[0]))\n",
    "height = -(PEEP_set - Pocc_prominence_factor *np.abs( PEEP_set - min(x_draeger[0])))\n",
    "distance = int(0.5 * draeger_sample_rate)\n",
    "\n",
    "x = x_draeger[0, int(start_draeger_s):int(end_draeger_s)]\n",
    "P_occ_peaks, properties  = scipy.signal.find_peaks(\n",
    "    -x, \n",
    "    height=height, \n",
    "    prominence=prominence, \n",
    "    width=width, \n",
    "    distance=distance\n",
    ")\n",
    "# x = x_draeger[0, int(start_draeger_s):int(end_draeger_s)]\n",
    "\n",
    "PEEP_crossings_idx = np.argwhere(np.diff(np.sign(x - P_rolling_base_line)) != 0)\n",
    "\n",
    "P_occ_starts = np.zeros((len(P_occ_peaks),), dtype=int)\n",
    "P_occ_ends = np.zeros((len(P_occ_peaks),), dtype=int)\n",
    "for idx in range(len(P_occ_peaks)):\n",
    "    PEEP_crossings_idx_sub = np.sign(x[:P_occ_peaks[idx]] - P_rolling_base_line[:P_occ_peaks[idx]])\n",
    "    a = np.argmin(P_occ_peaks[idx] - np.argwhere(np.diff(PEEP_crossings_idx_sub) != 0))\n",
    "    P_occ_starts[idx] = int(PEEP_crossings_idx[a])\n",
    "    P_occ_ends[idx] = int(PEEP_crossings_idx[a+1])\n",
    "\n",
    "P_occ_starts,P_occ_peaks,  P_occ_ends, prominence, height"
   ]
  },
  {
   "cell_type": "code",
   "execution_count": null,
   "metadata": {},
   "outputs": [],
   "source": [
    "# Data sanity check: check to make sure your data has an occlusion even\n",
    "if len(P_occ_starts) == 0 or len(P_occ_peaks) ==0  or len(P_occ_ends) == 0:\n",
    "    print('You have chosen something without the proper sort of occlusion peak, please examine data')\n",
    "else:\n",
    "    print('You may continue!')"
   ]
  },
  {
   "attachments": {},
   "cell_type": "markdown",
   "metadata": {},
   "source": [
    "EMG peak identification"
   ]
  },
  {
   "cell_type": "code",
   "execution_count": null,
   "metadata": {},
   "outputs": [],
   "source": [
    "# EMG peak detection parameters:\n",
    "EMG_di_prominence_factor = 0.01         # Threshold peak height as fraction of max peak height \n",
    "EMG_para_prominence_factor = 0.01       # Threshold peak height as fraction of max peak height\n",
    "\n",
    "draeger_delay = 0.5"
   ]
  },
  {
   "cell_type": "code",
   "execution_count": null,
   "metadata": {},
   "outputs": [],
   "source": [
    "# Find diaphragmatic EMG peaks\n",
    "\n",
    "y_di = RMS_data_emg_di[int(start_s):int(end_s)]\n",
    "treshold = 0\n",
    "width = int(0.1 * emg_sample_rate)\n",
    "prominence = EMG_di_prominence_factor * \\\n",
    "    (max(y_di)-np.percentile(y_di[:-emg_sample_rate], 5))\n",
    "EMG_peaks_di, properties = scipy.signal.find_peaks(\n",
    "    y_di, height=treshold, prominence=prominence, width=width)\n",
    "\n",
    "# Link EMG peak closest to occlusion pressures\n",
    "EMG_di_occ_peaks = np.zeros((len(P_occ_peaks),), dtype=int)\n",
    "PKS_idx = np.zeros((len(P_occ_peaks),), dtype=int)\n",
    "for idx in range(len(P_occ_peaks)):\n",
    "    P_occ_peak_converted = P_occ_peaks[idx]/draeger_sample_rate*emg_sample_rate\n",
    "    PKS_idx[idx] = np.argmin(\n",
    "        np.abs(EMG_peaks_di + draeger_delay * emg_sample_rate - P_occ_peak_converted))\n",
    "\n",
    "    EMG_di_occ_peaks[idx] = EMG_peaks_di[PKS_idx[idx]]\n",
    "\n",
    "baseline_crossings_idx = np.argwhere(\n",
    "    np.diff(np.sign(y_di - emg_di_rolling_base_line)) != 0)\n",
    "\n",
    "EMG_di_occ_starts = np.zeros((len(P_occ_peaks),), dtype=int)\n",
    "EMG_di_occ_ends = np.zeros((len(P_occ_peaks),), dtype=int)\n",
    "for idx in range(len(P_occ_peaks)):\n",
    "    baseline_crossings_idx_sub = np.sign(\n",
    "        y_di[:EMG_di_occ_peaks[idx]] - emg_di_rolling_base_line[:EMG_di_occ_peaks[idx]])\n",
    "    a = np.argmin(\n",
    "        EMG_di_occ_peaks[idx] - np.argwhere(np.diff(baseline_crossings_idx_sub) != 0))\n",
    "    EMG_di_occ_starts[idx] = int(baseline_crossings_idx[a])\n",
    "    EMG_di_occ_ends[idx] = int(baseline_crossings_idx[a+1])\n",
    "\n",
    "EMG_di_occ_starts, EMG_di_occ_peaks, EMG_di_occ_ends"
   ]
  },
  {
   "cell_type": "code",
   "execution_count": null,
   "metadata": {},
   "outputs": [],
   "source": [
    "# Find parasternal EMG peaks\n",
    "\n",
    "y_para = RMS_data_emg_para[int(start_s):int(end_s)]\n",
    "treshold = 0\n",
    "width = int(0.1 * emg_sample_rate)\n",
    "prominence = EMG_para_prominence_factor * \\\n",
    "    (max(y_para)-np.percentile(y_para[:-emg_sample_rate], 5))\n",
    "EMG_peaks_para, properties = scipy.signal.find_peaks(\n",
    "    y_para, height=treshold, prominence=prominence, width=width)\n",
    "\n",
    "# Link EMG peak closest to occlusion pressures\n",
    "EMG_para_occ_peaks = np.zeros((len(P_occ_peaks),), dtype=int)\n",
    "PKS_idx = np.zeros((len(P_occ_peaks),), dtype=int)\n",
    "for idx in range(len(P_occ_peaks)):\n",
    "    P_occ_peak_converted = P_occ_peaks[idx]/draeger_sample_rate*emg_sample_rate\n",
    "    PKS_idx[idx] = np.argmin(\n",
    "        np.abs(EMG_peaks_para + draeger_delay * emg_sample_rate - P_occ_peak_converted))\n",
    "    EMG_para_occ_peaks[idx] = EMG_peaks_para[PKS_idx[idx]]\n",
    "\n",
    "baseline_crossings_idx = np.argwhere(\n",
    "    np.diff(np.sign(y_para - emg_para_rolling_base_line)) != 0)\n",
    "\n",
    "EMG_para_occ_starts = np.zeros((len(P_occ_peaks),), dtype=int)\n",
    "EMG_para_occ_ends = np.zeros((len(P_occ_peaks),), dtype=int)\n",
    "for idx in range(len(P_occ_peaks)):\n",
    "    baseline_crossings_idx_sub = np.sign(\n",
    "        y_para[:EMG_para_occ_peaks[idx]] - emg_para_rolling_base_line[:EMG_para_occ_peaks[idx]])\n",
    "    a = np.argmin(\n",
    "        EMG_para_occ_peaks[idx] - np.argwhere(np.diff(baseline_crossings_idx_sub) != 0))\n",
    "    EMG_para_occ_starts[idx] = int(baseline_crossings_idx[a])\n",
    "    EMG_para_occ_ends[idx] = int(baseline_crossings_idx[a+1])\n",
    "\n",
    "EMG_para_occ_starts, EMG_para_occ_peaks, EMG_para_occ_ends"
   ]
  },
  {
   "cell_type": "code",
   "execution_count": null,
   "metadata": {},
   "outputs": [],
   "source": [
    "# Plot entire selected time window with indicated peaks\n",
    "\n",
    "fig_1, axis = plt.subplots(nrows=3, ncols=1, figsize=(12, 6))\n",
    "axis[0].grid(True)\n",
    "axis[0].plot([y / draeger_sample_rate for y in range(len(x))], x)\n",
    "axis[0].plot([y / draeger_sample_rate for y in range(len(x))],\n",
    "             P_rolling_base_line)\n",
    "axis[0].plot(P_occ_peaks/draeger_sample_rate, x[P_occ_peaks], \"x\", color=\"r\")\n",
    "axis[0].plot(P_occ_starts / draeger_sample_rate,\n",
    "             P_rolling_base_line[P_occ_starts], '*r')\n",
    "axis[0].plot(P_occ_ends / draeger_sample_rate,\n",
    "             P_rolling_base_line[P_occ_ends], '*r')\n",
    "axis[0].set_ylabel('P_vent (cmH2O)')\n",
    "\n",
    "# Rolling baseline:\n",
    "axis[1].grid(True)\n",
    "N_samp = len(RMS_data_emg_di[int(start_s):int(end_s)])\n",
    "axis[1].plot([y / emg_sample_rate for y in range(N_samp)],\n",
    "             RMS_data_emg_di[int(start_s):int(end_s)])\n",
    "axis[1].plot([y / emg_sample_rate for y in range(N_samp)],\n",
    "             emg_di_rolling_base_line[:int(end_s)-int(start_s)])\n",
    "axis[1].plot(EMG_di_occ_peaks/emg_sample_rate,\n",
    "             y_di[EMG_di_occ_peaks], \"x\", color=\"r\")\n",
    "axis[1].plot(EMG_di_occ_starts / emg_sample_rate,\n",
    "             emg_di_rolling_base_line[EMG_di_occ_starts], '*r')\n",
    "axis[1].plot(EMG_di_occ_ends / emg_sample_rate,\n",
    "             emg_di_rolling_base_line[EMG_di_occ_ends], '*r')\n",
    "axis[1].set_ylabel('RMS{sEMGdi} (uV)')\n",
    "axis[1].set_xlabel('t (s)')\n",
    "axis[1].set_ylim([0, 1.2*max(y_di[EMG_di_occ_peaks])])\n",
    "\n",
    "\n",
    "axis[2].grid(True)\n",
    "axis[2].plot([y / emg_sample_rate for y in range(N_samp)],\n",
    "             RMS_data_emg_para[int(start_s):int(end_s)])\n",
    "axis[2].plot(EMG_para_occ_peaks/emg_sample_rate,\n",
    "             y_para[EMG_para_occ_peaks], \"x\", color=\"r\")\n",
    "\n",
    "# Rolling baseline:\n",
    "axis[2].plot([y / emg_sample_rate for y in range(N_samp)],\n",
    "             emg_para_rolling_base_line[:int(end_s)-int(start_s)])\n",
    "axis[2].plot(EMG_para_occ_starts / emg_sample_rate,\n",
    "             emg_para_rolling_base_line[EMG_para_occ_starts], '*r')\n",
    "axis[2].plot(EMG_para_occ_ends / emg_sample_rate,\n",
    "             emg_para_rolling_base_line[EMG_para_occ_ends], '*r')\n",
    "axis[2].set_ylabel('RMS{sEMGpara} (uV)')\n",
    "axis[2].set_xlabel('t (s)')\n",
    "axis[2].set_ylim([0, 1.2*max(y_para[EMG_para_occ_peaks])])"
   ]
  },
  {
   "cell_type": "code",
   "execution_count": null,
   "metadata": {},
   "outputs": [],
   "source": [
    "# Subplot per indicated peak\n",
    "fig_2, axis = plt.subplots(nrows=3, ncols=len(\n",
    "    P_occ_peaks), figsize=(12, 6), sharex='col', sharey='row')\n",
    "\n",
    "\n",
    "PTP_occs = np.zeros((len(P_occ_peaks),))\n",
    "for idx in range(len(P_occ_peaks)):\n",
    "    start_i = P_occ_starts[idx]\n",
    "    end_i = P_occ_ends[idx]\n",
    "    axis[0, idx].grid(True)\n",
    "    axis[0, idx].plot(y_draeger[start_i:end_i+1], x[start_i:end_i+1])\n",
    "    axis[0, idx].plot(y_draeger[start_i:end_i+1],\n",
    "                      P_rolling_base_line[start_i:end_i+1])\n",
    "\n",
    "    axis[0, idx].plot(y_draeger[P_occ_peaks[idx]], x[P_occ_peaks[idx]], '*r')\n",
    "    axis[0, idx].plot(y_draeger[start_i], x[start_i], '*r')\n",
    "    axis[0, idx].plot(y_draeger[end_i], x[end_i], '*r')\n",
    "\n",
    "    # Pressure Time Product (ETP) occlusion\n",
    "    PTP_occs[idx] = np.abs(np.trapz(\n",
    "        x[start_i:end_i+1]-P_rolling_base_line[start_i:end_i+1],\n",
    "        dx=1/draeger_sample_rate\n",
    "    ))\n",
    "\n",
    "axis[0, 0].set_ylabel('Pocc (cmH2O)')\n",
    "\n",
    "ETP_di_occs = np.zeros((len(EMG_di_occ_peaks),))\n",
    "for idx in range(len(EMG_di_occ_peaks)):\n",
    "    start_i = EMG_di_occ_starts[idx]\n",
    "    end_i = EMG_di_occ_ends[idx]\n",
    "\n",
    "    axis[1, idx].grid(True)\n",
    "    axis[1, idx].plot(y_emg[start_i:end_i+1], y_di[start_i:end_i+1])\n",
    "    axis[1, idx].plot(y_emg[start_i:end_i+1],\n",
    "                      emg_di_rolling_base_line[start_i:end_i+1])\n",
    "    axis[1, idx].plot(y_emg[EMG_di_occ_peaks[idx]],\n",
    "                      y_di[EMG_di_occ_peaks[idx]], '*r')\n",
    "    axis[1, idx].plot(y_emg[start_i], y_di[start_i], '*r')\n",
    "    axis[1, idx].plot(y_emg[end_i], y_di[end_i], '*r')\n",
    "\n",
    "    # EMG Time Product (ETP) diaphragm\n",
    "    ETP_di_occs[idx] = np.trapz(\n",
    "        y_di[start_i:end_i+1] - emg_di_rolling_base_line[start_i:end_i+1],\n",
    "        dx=1/emg_sample_rate\n",
    "    )\n",
    "\n",
    "    axis[1, idx].set_xlabel('t (s)')\n",
    "\n",
    "axis[1, 0].set_ylabel('sEMGdi (uV)')\n",
    "\n",
    "ETP_para_occs = np.zeros((len(EMG_para_occ_peaks),))\n",
    "for idx in range(len(EMG_para_occ_peaks)):\n",
    "    start_i = EMG_para_occ_starts[idx]\n",
    "    end_i = EMG_para_occ_ends[idx]\n",
    "\n",
    "    axis[2, idx].grid(True)\n",
    "    axis[2, idx].plot(y_emg[start_i:end_i+1], y_para[start_i:end_i+1])\n",
    "    axis[2, idx].plot(y_emg[start_i:end_i+1],\n",
    "                      emg_para_rolling_base_line[start_i:end_i+1])\n",
    "    axis[2, idx].plot(y_emg[EMG_para_occ_peaks[idx]],\n",
    "                      y_para[EMG_para_occ_peaks[idx]], '*r')\n",
    "    axis[2, idx].plot(y_emg[start_i], y_para[start_i], '*r')\n",
    "    axis[2, idx].plot(y_emg[end_i], y_para[end_i], '*r')\n",
    "\n",
    "    # EMG Time Product (ETP) parasternal\n",
    "    ETP_para_occs[idx] = np.trapz(\n",
    "        y_para[start_i:end_i+1] - emg_para_rolling_base_line[start_i:end_i+1],\n",
    "        dx=1/emg_sample_rate\n",
    "    )\n",
    "\n",
    "    axis[2, idx].set_xlabel('t (s)')\n",
    "\n",
    "axis[2, 0].set_ylabel('sEMGpara (uV)')\n",
    "\n",
    "\n",
    "# Calculated neuromuscular efficiency: NME = PTP / ETP_di\n",
    "NME_di = np.abs(PTP_occs)/ETP_di_occs\n",
    "\n",
    "PTP_occs, ETP_di_occs, ETP_para_occs, NME_di"
   ]
  },
  {
   "attachments": {},
   "cell_type": "markdown",
   "metadata": {},
   "source": [
    "Store values for later analysis"
   ]
  },
  {
   "cell_type": "code",
   "execution_count": null,
   "metadata": {},
   "outputs": [],
   "source": [
    "fig_1.savefig(main_output_dir + '/' + patient + '/' + measurements[date_idx] + '/' + measurements[date_idx] + '_' + patient + '_' + \n",
    "              measurement + '_timeplots_'+str(int(gate_width*1000))+'.png', dpi=300)\n",
    "fig_2.savefig(main_output_dir + '/' + patient + '/' + measurements[date_idx]  + '/' + measurements[date_idx] + '_' + patient + '_' + \n",
    "              measurement + '_snapshots_'+str(int(gate_width*1000))+'.png', dpi=300)\n",
    "\n",
    "for idx in range(len(PTP_occs)):\n",
    "    data_now = [patient, measurement, PEEP_set, PTP_occs[idx],\n",
    "                ETP_di_occs[idx], NME_di[idx], ETP_para_occs[idx]]\n",
    "    big_data_list.append(data_now)\n",
    "\n",
    "\n",
    "patient, measurement"
   ]
  },
  {
   "cell_type": "code",
   "execution_count": null,
   "metadata": {},
   "outputs": [],
   "source": [
    "# del big_data_list[:]"
   ]
  },
  {
   "cell_type": "code",
   "execution_count": null,
   "metadata": {},
   "outputs": [],
   "source": [
    "big_data_list"
   ]
  },
  {
   "cell_type": "code",
   "execution_count": null,
   "metadata": {},
   "outputs": [],
   "source": [
    "columns_now = ['patient', 'measurement', 'PEEP_set', 'PTP_occs', 'ETP_di_occs', 'NME_di', 'ETP_para_occs'\n",
    "               ]\n",
    "df = pd.DataFrame(big_data_list, columns=columns_now)\n",
    "df"
   ]
  },
  {
   "cell_type": "code",
   "execution_count": null,
   "metadata": {},
   "outputs": [],
   "source": [
    "bp = df.plot.scatter('PEEP_set', 'NME_di')\n",
    "bp.set_ylabel('NME (cmH2O/uV)')\n",
    "bp.set_xlabel('PEEP (cmH2O)')\n",
    "bp.set_title('')"
   ]
  },
  {
   "cell_type": "code",
   "execution_count": null,
   "metadata": {},
   "outputs": [],
   "source": [
    "context = patient + ' / ' + measurements[date_idx] + ' / ' + measurement + '\\n' + \\\n",
    "'t_start: ' + str(start) + ' s' + '\\n' + \\\n",
    "'t_end: ' + str(end) + ' s' + '\\n' + \\\n",
    "'gate_width: ' + str(int(gate_width*1000)) + ' ms' + '\\n' + \\\n",
    "'gate_threshold: ' + str(peak_fraction) + '' + '\\n' + \\\n",
    "'gate_ECG_shift: ' + str(ECG_shift) + ' samples' + '\\n' + \\\n",
    "'time_shift: ' + str(draeger_delay) + ' s' + '\\n' + \\\n",
    "'Pocc_prominence_factor: ' + str(Pocc_prominence_factor) + '' + '\\n' + \\\n",
    "'EMG_di_prominence_factor: ' + str(EMG_di_prominence_factor) + '' + '\\n' + \\\n",
    "'EMG_para_prominence_factor: ' + str(EMG_para_prominence_factor) + '' + '\\n' + \\\n",
    "'PEEP_set: ' + str(PEEP_set) + '' + '\\n' + \\\n",
    "'analysis_date: ' + str(datetime.now())\n",
    "\n",
    "with open(main_output_dir + '/' + patient + '/' + measurements[date_idx] + '/' + measurements[date_idx] + '_' + patient + '_' + measurement + '_readme.txt', 'w') as f:\n",
    "    f.write(context)\n",
    "\n",
    "print(context)"
   ]
  },
  {
   "cell_type": "code",
   "execution_count": null,
   "metadata": {},
   "outputs": [],
   "source": [
    "# Move on to the next measurement\n",
    "measurement_idx += 1"
   ]
  },
  {
   "attachments": {},
   "cell_type": "markdown",
   "metadata": {},
   "source": [
    "['To next PEEP step'](#section_peep_step)"
   ]
  },
  {
   "attachments": {},
   "cell_type": "markdown",
   "metadata": {},
   "source": [
    "## Run these cells when all measurements for a data are analysed"
   ]
  },
  {
   "cell_type": "code",
   "execution_count": null,
   "metadata": {},
   "outputs": [],
   "source": [
    "df.to_csv(main_output_dir + '/' + patient + '/' + measurements[date_idx]  + '/' + measurements[date_idx] + '_' + patient +\n",
    "          '_NME_output_gate_'+str(int(gate_width*1000))+'.csv')\n",
    "# bp.figure.savefig(main_output_dir + patient + '/' + patient + '_'+str(int(gate_width*1000))+'_boxplot.png', dpi=300)\n",
    "bp.figure.savefig(main_output_dir + '/' + patient + '/' + measurements[date_idx]  + '/' + measurements[date_idx] + '_' + patient +\n",
    "                  '_gate_'+str(int(gate_width*1000))+'_scatter.png', dpi=300)"
   ]
  },
  {
   "cell_type": "code",
   "execution_count": null,
   "metadata": {},
   "outputs": [],
   "source": [
    "# Move on to the next measurement date\n",
    "date_idx += 1"
   ]
  },
  {
   "cell_type": "code",
   "execution_count": null,
   "metadata": {},
   "outputs": [],
   "source": [
    "# Move on to the next measurement date\n",
    "# date_idx -= 1"
   ]
  },
  {
   "attachments": {},
   "cell_type": "markdown",
   "metadata": {},
   "source": [
    "['To next measurement date'](#section_date_step)"
   ]
  },
  {
   "cell_type": "code",
   "execution_count": null,
   "metadata": {},
   "outputs": [],
   "source": [
    "# Move on to the next patient\n",
    "# patient_idx += 1"
   ]
  },
  {
   "cell_type": "code",
   "execution_count": null,
   "metadata": {},
   "outputs": [],
   "source": []
  }
 ],
 "metadata": {
  "kernelspec": {
   "display_name": "emgandash_230307",
   "language": "python",
   "name": "python3"
  },
  "language_info": {
   "codemirror_mode": {
    "name": "ipython",
    "version": 3
   },
   "file_extension": ".py",
   "mimetype": "text/x-python",
   "name": "python",
   "nbconvert_exporter": "python",
   "pygments_lexer": "ipython3",
   "version": "3.8.6"
  },
  "vscode": {
   "interpreter": {
    "hash": "715559eda0e456e9cdc499f5ec9b632cad73616ca8207bb3c3108e6214e21bfd"
   }
  }
 },
 "nbformat": 4,
 "nbformat_minor": 4
}
