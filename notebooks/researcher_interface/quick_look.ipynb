{
 "cells": [
  {
   "cell_type": "markdown",
   "metadata": {},
   "source": [
    "# 1. Import the required libraries"
   ]
  },
  {
   "cell_type": "code",
   "execution_count": null,
   "metadata": {},
   "outputs": [],
   "source": [
    "# Standard code libraries\n",
    "import os\n",
    "import numpy as np\n",
    "import matplotlib.pyplot as plt\n",
    "\n",
    "# Custom code libraries from ReSurfEMG\n",
    "from resurfemg.helper_functions.config import Config\n",
    "from resurfemg.data_connector import file_discovery\n",
    "from resurfemg.pipelines import ipy_widgets\n",
    "from resurfemg.data_connector.tmsisdk_lite import Poly5Reader\n",
    "from resurfemg.pipelines.pipelines import quick_look\n",
    "\n",
    "config = Config()\n",
    "\n",
    "%matplotlib widget"
   ]
  },
  {
   "cell_type": "markdown",
   "metadata": {},
   "source": [
    "## 2. Load sEMG test data"
   ]
  },
  {
   "cell_type": "markdown",
   "metadata": {},
   "source": [
    "## Synthetic data"
   ]
  },
  {
   "cell_type": "code",
   "execution_count": null,
   "metadata": {},
   "outputs": [],
   "source": [
    "# For the test data:\n",
    "base_path = config.get_directory('test_data')\n",
    "\n",
    "files = file_discovery.find_files(\n",
    "    base_path=base_path,\n",
    "    file_name_regex='*',\n",
    "    extension_regex='Poly5',\n",
    "    folder_levels=None,\n",
    "    verbose=False\n",
    ")\n",
    "button_list = ipy_widgets.file_select(\n",
    "    files=files,\n",
    "    folder_levels=['files'],\n",
    "    default_value_select=None,\n",
    "    default_idx_select=[0])"
   ]
  },
  {
   "cell_type": "code",
   "execution_count": null,
   "metadata": {},
   "outputs": [],
   "source": [
    "# Load the EMG from the selected folders (synthetic data):\n",
    "emg_file_chosen = os.path.join(base_path, *[btn.value for btn in button_list])\n",
    "\n",
    "data_emg = Poly5Reader(emg_file_chosen)\n",
    "data_emg_samples = data_emg.samples[:data_emg.num_samples]\n",
    "fs_emg = data_emg.sample_rate\n",
    "\n",
    "y_emg = data_emg_samples\n",
    "t_emg = [i/fs_emg for i in range(len(y_emg[0, :]))]"
   ]
  },
  {
   "cell_type": "code",
   "execution_count": null,
   "metadata": {},
   "outputs": [],
   "source": [
    "_ = quick_look(y_emg[1, :], fs_emg=fs_emg, plot_raw=True)"
   ]
  },
  {
   "cell_type": "code",
   "execution_count": null,
   "metadata": {},
   "outputs": [],
   "source": []
  }
 ],
 "metadata": {
  "kernelspec": {
   "display_name": ".venv310_win",
   "language": "python",
   "name": "python3"
  },
  "language_info": {
   "codemirror_mode": {
    "name": "ipython",
    "version": 3
   },
   "file_extension": ".py",
   "mimetype": "text/x-python",
   "name": "python",
   "nbconvert_exporter": "python",
   "pygments_lexer": "ipython3",
   "version": "3.10.5"
  }
 },
 "nbformat": 4,
 "nbformat_minor": 2
}
