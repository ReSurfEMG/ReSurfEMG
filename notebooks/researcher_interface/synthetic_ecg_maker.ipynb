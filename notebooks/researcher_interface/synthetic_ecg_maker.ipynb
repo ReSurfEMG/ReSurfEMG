{
 "cells": [
  {
   "cell_type": "markdown",
   "id": "ed2d40e9",
   "metadata": {},
   "source": [
    "## Exemplary scripts generating synthetic data"
   ]
  },
  {
   "cell_type": "code",
   "execution_count": 1,
   "id": "78ced6a5",
   "metadata": {},
   "outputs": [],
   "source": [
    "# Standard code libraries\n",
    "\n",
    "import numpy as np\n",
    "import pandas as pd\n",
    "import random\n",
    "\n",
    "import matplotlib.pyplot as plt\n",
    "\n",
    "# Custom code libraries from the ReSurfEMG repository\n",
    "# from resurfemg.data_connector.synthetic_data import simulate_emg_with_occlusions\n",
    "from resurfemg.helper_functions.config import Config \n",
    "config = Config()\n",
    "\n",
    "# Then find the files for the selected patients:\n",
    "base_path = config.get_directory('preprocessed')\n",
    "\n",
    "from resurfemg.pipelines.synthetic_data import simulate_raw_emg, synthetic_emg_cli, simulate_ventilator_data, synthetic_ventilator_data_cli\n",
    "\n",
    "\n",
    "%matplotlib widget"
   ]
  },
  {
   "cell_type": "code",
   "execution_count": 2,
   "id": "5bc53298",
   "metadata": {},
   "outputs": [
    {
     "data": {
      "text/plain": [
       "'C:/Users/robwa/repos/work/ReSurfEMG/test_data/preprocessed'"
      ]
     },
     "execution_count": 2,
     "metadata": {},
     "output_type": "execute_result"
    }
   ],
   "source": [
    "base_path"
   ]
  },
  {
   "cell_type": "markdown",
   "id": "94184b9e",
   "metadata": {},
   "source": [
    "## 2. Simulate the ventilator and sEMG data"
   ]
  },
  {
   "cell_type": "markdown",
   "id": "e69221e6",
   "metadata": {},
   "source": [
    "2.a Generate a patient and set the recording setting"
   ]
  },
  {
   "cell_type": "code",
   "execution_count": 19,
   "id": "dbdb91e1",
   "metadata": {},
   "outputs": [],
   "source": [
    "# Experimemt settings\n",
    "patient = 'HSP001'\n",
    "measurement_date = 'XXXX_XX_XX_measurement_01'\n",
    "recording_numbers = ['001', '002', '003', '004']\n",
    "peep_steps = [3, 5, 7, 9]   # The PEEP steps to iterate (cmH2O)\n",
    "\n",
    "# Recording parameters\n",
    "t_rec = 7*60                # Recording duration (s)\n",
    "fs_vent = 100               # Sampling rate of ventilator (Hz)\n",
    "fs_emg = 2048               # Sampling rate of EMG amplifier (Hz)\n",
    "\n",
    "# Ventilator parameters\n",
    "dp = 8                      # Driving pressure above PEEP (cmH2O)  \n",
    "\n",
    "# Patient respiratory variables\n",
    "ie_ratio = 1/2              # Ratio between inspiratory and expiratory time\n",
    "rr = 22                     # Respiratory rate (/min)\n",
    "p_mus_max_0_PEEP = 10       # Maximal respiratory muscle pressure (cmH2O)\n",
    "c = .050                    # Respiratory system compliance (L/cmH2O)\n",
    "r = 5                       # Respiratory system resistance (cmH2O/L/s)\n",
    "p_ip = -5                   # Static interpleural pressure (cmH2O)\n",
    "\n",
    "tau_mus_up = 0.3            # Muscle contraction time constant\n",
    "tau_mus_down = 0.3          # Muscle release time constant\n",
    "\n",
    "# Cardiac parameters\n",
    "hr_min = 60                 # Minimal heart rate (bpm)\n",
    "hr_max = 100                # Maximal heart rate (bpm)\n",
    "\n",
    "# Occlussion manoeuvre (Pocc) settings\n",
    "t_occs = np.array([t_rec-45, t_rec-30, t_rec-15])\n",
    "t_occs = np.floor(t_occs*rr/60)*60/rr   # Sync Poccs with respiratory pattern\n",
    "for i, t_occ in enumerate(t_occs):\n",
    "    if t_rec < (t_occ + 60/rr):\n",
    "        print('t=' + str(t_occ) + ': t_occ should be at least a full '\n",
    "              + 'respiratory cycle from t_end')\n",
    "        \n",
    "# Initialise expirement outputs\n",
    "big_data_list = []\n",
    "columns_now = ['patient', 'measurement', 'PEEP_set', \n",
    "                   'PTP_occs', 'ETP_di_occs', 'NMC_di', \n",
    "                   'SNR_di', 'PTP_occ_baseline', 'ETP_di_baseline', \n",
    "                   'ETP_di_baseline_old', 'ETP_di_bell_SE',\n",
    "                   't_delta_di_med', 't_delta_ecg_med', \n",
    "                   't_Pocc_peak', 't_Pocc_start', 't_Pocc_end',\n",
    "                   't_di_peak', 't_di_start', 't_di_end',\n",
    "                   'dP_up_10', 'dP_up_90', 'dP_up_90_norm', 'double_dip'\n",
    "               ]\n",
    "\n",
    "df = pd.DataFrame(big_data_list, columns=columns_now)"
   ]
  },
  {
   "cell_type": "markdown",
   "id": "16286c66",
   "metadata": {},
   "source": [
    "2.b Select and set the next PEEP step"
   ]
  },
  {
   "cell_type": "code",
   "execution_count": 20,
   "id": "dd2983ae",
   "metadata": {},
   "outputs": [
    {
     "name": "stdout",
     "output_type": "stream",
     "text": [
      "The next PEEP step is:\n",
      "Patient: HSP001\n",
      "Measurement date: XXXX_XX_XX_measurement_01\n",
      "Recording: 001\n",
      "PEEP: 3 cmH2O\n"
     ]
    }
   ],
   "source": [
    "# Get the PEEP step index and the corresponding recording number and PEEP value\n",
    "PEEP_idx = len(set(df['measurement'].values)) \n",
    "PEEP_step_chosen = recording_numbers[PEEP_idx]\n",
    "peep = peep_steps[PEEP_idx]        # Positive end-expiratory pressure (cmH2O)\n",
    "\n",
    "# Create a virtual trial effect:\n",
    "#   Change the maximal tidal inspiratory pressure of the patient\n",
    "p_mus_max = (1 - 0.049 * peep) * p_mus_max_0_PEEP \n",
    "\n",
    "print('The next PEEP step is:' \n",
    "      + '\\nPatient: ' + patient\n",
    "      + '\\nMeasurement date: ' + measurement_date\n",
    "      + '\\nRecording: ' + PEEP_step_chosen \n",
    "      + '\\nPEEP: ' + str(peep) + ' cmH2O')"
   ]
  },
  {
   "cell_type": "markdown",
   "id": "30915c60",
   "metadata": {},
   "source": [
    "2.c Generate the ventilator and sEMG data for the next PEEP step"
   ]
  },
  {
   "cell_type": "code",
   "execution_count": 21,
   "id": "6213796b",
   "metadata": {},
   "outputs": [
    {
     "name": "stdout",
     "output_type": "stream",
     "text": [
      "The randomised heart rate is set at:  81 bpm\n"
     ]
    }
   ],
   "source": [
    "# Generate ECG data\n",
    "hr = random.randint(hr_min, hr_max)\n",
    "# part_ecg = nk.ecg_simulate(duration=int(t_rec/1.5), \n",
    "#                            sampling_rate=int(fs_emg*1.5), \n",
    "#                            heart_rate=hr) \n",
    "\n",
    "print('The randomised heart rate is set at: ', hr, 'bpm')"
   ]
  },
  {
   "cell_type": "code",
   "execution_count": null,
   "id": "aa548681",
   "metadata": {},
   "outputs": [],
   "source": [
    "sim_amp = lambda emg_amp: simulate_raw_emg(\n",
    "    t_p_occs=t_occs,\n",
    "    t_end=t_rec,\n",
    "    fs_emg=fs_emg,\n",
    "    rr=rr,         \n",
    "    ie_ratio=ie_ratio,\n",
    "    tau_mus_up=0.3,\n",
    "    tau_mus_down=0.3,\n",
    "    emg_amp=emg_amp,     # Approximate EMG-RMS amplitude (uV)\n",
    "    drift_amp=100, # Approximate drift RMS amplitude (uV)\n",
    "    noise_amp=2,    # Approximate baseline noise RMS amplitude (uV)\n",
    "    heart_rate=hr,\n",
    "    ecg_acceleration=1.6,\n",
    ")\n",
    "y_emg = np.zeros((2, int(fs_emg*t_rec)))\n",
    "y_emg[0] = sim_amp(0.2)\n",
    "y_emg[1] = sim_amp(5)"
   ]
  },
  {
   "cell_type": "code",
   "execution_count": 18,
   "id": "cb342c4e",
   "metadata": {},
   "outputs": [],
   "source": [
    "# sim_parameters = {\n",
    "#         't_end': 7*60,\n",
    "#         'fs_emg': 2048,   # hertz\n",
    "#         'rr': 22,         # respiratory rate /min\n",
    "#         'ie_ratio': 1/2,  # ratio btw insp + expir phase\n",
    "#         'tau_mus_up': 0.3,\n",
    "#         'tau_mus_down': 0.3,\n",
    "#         't_p_occs': [],\n",
    "#         'drift_amp': 100,\n",
    "#         'noise_amp': 2,\n",
    "#         'heart_rate':80,\n",
    "#         'ecg_acceleration': 1.5,\n",
    "#         'ecg_amplitude':200,\n",
    "#     }\n",
    "# simulate_raw_emg(**sim_parameters)"
   ]
  },
  {
   "cell_type": "code",
   "execution_count": 19,
   "id": "226d914f",
   "metadata": {},
   "outputs": [],
   "source": [
    "# Simulate ventilator data\n",
    "p_mus_amp = 5\n",
    "t_occs_vent = t_occs\n",
    "y_vent, p_mus = simulate_ventilator_data(\n",
    "    t_end=t_rec,\n",
    "    fs_vent=fs_vent,\n",
    "    p_mus_amp=p_mus_amp,\n",
    "    rr=rr,\n",
    "    dp=dp,\n",
    "    t_p_occs=t_occs_vent,\n",
    ")"
   ]
  },
  {
   "cell_type": "code",
   "execution_count": null,
   "id": "e508e0f5",
   "metadata": {},
   "outputs": [],
   "source": [
    "# Load the EMG and ventilator data recordings from the selected folders.\n",
    "# data_emg = Poly5Reader(emg_file_chosen)\n",
    "# data_vent = Poly5Reader(vent_file_chosen)\n",
    "data_emg_samples = y_emg\n",
    "emg_fs = fs_emg\n",
    "# emg_fs = 2028\n",
    "data_vent_samples = y_vent\n",
    "vent_fs = fs_vent\n",
    "# vent_fs = 100\n",
    "\n",
    "# Define the time series of the EMG and ventilator recordings\n",
    "y_emg = y_emg\n",
    "y_vent = y_vent\n",
    "\n",
    "# Define the time axes\n",
    "t_emg = [i/emg_fs for i in range(len(y_emg[0, :]))]\n",
    "t_vent = [i/vent_fs for i in range(len(y_vent[0, :]))]\n",
    "\n",
    "# Default settings for window of interest including the end-expiratory occlusion\n",
    "# manoeuvres (Pocc)\n",
    "t_start_default = t_vent[-1]-60\n",
    "t_end_default = t_vent[-1]-5\n"
   ]
  },
  {
   "cell_type": "code",
   "execution_count": 11,
   "id": "e9dd79c4",
   "metadata": {},
   "outputs": [
    {
     "ename": "ValueError",
     "evalue": "x and y must have same first dimension, but have shapes (860160,) and (1,)",
     "output_type": "error",
     "traceback": [
      "\u001b[1;31m---------------------------------------------------------------------------\u001b[0m",
      "\u001b[1;31mValueError\u001b[0m                                Traceback (most recent call last)",
      "Cell \u001b[1;32mIn[11], line 5\u001b[0m\n\u001b[0;32m      2\u001b[0m fig, axis \u001b[38;5;241m=\u001b[39m plt\u001b[38;5;241m.\u001b[39msubplots(nrows\u001b[38;5;241m=\u001b[39m\u001b[38;5;241m3\u001b[39m, ncols\u001b[38;5;241m=\u001b[39m\u001b[38;5;241m2\u001b[39m, figsize\u001b[38;5;241m=\u001b[39m(\u001b[38;5;241m10\u001b[39m, \u001b[38;5;241m6\u001b[39m), sharex\u001b[38;5;241m=\u001b[39m\u001b[38;5;28;01mTrue\u001b[39;00m)\n\u001b[0;32m      4\u001b[0m axis[\u001b[38;5;241m0\u001b[39m, \u001b[38;5;241m0\u001b[39m]\u001b[38;5;241m.\u001b[39mgrid(\u001b[38;5;28;01mTrue\u001b[39;00m)\n\u001b[1;32m----> 5\u001b[0m \u001b[43maxis\u001b[49m\u001b[43m[\u001b[49m\u001b[38;5;241;43m0\u001b[39;49m\u001b[43m,\u001b[49m\u001b[43m \u001b[49m\u001b[38;5;241;43m0\u001b[39;49m\u001b[43m]\u001b[49m\u001b[38;5;241;43m.\u001b[39;49m\u001b[43mplot\u001b[49m\u001b[43m(\u001b[49m\u001b[43mt_emg\u001b[49m\u001b[43m,\u001b[49m\u001b[43m \u001b[49m\u001b[43my_emg\u001b[49m\u001b[43m[\u001b[49m\u001b[38;5;241;43m0\u001b[39;49m\u001b[43m]\u001b[49m\u001b[43m)\u001b[49m\n\u001b[0;32m      6\u001b[0m axis[\u001b[38;5;241m0\u001b[39m, \u001b[38;5;241m0\u001b[39m]\u001b[38;5;241m.\u001b[39mset(title\u001b[38;5;241m=\u001b[39m\u001b[38;5;124m'\u001b[39m\u001b[38;5;124msEMG leads\u001b[39m\u001b[38;5;124m'\u001b[39m)\n\u001b[0;32m      7\u001b[0m axis[\u001b[38;5;241m0\u001b[39m, \u001b[38;5;241m0\u001b[39m]\u001b[38;5;241m.\u001b[39mset_ylabel(\u001b[38;5;124m'\u001b[39m\u001b[38;5;124mECG (uV)\u001b[39m\u001b[38;5;124m'\u001b[39m)\n",
      "File \u001b[1;32mc:\\Users\\robwa\\repos\\work\\ReSurfEMG\\.venv310_win\\lib\\site-packages\\matplotlib\\axes\\_axes.py:1779\u001b[0m, in \u001b[0;36mAxes.plot\u001b[1;34m(self, scalex, scaley, data, *args, **kwargs)\u001b[0m\n\u001b[0;32m   1536\u001b[0m \u001b[38;5;250m\u001b[39m\u001b[38;5;124;03m\"\"\"\u001b[39;00m\n\u001b[0;32m   1537\u001b[0m \u001b[38;5;124;03mPlot y versus x as lines and/or markers.\u001b[39;00m\n\u001b[0;32m   1538\u001b[0m \n\u001b[1;32m   (...)\u001b[0m\n\u001b[0;32m   1776\u001b[0m \u001b[38;5;124;03m(``'green'``) or hex strings (``'#008000'``).\u001b[39;00m\n\u001b[0;32m   1777\u001b[0m \u001b[38;5;124;03m\"\"\"\u001b[39;00m\n\u001b[0;32m   1778\u001b[0m kwargs \u001b[38;5;241m=\u001b[39m cbook\u001b[38;5;241m.\u001b[39mnormalize_kwargs(kwargs, mlines\u001b[38;5;241m.\u001b[39mLine2D)\n\u001b[1;32m-> 1779\u001b[0m lines \u001b[38;5;241m=\u001b[39m [\u001b[38;5;241m*\u001b[39m\u001b[38;5;28mself\u001b[39m\u001b[38;5;241m.\u001b[39m_get_lines(\u001b[38;5;28mself\u001b[39m, \u001b[38;5;241m*\u001b[39margs, data\u001b[38;5;241m=\u001b[39mdata, \u001b[38;5;241m*\u001b[39m\u001b[38;5;241m*\u001b[39mkwargs)]\n\u001b[0;32m   1780\u001b[0m \u001b[38;5;28;01mfor\u001b[39;00m line \u001b[38;5;129;01min\u001b[39;00m lines:\n\u001b[0;32m   1781\u001b[0m     \u001b[38;5;28mself\u001b[39m\u001b[38;5;241m.\u001b[39madd_line(line)\n",
      "File \u001b[1;32mc:\\Users\\robwa\\repos\\work\\ReSurfEMG\\.venv310_win\\lib\\site-packages\\matplotlib\\axes\\_base.py:296\u001b[0m, in \u001b[0;36m_process_plot_var_args.__call__\u001b[1;34m(self, axes, data, *args, **kwargs)\u001b[0m\n\u001b[0;32m    294\u001b[0m     this \u001b[38;5;241m+\u001b[39m\u001b[38;5;241m=\u001b[39m args[\u001b[38;5;241m0\u001b[39m],\n\u001b[0;32m    295\u001b[0m     args \u001b[38;5;241m=\u001b[39m args[\u001b[38;5;241m1\u001b[39m:]\n\u001b[1;32m--> 296\u001b[0m \u001b[38;5;28;01myield from\u001b[39;00m \u001b[38;5;28;43mself\u001b[39;49m\u001b[38;5;241;43m.\u001b[39;49m\u001b[43m_plot_args\u001b[49m\u001b[43m(\u001b[49m\n\u001b[0;32m    297\u001b[0m \u001b[43m    \u001b[49m\u001b[43maxes\u001b[49m\u001b[43m,\u001b[49m\u001b[43m \u001b[49m\u001b[43mthis\u001b[49m\u001b[43m,\u001b[49m\u001b[43m \u001b[49m\u001b[43mkwargs\u001b[49m\u001b[43m,\u001b[49m\u001b[43m \u001b[49m\u001b[43mambiguous_fmt_datakey\u001b[49m\u001b[38;5;241;43m=\u001b[39;49m\u001b[43mambiguous_fmt_datakey\u001b[49m\u001b[43m)\u001b[49m\n",
      "File \u001b[1;32mc:\\Users\\robwa\\repos\\work\\ReSurfEMG\\.venv310_win\\lib\\site-packages\\matplotlib\\axes\\_base.py:486\u001b[0m, in \u001b[0;36m_process_plot_var_args._plot_args\u001b[1;34m(self, axes, tup, kwargs, return_kwargs, ambiguous_fmt_datakey)\u001b[0m\n\u001b[0;32m    483\u001b[0m     axes\u001b[38;5;241m.\u001b[39myaxis\u001b[38;5;241m.\u001b[39mupdate_units(y)\n\u001b[0;32m    485\u001b[0m \u001b[38;5;28;01mif\u001b[39;00m x\u001b[38;5;241m.\u001b[39mshape[\u001b[38;5;241m0\u001b[39m] \u001b[38;5;241m!=\u001b[39m y\u001b[38;5;241m.\u001b[39mshape[\u001b[38;5;241m0\u001b[39m]:\n\u001b[1;32m--> 486\u001b[0m     \u001b[38;5;28;01mraise\u001b[39;00m \u001b[38;5;167;01mValueError\u001b[39;00m(\u001b[38;5;124mf\u001b[39m\u001b[38;5;124m\"\u001b[39m\u001b[38;5;124mx and y must have same first dimension, but \u001b[39m\u001b[38;5;124m\"\u001b[39m\n\u001b[0;32m    487\u001b[0m                      \u001b[38;5;124mf\u001b[39m\u001b[38;5;124m\"\u001b[39m\u001b[38;5;124mhave shapes \u001b[39m\u001b[38;5;132;01m{\u001b[39;00mx\u001b[38;5;241m.\u001b[39mshape\u001b[38;5;132;01m}\u001b[39;00m\u001b[38;5;124m and \u001b[39m\u001b[38;5;132;01m{\u001b[39;00my\u001b[38;5;241m.\u001b[39mshape\u001b[38;5;132;01m}\u001b[39;00m\u001b[38;5;124m\"\u001b[39m)\n\u001b[0;32m    488\u001b[0m \u001b[38;5;28;01mif\u001b[39;00m x\u001b[38;5;241m.\u001b[39mndim \u001b[38;5;241m>\u001b[39m \u001b[38;5;241m2\u001b[39m \u001b[38;5;129;01mor\u001b[39;00m y\u001b[38;5;241m.\u001b[39mndim \u001b[38;5;241m>\u001b[39m \u001b[38;5;241m2\u001b[39m:\n\u001b[0;32m    489\u001b[0m     \u001b[38;5;28;01mraise\u001b[39;00m \u001b[38;5;167;01mValueError\u001b[39;00m(\u001b[38;5;124mf\u001b[39m\u001b[38;5;124m\"\u001b[39m\u001b[38;5;124mx and y can be no greater than 2D, but have \u001b[39m\u001b[38;5;124m\"\u001b[39m\n\u001b[0;32m    490\u001b[0m                      \u001b[38;5;124mf\u001b[39m\u001b[38;5;124m\"\u001b[39m\u001b[38;5;124mshapes \u001b[39m\u001b[38;5;132;01m{\u001b[39;00mx\u001b[38;5;241m.\u001b[39mshape\u001b[38;5;132;01m}\u001b[39;00m\u001b[38;5;124m and \u001b[39m\u001b[38;5;132;01m{\u001b[39;00my\u001b[38;5;241m.\u001b[39mshape\u001b[38;5;132;01m}\u001b[39;00m\u001b[38;5;124m\"\u001b[39m)\n",
      "\u001b[1;31mValueError\u001b[0m: x and y must have same first dimension, but have shapes (860160,) and (1,)"
     ]
    },
    {
     "data": {
      "application/vnd.jupyter.widget-view+json": {
       "model_id": "cda64478c44141cf94bc736ec382ada2",
       "version_major": 2,
       "version_minor": 0
      },
      "image/png": "[encoded data removed]",
      "text/html": [
       "\n",
       "            <div style=\"display: inline-block;\">\n",
       "                <div class=\"jupyter-widgets widget-label\" style=\"text-align: center;\">\n",
       "                    Figure\n",
       "                </div>\n",
       "                <img src='data:image/png;base64,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' width=1000.0/>\n",
       "            </div>\n",
       "        "
      ],
      "text/plain": [
       "Canvas(toolbar=Toolbar(toolitems=[('Home', 'Reset original view', 'home', 'home'), ('Back', 'Back to previous …"
      ]
     },
     "metadata": {},
     "output_type": "display_data"
    }
   ],
   "source": [
    "# Plot the raw data\n",
    "fig, axis = plt.subplots(nrows=3, ncols=2, figsize=(10, 6), sharex=True)\n",
    "\n",
    "axis[0, 0].grid(True)\n",
    "axis[0, 0].plot(t_emg, y_emg[0])\n",
    "axis[0, 0].set(title='sEMG leads')\n",
    "axis[0, 0].set_ylabel('ECG (uV)')\n",
    "axis[1, 0].grid(True)\n",
    "axis[1, 0].plot(t_emg, y_emg[1])\n",
    "axis[1, 0].set_ylabel('sEMGdi (uV)')\n",
    "axis[1, 0].set_xlabel('t (s)')\n",
    "axis[2, 0].axis('off')\n",
    "\n",
    "axis[0, 1].set(title='Ventilator data')\n",
    "axis[0, 1].grid(True)\n",
    "axis[0, 1].plot(t_vent, y_vent[0])\n",
    "axis[0, 1].plot(t_vent, p_mus, color='tab:cyan')\n",
    "axis[0, 1].set_ylabel('P_aw (cmH2O)')\n",
    "axis[1, 1].grid(True)\n",
    "axis[1, 1].plot(t_vent, y_vent[1])\n",
    "axis[1, 1].set_ylabel('F (L/s)')\n",
    "axis[2, 1].grid(True)\n",
    "axis[2, 1].plot(t_vent, y_vent[2])\n",
    "axis[2, 1].set_ylabel('V (L)')\n",
    "axis[2, 1].set_xlabel('t (s)')\n",
    "axis[2, 1].set_xlim([t_start_default, t_end_default])"
   ]
  },
  {
   "cell_type": "code",
   "execution_count": 4,
   "id": "b48ac63a",
   "metadata": {},
   "outputs": [],
   "source": [
    "# # Cli version: store to output_directory\n",
    "output_directory = base_path\n",
    "synthetic_emg_cli(1, output_directory)\n",
    "\n",
    "output_directory = base_path\n",
    "synthetic_ventilator_data_cli(1, output_directory)\n"
   ]
  },
  {
   "cell_type": "code",
   "execution_count": 5,
   "id": "cb47c275",
   "metadata": {},
   "outputs": [],
   "source": [
    "y_emg = np.load(output_directory + '/emg_0.npy')\n",
    "\n",
    "y_load = np.load(output_directory + '/vent_0.npy')\n",
    "y_vent = y_load[:3, :]\n",
    "p_mus = y_load[3, :]"
   ]
  },
  {
   "cell_type": "code",
   "execution_count": null,
   "id": "93b1bf19",
   "metadata": {},
   "outputs": [],
   "source": []
  }
 ],
 "metadata": {
  "kernelspec": {
   "display_name": ".venv310_win",
   "language": "python",
   "name": "python3"
  },
  "language_info": {
   "codemirror_mode": {
    "name": "ipython",
    "version": 3
   },
   "file_extension": ".py",
   "mimetype": "text/x-python",
   "name": "python",
   "nbconvert_exporter": "python",
   "pygments_lexer": "ipython3",
   "version": "3.10.0"
  }
 },
 "nbformat": 4,
 "nbformat_minor": 5
}
