{
 "cells": [
  {
   "cell_type": "markdown",
   "id": "ed2d40e9",
   "metadata": {},
   "source": [
    "## Exemplary scripts generating synthetic data"
   ]
  },
  {
   "cell_type": "markdown",
   "id": "45a4a4af",
   "metadata": {},
   "source": [
    "## 1. Load the required libraries"
   ]
  },
  {
   "cell_type": "code",
   "execution_count": null,
   "id": "78ced6a5",
   "metadata": {},
   "outputs": [],
   "source": [
    "# Standard code libraries\n",
    "\n",
    "import os\n",
    "import numpy as np\n",
    "import pandas as pd\n",
    "import random\n",
    "\n",
    "import matplotlib.pyplot as plt\n",
    "\n",
    "# Custom code libraries from the ReSurfEMG repository\n",
    "from resurfemg.pipelines import synthetic_data as synth\n",
    "from resurfemg.data_connector.config import Config\n",
    "config = Config()\n",
    "\n",
    "# Then find the files for the selected patients:\n",
    "base_path = config.get_directory('simulated_data')\n",
    "\n",
    "%matplotlib widget"
   ]
  },
  {
   "cell_type": "markdown",
   "id": "94184b9e",
   "metadata": {},
   "source": [
    "## 2. Simulate the ventilator and sEMG data"
   ]
  },
  {
   "cell_type": "markdown",
   "id": "e69221e6",
   "metadata": {},
   "source": [
    "2.a Generate a patient and set the recording setting"
   ]
  },
  {
   "cell_type": "code",
   "execution_count": null,
   "id": "dbdb91e1",
   "metadata": {},
   "outputs": [],
   "source": [
    "# Experimemt settings\n",
    "patient = 'HSP001'\n",
    "measurement_date = 'XXXX_XX_XX_measurement_01'\n",
    "recording_numbers = ['001', '002', '003', '004']\n",
    "peep_steps = [3, 5, 7, 9]   # The PEEP steps to iterate (cmH2O)\n",
    "\n",
    "# Recording parameters\n",
    "t_rec = 7*60                # Recording duration (s)\n",
    "fs_vent = 100               # Sampling rate of ventilator (Hz)\n",
    "fs_emg = 2048               # Sampling rate of EMG amplifier (Hz)\n",
    "\n",
    "# Ventilator parameters\n",
    "dp = 8                      # Driving pressure above PEEP (cmH2O)  \n",
    "\n",
    "# Patient respiratory variables\n",
    "ie_ratio = 1/2              # Ratio between inspiratory and expiratory time\n",
    "rr = 22                     # Respiratory rate (/min)\n",
    "p_mus_max_0_PEEP = 10       # Maximal respiratory muscle pressure (cmH2O)\n",
    "c = .050                    # Respiratory system compliance (L/cmH2O)\n",
    "r = 5                       # Respiratory system resistance (cmH2O/L/s)\n",
    "p_ip = -5                   # Static interpleural pressure (cmH2O)\n",
    "\n",
    "tau_mus_up = 0.3            # Muscle contraction time constant\n",
    "tau_mus_down = 0.3          # Muscle release time constant\n",
    "\n",
    "# Cardiac parameters\n",
    "hr_min = 60                 # Minimal heart rate (bpm)\n",
    "hr_max = 100                # Maximal heart rate (bpm)\n",
    "\n",
    "# Occlussion manoeuvre (Pocc) settings\n",
    "t_occs = np.array([t_rec-45, t_rec-30, t_rec-15])\n",
    "t_occs = np.floor(t_occs*rr/60)*60/rr   # Sync Poccs with respiratory pattern\n",
    "for i, t_occ in enumerate(t_occs):\n",
    "    if t_rec < (t_occ + 60/rr):\n",
    "        print('t=' + str(t_occ) + ': t_occ should be at least a full '\n",
    "              + 'respiratory cycle from t_end')\n",
    "        \n",
    "# Initialise expirement outputs\n",
    "big_data_list = []\n",
    "columns_now = ['patient', 'measurement', 'PEEP_set', \n",
    "                   'PTP_occs', 'ETP_di_occs', 'NMC_di', \n",
    "                   'SNR_di', 'PTP_occ_baseline', 'ETP_di_baseline', \n",
    "                   'ETP_di_baseline_old', 'ETP_di_bell_SE',\n",
    "                   't_delta_di_med', 't_delta_ecg_med', \n",
    "                   't_Pocc_peak', 't_Pocc_start', 't_Pocc_end',\n",
    "                   't_di_peak', 't_di_start', 't_di_end',\n",
    "                   'dP_up_10', 'dP_up_90', 'dP_up_90_norm', 'double_dip'\n",
    "               ]\n",
    "\n",
    "df = pd.DataFrame(big_data_list, columns=columns_now)"
   ]
  },
  {
   "cell_type": "markdown",
   "id": "16286c66",
   "metadata": {},
   "source": [
    "2.b Select and set the next PEEP step"
   ]
  },
  {
   "cell_type": "code",
   "execution_count": null,
   "id": "dd2983ae",
   "metadata": {},
   "outputs": [],
   "source": [
    "# Get the PEEP step index and the corresponding recording number and PEEP value\n",
    "PEEP_idx = len(set(df['measurement'].values)) \n",
    "PEEP_step_chosen = recording_numbers[PEEP_idx]\n",
    "peep = peep_steps[PEEP_idx]        # Positive end-expiratory pressure (cmH2O)\n",
    "\n",
    "# Create a virtual trial effect:\n",
    "#   Change the maximal tidal inspiratory pressure of the patient\n",
    "p_mus_max = (1 - 0.049 * peep) * p_mus_max_0_PEEP \n",
    "\n",
    "print('The next PEEP step is:' \n",
    "      + '\\nPatient: ' + patient\n",
    "      + '\\nMeasurement date: ' + measurement_date\n",
    "      + '\\nRecording: ' + PEEP_step_chosen \n",
    "      + '\\nPEEP: ' + str(peep) + ' cmH2O')"
   ]
  },
  {
   "cell_type": "markdown",
   "id": "30915c60",
   "metadata": {},
   "source": [
    "2.c Generate the ventilator and sEMG data for the next PEEP step"
   ]
  },
  {
   "cell_type": "code",
   "execution_count": null,
   "id": "6213796b",
   "metadata": {},
   "outputs": [],
   "source": [
    "# Generate ECG data\n",
    "hr = random.randint(hr_min, hr_max)\n",
    "# part_ecg = nk.ecg_simulate(duration=int(t_rec/1.5), \n",
    "#                            sampling_rate=int(fs_emg*1.5), \n",
    "#                            heart_rate=hr) \n",
    "\n",
    "print('The randomised heart rate is set at: ', hr, 'bpm')"
   ]
  },
  {
   "cell_type": "code",
   "execution_count": null,
   "id": "aa548681",
   "metadata": {},
   "outputs": [],
   "source": [
    "sim_amp = lambda emg_amp: synth.simulate_raw_emg(\n",
    "    t_p_occs=t_occs,\n",
    "    t_end=t_rec,\n",
    "    fs_emg=fs_emg,\n",
    "    rr=rr,         \n",
    "    ie_ratio=ie_ratio,\n",
    "    tau_mus_up=0.3,\n",
    "    tau_mus_down=0.3,\n",
    "    emg_amp=emg_amp,     # Approximate EMG-RMS amplitude (uV)\n",
    "    drift_amp=100, # Approximate drift RMS amplitude (uV)\n",
    "    noise_amp=2,    # Approximate baseline noise RMS amplitude (uV)\n",
    "    heart_rate=hr,\n",
    "    ecg_acceleration=1.6,\n",
    ")\n",
    "y_emg = np.zeros((2, int(fs_emg*t_rec)))\n",
    "y_emg[0] = sim_amp(0.2)\n",
    "y_emg[1] = sim_amp(5)"
   ]
  },
  {
   "cell_type": "code",
   "execution_count": null,
   "id": "226d914f",
   "metadata": {},
   "outputs": [],
   "source": [
    "# Simulate ventilator data\n",
    "p_mus_amp = 5\n",
    "t_occs_vent = t_occs\n",
    "y_vent, p_mus = synth.simulate_ventilator_data(\n",
    "    t_end=t_rec,\n",
    "    fs_vent=fs_vent,\n",
    "    p_mus_amp=p_mus_amp,\n",
    "    rr=rr,\n",
    "    dp=dp,\n",
    "    t_p_occs=t_occs_vent,\n",
    ")"
   ]
  },
  {
   "cell_type": "code",
   "execution_count": null,
   "id": "e508e0f5",
   "metadata": {},
   "outputs": [],
   "source": [
    "# Load the EMG and ventilator data recordings from the selected folders.\n",
    "# data_emg = Poly5Reader(emg_file_chosen)\n",
    "# data_vent = Poly5Reader(vent_file_chosen)\n",
    "data_emg_samples = y_emg\n",
    "emg_fs = fs_emg\n",
    "# emg_fs = 2028\n",
    "data_vent_samples = y_vent\n",
    "vent_fs = fs_vent\n",
    "# vent_fs = 100\n",
    "\n",
    "# Define the time series of the EMG and ventilator recordings\n",
    "y_emg = y_emg\n",
    "y_vent = y_vent\n",
    "\n",
    "# Define the time axes\n",
    "t_emg = [i/emg_fs for i in range(len(y_emg[0, :]))]\n",
    "t_vent = [i/vent_fs for i in range(len(y_vent[0, :]))]\n",
    "\n",
    "# Default settings for window of interest including the end-expiratory occlusion\n",
    "# manoeuvres (Pocc)\n",
    "t_start_default = t_vent[-1]-60\n",
    "t_end_default = t_vent[-1]-5\n"
   ]
  },
  {
   "cell_type": "code",
   "execution_count": null,
   "id": "e9dd79c4",
   "metadata": {},
   "outputs": [],
   "source": [
    "# Plot the raw data\n",
    "fig, axis = plt.subplots(nrows=3, ncols=2, figsize=(10, 6), sharex=True)\n",
    "\n",
    "axis[0, 0].grid(True)\n",
    "axis[0, 0].plot(t_emg, y_emg[0])\n",
    "axis[0, 0].set(title='sEMG leads')\n",
    "axis[0, 0].set_ylabel('ECG (uV)')\n",
    "axis[1, 0].grid(True)\n",
    "axis[1, 0].plot(t_emg, y_emg[1])\n",
    "axis[1, 0].set_ylabel('sEMGdi (uV)')\n",
    "axis[1, 0].set_xlabel('t (s)')\n",
    "axis[2, 0].axis('off')\n",
    "\n",
    "axis[0, 1].set(title='Ventilator data')\n",
    "axis[0, 1].grid(True)\n",
    "axis[0, 1].plot(t_vent, y_vent[0])\n",
    "axis[0, 1].plot(t_vent, p_mus, color='tab:cyan')\n",
    "axis[0, 1].set_ylabel('P_aw (cmH2O)')\n",
    "axis[1, 1].grid(True)\n",
    "axis[1, 1].plot(t_vent, y_vent[1])\n",
    "axis[1, 1].set_ylabel('F (L/s)')\n",
    "axis[2, 1].grid(True)\n",
    "axis[2, 1].plot(t_vent, y_vent[2])\n",
    "axis[2, 1].set_ylabel('V (L)')\n",
    "axis[2, 1].set_xlabel('t (s)')\n",
    "axis[2, 1].set_xlim([t_start_default, t_end_default])"
   ]
  },
  {
   "cell_type": "code",
   "execution_count": null,
   "id": "b48ac63a",
   "metadata": {},
   "outputs": [],
   "source": [
    "# Store to output_directory\n",
    "output_directory = base_path\n",
    "np.save(os.path.join(output_directory , 'emg_sim_0.npy'), y_emg)\n",
    "np.save(os.path.join(output_directory , 'vent_sim_0.npy'), y_vent)\n",
    "np.save(os.path.join(output_directory , 'p_mus_sim_0.npy'), p_mus)"
   ]
  },
  {
   "cell_type": "code",
   "execution_count": null,
   "id": "de2da7f5",
   "metadata": {},
   "outputs": [],
   "source": [
    "# # # Cli version: store to output_directory\n",
    "# output_directory = base_path\n",
    "# synth.synthetic_emg_cli(1, output_directory)  # NB Single channel only!\n",
    "# synth.synthetic_ventilator_data_cli(1, output_directory)"
   ]
  },
  {
   "cell_type": "markdown",
   "id": "e00ccb26",
   "metadata": {},
   "source": [
    "# 3. Load the data"
   ]
  },
  {
   "cell_type": "code",
   "execution_count": null,
   "id": "cb47c275",
   "metadata": {},
   "outputs": [],
   "source": [
    "# Load the data again\n",
    "y_emg_loaded = np.load(os.path.join(output_directory , 'emg_sim_0.npy'))\n",
    "y_vent_loaded = np.load(os.path.join(output_directory , 'vent_sim_0.npy'))\n",
    "p_mus_loaded = np.load(os.path.join(output_directory , 'p_mus_sim_0.npy'))"
   ]
  },
  {
   "cell_type": "code",
   "execution_count": null,
   "id": "1077daa3",
   "metadata": {},
   "outputs": [],
   "source": []
  }
 ],
 "metadata": {
  "kernelspec": {
   "display_name": ".venv310_win",
   "language": "python",
   "name": "python3"
  },
  "language_info": {
   "codemirror_mode": {
    "name": "ipython",
    "version": 3
   },
   "file_extension": ".py",
   "mimetype": "text/x-python",
   "name": "python",
   "nbconvert_exporter": "python",
   "pygments_lexer": "ipython3",
   "version": "3.10.0"
  }
 },
 "nbformat": 4,
 "nbformat_minor": 5
}
