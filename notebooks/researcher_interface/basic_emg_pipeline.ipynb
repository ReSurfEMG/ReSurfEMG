{
 "cells": [
  {
   "cell_type": "markdown",
   "metadata": {},
   "source": [
    "# 1. Import the required libraries"
   ]
  },
  {
   "cell_type": "code",
   "execution_count": null,
   "metadata": {},
   "outputs": [],
   "source": [
    "# Standard code libraries\n",
    "import os\n",
    "import platform\n",
    "import glob\n",
    "\n",
    "import matplotlib.pyplot as plt\n",
    "\n",
    "# Custom code libraries from ReSurfEMG\n",
    "from resurfemg.config.config import Config\n",
    "from resurfemg.data_connector.tmsisdk_lite import Poly5Reader\n",
    "from resurfemg.data_classes.data_classes import (\n",
    "VentilatorDataGroup, EmgDataGroup)\n",
    "\n",
    "%matplotlib widget"
   ]
  },
  {
   "cell_type": "markdown",
   "metadata": {},
   "source": [
    "## 2. Load the ventilator and sEMG data"
   ]
  },
  {
   "cell_type": "code",
   "execution_count": null,
   "metadata": {},
   "outputs": [],
   "source": [
    "# Identify all recordings available for the selected patient/measurement_date\n",
    "\n",
    "# Root directory for test data\n",
    "config = Config()\n",
    "root_patient_data_directory = \\\n",
    "    config.get_directory('test_data')\n",
    "\n",
    "if platform.system() == 'Windows':\n",
    "    path_sep = \"\\\\\"\n",
    "else:\n",
    "    path_sep = '/'\n",
    "\n",
    "emg_pattern = os.path.join(root_patient_data_directory, '**/*.Poly5')\n",
    "emg_and_vent_files = glob.glob(emg_pattern, recursive=True)\n",
    "\n",
    "emg_files = []\n",
    "vent_files = []\n",
    "\n",
    "for file in emg_and_vent_files:\n",
    "    if 'vent' in file:\n",
    "        vent_files.append(file)\n",
    "    else:\n",
    "        emg_files.append(file)\n",
    "\n",
    "emg_file_chosen = emg_files[0]\n",
    "vent_file_chosen = vent_files[0]\n",
    "print(\"The chosen files are:\\n\", emg_file_chosen, '\\n', vent_file_chosen)"
   ]
  },
  {
   "cell_type": "code",
   "execution_count": null,
   "metadata": {},
   "outputs": [],
   "source": [
    "# Load the EMG and ventilator data recordings from the selected folders.\n",
    "data_emg = Poly5Reader(emg_file_chosen)\n",
    "data_vent = Poly5Reader(vent_file_chosen)\n",
    "data_emg_samples = data_emg.samples[:data_emg.num_samples]\n",
    "fs_emg = data_emg.sample_rate\n",
    "data_vent_samples = data_vent.samples[:data_vent.num_samples]\n",
    "fs_vent = data_vent.sample_rate\n",
    "\n",
    "# Define the time series of the EMG and ventilator recordings\n",
    "y_emg = data_emg_samples\n",
    "y_vent = data_vent_samples\n",
    "\n",
    "# Define the time axes\n",
    "t_emg = [i/fs_emg for i in range(len(y_emg[0, :]))]\n",
    "t_vent = [i/fs_vent for i in range(len(y_vent[0, :]))]"
   ]
  },
  {
   "cell_type": "code",
   "execution_count": null,
   "metadata": {},
   "outputs": [],
   "source": [
    "# Store the EMG data in a group of TimeSeries objects\n",
    "emg_timeseries = EmgDataGroup(\n",
    "    y_emg,\n",
    "    fs=fs_emg,\n",
    "    labels=['ECG', 'EMGdi'],\n",
    "    units=2*['uV'])\n",
    "\n",
    "\n",
    "# Data is stored in:\n",
    "# fs        --> emg_timeseries.fs\n",
    "# labels    --> emg_timeseries.labels\n",
    "# units     --> emg_timeseries.units\n",
    "# ECG       --> emg_timeseries.channels[0] = TimeSeries object\n",
    "# EMGdi     --> emg_timeseries.channels[1] = TimeSeries object\n",
    "#   with:\n",
    "#   emg_timeseries.channels[0].fs = fs\n",
    "#   emg_timeseries.channels[0].y_raw = y_emg[0, :]\n",
    "#   emg_timeseries.channels[0].t_data = time axis data for y_raw\n",
    "#   emg_timeseries.channels[0].y_clean = None\n",
    "#   emg_timeseries.channels[0].y_baseline = None\n",
    "#   emg_timeseries.channels[0].y_baseline = None\n",
    "#   etc.\n",
    "# From the labels 'ECG' is automatically detected."
   ]
  },
  {
   "cell_type": "code",
   "execution_count": null,
   "metadata": {},
   "outputs": [],
   "source": [
    "# Store the ventilator data in a group of TimeSeries objects\n",
    "vent_timeseries = VentilatorDataGroup(\n",
    "    y_vent,\n",
    "    fs=fs_vent,\n",
    "    labels=['Paw', 'F', 'Vvent'],\n",
    "    units=['cmH2O', 'L/s', 'L'])\n",
    "\n",
    "# Data is stored in:\n",
    "# fs        --> vent_timeseries.fs\n",
    "# labels    --> vent_timeseries.labels\n",
    "# units     --> vent_timeseries.units\n",
    "# ECG       --> vent_timeseries.channels[0] = TimeSeries object\n",
    "# EMGdi     --> vent_timeseries.channels[1] = TimeSeries object\n",
    "#   with:\n",
    "#   vent_timeseries.channels[0].fs = fs\n",
    "#   vent_timeseries.channels[0].y_raw = y_vent[0, :]\n",
    "#   vent_timeseries.channels[0].t_data = time axis data for y_raw\n",
    "#   vent_timeseries.channels[0].y_clean = None\n",
    "#   vent_timeseries.channels[0].y_baseline = None\n",
    "#   vent_timeseries.channels[0].y_baseline = None\n",
    "#   etc.\n",
    "# From the labels 'Paw', 'F', and 'Vvent' are automatically detected."
   ]
  },
  {
   "cell_type": "markdown",
   "metadata": {},
   "source": [
    "# 3. Pre-process the data"
   ]
  },
  {
   "cell_type": "code",
   "execution_count": null,
   "metadata": {},
   "outputs": [],
   "source": [
    "# Filter\n",
    "emg_timeseries.filter(\n",
    "    signal_type='raw',\n",
    "    hp_cf=20.0,\n",
    "    lp_cf=500.0,    \n",
    "    channel_idxs=[0, 1],\n",
    ")\n",
    "# signal_type:      Filter the raw, just assigned, data\n",
    "# hp_cf:            High-pass cut-off frequency of 20 Hz\n",
    "# lp_cf:            Low-pass cut-off frequency of 500 Hz\n",
    "# channel_idxs:     For all channels (None would default to this)\n",
    "\n",
    "# --> Data is stored in:\n",
    "# emg_timeseries.channels[channel_idx].y_clean\n"
   ]
  },
  {
   "cell_type": "code",
   "execution_count": null,
   "metadata": {},
   "outputs": [],
   "source": [
    "# Gate the EMG\n",
    "emg_timeseries.gating(\n",
    "    signal_type='clean',        \n",
    "    gate_width_samples=None,    \n",
    "    ecg_peak_idxs=None,         \n",
    "    ecg_raw=None,               \n",
    "    bp_filter=True,\n",
    "    channel_idxs=None,\n",
    ")\n",
    "# signal_type:          Filter the clean, just filtered, data\n",
    "# gate_width_samples:   Gate width, `None` defaults to fs // 10\n",
    "# ecg_peak_idxs:        Sample idxs of ECG peaks, when `None` peaks are \n",
    "#                       automatically identified.\n",
    "# ecg_raw:              ECG data to detect ECG peaks in if no ecg_peak_idxs are\n",
    "#                       provided. If `None` and no ecg-channel is detected\n",
    "#                       from the labels the raw channel data is used.\n",
    "# bp_filter:            True/False: Filter the provided ecg_raw between 1-500\n",
    "#                       Hz before peak detection\n",
    "# channel_idxs:         For all channels (None would default to this)\n",
    "\n",
    "# --> Data is stored in:\n",
    "# emg_timeseries.channels[channel_idx].y_clean\n"
   ]
  },
  {
   "cell_type": "code",
   "execution_count": null,
   "metadata": {},
   "outputs": [],
   "source": [
    "# Calculate the envelope of the signal\n",
    "emg_timeseries.envelope(\n",
    "    env_window=None,\n",
    "    env_type='arv',\n",
    "    signal_type='clean',\n",
    ")\n",
    "# env_window:           Envelope window width, `None` defaults to fs // 5\n",
    "# env_type:             'rms' for root-mean-square (default), 'arv' for average\n",
    "#                       rectified\n",
    "# signal_type:          Calculate the envelope over the clean data\n",
    "\n",
    "# --> Data is stored in:\n",
    "# emg_timeseries.channels[channel_idx].y_env"
   ]
  },
  {
   "cell_type": "code",
   "execution_count": null,
   "metadata": {},
   "outputs": [],
   "source": [
    "# Calculate the baseline for the EMG envelopes and Paw\n",
    "emg_timeseries.baseline(\n",
    "    percentile=33,\n",
    "    window_s=int(7.5 * fs_emg),\n",
    "    step_s=fs_emg // 5,\n",
    "    method='default',\n",
    "    signal_type='env',\n",
    "    augm_percentile=25,\n",
    "    ma_window=None,\n",
    "    perc_window=None,\n",
    ")    \n",
    "\n",
    "vent_timeseries.baseline(\n",
    "    channel_idxs=[0],\n",
    "    signal_type='raw')\n",
    "\n",
    "\n",
    "# percentile:       Percentile of signal in the window to take as the baseline\n",
    "#                   value \n",
    "# window_s:         Window length in samples (default: int(7.5 * fs))\n",
    "# step_s:           Number of consecutive samples with the same baseline value\n",
    "#                   (default: fs // 5)\n",
    "# method:           'default' or 'slopesum'\n",
    "# signal_type:      Calculate the baseline over the envelope (y_env) for emg \n",
    "#                   and over the original signal for Paw\n",
    "# augm_percentile   Augmented_percentile for slopesum baseline\n",
    "# ma_window:        Moving average window in samples for average dy/dt in\n",
    "#                   slopesum baseline\n",
    "# perc_window:      'perc_window' for slopesum baseline.\n",
    "\n",
    "# --> Data is stored in:\n",
    "# emg_timeseries.channels[channel_idx].y_baseline"
   ]
  },
  {
   "cell_type": "code",
   "execution_count": null,
   "metadata": {},
   "outputs": [],
   "source": [
    "# Plot the raw data with the envelope\n",
    "fig, axis = plt.subplots(nrows=3, ncols=2, figsize=(12, 6), sharex=True)\n",
    "axes_emg = axis[:2, 0]\n",
    "colors = ['tab:cyan', 'tab:orange']\n",
    "emg_timeseries.plot_full(axes_emg, signal_type='clean', baseline_bool=False)\n",
    "emg_timeseries.plot_full(axes_emg, signal_type='env', colors=colors)\n",
    "axes_emg[0].set_title('EMG data')\n",
    "axes_emg[-1].set_xlabel('t (s)')\n",
    "\n",
    "axes_vent = axis[:, 1]\n",
    "vent_timeseries.plot_full(axes_vent)\n",
    "axes_vent[0].set_title('Ventilator data')\n",
    "axes_vent[-1].set_xlabel('t (s)')\n",
    "\n",
    "axis[-1, 0].axis('off')\n",
    "\n",
    "axes_vent[-1].set_xlim([370, 410])"
   ]
  },
  {
   "cell_type": "markdown",
   "metadata": {},
   "source": [
    "# 3. Identify Pocc peaks of interest in Paw"
   ]
  },
  {
   "cell_type": "code",
   "execution_count": null,
   "metadata": {},
   "outputs": [],
   "source": [
    "# Find occlusion pressures\n",
    "vent_timeseries.peep\n",
    "vent_timeseries.find_occluded_breaths(\n",
    "    vent_timeseries.p_aw_idx, start_idx=360*vent_timeseries.fs)\n",
    "\n",
    "paw = vent_timeseries.channels[vent_timeseries.p_aw_idx]\n",
    "paw.peaks['Pocc'].detect_on_offset(baseline=paw.y_baseline)\n",
    "\n",
    "paw.peaks['Pocc'].peak_df['peak_idx']/paw.fs\n",
    "\n",
    "# Find supported breath pressures\n",
    "v_vent = vent_timeseries.channels[vent_timeseries.v_vent_idx]\n",
    "vent_timeseries.find_tidal_volume_peaks()\n",
    "\n",
    "paw.peaks['Pocc'].peak_df['peak_idx']/paw.fs"
   ]
  },
  {
   "cell_type": "markdown",
   "metadata": {},
   "source": [
    "# 4. Identify all sEMG breaths, and find those closest to the Pocc peaks"
   ]
  },
  {
   "cell_type": "code",
   "execution_count": null,
   "metadata": {},
   "outputs": [],
   "source": [
    "# Find sEAdi peaks in one channel (sEAdi)\n",
    "emg_di = emg_timeseries.channels[1]\n",
    "emg_di.detect_emg_breaths(peak_set_name='breaths')\n",
    "emg_di.peaks['breaths'].detect_on_offset(\n",
    "    baseline=emg_di.y_baseline\n",
    ")\n",
    "\n",
    "# Link ventilator Pocc peaks to EMG breaths\n",
    "t_pocc_peaks_vent = paw.peaks['Pocc'].peak_df['peak_idx'].to_numpy() / paw.fs\n",
    "emg_di.link_peak_set(\n",
    "    peak_set_name='breaths',\n",
    "    t_reference_peaks=t_pocc_peaks_vent,\n",
    "    linked_peak_set_name='Pocc',\n",
    ")\n",
    "emg_di.peaks['Pocc'].peak_df['start_idx']/emg_di.fs\n"
   ]
  },
  {
   "cell_type": "code",
   "execution_count": null,
   "metadata": {},
   "outputs": [],
   "source": [
    "# Plot the identified Pocc peaks in Paw and sEAdi\n",
    "fig, axis = plt.subplots(nrows=3, ncols=2, figsize=(10, 6), sharex=True)\n",
    "axes_emg = axis[:-1, 0]\n",
    "colors = ['tab:cyan', 'tab:orange', 'tab:red']\n",
    "# emg_timeseries.plot_full(axes_emg, signal_type='clean', baseline_bool=False)\n",
    "# emg_timeseries.plot_full(axes_emg, signal_type='env', colors=colors)\n",
    "emg_timeseries.plot_full(axes_emg, signal_type='env')\n",
    "emg_di.plot_markers(peak_set_name='Pocc', axes=axes_emg[1])\n",
    "axes_emg[1].set_ylabel('sEAdi (uV)')\n",
    "axes_emg[0].set_title('EMG data')\n",
    "axes_emg[-1].set_xlabel('t (s)')\n",
    "\n",
    "axes_vent = axis[:, 1]\n",
    "vent_timeseries.plot_full(axes_vent)\n",
    "paw.plot_markers(peak_set_name='Pocc', axes=axes_vent[0])\n",
    "v_vent.plot_markers(peak_set_name='ventilator_breaths',\n",
    "                    axes=axes_vent[2], colors='c')\n",
    "\n",
    "axes_vent[0].set_title('Ventilator data')\n",
    "axes_vent[-1].set_xlabel('t (s)')\n",
    "axes_vent[-1].set_xlim([370, 410])\n",
    "\n",
    "axis[-1, 0].axis('off')"
   ]
  },
  {
   "cell_type": "code",
   "execution_count": null,
   "metadata": {},
   "outputs": [],
   "source": [
    "# Plot the individual peaks\n",
    "n_peaks = len(emg_di.peaks['Pocc'].peak_df['start_idx'].to_numpy())\n",
    "fig, axis = plt.subplots(nrows=2, ncols=n_peaks, figsize=(10, 6), sharey='row')\n",
    "\n",
    "axes_emg = axis[0, :]\n",
    "colors = ['tab:cyan', 'tab:orange', 'tab:red']\n",
    "emg_di.plot_peaks(axes=axes_emg, peak_set_name='Pocc')\n",
    "emg_di.plot_markers(axes=axes_emg, peak_set_name='Pocc')\n",
    "axes_emg[0].set_ylabel('sEAdi (uV)')\n",
    "\n",
    "axes_vent = axis[1, :]\n",
    "paw.plot_peaks(axes=axes_vent, peak_set_name='Pocc')\n",
    "paw.plot_markers(axes=axes_vent, peak_set_name='Pocc')\n",
    "\n",
    "for axis in axes_vent:\n",
    "    axis.set_xlabel('t (s)')"
   ]
  },
  {
   "cell_type": "markdown",
   "metadata": {},
   "source": [
    "# 5. Calculate features: ETP and PTP"
   ]
  },
  {
   "cell_type": "code",
   "execution_count": null,
   "metadata": {},
   "outputs": [],
   "source": [
    "# Calculate PTPocc\n",
    "paw.calculate_time_products(\n",
    "    peak_set_name='Pocc', \n",
    "    aub_reference_signal=paw.y_baseline,\n",
    "    parameter_name='PTPocc')\n",
    "\n",
    "print(paw.peaks['Pocc'].peak_df)"
   ]
  },
  {
   "cell_type": "code",
   "execution_count": null,
   "metadata": {},
   "outputs": [],
   "source": [
    "# Calculate ETPdi and PTPocc\n",
    "emg_di.calculate_time_products(\n",
    "    peak_set_name='Pocc', parameter_name='ETPdi')\n",
    "\n",
    "print(emg_di.peaks['Pocc'].peak_df)"
   ]
  },
  {
   "cell_type": "markdown",
   "metadata": {},
   "source": [
    "# 6. Test Pocc and sEMG quality of the peaks"
   ]
  },
  {
   "cell_type": "code",
   "execution_count": null,
   "metadata": {},
   "outputs": [],
   "source": [
    "# Test Pocc quality\n",
    "parameter_names = {\n",
    "    'time_product': 'PTPocc'\n",
    "}\n",
    "paw.test_pocc_quality(\n",
    "    'Pocc',\n",
    "    parameter_names=parameter_names, \n",
    "    verbose=True)\n"
   ]
  },
  {
   "cell_type": "code",
   "execution_count": null,
   "metadata": {},
   "outputs": [],
   "source": [
    "# The peak-validity is updated in the peak_df:\n",
    "print(paw.peaks['Pocc'].peak_df)"
   ]
  },
  {
   "cell_type": "code",
   "execution_count": null,
   "metadata": {},
   "outputs": [],
   "source": [
    "# Test EMG quality\n",
    "parameter_names = {\n",
    "    'time_product': 'ETPdi'\n",
    "}\n",
    "emg_di.test_emg_quality('Pocc', parameter_names=parameter_names)"
   ]
  },
  {
   "cell_type": "code",
   "execution_count": null,
   "metadata": {},
   "outputs": [],
   "source": [
    "# The peak-validity is updated in the peak_df:\n",
    "print(emg_di.peaks['Pocc'].peak_df)"
   ]
  },
  {
   "cell_type": "code",
   "execution_count": null,
   "metadata": {},
   "outputs": [],
   "source": [
    "# Plot the individual peaks bell-fit\n",
    "n_peaks = len(emg_di.peaks['Pocc'].peak_df['start_idx'].to_numpy())\n",
    "fig, axis = plt.subplots(nrows=2, ncols=n_peaks, figsize=(10, 6), sharey='row')\n",
    "\n",
    "axes_emg = axis[0, :]\n",
    "colors = ['tab:cyan', 'tab:orange', 'tab:red']\n",
    "emg_di.plot_peaks(axes=axes_emg, peak_set_name='Pocc')\n",
    "emg_di.plot_markers(axes=axes_emg, peak_set_name='Pocc')\n",
    "emg_di.plot_curve_fits(axes=axes_emg, peak_set_name='Pocc')\n",
    "axes_emg[0].set_ylabel('sEAdi (uV)')\n",
    "\n",
    "axes_vent = axis[1, :]\n",
    "paw.plot_peaks(axes=axes_vent, peak_set_name='Pocc')\n",
    "paw.plot_markers(axes=axes_vent, peak_set_name='Pocc')\n",
    "\n",
    "for axis in axes_vent:\n",
    "    axis.set_xlabel('t (s)')"
   ]
  },
  {
   "cell_type": "code",
   "execution_count": null,
   "metadata": {},
   "outputs": [],
   "source": []
  }
 ],
 "metadata": {
  "kernelspec": {
   "display_name": ".venv310_win",
   "language": "python",
   "name": "python3"
  },
  "language_info": {
   "codemirror_mode": {
    "name": "ipython",
    "version": 3
   },
   "file_extension": ".py",
   "mimetype": "text/x-python",
   "name": "python",
   "nbconvert_exporter": "python",
   "pygments_lexer": "ipython3",
   "version": "3.10.5"
  }
 },
 "nbformat": 4,
 "nbformat_minor": 2
}
