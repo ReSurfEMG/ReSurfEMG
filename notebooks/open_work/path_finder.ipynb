{
 "cells": [
  {
   "cell_type": "markdown",
   "metadata": {},
   "source": [
    "# 1. Import the required libraries"
   ]
  },
  {
   "cell_type": "code",
   "execution_count": 7,
   "metadata": {},
   "outputs": [],
   "source": [
    "# Standard code libraries\n",
    "import os\n",
    "import platform\n",
    "import glob\n",
    "\n",
    "import numpy as np\n",
    "from numpy.matlib import repmat\n",
    "import pandas as pd\n",
    "\n",
    "import matplotlib.pyplot as plt\n",
    "from matplotlib.gridspec import GridSpec\n",
    "import ipywidgets as widgets\n",
    "\n",
    "# Custom code libraries from ReSurfEMG\n",
    "from resurfemg.config.config import Config\n",
    "from resurfemg.data_connector.tmsisdk_lite import Poly5Reader\n",
    "from resurfemg.data_classes.data_classes import (\n",
    "VentilatorDataGroup, EmgDataGroup)\n",
    "\n",
    "%matplotlib widget"
   ]
  },
  {
   "cell_type": "markdown",
   "metadata": {},
   "source": [
    "## 2. Load the ventilator and sEMG data"
   ]
  },
  {
   "cell_type": "code",
   "execution_count": 43,
   "metadata": {},
   "outputs": [],
   "source": [
    "def find_files(\n",
    "    path,\n",
    "    file_name_regex=None,\n",
    "    extension_regex=None,\n",
    "    folder_levels=None,\n",
    "    verbose=True):\n",
    "\n",
    "    if not os.path.isdir(path):\n",
    "        raise ValueError('Specified path cannot be found.')\n",
    "\n",
    "    if file_name_regex is None:\n",
    "        file_name_regex = '**'\n",
    "    elif not isinstance(file_name_regex, str):\n",
    "        raise ValueError('file_name_regex should be a str.')\n",
    "\n",
    "    if extension_regex is None:\n",
    "        extension_regex = '**'\n",
    "    elif not isinstance(extension_regex, str):\n",
    "        raise ValueError('extension_regex should be a str.')\n",
    "\n",
    "    if isinstance(folder_levels, list):\n",
    "        depth = len(folder_levels)\n",
    "        folder_levels.append('files')\n",
    "    elif folder_levels is None:\n",
    "        depth = None\n",
    "        folder_levels = ['files']\n",
    "    else:\n",
    "        raise ValueError('Provide either a list, or None as folder_levels.')\n",
    "\n",
    "    if platform.system() == 'Windows':\n",
    "        path_sep = \"\\\\\"\n",
    "    else:\n",
    "        path_sep = '/'\n",
    "\n",
    "    data_pattern = os.path.join(\n",
    "        path, '**'+ path_sep + file_name_regex + '.' + extension_regex)\n",
    "    matching_files = glob.glob(data_pattern, recursive=True)\n",
    "    files_structure = [\n",
    "        file_name.replace(\n",
    "            path + path_sep, \"\").split(path_sep)\n",
    "            for file_name in matching_files\n",
    "    ]\n",
    "\n",
    "    matching_files_structure = list()\n",
    "    non_matching_files_structure = list()\n",
    "    for file in files_structure:\n",
    "        if depth is None:\n",
    "            matching_files_structure.append(path_sep.join(file))\n",
    "        elif isinstance(file, str) and (depth == 0):\n",
    "            matching_files_structure.append(file)\n",
    "        elif isinstance(file, list) and (len(file) == depth+1):\n",
    "            matching_files_structure.append(file)\n",
    "        else:\n",
    "            non_matching_files_structure.append(file)\n",
    "\n",
    "    files = pd.DataFrame(matching_files_structure, columns=folder_levels)\n",
    "    if verbose is True:\n",
    "        print('These files did not match the provided depth:\\n',\n",
    "            (non_matching_files_structure))\n",
    "    return files"
   ]
  },
  {
   "cell_type": "code",
   "execution_count": 44,
   "metadata": {},
   "outputs": [
    {
     "name": "stdout",
     "output_type": "stream",
     "text": [
      "    patient                 date measurement                    files\n",
      "0    MST001  2021-12-24_09-29-46         001  Draeger_recording.Poly5\n",
      "1    MST001  2021-12-24_09-29-46         001      EMG_recording.Poly5\n",
      "2    MST001  2021-12-24_09-29-46         002  Draeger_recording.Poly5\n",
      "3    MST001  2021-12-24_09-29-46         002      EMG_recording.Poly5\n",
      "4    MST001  2021-12-24_09-29-46         003  Draeger_recording.Poly5\n",
      "..      ...                  ...         ...                      ...\n",
      "775  MST017  2022-12-09_12-39-29         007      EMG_recording.Poly5\n",
      "776  MST017  2022-12-09_12-39-29         008  Draeger_recording.Poly5\n",
      "777  MST017  2022-12-09_12-39-29         008      EMG_recording.Poly5\n",
      "778  MST017  2022-12-09_12-39-29         009  Draeger_recording.Poly5\n",
      "779  MST017  2022-12-09_12-39-29         009      EMG_recording.Poly5\n",
      "\n",
      "[780 rows x 4 columns]\n"
     ]
    }
   ],
   "source": [
    "config = Config()\n",
    "path = config.get_directory('root_patient_data_directory')\n",
    "file_name_regex = None\n",
    "extension_regex = 'poly5'\n",
    "folder_levels = ['patient', 'date', 'measurement']\n",
    "verbose = False\n",
    "# Root directory for test data\n",
    "\n",
    "files = find_files(\n",
    "    path,\n",
    "    file_name_regex=file_name_regex,\n",
    "    extension_regex=extension_regex,\n",
    "    folder_levels=folder_levels,\n",
    "    verbose=verbose)\n",
    "\n",
    "print(files)"
   ]
  },
  {
   "cell_type": "code",
   "execution_count": 45,
   "metadata": {},
   "outputs": [
    {
     "data": {
      "application/vnd.jupyter.widget-view+json": {
       "model_id": "719e5234c8b243e4a8dad240bd54b0c0",
       "version_major": 2,
       "version_minor": 0
      },
      "text/plain": [
       "Dropdown(description='patient:', options=('MST001', 'MST002', 'MST003', 'MST004', 'MST005', 'MST006', 'MST007'…"
      ]
     },
     "metadata": {},
     "output_type": "display_data"
    },
    {
     "data": {
      "application/vnd.jupyter.widget-view+json": {
       "model_id": "7c543c9115244c43906c8eff2bd39e6d",
       "version_major": 2,
       "version_minor": 0
      },
      "text/plain": [
       "Dropdown(description='date:', options=('2021-12-24_09-29-46', '2021-12-27_09-16-26', '2021-12-29_09-02-54', '2…"
      ]
     },
     "metadata": {},
     "output_type": "display_data"
    },
    {
     "data": {
      "application/vnd.jupyter.widget-view+json": {
       "model_id": "bb316084d7104443bb0dc9e7ff03dea0",
       "version_major": 2,
       "version_minor": 0
      },
      "text/plain": [
       "Dropdown(description='measurement:', options=('001', '002', '003', '004', '005', '006', '007', '008', '009'), …"
      ]
     },
     "metadata": {},
     "output_type": "display_data"
    }
   ],
   "source": [
    "button_list = list()\n",
    "for idx, folder_level in enumerate(folder_levels[:-1]):\n",
    "    if idx == 0:\n",
    "        filter_files = files\n",
    "    else:\n",
    "        filter_files = files[np.all(np.array(\n",
    "            [(files[folder_levels[_idx]] == button_list[_idx].value).values \n",
    "            for _idx in range(idx)]), 0)\n",
    "        ]\n",
    "    \n",
    "    options = list(set(filter_files[folder_level].values))\n",
    "    options.sort()\n",
    "    _btn = widgets.Dropdown(  \n",
    "        options=options,\n",
    "        value=options[0],\n",
    "        description=folder_level + ':',\n",
    "        disabled=False,\n",
    "    )\n",
    "    \n",
    "    display(_btn)\n",
    "    button_list.append(_btn)\n",
    "\n",
    "# @interact(country = countryW, city = cityW, district = districtW)\n",
    "# https://stackoverflow.com/questions/48407059/multiple-dependent-widgets-dropdown-menu-on-jupyter-notebook#52713761\n",
    "# button_list"
   ]
  },
  {
   "cell_type": "code",
   "execution_count": 47,
   "metadata": {},
   "outputs": [
    {
     "name": "stdout",
     "output_type": "stream",
     "text": [
      "MST005\n",
      "2021-12-24_09-29-46\n",
      "001\n"
     ]
    }
   ],
   "source": [
    "for idx, folder_level in enumerate(folder_levels[:-1]):\n",
    "    print(button_list[idx].value)"
   ]
  }
 ],
 "metadata": {
  "kernelspec": {
   "display_name": ".venv310_win",
   "language": "python",
   "name": "python3"
  },
  "language_info": {
   "codemirror_mode": {
    "name": "ipython",
    "version": 3
   },
   "file_extension": ".py",
   "mimetype": "text/x-python",
   "name": "python",
   "nbconvert_exporter": "python",
   "pygments_lexer": "ipython3",
   "version": "3.10.5"
  }
 },
 "nbformat": 4,
 "nbformat_minor": 2
}
