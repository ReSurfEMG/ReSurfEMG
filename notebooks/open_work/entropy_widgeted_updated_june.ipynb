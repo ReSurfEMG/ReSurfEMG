{
 "cells": [
  {
   "cell_type": "markdown",
   "metadata": {},
   "source": [
    "# Warning\n",
    "This notebook is under development- please use to evaluate entropy notebook and suggest desired changes only."
   ]
  },
  {
   "cell_type": "markdown",
   "metadata": {},
   "source": [
    "# Experiments on entropy"
   ]
  },
  {
   "cell_type": "markdown",
   "metadata": {},
   "source": [
    "## Import libraries"
   ]
  },
  {
   "cell_type": "code",
   "execution_count": 1,
   "metadata": {},
   "outputs": [
    {
     "name": "stderr",
     "output_type": "stream",
     "text": [
      "C:\\Users\\makeda\\anaconda3\\envs\\emgandash\\lib\\site-packages\\mne\\fixes.py:321: DeprecationWarning: distutils Version classes are deprecated. Use packaging.version instead.\n",
      "  if LooseVersion(scipy.__version__) >= '1.1':\n",
      "C:\\Users\\makeda\\anaconda3\\envs\\emgandash\\lib\\site-packages\\mne\\fixes.py:1134: DeprecationWarning: distutils Version classes are deprecated. Use packaging.version instead.\n",
      "  if LooseVersion(numba.__version__) < LooseVersion('0.40'):\n",
      "C:\\Users\\makeda\\anaconda3\\envs\\emgandash\\lib\\site-packages\\mne\\fixes.py:1134: DeprecationWarning: distutils Version classes are deprecated. Use packaging.version instead.\n",
      "  if LooseVersion(numba.__version__) < LooseVersion('0.40'):\n"
     ]
    }
   ],
   "source": [
    "%matplotlib widget\n",
    "import ipywidgets as widgets\n",
    "import matplotlib.pyplot as plt\n",
    "import numpy as np\n",
    "import sys\n",
    "import os\n",
    "import glob\n",
    "import numpy as np\n",
    "import pandas as pd\n",
    "import matplotlib.pyplot as plt\n",
    "from scipy.signal import savgol_filter\n",
    "from scipy.signal import find_peaks\n",
    "import collections\n",
    "from collections import namedtuple\n",
    "import builtins\n",
    "import math\n",
    "# import our library\n",
    "sys.path.insert(0, '../resurfemg')\n",
    "import helper_functions as hf\n",
    "from config import Config\n",
    "\n"
   ]
  },
  {
   "cell_type": "code",
   "execution_count": null,
   "metadata": {},
   "outputs": [],
   "source": [
    "# get new changes in our library i.e. the tmsisdk\n",
    "import sys\n",
    "sys.path.insert(0, '../resurfemg')\n",
    "\n",
    "from tmsisdk_lite import Poly5Reader"
   ]
  },
  {
   "cell_type": "markdown",
   "metadata": {},
   "source": [
    "# Set a collection place for experiments"
   ]
  },
  {
   "cell_type": "code",
   "execution_count": 2,
   "metadata": {},
   "outputs": [],
   "source": [
    "# do not rerun this cell\n",
    "big_data_list= []"
   ]
  },
  {
   "cell_type": "markdown",
   "metadata": {},
   "source": [
    "Below change the path to the root directory where you are keeping your EMGs and ventilator \"Draeger\" files"
   ]
  },
  {
   "cell_type": "markdown",
   "metadata": {},
   "source": [
    "# Reruns should be done from this cell as the start"
   ]
  },
  {
   "cell_type": "code",
   "execution_count": 3,
   "metadata": {},
   "outputs": [],
   "source": [
    "config = Config()\n",
    "root_emg_directory = config.get_directory('root_emg_directory')"
   ]
  },
  {
   "cell_type": "code",
   "execution_count": 4,
   "metadata": {},
   "outputs": [],
   "source": [
    "emg_pattern = os.path.join(root_emg_directory, '**/*.Poly5')\n",
    "emg_and_draeger_files = glob.glob(emg_pattern, recursive=True)\n",
    "\n",
    "emg_files = []\n",
    "draeger_files = []\n",
    "\n",
    "for file in emg_and_draeger_files:\n",
    "    if 'Draeger' in file:\n",
    "        draeger_files.append(file)\n",
    "    else:\n",
    "        emg_files.append(file)"
   ]
  },
  {
   "cell_type": "markdown",
   "metadata": {},
   "source": [
    "Now you can pick a file from the list, which have been numbered."
   ]
  },
  {
   "cell_type": "code",
   "execution_count": 6,
   "metadata": {},
   "outputs": [
    {
     "data": {
      "application/vnd.jupyter.widget-view+json": {
       "model_id": "86455b8c6cb04dea90e7cbbcb8b2972c",
       "version_major": 2,
       "version_minor": 0
      },
      "text/plain": [
       "Dropdown(description='Picked File:', options=('0', '1', '2', '3', '4', '5', '6', '7', '8', '9', '10', '11', '1…"
      ]
     },
     "metadata": {},
     "output_type": "display_data"
    }
   ],
   "source": [
    "list_of_numbers_strung = []\n",
    "for i in range(len(emg_files)):\n",
    "    list_of_numbers_strung.append(str(i))\n",
    "\n",
    "\n",
    "btn = widgets.Dropdown(\n",
    "    options=list_of_numbers_strung,\n",
    "    value='0',\n",
    "    description='Picked File:',\n",
    "    disabled=False,\n",
    ")\n",
    "display(btn)"
   ]
  },
  {
   "cell_type": "markdown",
   "metadata": {},
   "source": [
    "# Caution! \n",
    "If you folder is set up in any way different then the picked file numbers will not neccesarily correspond to the same file. Always check the print out for the file you have chosen in the cell below"
   ]
  },
  {
   "cell_type": "code",
   "execution_count": 7,
   "metadata": {},
   "outputs": [
    {
     "name": "stdout",
     "output_type": "stream",
     "text": [
      "The file you chose is: ../not_pushed\\topspin_data_anonymized\\M002\\002\\EMG_recording.Poly5\n"
     ]
    }
   ],
   "source": [
    "number_chosen = int(btn.value)\n",
    "file_chosen = emg_files[number_chosen] \n",
    "print(\"The file you chose is:\",file_chosen)"
   ]
  },
  {
   "cell_type": "code",
   "execution_count": 8,
   "metadata": {},
   "outputs": [
    {
     "name": "stdout",
     "output_type": "stream",
     "text": [
      "Reading file  ../not_pushed\\topspin_data_anonymized\\M002\\002\\EMG_recording.Poly5\n",
      "\t Number of samples:  1121616 \n",
      "\t Number of channels:  3 \n",
      "\t Sample rate: 2048 Hz\n",
      "Done reading data.\n"
     ]
    }
   ],
   "source": [
    "data_emg = Poly5Reader(file_chosen)\n",
    "data_samples= data_emg.samples\n",
    "emg_fs = data_emg.sample_rate\n",
    "converted_to_seconds =  []\n",
    "converted_to_samples = []\n",
    "for i in range(len(data_samples[0])):\n",
    "    converted_to_seconds.append(i/emg_fs)\n",
    "    converted_to_samples.append(i)"
   ]
  },
  {
   "cell_type": "code",
   "execution_count": 9,
   "metadata": {},
   "outputs": [
    {
     "data": {
      "text/plain": [
       "[<matplotlib.lines.Line2D at 0x174d98b8d60>]"
      ]
     },
     "execution_count": 9,
     "metadata": {},
     "output_type": "execute_result"
    },
    {
     "data": {
      "image/png": "[encoded data removed]",
      "text/plain": [
       "<Figure size 432x432 with 6 Axes>"
      ]
     },
     "metadata": {
      "needs_background": "light"
     },
     "output_type": "display_data"
    }
   ],
   "source": [
    "%matplotlib inline\n",
    "# set up plotn\n",
    "x = data_samples\n",
    "fig, axis = plt.subplots(nrows = 3, ncols = 2, figsize=(6, 6))\n",
    "#ax.set_ylim([-4, 4])\n",
    "axis[0,0].grid(True)\n",
    "axis[0,0].plot(x[0])\n",
    "axis[0,0].set(title='leads in samples')\n",
    "axis[1,0].plot(x[1])\n",
    "axis[2,0].plot(x[2])\n",
    "axis[0,1].set(title='leads in seconds')\n",
    "axis[0,1].grid(True)\n",
    "axis[0,1].plot(converted_to_seconds,x[0])\n",
    "axis[1,1].plot(converted_to_seconds,x[1])\n",
    "axis[2,1].plot(converted_to_seconds,x[2])"
   ]
  },
  {
   "cell_type": "markdown",
   "metadata": {},
   "source": [
    "That is the whole unfiltered EMG, but you probably want to examine a part. You will also want to examine something filtered down to only the EMG components. Therefore we will filter off only the EMG components with an ICA in addtion to the filter we will play with."
   ]
  },
  {
   "cell_type": "markdown",
   "metadata": {},
   "source": [
    "Now you can filter down to which part you want to see. "
   ]
  },
  {
   "cell_type": "markdown",
   "metadata": {},
   "source": [
    "Do you want to cut and see the file in samples or seconds?"
   ]
  },
  {
   "cell_type": "code",
   "execution_count": 10,
   "metadata": {},
   "outputs": [
    {
     "data": {
      "application/vnd.jupyter.widget-view+json": {
       "model_id": "e862267213b047f1a3f08e514230d0ee",
       "version_major": 2,
       "version_minor": 0
      },
      "text/plain": [
       "Dropdown(description='Select View Option', options=('Samples', 'Seconds'), value='Samples')"
      ]
     },
     "metadata": {},
     "output_type": "display_data"
    }
   ],
   "source": [
    "y_axis = widgets.Dropdown(\n",
    "    options=[\"Samples\",\"Seconds\"],\n",
    "    value='Samples',\n",
    "    description=\"Select View Option\",\n",
    "    disabled=False,\n",
    ")\n",
    "display(y_axis)\n"
   ]
  },
  {
   "cell_type": "code",
   "execution_count": 11,
   "metadata": {},
   "outputs": [
    {
     "data": {
      "text/plain": [
       "'Samples'"
      ]
     },
     "execution_count": 11,
     "metadata": {},
     "output_type": "execute_result"
    }
   ],
   "source": [
    "time_view= y_axis.value\n",
    "time_view"
   ]
  },
  {
   "cell_type": "markdown",
   "metadata": {},
   "source": [
    "Now you will pick the start and end of your sample. In the future we will have an updating graph here. "
   ]
  },
  {
   "cell_type": "code",
   "execution_count": 12,
   "metadata": {},
   "outputs": [],
   "source": [
    "# print(type(converted_to_seconds[-1]))"
   ]
  },
  {
   "cell_type": "code",
   "execution_count": 13,
   "metadata": {},
   "outputs": [
    {
     "data": {
      "application/vnd.jupyter.widget-view+json": {
       "model_id": "81aaa2c23bce4123967c681f16016270",
       "version_major": 2,
       "version_minor": 0
      },
      "text/plain": [
       "VBox(children=(IntSlider(value=0, description=' samples start', max=1122030), IntSlider(value=1122030, descrip…"
      ]
     },
     "metadata": {},
     "output_type": "display_data"
    }
   ],
   "source": [
    "if time_view == 'Samples':\n",
    "    int_slider1 = widgets.IntSlider(\n",
    "        min=0, max=len(x[0]), step=1,\n",
    "        description=' samples start'\n",
    "    )\n",
    "    int_slider2 = widgets.IntSlider(\n",
    "        value=len(x[0]),\n",
    "        min=0, max=len(x[0]), step=1,\n",
    "        description='samples end cutoff'\n",
    "    )\n",
    "else:\n",
    "    int_slider1 = widgets.IntSlider(\n",
    "        #value=0.1,\n",
    "        min=0, max= converted_to_seconds[-1], step=1,\n",
    "        description='seconds start'\n",
    "    )\n",
    "    int_slider2 = widgets.IntSlider(\n",
    "        #value=converted_to_seconds[-1],\n",
    "        min=0, max=converted_to_seconds[-1], step= 1,\n",
    "        description='seconds end cutoff'\n",
    "    )\n",
    "    \n",
    "widgets.VBox(\n",
    "    [\n",
    "\n",
    "        int_slider1,\n",
    "        int_slider2,\n",
    "\n",
    "    ]\n",
    ")\n",
    "\n"
   ]
  },
  {
   "cell_type": "markdown",
   "metadata": {},
   "source": [
    "For now we will graph your choice in the next active cell"
   ]
  },
  {
   "cell_type": "code",
   "execution_count": 16,
   "metadata": {},
   "outputs": [
    {
     "data": {
      "image/png": "[encoded data removed]",
      "text/plain": [
       "<Figure size 432x288 with 3 Axes>"
      ]
     },
     "metadata": {
      "needs_background": "light"
     },
     "output_type": "display_data"
    }
   ],
   "source": [
    "start = int_slider1.value\n",
    "end= int_slider2.value\n",
    "if time_view == 'Samples':\n",
    "    # nox examine at a certain scale- from point a to b as samples\n",
    "    x = data_samples\n",
    "    fig, (ax_1,ax_2,ax_3) = plt.subplots(nrows = 3, figsize=(6, 4))\n",
    "    ax_1.grid(True)\n",
    "    ax_1.plot(x[0][int(start):int(end)])\n",
    "    ax_1.set(title='leads, samples')\n",
    "    ax_2.plot(x[1][int(start):int(end)])\n",
    "    ax_3.plot(x[2][int(start):int(end)])\n",
    "    \n",
    "if time_view == 'Seconds':\n",
    "    # nox examine at a certain scale- from point a to b as samples\n",
    "    x_for_secs = data_samples\n",
    "\n",
    "    y = converted_to_seconds\n",
    "    fig, (ax_1,ax_2,ax_3) = plt.subplots(nrows = 3, figsize=(6, 4))\n",
    "    ax_1.grid(True)\n",
    "    ax_1.plot(y[int(start*emg_fs):int(end*emg_fs)],x[0][int(start*emg_fs):int(end*emg_fs)])\n",
    "    ax_1.set(title='leads, seconds')\n",
    "    ax_2.plot(y[int(start*emg_fs):int(end*emg_fs)],x[1][int(start*emg_fs):int(end*emg_fs)])\n",
    "    ax_3.plot(y[int(start*emg_fs):int(end*emg_fs)],x[2][int(start*emg_fs):int(end*emg_fs)])\n",
    "    "
   ]
  },
  {
   "cell_type": "markdown",
   "metadata": {},
   "source": [
    "Happy with your selection? If not redo the widgeted cell, then we can see how the filter the selection in a basic pipleline before extracting entropy."
   ]
  },
  {
   "cell_type": "code",
   "execution_count": 17,
   "metadata": {},
   "outputs": [
    {
     "data": {
      "application/vnd.jupyter.widget-view+json": {
       "model_id": "1e829d39c86e41018eeb516906644e10",
       "version_major": 2,
       "version_minor": 0
      },
      "text/plain": [
       "Dropdown(description='Select View Option', options=('classic', 'no_ica_lead3'), value='classic')"
      ]
     },
     "metadata": {},
     "output_type": "display_data"
    }
   ],
   "source": [
    "# dropdown to pick ICA possibilities. CUrrently only one -\\o/-\n",
    "ICA_choice = widgets.Dropdown(\n",
    "    options=[\"classic\",\"no_ica_lead3\"],\n",
    "    value='classic',\n",
    "    description=\"Select View Option\",\n",
    "    disabled=False,\n",
    ")\n",
    "display(ICA_choice)"
   ]
  },
  {
   "cell_type": "markdown",
   "metadata": {},
   "source": [
    "Here we will have to rewrite to accomodate different ICAs, but this is in the future. After we iron out the alternative ICAs. Below we put our EMG data through the pipeline we have now, and we must do picking from an ICA by more peaks or by dis-similarity to the heart/ECG lead."
   ]
  },
  {
   "cell_type": "code",
   "execution_count": 18,
   "metadata": {},
   "outputs": [
    {
     "data": {
      "application/vnd.jupyter.widget-view+json": {
       "model_id": "30f37e5a136445709da936dbb8c1b893",
       "version_major": 2,
       "version_minor": 0
      },
      "text/plain": [
       "Dropdown(description='Select View Option', options=('more_peaks', 'similar_to_ECG'), value='more_peaks')"
      ]
     },
     "metadata": {},
     "output_type": "display_data"
    }
   ],
   "source": [
    "ICA_picker_choice = widgets.Dropdown(\n",
    "    options=[\"more_peaks\",\"similar_to_ECG\"],\n",
    "    value='more_peaks',\n",
    "    description=\"Select View Option\",\n",
    "    disabled=False,\n",
    ")\n",
    "display(ICA_picker_choice)"
   ]
  },
  {
   "cell_type": "code",
   "execution_count": null,
   "metadata": {},
   "outputs": [],
   "source": [
    "ICA_picker_choice.value"
   ]
  },
  {
   "cell_type": "code",
   "execution_count": 19,
   "metadata": {},
   "outputs": [],
   "source": [
    "def working_pipeline_pre_entropy_peaks(our_chosen_samples): \n",
    "    cut_file_data = hf.bad_end_cutter_for_samples(our_chosen_samples, percent_to_cut=3, tolerance_percent=5)\n",
    "    bd_filtered_file_data = hf.emg_bandpass_butter_sample(cut_file_data, 5, 450, 2048, output='sos')\n",
    "    # step 3 end-cutting again to get rid of filtering artifacts\n",
    "    re_cut_file_data = hf.bad_end_cutter_for_samples(bd_filtered_file_data, percent_to_cut=3, tolerance_percent=5)\n",
    "    # skip step4 and do step 5 ICA\n",
    "    components = hf.compute_ICA_two_comp(re_cut_file_data)\n",
    "    #     the picking step!\n",
    "    emg= hf.pick_more_peaks_array(components)\n",
    "    # now process it in final steps\n",
    "    abs_values = abs(emg)\n",
    "    final_envelope_d = hf.emg_highpass_butter(abs_values, 150, 2048)\n",
    "    \n",
    "        \n",
    "    return final_envelope_d\n",
    "\n",
    "def working_pipeline_pre_entropy_ecg(our_chosen_samples): \n",
    "    cut_file_data = hf.bad_end_cutter_for_samples(our_chosen_samples, percent_to_cut=3, tolerance_percent=5)\n",
    "    bd_filtered_file_data = hf.emg_bandpass_butter_sample(cut_file_data, 5, 450, 2048, output='sos')\n",
    "    # step 3 end-cutting again to get rid of filtering artifacts\n",
    "    re_cut_file_data = hf.bad_end_cutter_for_samples(bd_filtered_file_data, percent_to_cut=3, tolerance_percent=5)\n",
    "    # skip step4 and do step 5 ICA\n",
    "    components = hf.compute_ICA_two_comp(re_cut_file_data)\n",
    "    #     the picking step!\n",
    "    emg= hf.pick_lowest_correlation_array(components,re_cut_file_data[0] )\n",
    "    # now process it in final steps\n",
    "    abs_values = abs(emg)\n",
    "    final_envelope_d = hf.emg_highpass_butter(abs_values, 150, 2048)\n",
    "    \n",
    "        \n",
    "    return final_envelope_d"
   ]
  },
  {
   "cell_type": "code",
   "execution_count": 20,
   "metadata": {},
   "outputs": [],
   "source": [
    "# processed_data_emg = working_pipeline_pre_entropy(data_samples)\n",
    "# plt.plot(processed_data_emg)"
   ]
  },
  {
   "cell_type": "markdown",
   "metadata": {},
   "source": [
    "# Let's examine our processed EMG"
   ]
  },
  {
   "cell_type": "code",
   "execution_count": 21,
   "metadata": {},
   "outputs": [
    {
     "name": "stderr",
     "output_type": "stream",
     "text": [
      "C:\\Users\\makeda\\anaconda3\\envs\\emgandash\\lib\\site-packages\\sklearn\\decomposition\\_fastica.py:488: FutureWarning: From version 1.3 whiten='unit-variance' will be used by default.\n",
      "  warnings.warn(\n"
     ]
    },
    {
     "data": {
      "image/png": "[encoded data removed]",
      "text/plain": [
       "<Figure size 1008x432 with 2 Axes>"
      ]
     },
     "metadata": {
      "needs_background": "light"
     },
     "output_type": "display_data"
    }
   ],
   "source": [
    "if ICA_picker_choice.value == 'more_peaks':\n",
    "    processed_data_emg = working_pipeline_pre_entropy_peaks(data_samples)\n",
    "elif ICA_picker_choice.value == 'similar_to_ECG':\n",
    "    processed_data_emg = working_pipeline_pre_entropy_ecg(data_samples)\n",
    "else:\n",
    "    processed_data_emg = working_pipeline_pre_entropy_ecg(data_samples)\n",
    "\n",
    "if time_view == 'Seconds':\n",
    "    %matplotlib inline\n",
    "    # set up plotn\n",
    "    x = processed_data_emg\n",
    "    fig, axis = plt.subplots(nrows = 1, ncols = 2, figsize=(14, 6))\n",
    "    axis[0].grid(True)\n",
    "    axis[0].plot(converted_to_seconds[:len(x)], x)\n",
    "    axis[0].set(title='The whole sample minus last filter lost end')\n",
    "    axis[1].set(title='Your picked area in seconds')\n",
    "    axis[1].grid(True)\n",
    "    axis[1].plot(converted_to_seconds[int(start*emg_fs):int(end*emg_fs)],x[int(start*emg_fs):int(end*emg_fs)])\n",
    "else:\n",
    "    %matplotlib inline\n",
    "    x = processed_data_emg\n",
    "    fig, axis = plt.subplots(nrows = 1, ncols = 2, figsize=(14, 6))\n",
    "    axis[0].grid(True)\n",
    "    axis[0].plot(x)\n",
    "    axis[0].set(title='The whole sample minus last filter lost end')\n",
    "    axis[1].set(title='Your picked area in samples')\n",
    "    axis[1].grid(True)\n",
    "    axis[1].plot(converted_to_samples[int(start):int(end)],x[int(start):int(end)])\n",
    "    "
   ]
  },
  {
   "cell_type": "markdown",
   "metadata": {},
   "source": [
    "Now we created some basic processed EMG. We will graph it based on the sample selected and the cutoff on entropy. We will ultimately do a cut-off based on something popular in the literature, but let's do one based on one simple parameter first, as an example\n"
   ]
  },
  {
   "cell_type": "code",
   "execution_count": 22,
   "metadata": {},
   "outputs": [
    {
     "data": {
      "application/vnd.jupyter.widget-view+json": {
       "model_id": "45ec266c17e5437b986ea1f65041281d",
       "version_major": 2,
       "version_minor": 0
      },
      "text/plain": [
       "Dropdown(description='Select Entropy Cut off', options=('Mean', 'Half_range'), value='Mean')"
      ]
     },
     "metadata": {},
     "output_type": "display_data"
    }
   ],
   "source": [
    "# Now we want to select where the cut_off is\n",
    "\n",
    "entropy_cutoff = widgets.Dropdown(\n",
    "    options=[\"Mean\",\"Half_range\"],\n",
    "    value='Mean',\n",
    "    description=\"Select Entropy Cut off\",\n",
    "    disabled=False,\n",
    ")\n",
    "display(entropy_cutoff)\n"
   ]
  },
  {
   "cell_type": "code",
   "execution_count": 23,
   "metadata": {},
   "outputs": [],
   "source": [
    "def rounded_for_ent(stralist):\n",
    "    rounded= np.round_(stralist, decimals = 5)\n",
    "    return rounded\n",
    "start_idx= start * emg_fs\n",
    "end_s = end * emg_fs\n",
    "if time_view == 'Samples':\n",
    "    big_list = rounded_for_ent(processed_data_emg[int(start):int(end)])# replace with whole array of time series!\n",
    "else:\n",
    "   \n",
    "    big_list = rounded_for_ent(processed_data_emg[int(start_idx):int(end_s)])\n",
    "slice_length = 100\n",
    "def sliceIterator(lst, sliceLen):\n",
    "    for i in range(len(lst) - sliceLen + 1):\n",
    "        yield lst[i:i + sliceLen]\n",
    "index_hold = []\n",
    "for slice in sliceIterator(big_list, slice_length):\n",
    "    entropy_index = hf.entropical(slice)\n",
    "    index_hold.append(entropy_index)\n",
    "\n",
    "if entropy_cutoff.value == 'Half_range':\n",
    "    decision_cutoff = (np.max(index_hold) + np.min(index_hold))/2\n",
    "else:# entropy_cutoff.value == 'Mean':\n",
    "    decision_cutoff = np.mean(index_hold)\n",
    "\n",
    "\n",
    "rms_rolled = hf.vect_naive_rolling_rms(index_hold,100) # so rms is rms entropy"
   ]
  },
  {
   "cell_type": "markdown",
   "metadata": {},
   "source": [
    "Now let's see how we would have split it on that criteria"
   ]
  },
  {
   "cell_type": "code",
   "execution_count": 24,
   "metadata": {},
   "outputs": [
    {
     "data": {
      "image/png": "[encoded data removed]",
      "text/plain": [
       "<Figure size 432x288 with 1 Axes>"
      ]
     },
     "metadata": {
      "needs_background": "light"
     },
     "output_type": "display_data"
    }
   ],
   "source": [
    "if time_view == 'Samples':\n",
    "    #y= converted_to_samples\n",
    "    plt.plot(converted_to_samples[int(start):(int(start) + len(rms_rolled))],processed_data_emg[int(start):(int(start) + len(rms_rolled))]*1000)\n",
    "    plt.plot(converted_to_samples[int(start):(int(start) + len(rms_rolled))],rms_rolled)\n",
    "    plt.plot(converted_to_samples[int(start):(int(start) + len(rms_rolled))],hf.zero_one_for_jumps_base(rms_rolled,decision_cutoff))\n",
    "    plt.axhline(y = decision_cutoff, color = 'r', linestyle = '-')\n",
    "    \n",
    "else:\n",
    "    y = converted_to_seconds\n",
    "    plt.plot(converted_to_seconds[int(start_idx):(int(start_idx)+int(len(rms_rolled)))], processed_data_emg[int(start_idx):(int(start_idx)+len(rms_rolled))]*1000)\n",
    "    plt.plot(converted_to_seconds[int(start_idx):(int(start_idx)+int(len(rms_rolled)))],rms_rolled)\n",
    "    plt.plot(converted_to_seconds[int(start_idx):(int(start_idx)+int(len(rms_rolled)))],hf.zero_one_for_jumps_base(rms_rolled,decision_cutoff))\n",
    "    plt.axhline(y = decision_cutoff, color = 'r', linestyle = '-')\n",
    "    "
   ]
  },
  {
   "cell_type": "markdown",
   "metadata": {},
   "source": [
    "In the above picture the green line represents a 0,1, array which represents the breaths. That picking was based on one simple parameter."
   ]
  },
  {
   "cell_type": "markdown",
   "metadata": {},
   "source": [
    "# Changes here!\n",
    "Instead of above code we will do\n",
    "pick breath based on 90% entropy\n",
    "then 50%- this will give start of breath\n",
    "define peak value within 90%\n",
    "moving forward to right 70%-> with smoothing away if there is too short a pause. This is a more complicated algorithm. "
   ]
  },
  {
   "cell_type": "code",
   "execution_count": 25,
   "metadata": {},
   "outputs": [
    {
     "data": {
      "text/plain": [
       "5.7926765832777924"
      ]
     },
     "execution_count": 25,
     "metadata": {},
     "output_type": "execute_result"
    }
   ],
   "source": [
    "np.max(index_hold) * 0.9"
   ]
  },
  {
   "cell_type": "code",
   "execution_count": 26,
   "metadata": {},
   "outputs": [
    {
     "data": {
      "text/plain": [
       "'Samples'"
      ]
     },
     "execution_count": 26,
     "metadata": {},
     "output_type": "execute_result"
    }
   ],
   "source": [
    "time_view"
   ]
  },
  {
   "cell_type": "code",
   "execution_count": 27,
   "metadata": {},
   "outputs": [
    {
     "data": {
      "image/png": "[encoded data removed]",
      "text/plain": [
       "<Figure size 432x288 with 1 Axes>"
      ]
     },
     "metadata": {
      "needs_background": "light"
     },
     "output_type": "display_data"
    }
   ],
   "source": [
    "\n",
    "def rounded_for_ent(stralist):\n",
    "    rounded= np.round_(stralist, decimals = 5)\n",
    "    return rounded\n",
    "if time_view == 'Samples':\n",
    "    big_list = rounded_for_ent(processed_data_emg[int(start):int(end)])# replace with whole array of time series!\n",
    "else:\n",
    "    big_list = rounded_for_ent(processed_data_emg[int(start_idx):int(end_s)])\n",
    "slice_length = 100\n",
    "def sliceIterator(lst, sliceLen):\n",
    "    for i in range(len(lst) - sliceLen + 1):\n",
    "        yield lst[i:i + sliceLen]\n",
    "index_hold = []\n",
    "for slice in sliceIterator(big_list, slice_length):\n",
    "    entropy_index = hf.entropical(slice)\n",
    "    index_hold.append(entropy_index)\n",
    "\n",
    "high_decision_cutoff = 0.9  * ((np.max(index_hold)) - (np.min(index_hold))) + np.min(index_hold)\n",
    "decision_cutoff = 0.5 * ((np.max(index_hold)) - (np.min(index_hold))) + np.min(index_hold)\n",
    "\n",
    "rms_rolled = hf.vect_naive_rolling_rms(index_hold,100) # so rms is rms entropy\n",
    "\n",
    "\n",
    "if time_view == 'Samples':\n",
    "    plt.plot(converted_to_samples[int(start):(int(start) + len(rms_rolled))],processed_data_emg[int(start):(int(start) + len(rms_rolled))]*1000, alpha = 0.5)\n",
    "    plt.plot(converted_to_samples[int(start):(int(start) + len(rms_rolled))],rms_rolled)\n",
    "    plt.plot(converted_to_samples[int(start):(int(start) + len(rms_rolled))],hf.zero_one_for_jumps_base(rms_rolled,decision_cutoff))\n",
    "    plt.plot(converted_to_samples[int(start):(int(start) + len(rms_rolled))],hf.zero_one_for_jumps_base(rms_rolled,high_decision_cutoff), color= 'purple')\n",
    "    plt.axhline(y = decision_cutoff, color = 'r', linestyle = '-')\n",
    "    plt.axhline(y = high_decision_cutoff, color = 'purple', linestyle = '-')\n",
    "    \n",
    "else:\n",
    "    y = converted_to_seconds\n",
    "    plt.plot(converted_to_seconds[int(start_idx):(int(start_idx)+int(len(rms_rolled)))], processed_data_emg[int(start_idx):(int(start_idx)+len(rms_rolled))]*1000, alpha = 0.5)\n",
    "    plt.plot(converted_to_seconds[int(start_idx):(int(start_idx)+int(len(rms_rolled)))],rms_rolled)\n",
    "    plt.plot(converted_to_seconds[int(start_idx):(int(start_idx)+int(len(rms_rolled)))],hf.zero_one_for_jumps_base(rms_rolled,decision_cutoff))\n",
    "    plt.plot(converted_to_seconds[int(start_idx):(int(start_idx)+int(len(rms_rolled)))],hf.zero_one_for_jumps_base(rms_rolled,high_decision_cutoff), color = 'purple')\n",
    "    plt.axhline(y = decision_cutoff, color = 'r', linestyle = '-')\n",
    "    plt.axhline(y = high_decision_cutoff, color = 'purple', linestyle = '-')\n",
    "    "
   ]
  },
  {
   "cell_type": "code",
   "execution_count": 28,
   "metadata": {},
   "outputs": [],
   "source": [
    "def merge(left, right):\n",
    "    # Initialize an empty list output that will be populated with sorted elements.\n",
    "    # Initialize two variables i and j which are used pointers when iterating through the lists.\n",
    "    output = []\n",
    "    i = j = 0\n",
    "\n",
    "    # Executes the while loop if both pointers i and j are less than the length of the left and right lists\n",
    "    while i < len(left) and j < len(right):\n",
    "        # Compare the elements at every position of both lists during each iteration\n",
    "        if left[i] < right[j]:\n",
    "            # output is populated with the lesser value\n",
    "            output.append(left[i])\n",
    "            # 10. Move pointer to the right\n",
    "            i += 1\n",
    "        else:\n",
    "            output.append(right[j])\n",
    "            j += 1\n",
    "    # The remnant elements are picked from the current pointer value to the end of the respective list\n",
    "    output.extend(left[i:])\n",
    "    output.extend(right[j:])\n",
    "\n",
    "    return output"
   ]
  },
  {
   "cell_type": "code",
   "execution_count": 29,
   "metadata": {},
   "outputs": [],
   "source": [
    "# len(hi)"
   ]
  },
  {
   "cell_type": "code",
   "execution_count": 30,
   "metadata": {},
   "outputs": [],
   "source": [
    "# len(lo)"
   ]
  },
  {
   "cell_type": "code",
   "execution_count": 31,
   "metadata": {},
   "outputs": [
    {
     "data": {
      "text/plain": [
       "array([ 2032,  3494,  7369,  8661, 12167, 13478, 18029, 19226, 23351,\n",
       "       24572, 29171, 30383, 36025, 37476, 40725, 41896, 45728, 46939,\n",
       "       50927, 52114, 55800, 57202, 60341, 61558, 64799, 66034, 69976,\n",
       "       71145, 75176, 76528])"
      ]
     },
     "execution_count": 31,
     "metadata": {},
     "output_type": "execute_result"
    }
   ],
   "source": [
    "\n",
    "\n",
    "slice = builtins.slice\n",
    "\n",
    "class Range(namedtuple('RangeBase', 'start,end')):\n",
    "    \n",
    "    def intersects(self, other):\n",
    "        return (\n",
    "            (self.end >= other.end) and (self.start < other.end) or\n",
    "            (self.end >= other.start) and (self.start < other.start) or\n",
    "            (self.end < other.end) and (self.start >= other.start)\n",
    "        )\n",
    "    \n",
    "    def precedes(self, other):\n",
    "        return self.end < other.start\n",
    "    \n",
    "    def to_slice(self):\n",
    "        return slice(*map(int, self)) # maps whole tuple set\n",
    "    \n",
    "\n",
    "\n",
    "def ranges_of(array):\n",
    "    marks = np.logical_xor(array[1:], array[:-1])\n",
    "    boundaries = np.hstack((np.zeros(1), np.where(marks != 0)[0], np.zeros(1) + len(array) - 1))\n",
    "\n",
    "    if not array[0]:\n",
    "        boundaries = boundaries[1:]\n",
    "    if len(boundaries) % 2 != 0:\n",
    "        boundaries = boundaries[:-1]\n",
    "    return tuple(Range(*boundaries[i:i+2]) for i in range(0, len(boundaries), 2))\n",
    "\n",
    "\n",
    "def intersections(left, right):\n",
    "    i, j = 0, 0\n",
    "    result = []\n",
    "    while i < len(left) and j < len(right):\n",
    "        lelt, relt = left[i], right[j]\n",
    "        if lelt.intersects(relt):\n",
    "            result.append(lelt)\n",
    "            i += 1\n",
    "        elif relt.precedes(lelt):\n",
    "            j += 1\n",
    "        elif lelt.precedes(relt):\n",
    "            i += 1\n",
    "    return result\n",
    "\n",
    "\n",
    "hi = np.array(hf.zero_one_for_jumps_base(rms_rolled, high_decision_cutoff))\n",
    "lo = np.array(hf.zero_one_for_jumps_base(rms_rolled, decision_cutoff))\n",
    "\n",
    "rhi = ranges_of(hi)\n",
    "rlo = ranges_of(lo)\n",
    "\n",
    "keep = intersections(rlo, rhi)\n",
    "\n",
    "\n",
    "points = np.array(sum(keep, start=()), dtype=np.int32)\n",
    "points"
   ]
  },
  {
   "cell_type": "code",
   "execution_count": 32,
   "metadata": {},
   "outputs": [
    {
     "data": {
      "image/png": "[encoded data removed]",
      "text/plain": [
       "<Figure size 432x288 with 1 Axes>"
      ]
     },
     "metadata": {
      "needs_background": "light"
     },
     "output_type": "display_data"
    }
   ],
   "source": [
    "seven_line = np.zeros(len(rms_rolled))\n",
    "for seven_range in keep:\n",
    "    seven_line[seven_range.to_slice()] = 7\n",
    "if time_view == 'Samples':\n",
    "    plt.plot(converted_to_samples[int(start):(int(start) + len(rms_rolled))],processed_data_emg[int(start):(int(start) + len(rms_rolled))]*1000, alpha = 0.5)\n",
    "    plt.plot(converted_to_samples[int(start):(int(start) + len(rms_rolled))],hf.zero_one_for_jumps_base(rms_rolled,decision_cutoff),  color = 'green')\n",
    "    plt.plot(converted_to_samples[int(start):(int(start) + len(rms_rolled))],(np.array(hf.zero_one_for_jumps_base(rms_rolled,high_decision_cutoff)))*2, color= 'purple')\n",
    "    #plt.plot(converted_to_samples[int(start):(int(start) + len(rms_rolled))], six_line)\n",
    "    plt.plot(converted_to_samples[int(start):(int(start) + len(rms_rolled))], seven_line)\n",
    "else:\n",
    "    plt.plot(converted_to_seconds[int(start_idx):(int(start_idx) + len(rms_rolled))],processed_data_emg[int(start_idx):(int(start_idx) + len(rms_rolled))]*1000, alpha = 0.5)\n",
    "    plt.plot(converted_to_seconds[int(start_idx):(int(start_idx) + len(rms_rolled))],hf.zero_one_for_jumps_base(rms_rolled,decision_cutoff),  color = 'green')\n",
    "    plt.plot(converted_to_seconds[int(start_idx):(int(start_idx) + len(rms_rolled))],(np.array(hf.zero_one_for_jumps_base(rms_rolled,high_decision_cutoff)))*2, color= 'purple')\n",
    "    #plt.plot(converted_tosecondss[int(star_st):(int(star_st) + len(rms_rolled))], six_line)\n",
    "    plt.plot(converted_to_seconds[int(start_idx):(int(start_idx) + len(rms_rolled))], seven_line)\n",
    "    "
   ]
  },
  {
   "cell_type": "markdown",
   "metadata": {},
   "source": [
    "So above our 'seven-line' represents picking based on finding areas with 90% max entropy, then picking evything around them with over 50% entropy."
   ]
  },
  {
   "cell_type": "markdown",
   "metadata": {},
   "source": [
    "## What happened in these breaths?"
   ]
  },
  {
   "cell_type": "markdown",
   "metadata": {},
   "source": [
    "We want to know the area under the curve for each breath- the total first."
   ]
  },
  {
   "cell_type": "code",
   "execution_count": 33,
   "metadata": {},
   "outputs": [],
   "source": [
    "#seven_liner = np.array([0,0,0,7,7,7,0,0,])"
   ]
  },
  {
   "cell_type": "code",
   "execution_count": null,
   "metadata": {},
   "outputs": [],
   "source": [
    "#zippy = zip(seven_liner,seven_liner[1:])"
   ]
  },
  {
   "cell_type": "code",
   "execution_count": 34,
   "metadata": {},
   "outputs": [],
   "source": [
    "# jump_indeces = []\n",
    "# for val in enumerate(zippy):\n",
    "# #     print(val)\n",
    "#     #print(type(val[1]))\n",
    "#     if val[1][0] != val[1][1]:\n",
    "#         print(val[0])\n",
    "#         jump_indeces.append(val[0])\n",
    "# #     print(val[1])\n",
    "#    # print(val[1][0])\n",
    "#     #if val[1] > val\n",
    "#     print(jump_indeces)\n",
    "    "
   ]
  },
  {
   "cell_type": "code",
   "execution_count": 35,
   "metadata": {},
   "outputs": [
    {
     "name": "stdout",
     "output_type": "stream",
     "text": [
      "2031\n",
      "3493\n",
      "7368\n",
      "8660\n",
      "12166\n",
      "13477\n",
      "18028\n",
      "19225\n",
      "23350\n",
      "24571\n",
      "29170\n",
      "30382\n",
      "36024\n",
      "37475\n",
      "40724\n",
      "41895\n",
      "45727\n",
      "46938\n",
      "50926\n",
      "52113\n",
      "55799\n",
      "57201\n",
      "60340\n",
      "61557\n",
      "64798\n",
      "66033\n",
      "69975\n",
      "71144\n",
      "75175\n",
      "76527\n"
     ]
    },
    {
     "data": {
      "text/plain": [
       "[array([-1.20140980e-05,  7.26123652e-05,  1.18870535e-04, ...,\n",
       "        -3.45667825e-05, -8.69596903e-06,  1.43341905e-05]),\n",
       " array([ 1.21918160e-05, -2.02294933e-05, -5.69312035e-05, ...,\n",
       "         5.51652797e-06, -4.51223750e-05, -4.66338953e-05]),\n",
       " array([-1.63188043e-04, -2.17808245e-04, -6.44773409e-05, ...,\n",
       "         4.24860485e-05, -2.19181454e-04, -2.18218314e-04]),\n",
       " array([-1.62958887e-04,  8.81681595e-05,  2.21605817e-04, ...,\n",
       "         5.42220466e-05,  7.82024633e-05, -5.47371946e-04]),\n",
       " array([-3.61671379e-05,  5.29862133e-04,  3.06285873e-04, ...,\n",
       "         8.35258149e-05,  4.09759296e-05, -3.75243528e-05]),\n",
       " array([ 1.06830977e-05,  1.41412426e-04,  1.65151495e-04, ...,\n",
       "        -6.19037054e-04,  3.99297907e-05,  2.34542645e-04]),\n",
       " array([ 9.33443269e-05, -6.33844726e-05, -8.37729164e-05, ...,\n",
       "        -2.82084632e-05, -8.94276694e-05, -7.29015289e-05]),\n",
       " array([-2.31068192e-05, -2.80739830e-06,  1.86264575e-05, ...,\n",
       "         1.46301229e-04,  4.04009374e-04,  2.52060167e-04]),\n",
       " array([ 7.12284561e-05,  3.14764294e-05, -5.99565032e-05, ...,\n",
       "        -5.50183201e-05,  4.01105443e-06,  2.72355700e-05]),\n",
       " array([-4.53597634e-05, -1.12046605e-04, -5.61780691e-05, ...,\n",
       "        -1.23775284e-05,  2.80308049e-04,  4.42826640e-04]),\n",
       " array([ 3.51203430e-04,  1.31809096e-05, -3.50963106e-04, ...,\n",
       "        -7.49943710e-05, -4.36652233e-05, -7.57989241e-06]),\n",
       " array([-1.51141550e-05, -1.84641338e-05,  2.21157668e-05, ...,\n",
       "        -1.74063013e-04, -1.44819365e-03, -1.48801395e-03]),\n",
       " array([-4.90337558e-04,  6.06411815e-04,  7.91224642e-04, ...,\n",
       "        -8.88976360e-05,  7.00709165e-06,  8.83155215e-05]),\n",
       " array([1.29890214e-04, 1.30688235e-04, 6.38177311e-05, ...,\n",
       "        5.55258322e-06, 6.01022002e-05, 1.08787701e-04]),\n",
       " array([ 7.41896808e-05, -1.83253909e-05, -5.95661928e-05, ...,\n",
       "         1.02599578e-04,  1.22636073e-04,  2.68840862e-05]),\n",
       " array([-9.50989038e-05, -1.23284994e-04, -4.89669191e-05, ...,\n",
       "         4.01863763e-04,  3.42410515e-04,  7.54854456e-05]),\n",
       " array([-4.60909455e-05,  9.48809877e-05,  2.59165917e-04, ...,\n",
       "        -7.28504571e-05,  9.78190561e-05,  2.46442229e-04]),\n",
       " array([ 2.38631836e-04,  6.36740769e-05, -1.23528936e-04, ...,\n",
       "        -1.56368945e-03,  2.65726967e-05,  9.84059257e-04]),\n",
       " array([ 1.11120794e-03,  5.97744424e-04, -3.25424477e-04, ...,\n",
       "         8.40282353e-05,  5.97326478e-05, -3.50769349e-05]),\n",
       " array([-1.01892114e-04, -9.28659108e-05, -4.70298907e-05, ...,\n",
       "         2.97261221e-04,  4.65363803e-05, -1.65039174e-04]),\n",
       " array([-4.13287603e-04, -6.41559040e-04, -5.40371214e-04, ...,\n",
       "        -4.24511698e-05, -3.37769835e-05,  2.83415303e-05]),\n",
       " array([7.19624373e-05, 5.42425411e-05, 3.02184889e-06, ...,\n",
       "        5.37370803e-05, 2.02613838e-04, 1.37512750e-04]),\n",
       " array([-8.40614426e-05, -2.56195355e-04, -2.03439362e-04, ...,\n",
       "         2.00555658e-05, -4.02322635e-06, -2.66543711e-05]),\n",
       " array([-5.03811162e-05, -5.02806109e-05, -3.91991481e-06, ...,\n",
       "        -5.62270045e-04, -2.64690474e-04, -1.74415147e-04]),\n",
       " array([ 4.50111392e-04,  2.55581339e-04, -6.67095076e-04, ...,\n",
       "        -2.81457886e-05, -1.91398698e-05, -2.64813192e-06]),\n",
       " array([-1.68000544e-06, -2.08767720e-05, -5.57373491e-05, ...,\n",
       "         9.17001182e-04,  3.69150303e-04, -2.74010044e-04]),\n",
       " array([-6.91303146e-04, -4.49249319e-04,  8.37263968e-05, ...,\n",
       "        -8.28452053e-05, -1.49331739e-05,  1.40427522e-04]),\n",
       " array([ 2.26471578e-04,  1.47121145e-04, -3.22369658e-05, ...,\n",
       "         4.52503052e-04,  5.50112621e-04, -3.08737152e-04]),\n",
       " array([-3.73427179e-04,  3.72685879e-04,  5.13732759e-04, ...,\n",
       "         9.40866288e-05,  5.30225956e-05, -3.96136878e-05]),\n",
       " array([-1.32958746e-04, -8.77334859e-05, -8.56784145e-05, ...,\n",
       "        -1.17751154e-04, -5.72797090e-05,  3.15077677e-05]),\n",
       " array([ 8.74534391e-07, -9.21916379e-05, -6.76870214e-05,  8.74384823e-05,\n",
       "         1.79309022e-04,  7.07747815e-05, -1.31578695e-04, -1.98359813e-04,\n",
       "        -4.46591636e-05,  1.52595709e-04,  1.53585465e-04, -2.91820109e-05,\n",
       "        -1.49068104e-04, -7.81683294e-05,  5.85421793e-05,  1.30400020e-04,\n",
       "         1.39721396e-04,  9.64957117e-05, -9.08141932e-06, -1.25099534e-04,\n",
       "        -1.88504216e-04, -1.87559624e-04, -1.04699292e-04,  7.81031187e-05,\n",
       "         2.58016544e-04,  2.30472344e-04, -4.44356300e-05, -2.87634351e-04,\n",
       "        -1.98711876e-04,  1.38052896e-04,  3.37094219e-04,  1.86889501e-04,\n",
       "        -1.20476928e-04, -2.62076511e-04, -1.63029429e-04, -8.16541145e-06,\n",
       "         4.87113517e-05,  3.65802955e-05,  4.74802162e-05,  1.00025829e-04,\n",
       "         1.45194725e-04,  1.32855167e-04,  3.06184276e-05, -1.69338130e-04,\n",
       "        -1.99723137e-04, -1.65599075e-04, -2.74479618e-04,  1.47542940e-05,\n",
       "         2.17733768e-04,  2.54997552e-04,  1.80557972e-04,  6.75090338e-05,\n",
       "        -5.07334137e-05, -1.39709465e-04, -1.38983170e-04, -4.02564866e-05,\n",
       "         5.98936882e-05,  7.18824447e-05,  2.82980987e-05,  6.97213231e-06,\n",
       "         5.94644269e-06, -2.94543751e-05, -1.02127574e-04, -1.36477072e-04,\n",
       "        -6.34157377e-05,  7.59750162e-05,  1.59017774e-04,  1.22299479e-04,\n",
       "         2.23954132e-05, -3.79253977e-05, -1.18290541e-05,  4.82627204e-05,\n",
       "         4.53335195e-05, -5.14673134e-05, -1.63133874e-04, -1.74983299e-04,\n",
       "        -4.42212232e-05,  1.41851907e-04,  1.95627940e-04, -2.56169214e-05,\n",
       "        -1.66521893e-04,  1.77081320e-04,  1.99842641e-04, -1.36052799e-04,\n",
       "        -1.40934738e-04, -6.07730332e-06, -2.50882420e-04,  5.53066920e-06,\n",
       "         2.99354914e-04,  2.54692062e-04, -5.91402656e-05, -1.45614406e-04,\n",
       "        -3.89192698e-05, -1.23836339e-04, -1.54043520e-04,  8.05712165e-06,\n",
       "         2.13714780e-04,  2.11832348e-04, -1.63970863e-05, -1.38364757e-04,\n",
       "        -3.39253604e-05, -2.39488808e-05, -4.46810044e-05, -5.44014986e-05,\n",
       "        -1.41659865e-06,  1.01287358e-04,  1.43361309e-04,  3.85971333e-05,\n",
       "        -1.89922666e-04, -1.64973165e-04,  6.27508458e-05,  1.80115248e-04,\n",
       "         1.46938127e-04, -2.35450714e-05, -2.43076905e-04, -6.79415622e-05,\n",
       "         3.35209454e-05,  8.82658237e-05,  8.91523433e-05,  1.80322681e-05,\n",
       "        -5.64247843e-05, -6.16159234e-05, -3.36117574e-05, -3.08286013e-05,\n",
       "        -2.13516922e-05,  3.57031321e-05,  8.89932350e-05,  7.74862397e-05,\n",
       "         2.68275037e-05, -1.36985173e-05, -4.39390392e-05, -6.73932073e-05,\n",
       "        -5.27388619e-05,  1.88971735e-06,  2.74217485e-05, -1.82657446e-05,\n",
       "        -5.95274599e-05,  5.51158947e-07,  1.31923033e-04,  1.94569535e-04,\n",
       "         7.63259489e-05, -1.87265120e-04, -3.28828631e-04, -2.88135638e-04,\n",
       "         9.84761194e-05,  4.46423145e-04,  4.15602294e-04,  3.33819354e-05,\n",
       "        -3.25795267e-04, -2.87532820e-04, -1.23751963e-04,  8.40340045e-05,\n",
       "         1.10293589e-04,  5.82577058e-05,  5.88001748e-05,  6.10551025e-05,\n",
       "        -2.52752819e-05, -1.15609283e-04, -5.95643290e-05,  9.97028951e-05,\n",
       "         1.32241886e-04, -7.70098355e-05, -3.14157968e-04, -2.49365847e-04,\n",
       "         1.25391282e-04,  4.34333186e-04,  3.65244421e-04,  2.13086829e-05,\n",
       "        -2.62123960e-04, -1.20977994e-04, -1.25994327e-04, -1.18603485e-04,\n",
       "        -6.19582373e-05,  1.36955169e-05,  1.06148699e-04,  1.54771108e-04,\n",
       "         1.17086060e-04, -2.62566874e-05, -9.20215305e-05,  2.86628431e-05,\n",
       "        -5.60942969e-05, -1.42621785e-04,  1.18201047e-05,  4.79000429e-05,\n",
       "         2.60151353e-05,  1.70774791e-05,  2.87897877e-05,  3.64999135e-05,\n",
       "         2.45675673e-05, -4.20210578e-06, -2.52025819e-05, -6.74585373e-06,\n",
       "         3.49377512e-05,  2.16949290e-05, -7.40673870e-05,  1.62224400e-05,\n",
       "        -2.77349314e-05, -1.41665156e-04, -3.00282043e-05,  2.79254112e-05,\n",
       "         3.11074186e-05,  3.25671531e-05,  6.20613805e-05,  8.07038847e-05,\n",
       "         5.42726937e-05,  2.17999515e-05,  1.72738144e-05,  1.78329494e-06,\n",
       "        -4.49790141e-05, -6.82063737e-05, -5.53482465e-05, -7.58791568e-05,\n",
       "        -8.72625033e-05, -6.93015094e-05,  6.25824684e-05,  1.19029457e-04,\n",
       "         5.84478122e-05,  2.29987705e-05,  8.36792659e-05,  1.18112128e-04,\n",
       "         6.82073663e-07, -2.30066923e-04, -1.58725171e-04,  2.21275576e-05,\n",
       "         1.17001414e-04,  1.26910763e-04,  2.83798049e-05, -1.76417770e-04,\n",
       "         1.18484466e-05,  6.52483440e-05, -1.09436289e-04,  2.93447622e-06,\n",
       "         9.80257554e-05, -2.73926589e-05, -8.67761451e-05,  1.02914200e-04,\n",
       "         1.22962551e-04, -2.56559734e-05, -8.56596598e-05, -3.37026182e-06,\n",
       "        -8.12575750e-05, -5.69837754e-05,  4.99052960e-05,  9.08713396e-05,\n",
       "         4.34905820e-05, -1.02131803e-04, -1.20865217e-05,  8.90946004e-05,\n",
       "         6.09729231e-05, -6.79074390e-05, -3.37217309e-05,  3.53388782e-06,\n",
       "        -1.08884840e-04,  8.67502513e-05,  1.09328419e-04, -1.03375797e-04,\n",
       "        -2.24497601e-05,  5.68269412e-05,  1.01876029e-05, -2.42575089e-05,\n",
       "         1.97825798e-07,  2.13121326e-05, -2.52317695e-06, -5.48087879e-05,\n",
       "        -9.23614104e-05, -6.31915484e-05,  4.47542192e-05,  1.57952266e-04,\n",
       "         1.69875207e-04,  5.94094650e-05, -7.17999430e-05])]"
      ]
     },
     "execution_count": 35,
     "metadata": {},
     "output_type": "execute_result"
    }
   ],
   "source": [
    "our_emg_array = processed_data_emg[int(start):(int(start) + len(rms_rolled))]\n",
    "jump_indeces = []\n",
    "zippy = zip(seven_line,seven_line[1:])\n",
    "for val in enumerate(zippy):\n",
    "    if val[1][0] != val[1][1]:\n",
    "        print(val[0])\n",
    "        jump_indeces.append(val[0])\n",
    "\n",
    "grouped = np.split(our_emg_array, jump_indeces)\n",
    "grouped"
   ]
  },
  {
   "cell_type": "code",
   "execution_count": 36,
   "metadata": {},
   "outputs": [
    {
     "data": {
      "text/plain": [
       "[<matplotlib.lines.Line2D at 0x17485bf43d0>]"
      ]
     },
     "execution_count": 36,
     "metadata": {},
     "output_type": "execute_result"
    },
    {
     "data": {
      "image/png": "[encoded data removed]",
      "text/plain": [
       "<Figure size 432x288 with 1 Axes>"
      ]
     },
     "metadata": {
      "needs_background": "light"
     },
     "output_type": "display_data"
    }
   ],
   "source": [
    "plt.plot(grouped[3])"
   ]
  },
  {
   "cell_type": "code",
   "execution_count": 37,
   "metadata": {},
   "outputs": [
    {
     "data": {
      "text/plain": [
       "[<matplotlib.lines.Line2D at 0x17485c4c220>]"
      ]
     },
     "execution_count": 37,
     "metadata": {},
     "output_type": "execute_result"
    },
    {
     "data": {
      "image/png": "[encoded data removed]",
      "text/plain": [
       "<Figure size 432x288 with 1 Axes>"
      ]
     },
     "metadata": {
      "needs_background": "light"
     },
     "output_type": "display_data"
    }
   ],
   "source": [
    "grouped[3] = abs(grouped[3])\n",
    "plt.plot(grouped[3])"
   ]
  },
  {
   "cell_type": "code",
   "execution_count": 39,
   "metadata": {},
   "outputs": [
    {
     "data": {
      "text/plain": [
       "(801, 0.0016600532009792756)"
      ]
     },
     "execution_count": 39,
     "metadata": {},
     "output_type": "execute_result"
    }
   ],
   "source": [
    "# find max value and max value's index\n",
    "max_ind = (grouped[3].argmax())\n",
    "max_val = grouped[3][max_ind]\n",
    "max_ind, max_val"
   ]
  },
  {
   "cell_type": "code",
   "execution_count": 40,
   "metadata": {},
   "outputs": [
    {
     "data": {
      "text/plain": [
       "0.41415878630940905"
      ]
     },
     "execution_count": 40,
     "metadata": {},
     "output_type": "execute_result"
    }
   ],
   "source": [
    "# do rugged area under curve\n",
    "rugged= grouped[3].sum()\n",
    "rugged\n"
   ]
  },
  {
   "cell_type": "code",
   "execution_count": 41,
   "metadata": {},
   "outputs": [],
   "source": [
    "# now let's compare with looking at smoothed"
   ]
  },
  {
   "cell_type": "code",
   "execution_count": 42,
   "metadata": {},
   "outputs": [
    {
     "data": {
      "image/png": "[encoded data removed]",
      "text/plain": [
       "<Figure size 432x288 with 1 Axes>"
      ]
     },
     "metadata": {
      "needs_background": "light"
     },
     "output_type": "display_data"
    }
   ],
   "source": [
    "sat = savgol_filter(grouped[3], int(0.3* (len(grouped[3]))), 2)\n",
    "plt.plot(sat)\n",
    "plt.show()"
   ]
  },
  {
   "cell_type": "code",
   "execution_count": 44,
   "metadata": {},
   "outputs": [
    {
     "data": {
      "text/plain": [
       "(881, 0.000516485416886623)"
      ]
     },
     "execution_count": 44,
     "metadata": {},
     "output_type": "execute_result"
    }
   ],
   "source": [
    "max_ind = (sat.argmax())\n",
    "max_val = sat[max_ind]\n",
    "max_ind, max_val"
   ]
  },
  {
   "cell_type": "code",
   "execution_count": 45,
   "metadata": {},
   "outputs": [
    {
     "data": {
      "text/plain": [
       "0.4143200655798771"
      ]
     },
     "execution_count": 45,
     "metadata": {},
     "output_type": "execute_result"
    }
   ],
   "source": [
    "smoothed= sat.sum()\n",
    "smoothed"
   ]
  },
  {
   "cell_type": "markdown",
   "metadata": {},
   "source": [
    "So area under the curve is about the same! Of course!"
   ]
  },
  {
   "cell_type": "code",
   "execution_count": 49,
   "metadata": {},
   "outputs": [
    {
     "data": {
      "image/png": "[encoded data removed]",
      "text/plain": [
       "<Figure size 432x288 with 1 Axes>"
      ]
     },
     "metadata": {
      "needs_background": "light"
     },
     "output_type": "display_data"
    }
   ],
   "source": [
    "say = savgol_filter(grouped[3], int(0.8* (len(grouped[3]))), 2)\n",
    "plt.plot(say)\n",
    "plt.show()"
   ]
  },
  {
   "cell_type": "code",
   "execution_count": 50,
   "metadata": {},
   "outputs": [
    {
     "data": {
      "text/plain": [
       "(855, 0.00045631044071979375)"
      ]
     },
     "execution_count": 50,
     "metadata": {},
     "output_type": "execute_result"
    }
   ],
   "source": [
    "max_ind = (say.argmax())\n",
    "max_val = say[max_ind]\n",
    "max_ind, max_val"
   ]
  },
  {
   "cell_type": "code",
   "execution_count": 55,
   "metadata": {},
   "outputs": [
    {
     "data": {
      "text/plain": [
       "0.00045631044071979375"
      ]
     },
     "execution_count": 55,
     "metadata": {},
     "output_type": "execute_result"
    }
   ],
   "source": [
    "# say.max()"
   ]
  },
  {
   "cell_type": "code",
   "execution_count": 51,
   "metadata": {},
   "outputs": [
    {
     "data": {
      "text/plain": [
       "0.41444348053088664"
      ]
     },
     "execution_count": 51,
     "metadata": {},
     "output_type": "execute_result"
    }
   ],
   "source": [
    "smoothey= say.sum()\n",
    "smoothey"
   ]
  },
  {
   "cell_type": "code",
   "execution_count": 63,
   "metadata": {},
   "outputs": [
    {
     "data": {
      "text/plain": [
       "0.0003194173085038556"
      ]
     },
     "execution_count": 63,
     "metadata": {},
     "output_type": "execute_result"
    }
   ],
   "source": [
    "say.max() * 0.7"
   ]
  },
  {
   "cell_type": "code",
   "execution_count": 86,
   "metadata": {},
   "outputs": [],
   "source": [
    "absolute_val_array = np.abs(say[max_ind:] - say.max() * 0.7)\n",
    "\n",
    "smallest_difference_index = absolute_val_array.argmin()\n",
    "closest_element = say[max_ind:][smallest_difference_index]"
   ]
  },
  {
   "cell_type": "code",
   "execution_count": 87,
   "metadata": {},
   "outputs": [
    {
     "data": {
      "text/plain": [
       "(0.0003194496728650768, 1257)"
      ]
     },
     "execution_count": 87,
     "metadata": {},
     "output_type": "execute_result"
    }
   ],
   "source": [
    "smallest_difference_index = smallest_difference_index + max_ind\n",
    "closest_element, smallest_difference_index"
   ]
  },
  {
   "cell_type": "code",
   "execution_count": 88,
   "metadata": {},
   "outputs": [
    {
     "data": {
      "text/plain": [
       "[<matplotlib.lines.Line2D at 0x174db927790>]"
      ]
     },
     "execution_count": 88,
     "metadata": {},
     "output_type": "execute_result"
    },
    {
     "data": {
      "image/png": "[encoded data removed]",
      "text/plain": [
       "<Figure size 432x288 with 1 Axes>"
      ]
     },
     "metadata": {
      "needs_background": "light"
     },
     "output_type": "display_data"
    }
   ],
   "source": [
    "# find index where it is crosses 70% max (it may never hit exactly 70%)\n",
    "plt.plot(say)\n",
    "plt.plot(say[:smallest_difference_index])"
   ]
  },
  {
   "cell_type": "code",
   "execution_count": 89,
   "metadata": {},
   "outputs": [
    {
     "data": {
      "text/plain": [
       "0.40367924168933345"
      ]
     },
     "execution_count": 89,
     "metadata": {},
     "output_type": "execute_result"
    }
   ],
   "source": [
    "# now we can sum up the area under the curve to 70% \n",
    "area_under_curve_cut = say[:smallest_difference_index].sum()\n",
    "area_under_curve_cut "
   ]
  },
  {
   "cell_type": "code",
   "execution_count": 54,
   "metadata": {},
   "outputs": [
    {
     "name": "stdout",
     "output_type": "stream",
     "text": [
      "0.41444348053088664\n"
     ]
    }
   ],
   "source": [
    "# let's take area under curve only until the max index\n",
    "say_up= say[:max_ind]\n",
    "say_up_ext = say[max_ind:]\n",
    "print(say_up.sum()+ say_up_ext.sum())"
   ]
  },
  {
   "cell_type": "code",
   "execution_count": null,
   "metadata": {},
   "outputs": [],
   "source": []
  },
  {
   "cell_type": "code",
   "execution_count": null,
   "metadata": {},
   "outputs": [],
   "source": [
    "def ranges(lst):\n",
    "    it = iter(lst)\n",
    "    next(it)  # move to second element for comparison\n",
    "    grps = groupby(lst, key=lambda x: (x - next(it, -float(\"inf\"))))\n",
    "    for k, v in grps:\n",
    "        i = next(v)\n",
    "        try:\n",
    "            step = next(v) - i  # catches single element v or gives us a step\n",
    "            nxt = list(next(grps)[1])\n",
    "            yield xrange(i, nxt.pop(0), step)\n",
    "            # outliers or another group\n",
    "            if nxt:\n",
    "                yield nxt[0] if len(nxt) == 1 else xrange(nxt[0], next(next(grps)[1]), nxt[1] - nxt[0])\n",
    "        except StopIteration:\n",
    "            yield i  # no seq"
   ]
  },
  {
   "cell_type": "code",
   "execution_count": null,
   "metadata": {},
   "outputs": [],
   "source": [
    "lo = ranges(breath_indeces)\n",
    "lo"
   ]
  },
  {
   "cell_type": "code",
   "execution_count": null,
   "metadata": {},
   "outputs": [],
   "source": [
    "# import more_itertools as mit\n",
    " \n",
    " \n",
    "# thelist = [2, 13, 4, 5, 6, 13, 14, 15, 6, 7, 8]\n",
    "# grplist = [list(group) for group in mit.consecutive_groups(thelist)]\n",
    "# print(grplist)"
   ]
  },
  {
   "cell_type": "code",
   "execution_count": null,
   "metadata": {},
   "outputs": [],
   "source": [
    "ranges = []\n",
    "for key, group in groupby(enumerate(data), lambda (index, item): index - item):\n",
    "    group = map(itemgetter(1), group)\n",
    "    if len(group) > 1:\n",
    "        ranges.append(xrange(group[0], group[-1]))\n",
    "    else:\n",
    "        ranges.append(group[0])"
   ]
  },
  {
   "cell_type": "code",
   "execution_count": null,
   "metadata": {},
   "outputs": [],
   "source": [
    "breaths_grouped "
   ]
  },
  {
   "cell_type": "markdown",
   "metadata": {},
   "source": [
    "Maybe there isn't much of a  need to smooth with this algorithm, in my opinion. Scientists can quickly test for this."
   ]
  },
  {
   "cell_type": "markdown",
   "metadata": {},
   "source": [
    "Now we need to do this adaptively over the whole signal. Will come later"
   ]
  },
  {
   "cell_type": "markdown",
   "metadata": {},
   "source": [
    "First we can compare counted 'breaths' to algorithm breaths, then we can compare a sequence of peaks."
   ]
  },
  {
   "cell_type": "code",
   "execution_count": null,
   "metadata": {},
   "outputs": [],
   "source": [
    "my_count = input()"
   ]
  },
  {
   "cell_type": "code",
   "execution_count": null,
   "metadata": {},
   "outputs": [],
   "source": [
    "# if time_view == 'Seconds':    \n",
    "#      decision_line = hf.zero_one_for_jumps_base(rms_rolled,decision_cutoff)\n",
    "# else:\n",
    "decision_line = hf.zero_one_for_jumps_base(seven_line,3.5) # 3.5 is 7/2 \n",
    "    \n",
    "max_per_peak_count = hf.count_decision_array(decision_line)\n",
    "max_per_peak_count"
   ]
  },
  {
   "cell_type": "code",
   "execution_count": null,
   "metadata": {},
   "outputs": [],
   "source": [
    "plt.plot(converted_to_samples[int(start):(int(start) + len(rms_rolled))],processed_data_emg[int(start):(int(start) + len(rms_rolled))]*1000, alpha = 0.5)\n",
    "plt.show()"
   ]
  },
  {
   "cell_type": "code",
   "execution_count": null,
   "metadata": {},
   "outputs": [],
   "source": [
    "plt.plot(converted_to_samples[int(start):(int(start) + len(rms_rolled))],processed_data_emg[int(start):(int(start) + len(rms_rolled))]*1000, alpha = 0.5)\n",
    "#plt.plot(converted_to_samples[int(start):(int(start) + len(rms_rolled))],hf.zero_one_for_jumps_base(rms_rolled,decision_cutoff),  color = 'green')\n",
    "#plt.plot(converted_to_samples[int(start):(int(start) + len(rms_rolled))],(np.array(hf.zero_one_for_jumps_base(rms_rolled,high_decision_cutoff)))*2, color= 'purple')\n",
    "#plt.plot(converted_to_samples[int(start):(int(start) + len(rms_rolled))], six_line)\n",
    "#plt.plot(converted_to_samples[int(start):(int(start) + len(rms_rolled))], seven_line)\n",
    "plt.show()"
   ]
  },
  {
   "cell_type": "markdown",
   "metadata": {},
   "source": [
    "Now let's compare our peak value sequence"
   ]
  },
  {
   "cell_type": "markdown",
   "metadata": {},
   "source": [
    "\n",
    "\n",
    "Also we are looking at distance from zero to positive maxima, but the amplitude would be from adjancent low value...\n",
    "We can look at an absolute value array?"
   ]
  },
  {
   "cell_type": "code",
   "execution_count": null,
   "metadata": {},
   "outputs": [],
   "source": [
    "def find_maxima_in_high_entropy_area(our_array,start=0, end=10000, decision_cutoff='mean'):\n",
    "    \"\"\"\n",
    "    Finds maxima in high entropy areas. You need to have made an rms rolled variable.\n",
    "    The function is not yet optimized, but works. \n",
    "    \"\"\"\n",
    "    # big_list = np.round(our_array[start:end], 5)\n",
    "    # np.round_(stralist, decimals = 5)\n",
    "    decision_array = hf.zero_one_for_jumps_base(rms_rolled,decision_cutoff)\n",
    "    if decision_array[0] == 1:\n",
    "        ups_and_downs = np.logical_xor(decision_array[1:], decision_array[:-1])\n",
    "        indeces_of_boundaries = np.where(ups_and_downs)[0]\n",
    "        maxima = []\n",
    "        boundaries = np.append(\n",
    "            np.append(np.zeros(1), indeces_of_boundaries),\n",
    "            np.zeros(1) + len(our_array),\n",
    "        )\n",
    "        # print(boundaries)\n",
    "        boundaries = boundaries.astype(np.int32)\n",
    "        for slice_start, slice_end in zip(boundaries[::2], boundaries[1::2]):\n",
    "            #print(slice_start, slice_end)\n",
    "            beat = our_array[slice_start:slice_end]\n",
    "            maxima.append(slice_start + np.where(beat == beat.max())[0][0])\n",
    "        maxima_values = our_array[maxima]\n",
    "        # print(maxima_values)\n",
    "        rep_array = np.zeros(len(our_array))\n",
    "        rep_array[maxima] = np.mean(maxima_values)\n",
    "        plt.plot(our_array, alpha = 0.7)\n",
    "        plt.plot(rep_array, alpha = 0.4)\n",
    "    else: \n",
    "        ups_and_downs = np.logical_xor(decision_array[1:], decision_array[:-1])\n",
    "        indeces_of_boundaries = np.where(ups_and_downs)[0]\n",
    "        maxima = []\n",
    "        boundaries = np.append(\n",
    "            indeces_of_boundaries,\n",
    "            np.zeros(1) + len(our_array),\n",
    "        )\n",
    "        boundaries = boundaries.astype(np.int32)\n",
    "        for slice_start, slice_end in zip(boundaries[::2], boundaries[1::2]):\n",
    "            #print(slice_start, slice_end)\n",
    "            beat = our_array[slice_start:slice_end]\n",
    "            maxima.append(slice_start + np.where(beat == beat.max())[0][0])\n",
    "        maxima_values = our_array[maxima]\n",
    "        #print(maxima_values)\n",
    "        rep_array = np.zeros(len(our_array))\n",
    "        rep_array[maxima] = np.mean(maxima_values)\n",
    "        plt.plot(our_array, alpha = 0.7)\n",
    "        plt.plot(rep_array, alpha = 0.4)\n",
    "    return maxima, maxima_values\n",
    "        "
   ]
  },
  {
   "cell_type": "code",
   "execution_count": null,
   "metadata": {},
   "outputs": [],
   "source": [
    "if time_view == 'Samples':\n",
    "    our_array = processed_data_emg[int(start):int(end)]\n",
    "    starter=int(start)\n",
    "    ender= int(end)\n",
    "else: \n",
    "    our_array = processed_data_emg[int(start_idx):int(end_s)]\n",
    "    starter=int(start_idx)\n",
    "    ender= int(end_s)\n",
    "\n",
    "maximal , maximal_values = find_maxima_in_high_entropy_area(our_array,start=starter, end=ender, decision_cutoff=decision_cutoff)\n",
    "# note the x axis will be from zero counting up but represent the difference"
   ]
  },
  {
   "cell_type": "markdown",
   "metadata": {},
   "source": [
    "There are several decisions that need to be made here. Note the following:\n",
    "    \n",
    "    We are looking at maxima on the positive. Maybe we should be looking on both sides of zero? Maybe we should be lokking at an absolute value, and then find the maxima? Also note our cut-off on entropy was a bit arbitraty, and gave us an extra breath. These are decisions for the scientific side of a team that need to happen before this interface can go furhter.  "
   ]
  },
  {
   "cell_type": "markdown",
   "metadata": {},
   "source": [
    "Then we have to decide if we do area under curve for the absolute value, or what?"
   ]
  },
  {
   "cell_type": "markdown",
   "metadata": {},
   "source": []
  },
  {
   "cell_type": "code",
   "execution_count": null,
   "metadata": {},
   "outputs": [],
   "source": [
    "Now I can save off the info on this run:"
   ]
  },
  {
   "cell_type": "code",
   "execution_count": null,
   "metadata": {},
   "outputs": [],
   "source": [
    "data_now = [file_chosen, number_chosen, time_view, start, end, my_count, max_per_peak_count, maximal, maximal_values]"
   ]
  },
  {
   "cell_type": "code",
   "execution_count": null,
   "metadata": {},
   "outputs": [],
   "source": [
    "data_now"
   ]
  },
  {
   "cell_type": "code",
   "execution_count": null,
   "metadata": {},
   "outputs": [],
   "source": [
    "big_data_list.append(data_now)\n",
    "big_data_list"
   ]
  },
  {
   "cell_type": "code",
   "execution_count": null,
   "metadata": {},
   "outputs": [],
   "source": [
    "columns_now = ['file_chosen',\n",
    "               'number_file',\n",
    "               'units',\n",
    "               'start_cut',\n",
    "               'end_cut',\n",
    "               'my_hand_count',\n",
    "               'automated_breath_count',\n",
    "               'maxima',\n",
    "               'maxima_values',\n",
    "               ]\n",
    "\n",
    "df = pd.DataFrame(big_data_list, columns=columns_now)"
   ]
  },
  {
   "cell_type": "code",
   "execution_count": null,
   "metadata": {},
   "outputs": [],
   "source": [
    "df"
   ]
  },
  {
   "cell_type": "code",
   "execution_count": null,
   "metadata": {},
   "outputs": [],
   "source": [
    "#You probably want to change the name to a timestamp, and save every hour, at least. \n",
    "df.to_csv('my_saved_entropy_experiments.csv')"
   ]
  },
  {
   "cell_type": "code",
   "execution_count": null,
   "metadata": {},
   "outputs": [],
   "source": []
  }
 ],
 "metadata": {
  "kernelspec": {
   "display_name": "Python 3 (ipykernel)",
   "language": "python",
   "name": "python3"
  },
  "language_info": {
   "codemirror_mode": {
    "name": "ipython",
    "version": 3
   },
   "file_extension": ".py",
   "mimetype": "text/x-python",
   "name": "python",
   "nbconvert_exporter": "python",
   "pygments_lexer": "ipython3",
   "version": "3.8.6"
  }
 },
 "nbformat": 4,
 "nbformat_minor": 4
}
