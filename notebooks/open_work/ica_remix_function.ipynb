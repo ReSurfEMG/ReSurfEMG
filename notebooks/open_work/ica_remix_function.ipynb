{
 "cells": [
  {
   "cell_type": "markdown",
   "id": "23986122",
   "metadata": {},
   "source": [
    "# ICA remix function"
   ]
  },
  {
   "cell_type": "markdown",
   "id": "5e93b07b",
   "metadata": {},
   "source": [
    "This notebook is a notebook which should be deleted in 2023. Here we create our working ICA remixing function"
   ]
  },
  {
   "cell_type": "code",
   "execution_count": null,
   "id": "91d1f1d6",
   "metadata": {},
   "outputs": [],
   "source": []
  }
 ],
 "metadata": {
  "kernelspec": {
   "display_name": "Python 3 (ipykernel)",
   "language": "python",
   "name": "python3"
  },
  "language_info": {
   "codemirror_mode": {
    "name": "ipython",
    "version": 3
   },
   "file_extension": ".py",
   "mimetype": "text/x-python",
   "name": "python",
   "nbconvert_exporter": "python",
   "pygments_lexer": "ipython3",
   "version": "3.8.6"
  }
 },
 "nbformat": 4,
 "nbformat_minor": 5
}
