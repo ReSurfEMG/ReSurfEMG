{
 "cells": [
  {
   "cell_type": "markdown",
   "metadata": {},
   "source": [
    "# 1. Import the required libraries"
   ]
  },
  {
   "cell_type": "code",
   "execution_count": 9,
   "metadata": {},
   "outputs": [],
   "source": [
    "# Standard code libraries\n",
    "import os\n",
    "import platform\n",
    "import glob\n",
    "\n",
    "import numpy as np\n",
    "from numpy.matlib import repmat\n",
    "import pandas as pd\n",
    "from scipy import signal\n",
    "import matplotlib.pyplot as plt\n",
    "\n",
    "# Custom code libraries from ReSurfEMG\n",
    "from resurfemg.config.config import Config\n",
    "from resurfemg.data_connector import file_discovery\n",
    "from resurfemg.pipelines import ipy_widgets\n",
    "from resurfemg.data_connector.tmsisdk_lite import Poly5Reader\n",
    "\n",
    "%matplotlib widget"
   ]
  },
  {
   "cell_type": "markdown",
   "metadata": {},
   "source": [
    "## 2. Load the ventilator and sEMG data"
   ]
  },
  {
   "cell_type": "code",
   "execution_count": null,
   "metadata": {},
   "outputs": [],
   "source": [
    "# Identify all recordings available for the selected patient/measurement_date\n",
    "\n",
    "# First find the patients\n",
    "config = Config()\n",
    "base_path = config.get_directory('root_patient_data_directory')\n",
    "patient_paths = file_discovery.find_folders(\n",
    "    base_path,\n",
    "    folder_levels=['patient'])\n",
    "patient = list(patient_paths['patient'].values)[0]\n",
    "\n",
    "# Then find the files for the selected patients:\n",
    "folder_levels = ['date', 'measurement']\n",
    "patient_path = os.path.join(base_path, patient)\n",
    "\n",
    "emg_files = file_discovery.find_files(\n",
    "    base_path=patient_path,\n",
    "    file_name_regex='EMG_recording',\n",
    "    extension_regex='poly5',\n",
    "    folder_levels=folder_levels)\n",
    "\n",
    "folder_levels = ['date', 'measurement']\n",
    "vent_files = file_discovery.find_files(\n",
    "    base_path=patient_path,\n",
    "    file_name_regex='Draeger_recording',\n",
    "    extension_regex='poly5',\n",
    "    folder_levels=folder_levels)\n",
    "\n",
    "button_list = ipy_widgets.file_select(\n",
    "    emg_files,\n",
    "    folder_levels=folder_levels[:-1],\n",
    "    default_value_select=None,\n",
    "    default_idx_select=[1, 6])"
   ]
  },
  {
   "cell_type": "code",
   "execution_count": null,
   "metadata": {},
   "outputs": [],
   "source": [
    "emg_file_chosen = os.path.join(\n",
    "    patient_path, *[btn.value for btn in button_list], 'EMG_recording.Poly5')\n",
    "vent_file_chosen = os.path.join(\n",
    "    patient_path, *[btn.value for btn in button_list], 'Draeger_recording.Poly5')\n",
    "\n",
    "print(\"The chosen files are:\\n\", emg_file_chosen, '\\n', vent_file_chosen)"
   ]
  },
  {
   "cell_type": "code",
   "execution_count": null,
   "metadata": {},
   "outputs": [],
   "source": [
    "# Load the EMG and ventilator data recordings from the selected folders.\n",
    "data_emg = Poly5Reader(emg_file_chosen)\n",
    "data_vent = Poly5Reader(vent_file_chosen)\n",
    "data_emg_samples = data_emg.samples[:data_emg.num_samples]\n",
    "fs_emg = data_emg.sample_rate\n",
    "data_vent_samples = data_vent.samples[:data_vent.num_samples]\n",
    "fs_vent = data_vent.sample_rate\n",
    "\n",
    "# Define the time series of the EMG and ventilator recordings\n",
    "y_emg = data_emg_samples[:, 1*fs_emg:61*fs_emg]\n",
    "y_vent = data_vent_samples[:, 1*fs_vent:61*fs_vent]\n",
    "\n",
    "# Define the time axes\n",
    "t_emg = [i/fs_emg for i in range(len(y_emg[0, :]))]\n",
    "t_vent = [i/fs_vent for i in range(len(y_vent[0, :]))]"
   ]
  },
  {
   "cell_type": "code",
   "execution_count": null,
   "metadata": {},
   "outputs": [],
   "source": [
    "from resurfemg.visualization.visualization import show_my_power_spectrum, show_psd_welch\n",
    "fig, axis = plt.subplots(figsize=(6, 6), sharex=True)\n",
    "# show_my_power_spectrum(\n",
    "#     y_emg[1, :], fs_emg, fs_emg//2, axis_spec=1,\n",
    "# )\n",
    "\n",
    "f, psd = show_psd_welch(y_emg[1, :], fs_emg, fs_emg, axis_spec=1, signal_unit='uV')\n",
    "\n",
    "psd_smooth = pd.Series(psd).rolling(\n",
    "        window=50,\n",
    "        min_periods=1,\n",
    "        center=True).mean()\n",
    "axis.plot(f, psd_smooth)"
   ]
  },
  {
   "cell_type": "code",
   "execution_count": null,
   "metadata": {},
   "outputs": [],
   "source": [
    "# Identify all recordings available for the selected patient/measurement_date\n",
    "\n",
    "# Root directory for test data\n",
    "config = Config()\n",
    "root_patient_data_directory = \\\n",
    "    config.get_directory('test_data')\n",
    "\n",
    "if platform.system() == 'Windows':\n",
    "    path_sep = \"\\\\\"\n",
    "else:\n",
    "    path_sep = '/'\n",
    "\n",
    "emg_pattern = os.path.join(root_patient_data_directory, '**/*.Poly5')\n",
    "emg_and_vent_files = glob.glob(emg_pattern, recursive=True)\n",
    "\n",
    "emg_files = []\n",
    "vent_files = []\n",
    "\n",
    "for file in emg_and_vent_files:\n",
    "    if 'vent' in file:\n",
    "        vent_files.append(file)\n",
    "    else:\n",
    "        emg_files.append(file)\n",
    "\n",
    "emg_file_chosen_dummy = emg_files[0]\n",
    "vent_file_chosen_dummy = vent_files[0]\n",
    "print(\"The chosen files are:\\n\", emg_file_chosen_dummy, '\\n', vent_file_chosen_dummy)"
   ]
  },
  {
   "cell_type": "code",
   "execution_count": 15,
   "metadata": {},
   "outputs": [],
   "source": [
    "# Identify all recordings available for the selected patient/measurement_date\n",
    "\n",
    "# First find the patients\n",
    "config = Config()\n",
    "\n",
    "# Then find the files for the selected patients:\n",
    "base_path = config.get_directory('test_data')\n",
    "folder_levels = None\n",
    "\n",
    "emg_files = file_discovery.find_files(\n",
    "    base_path=base_path,\n",
    "    file_name_regex='emg_data_synth_pocc',\n",
    "    extension_regex='poly5',\n",
    "    folder_levels=None)\n",
    "\n",
    "folder_levels = ['date', 'measurement']\n",
    "vent_files = file_discovery.find_files(\n",
    "    base_path=base_path,\n",
    "    file_name_regex='vent_data_synth_pocc',\n",
    "    extension_regex='poly5',\n",
    "    folder_levels=None)\n",
    "\n",
    "# button_list = ipy_widgets.file_select(\n",
    "#     emg_files,\n",
    "#     folder_levels=['files'],\n",
    "#     default_value_select=None,\n",
    "#     default_idx_select=[0])"
   ]
  },
  {
   "cell_type": "code",
   "execution_count": null,
   "metadata": {},
   "outputs": [],
   "source": [
    "# Load the EMG and ventilator data recordings from the selected folders.\n",
    "emg_file_chosen_dummy = os.path.join(base_path, emg_files['files'].values[0])\n",
    "vent_file_chosen_dummy = os.path.join(base_path, vent_files['files'].values[0])\n",
    "\n",
    "\n",
    "data_emg_dummy = Poly5Reader(emg_file_chosen_dummy)\n",
    "data_vent_dummy = Poly5Reader(vent_file_chosen_dummy)\n",
    "data_emg_dummy_samples = data_emg_dummy.samples[:data_emg.num_samples]\n",
    "fs_emg_dummy = data_emg_dummy.sample_rate\n",
    "data_vent_dummy_samples = data_vent.samples[:data_vent.num_samples]\n",
    "fs_vent_dummy = data_vent.sample_rate\n",
    "\n",
    "# Define the time series of the EMG and ventilator recordings\n",
    "y_emg_dummy = data_emg_dummy_samples[:, 1*fs_emg:61*fs_emg]\n",
    "y_vent_dummy = data_vent_dummy_samples[:, 1*fs_vent:61*fs_vent]\n",
    "\n",
    "# Define the time axes\n",
    "t_emg_dummy = [i/fs_emg_dummy for i in range(len(y_emg_dummy[0, :]))]\n",
    "t_vent_dummy = [i/fs_vent_dummy for i in range(len(y_vent_dummy[0, :]))]"
   ]
  },
  {
   "cell_type": "code",
   "execution_count": null,
   "metadata": {},
   "outputs": [],
   "source": [
    "from resurfemg.visualization.visualization import show_my_power_spectrum, show_psd_welch\n",
    "fig, axis = plt.subplots(figsize=(6, 6), sharex=True)\n",
    "# show_my_power_spectrum(\n",
    "#     y_emg[1, :], fs_emg, fs_emg//2, axis_spec=1,\n",
    "# )\n",
    "\n",
    "f_dummy, psd_dummy = show_psd_welch(y_emg_dummy[1, :], fs_emg_dummy, fs_emg_dummy, axis_spec=1, signal_unit='uV')\n",
    "\n",
    "psd_dummy_smooth = pd.Series(psd_dummy).rolling(\n",
    "        window=50,\n",
    "        min_periods=1,\n",
    "        center=True).mean()\n",
    "axis.plot(f_dummy, psd_dummy_smooth)"
   ]
  },
  {
   "cell_type": "code",
   "execution_count": null,
   "metadata": {},
   "outputs": [],
   "source": [
    "fig, axis = plt.subplots(figsize=(6, 6), sharex=True)\n",
    "axis.semilogy(f, psd_smooth/psd_dummy_smooth)\n",
    "\n",
    "b, a = signal.butter(1, 100, 'low', analog=True)\n",
    "b *= 2\n",
    "w, h = signal.freqs(b, a, worN=[f_i * 2 * np.pi for f_i in f])\n",
    "f_butter = w/(2*np.pi)\n",
    "axis.semilogy(f_butter, np.abs(h), color='tab:green')\n"
   ]
  },
  {
   "cell_type": "code",
   "execution_count": null,
   "metadata": {},
   "outputs": [],
   "source": []
  }
 ],
 "metadata": {
  "kernelspec": {
   "display_name": ".venv310_win",
   "language": "python",
   "name": "python3"
  },
  "language_info": {
   "codemirror_mode": {
    "name": "ipython",
    "version": 3
   },
   "file_extension": ".py",
   "mimetype": "text/x-python",
   "name": "python",
   "nbconvert_exporter": "python",
   "pygments_lexer": "ipython3",
   "version": "3.10.5"
  }
 },
 "nbformat": 4,
 "nbformat_minor": 2
}
