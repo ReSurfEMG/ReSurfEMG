{
 "cells": [
  {
   "cell_type": "markdown",
   "metadata": {},
   "source": [
    "# Warning\n",
    "This notebook is under development"
   ]
  },
  {
   "cell_type": "markdown",
   "metadata": {},
   "source": [
    "# Experiments on cutting data with lag or lead"
   ]
  },
  {
   "cell_type": "markdown",
   "metadata": {},
   "source": [
    "This is intended to allow researchers to deal with respiratory EMG data and ventilator data which may not be exactly synchronized, but has a consistent lag-time between the two signals."
   ]
  },
  {
   "cell_type": "markdown",
   "metadata": {},
   "source": [
    "## Import libraries"
   ]
  },
  {
   "cell_type": "code",
   "execution_count": 1,
   "metadata": {},
   "outputs": [
    {
     "name": "stderr",
     "output_type": "stream",
     "text": [
      "C:\\Users\\makeda\\anaconda3\\envs\\emgandash\\lib\\site-packages\\mne\\fixes.py:321: DeprecationWarning: distutils Version classes are deprecated. Use packaging.version instead.\n",
      "  if LooseVersion(scipy.__version__) >= '1.1':\n",
      "C:\\Users\\makeda\\anaconda3\\envs\\emgandash\\lib\\site-packages\\mne\\fixes.py:1134: DeprecationWarning: distutils Version classes are deprecated. Use packaging.version instead.\n",
      "  if LooseVersion(numba.__version__) < LooseVersion('0.40'):\n",
      "C:\\Users\\makeda\\anaconda3\\envs\\emgandash\\lib\\site-packages\\mne\\fixes.py:1134: DeprecationWarning: distutils Version classes are deprecated. Use packaging.version instead.\n",
      "  if LooseVersion(numba.__version__) < LooseVersion('0.40'):\n"
     ]
    }
   ],
   "source": [
    "%matplotlib widget\n",
    "import ipywidgets as widgets\n",
    "import matplotlib.pyplot as plt\n",
    "import numpy as np\n",
    "import sys\n",
    "import os\n",
    "import glob\n",
    "import numpy as np\n",
    "import pandas as pd\n",
    "import matplotlib.pyplot as plt\n",
    "import scipy\n",
    "from scipy import interpolate as interp\n",
    "import collections\n",
    "import math\n",
    "sys.path.insert(0, '../resurfemg')\n",
    "import helper_functions as hf\n",
    "from config import Config"
   ]
  },
  {
   "cell_type": "code",
   "execution_count": null,
   "metadata": {},
   "outputs": [],
   "source": [
    "# get new changes in our library i.e. the tmsisdk\n",
    "\n",
    "sys.path.insert(0, '../resurfemg')\n",
    "\n",
    "from tmsisdk_lite import Poly5Reader\n"
   ]
  },
  {
   "cell_type": "markdown",
   "metadata": {},
   "source": [
    "# Set a collection place for experiments"
   ]
  },
  {
   "cell_type": "code",
   "execution_count": 2,
   "metadata": {},
   "outputs": [],
   "source": [
    "# do not rerun this cell\n",
    "big_data_list= []"
   ]
  },
  {
   "cell_type": "markdown",
   "metadata": {},
   "source": [
    "Below change the path to the root directory where you are keeping your EMGs and ventilator \"Draeger\" files"
   ]
  },
  {
   "cell_type": "markdown",
   "metadata": {},
   "source": [
    "# Reruns should be done from this cell as the start"
   ]
  },
  {
   "cell_type": "code",
   "execution_count": 3,
   "metadata": {},
   "outputs": [],
   "source": [
    "config = Config()\n",
    "root_emg_directory = config.get_directory('root_emg_directory')"
   ]
  },
  {
   "cell_type": "code",
   "execution_count": 4,
   "metadata": {},
   "outputs": [],
   "source": [
    "emg_pattern = os.path.join(root_emg_directory, '**/*.Poly5')\n",
    "emg_and_draeger_files = glob.glob(emg_pattern, recursive=True)\n",
    "\n",
    "emg_files = []\n",
    "draeger_files = []\n",
    "\n",
    "for file in emg_and_draeger_files:\n",
    "    if 'Draeger' in file:\n",
    "        draeger_files.append(file)\n",
    "    else:\n",
    "        emg_files.append(file)"
   ]
  },
  {
   "cell_type": "markdown",
   "metadata": {},
   "source": [
    "Now you can pick a file from the list, which have been numbered."
   ]
  },
  {
   "cell_type": "code",
   "execution_count": 5,
   "metadata": {},
   "outputs": [
    {
     "data": {
      "application/vnd.jupyter.widget-view+json": {
       "model_id": "7cddcb534ad4496c93b14ca8dc817adb",
       "version_major": 2,
       "version_minor": 0
      },
      "text/plain": [
       "Dropdown(description='Picked File:', options=('0', '1', '2', '3', '4', '5', '6', '7', '8', '9', '10', '11', '1…"
      ]
     },
     "metadata": {},
     "output_type": "display_data"
    }
   ],
   "source": [
    "list_of_numbers_strung = []\n",
    "for i in range(len(emg_files)):\n",
    "    list_of_numbers_strung.append(str(i))\n",
    "\n",
    "\n",
    "btn = widgets.Dropdown(\n",
    "    options=list_of_numbers_strung,\n",
    "    value='0',\n",
    "    description='Picked File:',\n",
    "    disabled=False,\n",
    ")\n",
    "display(btn)"
   ]
  },
  {
   "cell_type": "code",
   "execution_count": 6,
   "metadata": {},
   "outputs": [
    {
     "name": "stdout",
     "output_type": "stream",
     "text": [
      "The files you chose are:\n",
      " ../not_pushed\\topspin_data_anonymized\\M001\\001\\EMG_recording.Poly5 \n",
      " ../not_pushed\\topspin_data_anonymized\\M001\\001\\Draeger_recording.Poly5\n"
     ]
    }
   ],
   "source": [
    "number_chosen = int(btn.value)\n",
    "emg_file_chosen = emg_files[number_chosen]\n",
    "draeger_file_chosen = draeger_files[number_chosen]\n",
    "print(\"The files you chose are:\\n\", emg_file_chosen, '\\n', draeger_file_chosen)"
   ]
  },
  {
   "cell_type": "code",
   "execution_count": 7,
   "metadata": {},
   "outputs": [
    {
     "name": "stdout",
     "output_type": "stream",
     "text": [
      "Reading file  ../not_pushed\\topspin_data_anonymized\\M001\\001\\EMG_recording.Poly5\n",
      "\t Number of samples:  172576 \n",
      "\t Number of channels:  3 \n",
      "\t Sample rate: 2048 Hz\n",
      "\r\n",
      "Progress:  0.0 %\r\n",
      "\r\n",
      "Progress:  1.6 %\r\n",
      "\r\n",
      "Progress:  3.1 %\r\n",
      "\r\n",
      "Progress:  4.7 %\r\n",
      "\r\n",
      "Progress:  6.2 %\r\n",
      "\r\n",
      "Progress:  7.8 %\r\n",
      "\r\n",
      "Progress:  9.4 %\r\n",
      "\r\n",
      "Progress:  10.9 %\r\n",
      "\r\n",
      "Progress:  12.5 %\r\n",
      "\r\n",
      "Progress:  14.1 %\r\n",
      "\r\n",
      "Progress:  15.6 %\r\n",
      "\r\n",
      "Progress:  17.2 %\r\n",
      "\r\n",
      "Progress:  18.8 %\r\n",
      "\r\n",
      "Progress:  20.3 %\r\n",
      "\r\n",
      "Progress:  21.9 %\r\n",
      "\r\n",
      "Progress:  23.4 %\r\n",
      "\r\n",
      "Progress:  25.0 %\r\n",
      "\r\n",
      "Progress:  26.6 %\r\n",
      "\r\n",
      "Progress:  28.1 %\r\n",
      "\r\n",
      "Progress:  29.7 %\r\n",
      "\r\n",
      "Progress:  31.2 %\r\n",
      "\r\n",
      "Progress:  32.8 %\r\n",
      "\r\n",
      "Progress:  34.4 %\r\n",
      "\r\n",
      "Progress:  35.9 %\r\n",
      "\r\n",
      "Progress:  37.5 %\r\n",
      "\r\n",
      "Progress:  39.1 %\r\n",
      "\r\n",
      "Progress:  40.6 %\r\n",
      "\r\n",
      "Progress:  42.2 %\r\n",
      "\r\n",
      "Progress:  43.8 %\r\n",
      "\r\n",
      "Progress:  45.3 %\r\n",
      "\r\n",
      "Progress:  46.9 %\r\n",
      "\r\n",
      "Progress:  48.4 %\r\n",
      "\r\n",
      "Progress:  50.0 %\r\n",
      "\r\n",
      "Progress:  51.6 %\r\n",
      "\r\n",
      "Progress:  53.1 %\r\n",
      "\r\n",
      "Progress:  54.7 %\r\n",
      "\r\n",
      "Progress:  56.2 %\r\n",
      "\r\n",
      "Progress:  57.8 %\r\n",
      "\r\n",
      "Progress:  59.4 %\r\n",
      "\r\n",
      "Progress:  60.9 %\r\n",
      "\r\n",
      "Progress:  62.5 %\r\n",
      "\r\n",
      "Progress:  64.1 %\r\n",
      "\r\n",
      "Progress:  65.6 %\r\n",
      "\r\n",
      "Progress:  67.2 %\r\n",
      "\r\n",
      "Progress:  68.8 %\r\n",
      "\r\n",
      "Progress:  70.3 %\r\n",
      "\r\n",
      "Progress:  71.9 %\r\n",
      "\r\n",
      "Progress:  73.4 %\r\n",
      "\r\n",
      "Progress:  75.0 %\r\n",
      "\r\n",
      "Progress:  76.6 %\r\n",
      "\r\n",
      "Progress:  78.1 %\r\n",
      "\r\n",
      "Progress:  79.7 %\r\n",
      "\r\n",
      "Progress:  81.2 %\r\n",
      "\r\n",
      "Progress:  82.8 %\r\n",
      "\r\n",
      "Progress:  84.4 %\r\n",
      "\r\n",
      "Progress:  85.9 %\r\n",
      "\r\n",
      "Progress:  87.5 %\r\n",
      "\r\n",
      "Progress:  89.1 %\r\n",
      "\r\n",
      "Progress:  90.6 %\r\n",
      "\r\n",
      "Progress:  92.2 %\r\n",
      "\r\n",
      "Progress:  93.8 %\r\n",
      "\r\n",
      "Progress:  95.3 %\r\n",
      "\r\n",
      "Progress:  96.9 %\r\n",
      "\r\n",
      "Progress:  98.4 %\r\n",
      "Done reading data.\n",
      "Reading file  ../not_pushed\\topspin_data_anonymized\\M001\\001\\Draeger_recording.Poly5\n",
      "\t Number of samples:  8421 \n",
      "\t Number of channels:  3 \n",
      "\t Sample rate: 100 Hz\n",
      "\r\n",
      "Progress:  0.0 %\r\n",
      "\r\n",
      "Progress:  25.0 %\r\n",
      "\r\n",
      "Progress:  50.0 %\r\n",
      "\r\n",
      "Progress:  75.0 %\r\n",
      "Done reading data.\n"
     ]
    }
   ],
   "source": [
    "# get the poly5 reading\n",
    "data_emg = Poly5Reader(emg_file_chosen)\n",
    "data_draeger = Poly5Reader(draeger_file_chosen)\n",
    "data_emg_samples = data_emg.samples\n",
    "emg_fs = data_emg.sample_rate\n",
    "data_draeger_samples = data_draeger.samples\n",
    "draeger_fs = data_draeger.sample_rate"
   ]
  },
  {
   "cell_type": "code",
   "execution_count": 8,
   "metadata": {},
   "outputs": [
    {
     "data": {
      "text/plain": [
       "[<matplotlib.lines.Line2D at 0x2c9acb2e130>]"
      ]
     },
     "execution_count": 8,
     "metadata": {},
     "output_type": "execute_result"
    },
    {
     "data": {
      "image/png": "[encoded data removed]",
      "text/plain": [
       "<Figure size 432x432 with 6 Axes>"
      ]
     },
     "metadata": {
      "needs_background": "light"
     },
     "output_type": "display_data"
    }
   ],
   "source": [
    "%matplotlib inline\n",
    "# set up plot, show\n",
    "x_emg = data_emg_samples\n",
    "x_draeger = data_draeger_samples\n",
    "fig, axis = plt.subplots(nrows=3, ncols=2, figsize=(6, 6))\n",
    "axis[0, 0].grid(True)\n",
    "axis[0, 0].plot(x_emg[0])\n",
    "axis[0, 0].set(title='leads in EMG')\n",
    "axis[1, 0].plot(x_emg[1])\n",
    "axis[2, 0].plot(x_emg[2])\n",
    "axis[0, 1].set(title='leads in Draeger')\n",
    "axis[0, 1].grid(True)\n",
    "axis[0, 1].plot(x_draeger[0])\n",
    "axis[1, 1].plot(x_draeger[1])\n",
    "axis[2, 1].plot(x_draeger[2])"
   ]
  },
  {
   "cell_type": "markdown",
   "metadata": {},
   "source": [
    "That is the whole unfiltered EMG, but you probably want to examine a part. You will also want to examine something filtered down to only the EMG components. Therefore we can later filter off only the EMG components with an ICA in addtion to the filters we will play with."
   ]
  },
  {
   "cell_type": "markdown",
   "metadata": {},
   "source": [
    "## Automatic matching, when you know the lag/lead"
   ]
  },
  {
   "cell_type": "markdown",
   "metadata": {},
   "source": [
    "Now you can input the time difference between the two samples."
   ]
  },
  {
   "cell_type": "code",
   "execution_count": 9,
   "metadata": {},
   "outputs": [
    {
     "data": {
      "application/vnd.jupyter.widget-view+json": {
       "model_id": "0052dcd72e8b4d1c915272c8654ab72b",
       "version_major": 2,
       "version_minor": 0
      },
      "text/plain": [
       "VBox(children=(Dropdown(description='The EMG', index=1, options=('leads', 'lags'), value='lags'), Combobox(val…"
      ]
     },
     "metadata": {},
     "output_type": "display_data"
    }
   ],
   "source": [
    "dropdown = widgets.Dropdown(\n",
    "    options=[\"leads\", \"lags\"],\n",
    "    value='lags',\n",
    "    description=\"The EMG\",\n",
    "    disabled=False,\n",
    ")\n",
    "\n",
    "time_difference = widgets.Combobox(\n",
    "    placeholder='type in number of milliseconds ',\n",
    "    options=['', ],\n",
    "    description='time difference'\n",
    ")\n",
    "\n",
    "\n",
    "# a VBox container to pack widgets vertically\n",
    "widgets.VBox(\n",
    "    [\n",
    "        dropdown,\n",
    "        time_difference,\n",
    "    ]\n",
    ")"
   ]
  },
  {
   "cell_type": "markdown",
   "metadata": {},
   "source": [
    "Warning: you must put in a number value for the time difference even if it is zero. "
   ]
  },
  {
   "cell_type": "code",
   "execution_count": 10,
   "metadata": {},
   "outputs": [],
   "source": [
    "# start with pseudo-timestamp\n",
    "draeger_frequency = 100\n",
    "emg_frequency = 2048\n",
    "\n",
    "dfourth_list_ids = list(range(len(data_draeger_samples[2])))\n",
    "dfourth_list_ids = np.array(dfourth_list_ids)\n",
    "dfourth_list_ids = dfourth_list_ids/draeger_frequency\n",
    "\n",
    "efourth_list_ids = list(range(len(data_emg_samples[2])))\n",
    "efourth_list_ids = np.array(efourth_list_ids)\n",
    "efourth_list_ids = efourth_list_ids/emg_frequency"
   ]
  },
  {
   "cell_type": "code",
   "execution_count": 11,
   "metadata": {},
   "outputs": [],
   "source": [
    "tsemg= np.vstack((data_emg_samples,efourth_list_ids))\n",
    "tsdraeger = np.vstack((data_draeger_samples,dfourth_list_ids))"
   ]
  },
  {
   "cell_type": "code",
   "execution_count": 14,
   "metadata": {},
   "outputs": [
    {
     "data": {
      "text/plain": [
       "(4, 174720)"
      ]
     },
     "execution_count": 14,
     "metadata": {},
     "output_type": "execute_result"
    }
   ],
   "source": [
    "tsemg.shape"
   ]
  },
  {
   "cell_type": "code",
   "execution_count": 16,
   "metadata": {},
   "outputs": [
    {
     "data": {
      "text/plain": [
       "(4, 10920)"
      ]
     },
     "execution_count": 16,
     "metadata": {},
     "output_type": "execute_result"
    }
   ],
   "source": [
    "tsdraeger.shape"
   ]
  },
  {
   "cell_type": "code",
   "execution_count": 15,
   "metadata": {},
   "outputs": [
    {
     "data": {
      "text/plain": [
       "174720"
      ]
     },
     "execution_count": 15,
     "metadata": {},
     "output_type": "execute_result"
    }
   ],
   "source": [
    "len(tsemg[2])"
   ]
  },
  {
   "cell_type": "code",
   "execution_count": 12,
   "metadata": {},
   "outputs": [
    {
     "data": {
      "text/plain": [
       "10920"
      ]
     },
     "execution_count": 12,
     "metadata": {},
     "output_type": "execute_result"
    }
   ],
   "source": [
    "len(tsdraeger[2])"
   ]
  },
  {
   "cell_type": "code",
   "execution_count": 17,
   "metadata": {},
   "outputs": [],
   "source": [
    "normalizer = len(tsemg[2])\n",
    "resampled_draeger_0 = scipy.signal.resample(data_draeger_samples[0], normalizer)\n",
    "resampled_draeger_1 = scipy.signal.resample(data_draeger_samples[1], normalizer)\n",
    "resampled_draeger_2 = scipy.signal.resample(data_draeger_samples[2], normalizer)\n",
    "ts_resampled = scipy.signal.resample(dfourth_list_ids, normalizer)\n",
    "\n",
    "resampled_draeger_top = np.vstack((resampled_draeger_0, resampled_draeger_1))\n",
    "resampled_draeger = np.vstack((resampled_draeger_top, resampled_draeger_2))\n",
    "tsresampled_draeger = np.vstack((ts_resampled, resampled_draeger))"
   ]
  },
  {
   "cell_type": "code",
   "execution_count": 20,
   "metadata": {},
   "outputs": [
    {
     "data": {
      "text/plain": [
       "array([-1.45141630e+01, -1.52656224e+01, -1.53786800e+01, -1.49138787e+01,\n",
       "       -1.39420485e+01, -1.25421251e+01, -1.07987988e+01, -8.80006542e+00,\n",
       "       -6.63475193e+00, -4.39008980e+00, -2.14940646e+00,  1.00000000e-02,\n",
       "        2.01874439e+00,  3.81694604e+00,  5.35548847e+00])"
      ]
     },
     "execution_count": 20,
     "metadata": {},
     "output_type": "execute_result"
    }
   ],
   "source": [
    "#ts_resampled[5:20]"
   ]
  },
  {
   "cell_type": "code",
   "execution_count": 21,
   "metadata": {},
   "outputs": [],
   "source": [
    "sample_difference = int((int(time_difference.value)/1000) * emg_frequency)\n",
    "padding = []\n",
    "for i in range(sample_difference):\n",
    "    padding.append('NaN')\n",
    "out = np.vstack((np.array(padding), np.array(padding)))\n",
    "out_three = np.vstack((out, np.array(padding)))\n",
    "out_four = np.vstack((out_three, np.array(padding)))"
   ]
  },
  {
   "cell_type": "code",
   "execution_count": 22,
   "metadata": {},
   "outputs": [],
   "source": [
    "# must replace zeros in 4th layer of padding with something else. \n",
    "# or go with other algorithm"
   ]
  },
  {
   "cell_type": "code",
   "execution_count": 30,
   "metadata": {},
   "outputs": [
    {
     "data": {
      "text/plain": [
       "array([[ 9731.28710938,  9724.44628906,  9708.40820312, ...,\n",
       "            0.        ,     0.        ,     0.        ],\n",
       "       [12692.30078125, 12694.35253906, 12696.12402344, ...,\n",
       "            0.        ,     0.        ,     0.        ],\n",
       "       [15773.03320312, 15767.53710938, 15760.24414062, ...,\n",
       "            0.        ,     0.        ,     0.        ]])"
      ]
     },
     "execution_count": 30,
     "metadata": {},
     "output_type": "execute_result"
    }
   ],
   "source": [
    "tsemg[0:3]"
   ]
  },
  {
   "cell_type": "code",
   "execution_count": 27,
   "metadata": {},
   "outputs": [
    {
     "data": {
      "text/plain": [
       "(4, 174720)"
      ]
     },
     "execution_count": 27,
     "metadata": {},
     "output_type": "execute_result"
    }
   ],
   "source": [
    "tsresampled_draeger.shape"
   ]
  },
  {
   "cell_type": "code",
   "execution_count": 32,
   "metadata": {},
   "outputs": [],
   "source": [
    "elag_shifted_data_emg = np.hstack((out_three, tsemg[0:3]))\n",
    "elag_shifted_data_draeger = np.hstack((tsresampled_draeger, out_four))\n",
    "\n",
    "drlag_shifted_data_emg = np.hstack((tsemg, out_four))\n",
    "drlag_shifted_data_draeger = np.hstack((out_three, tsresampled_draeger[0:3]))"
   ]
  },
  {
   "cell_type": "code",
   "execution_count": 33,
   "metadata": {},
   "outputs": [],
   "source": [
    "#elag_shifted_data_emg"
   ]
  },
  {
   "cell_type": "code",
   "execution_count": 34,
   "metadata": {},
   "outputs": [],
   "source": [
    "#elag_shifted_data_draeger"
   ]
  },
  {
   "cell_type": "code",
   "execution_count": 35,
   "metadata": {},
   "outputs": [],
   "source": [
    "#time_difference = int(time_difference.value)\n",
    "lead_lag = dropdown.value\n",
    "if lead_lag == 'lags':\n",
    "    shifted = np.vstack((elag_shifted_data_emg, elag_shifted_data_draeger))\n",
    "\n",
    "else:\n",
    "    shifted = np.vstack((drlag_shifted_data_emg, drlag_shifted_data_draeger))"
   ]
  },
  {
   "cell_type": "code",
   "execution_count": 36,
   "metadata": {},
   "outputs": [],
   "source": [
    "# now we could cut off the unmatched ends if we only want that (not advised here but later)\n",
    "#shifted = shifted[:,sample_difference:-sample_difference]\n",
    "# we put the timestamp as the last array for the emg-leading array\n",
    "if lead_lag == 'leads':\n",
    "    # put timestamp to bottom\n",
    "    shifted = np.roll(shifted, -1, axis=0)"
   ]
  },
  {
   "cell_type": "markdown",
   "metadata": {},
   "source": [
    "Now you have an array , called shifted, that has a timestamp row on the bottom, and both emg and draeger signals as they happened. The emg signal will be downsampled. Now let's store what we made with the metadata of the file names encapsulated in our output file name."
   ]
  },
  {
   "cell_type": "code",
   "execution_count": 38,
   "metadata": {},
   "outputs": [
    {
     "name": "stdout",
     "output_type": "stream",
     "text": [
      "The new directory for the stacked arrays is created at folder: output2\n"
     ]
    }
   ],
   "source": [
    "output_path = 'output2'\n",
    "isExist = os.path.exists(output_path)\n",
    "if not isExist:\n",
    "    os.makedirs(output_path)\n",
    "    print(\"The new directory for the stacked arrays is created at folder:\", output_path)\n",
    "else:\n",
    "    print(\"Output files will be sent to the folder named:\", output_path)"
   ]
  },
  {
   "cell_type": "code",
   "execution_count": 39,
   "metadata": {},
   "outputs": [
    {
     "data": {
      "text/plain": [
       "<function BufferedWriter.close>"
      ]
     },
     "execution_count": 39,
     "metadata": {},
     "output_type": "execute_result"
    }
   ],
   "source": [
    "filename = emg_file_chosen\n",
    "stripped_filename = filename.replace(\"\\\\\", \"\")\n",
    "stripped_filename = stripped_filename.replace('../', '')\n",
    "stripped_filename = stripped_filename.replace('.Poly5', '')\n",
    "file = open(os.path.join(output_path, stripped_filename), \"wb\")\n",
    "# save array to the file\n",
    "np.save(file, shifted)\n",
    "# close the file\n",
    "file.close"
   ]
  },
  {
   "cell_type": "markdown",
   "metadata": {},
   "source": [
    "You can also create a processed signal, and add a certain draeger signal (making a 3 row array including the timestamp)\n",
    "\n",
    "In order to do this we should throw off our 'Nan' values, and change the type"
   ]
  },
  {
   "cell_type": "code",
   "execution_count": null,
   "metadata": {},
   "outputs": [],
   "source": []
  },
  {
   "cell_type": "code",
   "execution_count": 40,
   "metadata": {},
   "outputs": [],
   "source": [
    "if sample_difference != 0:\n",
    "    cut_shifted = shifted[:, sample_difference:-sample_difference]\n",
    "    cut_shifted = cut_shifted.astype('float64')\n",
    "else:\n",
    "    cut_shifted = shifted[:, :]\n",
    "    cut_shifted = cut_shifted.astype('float64')"
   ]
  },
  {
   "cell_type": "markdown",
   "metadata": {},
   "source": [
    "Now we will do some minimal processing to create the emg values"
   ]
  },
  {
   "cell_type": "code",
   "execution_count": 41,
   "metadata": {},
   "outputs": [
    {
     "name": "stderr",
     "output_type": "stream",
     "text": [
      "C:\\Users\\makeda\\anaconda3\\envs\\remgenv-4\\lib\\site-packages\\sklearn\\decomposition\\_fastica.py:488: FutureWarning: From version 1.3 whiten='unit-variance' will be used by default.\n",
      "  warnings.warn(\n"
     ]
    }
   ],
   "source": [
    "emg_processed = hf.emg_bandpass_butter_sample(\n",
    "    cut_shifted[:3, :], 5, 450, 2048, output='sos')\n",
    "emg_processed = hf.compute_ICA_two_comp(emg_processed)\n",
    "emg = hf.pick_more_peaks_array(emg_processed)\n",
    "emg = hf.emg_highpass_butter(emg, 150, 2048)"
   ]
  },
  {
   "cell_type": "markdown",
   "metadata": {},
   "source": [
    "Now we can stack our processed emg back on top of the draeger and timestamp"
   ]
  },
  {
   "cell_type": "code",
   "execution_count": 42,
   "metadata": {},
   "outputs": [],
   "source": [
    "processed_emg_and_draeger= np.vstack((emg,cut_shifted[3:,:]))"
   ]
  },
  {
   "cell_type": "code",
   "execution_count": 43,
   "metadata": {},
   "outputs": [
    {
     "data": {
      "text/plain": [
       "array([[-4.75899552e-06,  6.35993300e-05,  9.72495626e-05, ...,\n",
       "         8.28156141e-13,  6.38258997e-13, -2.82461523e-15],\n",
       "       [ 2.66518594e-14, -4.37358977e+00, -8.01693056e+00, ...,\n",
       "         1.71230137e+01,  1.08020375e+01,  5.07390564e+00],\n",
       "       [ 6.32159996e+00,  6.57778425e+00,  6.79158490e+00, ...,\n",
       "         5.32183315e+00,  5.69040243e+00,  6.02487878e+00],\n",
       "       [-2.29559994e+00, -2.36121087e+00, -2.41243167e+00, ...,\n",
       "        -2.01024782e+00, -2.11998209e+00, -2.21520606e+00],\n",
       "       [ 2.43003998e+01,  2.53748336e+01,  2.62851492e+01, ...,\n",
       "         2.02131736e+01,  2.17041589e+01,  2.30722283e+01]])"
      ]
     },
     "execution_count": 43,
     "metadata": {},
     "output_type": "execute_result"
    }
   ],
   "source": [
    "processed_emg_and_draeger"
   ]
  },
  {
   "cell_type": "code",
   "execution_count": 45,
   "metadata": {},
   "outputs": [
    {
     "name": "stdout",
     "output_type": "stream",
     "text": [
      "The new directory for the processed stacked arrays is created at folder: output_emg_processed_upsampled\n"
     ]
    },
    {
     "data": {
      "text/plain": [
       "<function BufferedWriter.close>"
      ]
     },
     "execution_count": 45,
     "metadata": {},
     "output_type": "execute_result"
    }
   ],
   "source": [
    "output_path2 = 'output_emg_processed_upsampled'\n",
    "isExist = os.path.exists(output_path2)\n",
    "if not isExist:\n",
    "    os.makedirs(output_path2)\n",
    "    print(\"The new directory for the processed stacked arrays is created at folder:\", output_path2)\n",
    "else:\n",
    "    print(\"Output files will be sent to the folder named:\", output_path2)\n",
    "filename = emg_file_chosen\n",
    "\n",
    "stripped_filename = filename.replace(\"\\\\\", \"\")\n",
    "stripped_filename = stripped_filename.replace('../', '')\n",
    "stripped_filename = stripped_filename.replace('.Poly5', '')\n",
    "file = open(os.path.join(output_path2, stripped_filename), \"wb\")\n",
    "# save array to the file\n",
    "np.save(file, processed_emg_and_draeger)\n",
    "# close the file\n",
    "file.close"
   ]
  },
  {
   "cell_type": "markdown",
   "metadata": {},
   "source": [
    "If this is the time shift for all arrays, it can be done to every sample. To be discussed with scientists."
   ]
  },
  {
   "cell_type": "markdown",
   "metadata": {},
   "source": [
    "# But fundamentally, when we downsampled the EMG we got something that doesn't work well. We need to redo this to first get our EMG signal, then downsample"
   ]
  }
 ],
 "metadata": {
  "kernelspec": {
   "display_name": "Python 3 (ipykernel)",
   "language": "python",
   "name": "python3"
  },
  "language_info": {
   "codemirror_mode": {
    "name": "ipython",
    "version": 3
   },
   "file_extension": ".py",
   "mimetype": "text/x-python",
   "name": "python",
   "nbconvert_exporter": "python",
   "pygments_lexer": "ipython3",
   "version": "3.8.6"
  }
 },
 "nbformat": 4,
 "nbformat_minor": 4
}
