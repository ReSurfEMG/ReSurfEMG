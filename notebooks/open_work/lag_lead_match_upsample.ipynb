{
 "cells": [
  {
   "cell_type": "markdown",
   "metadata": {},
   "source": [
    "# Warning\n",
    "This notebook is under development"
   ]
  },
  {
   "cell_type": "markdown",
   "metadata": {},
   "source": [
    "# Experiments on cutting data with lag or lead"
   ]
  },
  {
   "cell_type": "markdown",
   "metadata": {},
   "source": [
    "This is intended to allow researchers to deal with respiratory EMG data and ventilator data which may not be exactly synchronized, but has a consistent lag-time between the two signals."
   ]
  },
  {
   "cell_type": "markdown",
   "metadata": {},
   "source": [
    "## Import libraries"
   ]
  },
  {
   "cell_type": "code",
   "execution_count": null,
   "metadata": {},
   "outputs": [],
   "source": [
    "%matplotlib widget\n",
    "import ipywidgets as widgets\n",
    "import matplotlib.pyplot as plt\n",
    "import numpy as np\n",
    "import os\n",
    "import glob\n",
    "import numpy as np\n",
    "import matplotlib.pyplot as plt\n",
    "import scipy\n",
    "import helper_functions as hf\n",
    "from config import Config"
   ]
  },
  {
   "cell_type": "code",
   "execution_count": null,
   "metadata": {},
   "outputs": [],
   "source": [
    "# get new changes in our library i.e. the tmsisdk\n",
    "\n",
    "from tmsisdk_lite import Poly5Reader\n"
   ]
  },
  {
   "cell_type": "markdown",
   "metadata": {},
   "source": [
    "# Set a collection place for experiments"
   ]
  },
  {
   "cell_type": "code",
   "execution_count": null,
   "metadata": {},
   "outputs": [],
   "source": [
    "# do not rerun this cell\n",
    "big_data_list= []"
   ]
  },
  {
   "cell_type": "markdown",
   "metadata": {},
   "source": [
    "Below change the path to the root directory where you are keeping your EMGs and ventilator \"Draeger\" files"
   ]
  },
  {
   "cell_type": "markdown",
   "metadata": {},
   "source": [
    "# Reruns should be done from this cell as the start"
   ]
  },
  {
   "cell_type": "code",
   "execution_count": null,
   "metadata": {},
   "outputs": [],
   "source": [
    "config = Config()\n",
    "root_emg_directory = config.get_directory('root_emg_directory')"
   ]
  },
  {
   "cell_type": "code",
   "execution_count": null,
   "metadata": {},
   "outputs": [],
   "source": [
    "emg_pattern = os.path.join(root_emg_directory, '**/*.Poly5')\n",
    "emg_and_vent_files = glob.glob(emg_pattern, recursive=True)\n",
    "\n",
    "emg_files = []\n",
    "vent_files = []\n",
    "\n",
    "for file in emg_and_vent_files:\n",
    "    if 'Draeger' in file:\n",
    "        vent_files.append(file)\n",
    "    else:\n",
    "        emg_files.append(file)"
   ]
  },
  {
   "cell_type": "markdown",
   "metadata": {},
   "source": [
    "Now you can pick a file from the list, which have been numbered."
   ]
  },
  {
   "cell_type": "code",
   "execution_count": null,
   "metadata": {},
   "outputs": [],
   "source": [
    "list_of_numbers_strung = []\n",
    "for i in range(len(emg_files)):\n",
    "    list_of_numbers_strung.append(str(i))\n",
    "\n",
    "\n",
    "btn = widgets.Dropdown(\n",
    "    options=list_of_numbers_strung,\n",
    "    value='0',\n",
    "    description='Picked File:',\n",
    "    disabled=False,\n",
    ")\n",
    "display(btn)"
   ]
  },
  {
   "cell_type": "code",
   "execution_count": null,
   "metadata": {},
   "outputs": [],
   "source": [
    "number_chosen = int(btn.value)\n",
    "emg_file_chosen = emg_files[number_chosen]\n",
    "vent_file_chosen = vent_files[number_chosen]\n",
    "print(\"The files you chose are:\\n\", emg_file_chosen, '\\n', vent_file_chosen)"
   ]
  },
  {
   "cell_type": "code",
   "execution_count": null,
   "metadata": {},
   "outputs": [],
   "source": [
    "# get the poly5 reading\n",
    "data_emg = Poly5Reader(emg_file_chosen)\n",
    "data_vent = Poly5Reader(vent_file_chosen)\n",
    "data_emg_samples = data_emg.samples\n",
    "emg_fs = data_emg.sample_rate\n",
    "data_vent_samples = data_vent.samples\n",
    "vent_fs = data_vent.sample_rate"
   ]
  },
  {
   "cell_type": "code",
   "execution_count": null,
   "metadata": {},
   "outputs": [],
   "source": [
    "%matplotlib inline\n",
    "# set up plot, show\n",
    "x_emg = data_emg_samples\n",
    "x_vent = data_vent_samples\n",
    "fig, axis = plt.subplots(nrows=3, ncols=2, figsize=(6, 6))\n",
    "axis[0, 0].grid(True)\n",
    "axis[0, 0].plot(x_emg[0])\n",
    "axis[0, 0].set(title='leads in EMG')\n",
    "axis[1, 0].plot(x_emg[1])\n",
    "axis[2, 0].plot(x_emg[2])\n",
    "axis[0, 1].set(title='leads in Draeger')\n",
    "axis[0, 1].grid(True)\n",
    "axis[0, 1].plot(x_vent[0])\n",
    "axis[1, 1].plot(x_vent[1])\n",
    "axis[2, 1].plot(x_vent[2])"
   ]
  },
  {
   "cell_type": "markdown",
   "metadata": {},
   "source": [
    "That is the whole unfiltered EMG, but you probably want to examine a part. You will also want to examine something filtered down to only the EMG components. Therefore we can later filter off only the EMG components with an ICA in addtion to the filters we will play with."
   ]
  },
  {
   "cell_type": "markdown",
   "metadata": {},
   "source": [
    "## Automatic matching, when you know the lag/lead"
   ]
  },
  {
   "cell_type": "markdown",
   "metadata": {},
   "source": [
    "Now you can input the time difference between the two samples."
   ]
  },
  {
   "cell_type": "code",
   "execution_count": null,
   "metadata": {},
   "outputs": [],
   "source": [
    "dropdown = widgets.Dropdown(\n",
    "    options=[\"leads\", \"lags\"],\n",
    "    value='lags',\n",
    "    description=\"The EMG\",\n",
    "    disabled=False,\n",
    ")\n",
    "\n",
    "time_difference = widgets.Combobox(\n",
    "    placeholder='type in number of milliseconds ',\n",
    "    options=['', ],\n",
    "    description='time difference'\n",
    ")\n",
    "\n",
    "\n",
    "# a VBox container to pack widgets vertically\n",
    "widgets.VBox(\n",
    "    [\n",
    "        dropdown,\n",
    "        time_difference,\n",
    "    ]\n",
    ")"
   ]
  },
  {
   "cell_type": "markdown",
   "metadata": {},
   "source": [
    "Warning: you must put in a number value for the time difference even if it is zero. "
   ]
  },
  {
   "cell_type": "code",
   "execution_count": null,
   "metadata": {},
   "outputs": [],
   "source": [
    "# start with pseudo-timestamp\n",
    "vent_frequency = 100\n",
    "emg_frequency = 2048\n",
    "\n",
    "dfourth_list_ids = list(range(len(data_vent_samples[2])))\n",
    "dfourth_list_ids = np.array(dfourth_list_ids)\n",
    "dfourth_list_ids = dfourth_list_ids/vent_frequency\n",
    "\n",
    "efourth_list_ids = list(range(len(data_emg_samples[2])))\n",
    "efourth_list_ids = np.array(efourth_list_ids)\n",
    "efourth_list_ids = efourth_list_ids/emg_frequency"
   ]
  },
  {
   "cell_type": "code",
   "execution_count": null,
   "metadata": {},
   "outputs": [],
   "source": [
    "tsemg= np.vstack((data_emg_samples,efourth_list_ids))\n",
    "tsdraeger = np.vstack((data_vent_samples,dfourth_list_ids))"
   ]
  },
  {
   "cell_type": "code",
   "execution_count": null,
   "metadata": {},
   "outputs": [],
   "source": [
    "tsemg.shape"
   ]
  },
  {
   "cell_type": "code",
   "execution_count": null,
   "metadata": {},
   "outputs": [],
   "source": [
    "tsdraeger.shape"
   ]
  },
  {
   "cell_type": "code",
   "execution_count": null,
   "metadata": {},
   "outputs": [],
   "source": [
    "len(tsemg[2])"
   ]
  },
  {
   "cell_type": "code",
   "execution_count": null,
   "metadata": {},
   "outputs": [],
   "source": [
    "len(tsdraeger[2])"
   ]
  },
  {
   "cell_type": "code",
   "execution_count": null,
   "metadata": {},
   "outputs": [],
   "source": [
    "normalizer = len(tsemg[2])\n",
    "resampled_vent_0 = scipy.signal.resample(data_vent_samples[0], normalizer)\n",
    "resampled_vent_1 = scipy.signal.resample(data_vent_samples[1], normalizer)\n",
    "resampled_vent_2 = scipy.signal.resample(data_vent_samples[2], normalizer)\n",
    "ts_resampled = scipy.signal.resample(dfourth_list_ids, normalizer)\n",
    "\n",
    "resampled_vent_top = np.vstack((resampled_vent_0, resampled_vent_1))\n",
    "resampled_vent = np.vstack((resampled_vent_top, resampled_vent_2))\n",
    "tsresampled_vent = np.vstack((ts_resampled, resampled_vent))"
   ]
  },
  {
   "cell_type": "code",
   "execution_count": null,
   "metadata": {},
   "outputs": [],
   "source": [
    "#ts_resampled[5:20]"
   ]
  },
  {
   "cell_type": "code",
   "execution_count": null,
   "metadata": {},
   "outputs": [],
   "source": [
    "sample_difference = int((int(time_difference.value)/1000) * emg_frequency)\n",
    "padding = []\n",
    "for i in range(sample_difference):\n",
    "    padding.append('NaN')\n",
    "out = np.vstack((np.array(padding), np.array(padding)))\n",
    "out_three = np.vstack((out, np.array(padding)))\n",
    "out_four = np.vstack((out_three, np.array(padding)))"
   ]
  },
  {
   "cell_type": "code",
   "execution_count": null,
   "metadata": {},
   "outputs": [],
   "source": [
    "# must replace zeros in 4th layer of padding with something else. \n",
    "# or go with other algorithm"
   ]
  },
  {
   "cell_type": "code",
   "execution_count": null,
   "metadata": {},
   "outputs": [],
   "source": [
    "tsemg[0:3]"
   ]
  },
  {
   "cell_type": "code",
   "execution_count": null,
   "metadata": {},
   "outputs": [],
   "source": [
    "tsresampled_vent.shape"
   ]
  },
  {
   "cell_type": "code",
   "execution_count": null,
   "metadata": {},
   "outputs": [],
   "source": [
    "elag_shifted_data_emg = np.hstack((out_three, tsemg[0:3]))\n",
    "elag_shifted_data_vent = np.hstack((tsresampled_vent, out_four))\n",
    "\n",
    "drlag_shifted_data_emg = np.hstack((tsemg, out_four))\n",
    "drlag_shifted_data_vent = np.hstack((out_three, tsresampled_vent[0:3]))"
   ]
  },
  {
   "cell_type": "code",
   "execution_count": null,
   "metadata": {},
   "outputs": [],
   "source": [
    "#elag_shifted_data_emg"
   ]
  },
  {
   "cell_type": "code",
   "execution_count": null,
   "metadata": {},
   "outputs": [],
   "source": [
    "#elag_shifted_data_vent"
   ]
  },
  {
   "cell_type": "code",
   "execution_count": null,
   "metadata": {},
   "outputs": [],
   "source": [
    "#time_difference = int(time_difference.value)\n",
    "lead_lag = dropdown.value\n",
    "if lead_lag == 'lags':\n",
    "    shifted = np.vstack((elag_shifted_data_emg, elag_shifted_data_vent))\n",
    "\n",
    "else:\n",
    "    shifted = np.vstack((drlag_shifted_data_emg, drlag_shifted_data_vent))"
   ]
  },
  {
   "cell_type": "code",
   "execution_count": null,
   "metadata": {},
   "outputs": [],
   "source": [
    "# now we could cut off the unmatched ends if we only want that (not advised here but later)\n",
    "#shifted = shifted[:,sample_difference:-sample_difference]\n",
    "# we put the timestamp as the last array for the emg-leading array\n",
    "if lead_lag == 'leads':\n",
    "    # put timestamp to bottom\n",
    "    shifted = np.roll(shifted, -1, axis=0)"
   ]
  },
  {
   "cell_type": "markdown",
   "metadata": {},
   "source": [
    "Now you have an array , called shifted, that has a timestamp row on the bottom, and both emg and draeger signals as they happened. The emg signal will be downsampled. Now let's store what we made with the metadata of the file names encapsulated in our output file name."
   ]
  },
  {
   "cell_type": "code",
   "execution_count": null,
   "metadata": {},
   "outputs": [],
   "source": [
    "output_path = 'output2'\n",
    "isExist = os.path.exists(output_path)\n",
    "if not isExist:\n",
    "    os.makedirs(output_path)\n",
    "    print(\"The new directory for the stacked arrays is created at folder:\", output_path)\n",
    "else:\n",
    "    print(\"Output files will be sent to the folder named:\", output_path)"
   ]
  },
  {
   "cell_type": "code",
   "execution_count": null,
   "metadata": {},
   "outputs": [],
   "source": [
    "filename = emg_file_chosen\n",
    "stripped_filename = filename.replace(\"\\\\\", \"\")\n",
    "stripped_filename = stripped_filename.replace('../', '')\n",
    "stripped_filename = stripped_filename.replace('.Poly5', '')\n",
    "file = open(os.path.join(output_path, stripped_filename), \"wb\")\n",
    "# save array to the file\n",
    "np.save(file, shifted)\n",
    "# close the file\n",
    "file.close"
   ]
  },
  {
   "cell_type": "markdown",
   "metadata": {},
   "source": [
    "You can also create a processed signal, and add a certain draeger signal (making a 3 row array including the timestamp)\n",
    "\n",
    "In order to do this we should throw off our 'Nan' values, and change the type"
   ]
  },
  {
   "cell_type": "code",
   "execution_count": null,
   "metadata": {},
   "outputs": [],
   "source": []
  },
  {
   "cell_type": "code",
   "execution_count": null,
   "metadata": {},
   "outputs": [],
   "source": [
    "if sample_difference != 0:\n",
    "    cut_shifted = shifted[:, sample_difference:-sample_difference]\n",
    "    cut_shifted = cut_shifted.astype('float64')\n",
    "else:\n",
    "    cut_shifted = shifted[:, :]\n",
    "    cut_shifted = cut_shifted.astype('float64')"
   ]
  },
  {
   "cell_type": "markdown",
   "metadata": {},
   "source": [
    "Now we will do some minimal processing to create the emg values"
   ]
  },
  {
   "cell_type": "code",
   "execution_count": null,
   "metadata": {},
   "outputs": [],
   "source": [
    "emg_processed = hf.emg_bandpass_butter_sample(\n",
    "    cut_shifted[:3, :], 5, 450, 2048, output='sos')\n",
    "emg_processed = hf.compute_ICA_two_comp(emg_processed)\n",
    "emg = hf.pick_more_peaks_array(emg_processed)\n",
    "emg = hf.emg_highpass_butter(emg, 150, 2048)"
   ]
  },
  {
   "cell_type": "markdown",
   "metadata": {},
   "source": [
    "Now we can stack our processed emg back on top of the draeger and timestamp"
   ]
  },
  {
   "cell_type": "code",
   "execution_count": null,
   "metadata": {},
   "outputs": [],
   "source": [
    "processed_emg_and_vent= np.vstack((emg,cut_shifted[3:,:]))"
   ]
  },
  {
   "cell_type": "code",
   "execution_count": null,
   "metadata": {},
   "outputs": [],
   "source": [
    "processed_emg_and_vent"
   ]
  },
  {
   "cell_type": "code",
   "execution_count": null,
   "metadata": {},
   "outputs": [],
   "source": [
    "output_path2 = 'output_emg_processed_upsampled'\n",
    "isExist = os.path.exists(output_path2)\n",
    "if not isExist:\n",
    "    os.makedirs(output_path2)\n",
    "    print(\"The new directory for the processed stacked arrays is created at folder:\", output_path2)\n",
    "else:\n",
    "    print(\"Output files will be sent to the folder named:\", output_path2)\n",
    "filename = emg_file_chosen\n",
    "\n",
    "stripped_filename = filename.replace(\"\\\\\", \"\")\n",
    "stripped_filename = stripped_filename.replace('../', '')\n",
    "stripped_filename = stripped_filename.replace('.Poly5', '')\n",
    "file = open(os.path.join(output_path2, stripped_filename), \"wb\")\n",
    "# save array to the file\n",
    "np.save(file, processed_emg_and_vent)\n",
    "# close the file\n",
    "file.close"
   ]
  },
  {
   "cell_type": "markdown",
   "metadata": {},
   "source": [
    "If this is the time shift for all arrays, it can be done to every sample. To be discussed with scientists."
   ]
  },
  {
   "cell_type": "markdown",
   "metadata": {},
   "source": [
    "# But fundamentally, when we downsampled the EMG we got something that doesn't work well. We need to redo this to first get our EMG signal, then downsample"
   ]
  }
 ],
 "metadata": {
  "kernelspec": {
   "display_name": "Python 3 (ipykernel)",
   "language": "python",
   "name": "python3"
  },
  "language_info": {
   "codemirror_mode": {
    "name": "ipython",
    "version": 3
   },
   "file_extension": ".py",
   "mimetype": "text/x-python",
   "name": "python",
   "nbconvert_exporter": "python",
   "pygments_lexer": "ipython3",
   "version": "3.8.6"
  }
 },
 "nbformat": 4,
 "nbformat_minor": 4
}
