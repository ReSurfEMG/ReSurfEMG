{
 "cells": [
  {
   "cell_type": "markdown",
   "metadata": {},
   "source": [
    "# 1. Import the required libraries"
   ]
  },
  {
   "cell_type": "code",
   "execution_count": 1,
   "metadata": {},
   "outputs": [
    {
     "name": "stdout",
     "output_type": "stream",
     "text": [
      "Loaded config from:\n",
      " C:\\Users\\robwa/.resurfemg/config.json\n",
      "\n",
      "The following paths were configured:\n",
      "-------------------------------------------------------------------------------\n",
      " Name           \tPath                                              \n",
      "-------------------------------------------------------------------------------\n",
      " root           \tC:/Users/robwa/repos/work/ReSurfEMG/not_pushed    \n",
      " simulated_data \tC:\\Users\\robwa\\repos\\work\\ReSurfEMG\\not_pushed\\simulated_data\n",
      " root_patient_data\tC:\\Users\\robwa\\repos\\work\\ReSurfEMG\\not_pushed\\patient_data\n",
      " test_data      \tC:\\Users\\robwa\\repos\\work\\ReSurfEMG\\test_data     \n",
      " output_data    \tC:\\Users\\robwa\\repos\\work\\ReSurfEMG\\not_pushed\\output\n",
      " preprocessed_data\tC:\\Users\\robwa\\repos\\work\\ReSurfEMG\\not_pushed\\preprocessed\n",
      " patient_data   \tC:\\Users\\robwa\\repos\\work\\ReSurfEMG\\not_pushed\\patient_data\n"
     ]
    }
   ],
   "source": [
    "# Standard code libraries\n",
    "import os\n",
    "import ipywidgets as widgets\n",
    "\n",
    "# Custom code libraries from ReSurfEMG\n",
<<<<<<< HEAD
    "from resurfemg.data_connector.config import Config\n",
=======
    "from resurfemg.helper_functions.config import Config\n",
>>>>>>> 34c784f (Release 2 0 0/wavelet denoising (#336))
    "from resurfemg.data_connector.file_discovery import find_files, find_folders\n",
    "from resurfemg.pipelines.ipy_widgets import file_select\n",
    "from resurfemg.data_connector.tmsisdk_lite import Poly5Reader\n",
    "\n",
    "config = Config(verbose=True)\n",
    "\n",
    "%matplotlib widget"
   ]
  },
  {
   "cell_type": "markdown",
   "metadata": {},
   "source": [
    "## 2. Load sEMG test data"
   ]
  },
  {
   "cell_type": "code",
   "execution_count": 3,
   "metadata": {},
   "outputs": [
    {
     "data": {
      "application/vnd.jupyter.widget-view+json": {
       "model_id": "542f6386ec354ddfbf23356865d08ddc",
       "version_major": 2,
       "version_minor": 0
      },
      "text/plain": [
       "interactive(children=(Dropdown(description='files:', options=('emg_data_synth_pocc.Poly5', 'emg_data_synth_qui…"
      ]
     },
     "metadata": {},
     "output_type": "display_data"
    }
   ],
   "source": [
    "# For the test data:\n",
    "base_path = config.get_directory('test_data')\n",
    "\n",
    "files = find_files(\n",
    "    base_path=base_path,\n",
    "    file_name_regex='*',\n",
    "    extension_regex='Poly5',\n",
    "    folder_levels=None,\n",
    "    verbose=False\n",
    ")\n",
    "button_list = file_select(\n",
    "    files=files,\n",
    "    folder_levels=['files'],\n",
    "    default_value_select=None,\n",
    "    default_idx_select=[0])"
   ]
  },
  {
   "cell_type": "code",
   "execution_count": 3,
   "metadata": {},
   "outputs": [
    {
     "name": "stdout",
     "output_type": "stream",
     "text": [
      "Reading file  C:/Users/warnaarrsp/repos/ReSurfEMG_ReSurfEMG/test_data\\emg_data_synth_pocc.Poly5\n",
      "\t Number of samples:  860160 \n",
      "\t Number of channels:  2 \n",
      "\t Sample rate: 2048 Hz\n",
      "Done reading data.\n"
     ]
    }
   ],
   "source": [
    "# Load the EMG from the selected folders:\n",
    "emg_file_chosen = os.path.join(base_path, *[btn.value for btn in button_list])\n",
    "\n",
    "data_emg = Poly5Reader(emg_file_chosen)\n",
    "data_emg_samples = data_emg.samples[:data_emg.num_samples]\n",
    "fs_emg = data_emg.sample_rate"
   ]
  },
  {
   "cell_type": "markdown",
   "metadata": {},
   "source": [
    "## 3. Exammple: TOPSPIN data sEMG test data"
   ]
  },
  {
   "cell_type": "markdown",
   "metadata": {},
   "source": [
    "Example for the TOPSPIN study data, which is structured according to:\n",
    "- base_path/\n",
    "   - patients/\n",
    "       - date/\n",
    "           - measurement/\n",
    "               - EMG_recording.Poly5\n",
    "               - Draeger_recording.Poly5"
   ]
  },
  {
   "cell_type": "code",
   "execution_count": null,
   "metadata": {},
   "outputs": [],
   "source": [
    "# First find the patients\n",
    "base_path = config.get_directory('patient_data')\n",
    "patient_paths = find_folders(\n",
    "    base_path,\n",
    "    folder_levels=['patient'])\n",
    "patient_paths = list(patient_paths['patient'].values)\n",
    "\n",
    "patient = widgets.Dropdown(\n",
    "    options=patient_paths,\n",
    "    description='Patient' + ':',\n",
    "    disabled=False,\n",
    ")\n",
    "display(patient)"
   ]
  },
  {
   "cell_type": "code",
   "execution_count": null,
   "metadata": {},
   "outputs": [],
   "source": [
    "# Then find the files for the selected patients:\n",
    "#   NB One could also run this with:\n",
    "#       base_path=base_path, \n",
    "#       folder_levels = ['patient', date', 'measurement']\n",
    "#   This just takes way longer as the find_files has to iterate over all\n",
    "#   folders and files\n",
    "file_name_regex = None\n",
    "extension_regex = 'poly5'\n",
    "folder_levels = ['date', 'measurement']\n",
    "patient_path = os.path.join(base_path, patient.value)\n",
    "\n",
    "files = find_files(\n",
    "    base_path=patient_path,\n",
    "    file_name_regex=file_name_regex,\n",
    "    extension_regex=extension_regex,\n",
    "    folder_levels=folder_levels)\n",
    "\n",
    "# Then generate the linked buttons for the find files up to the measurement\n",
    "# level:\n",
    "button_list = file_select(\n",
    "    files,\n",
    "    folder_levels=folder_levels[:-1],\n",
    "    default_value_select=[None, '009'],\n",
    "    default_idx_select=[0, None])"
   ]
  },
  {
   "cell_type": "code",
   "execution_count": null,
   "metadata": {},
   "outputs": [],
   "source": [
    "# Load the EMG from the selected folders:\n",
    "emg_file_chosen = os.path.join(\n",
    "    patient_path, *[btn.value for btn in button_list], 'EMG_recording.Poly5')\n",
    "\n",
    "data_emg = Poly5Reader(emg_file_chosen)\n",
    "y_emg = data_emg.samples[:data_emg.num_samples]\n",
    "fs_emg = data_emg.sample_rate\n",
    "\n",
    "# Load the ventilator from the selected folders:\n",
    "vent_file_chosen = os.path.join(\n",
    "    patient_path, *[btn.value for btn in button_list], 'Draeger_recording.Poly5')\n",
    "\n",
    "data_vent = Poly5Reader(vent_file_chosen)\n",
    "y_vent = data_vent.samples[:data_vent.num_samples]\n",
    "fs_vent = data_vent.sample_rate\n"
   ]
  }
 ],
 "metadata": {
  "kernelspec": {
   "display_name": ".venv310_win",
   "language": "python",
   "name": "python3"
  },
  "language_info": {
   "codemirror_mode": {
    "name": "ipython",
    "version": 3
   },
   "file_extension": ".py",
   "mimetype": "text/x-python",
   "name": "python",
   "nbconvert_exporter": "python",
   "pygments_lexer": "ipython3",
   "version": "3.10.0"
  }
 },
 "nbformat": 4,
 "nbformat_minor": 2
}
