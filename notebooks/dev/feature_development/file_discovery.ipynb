{
 "cells": [
  {
   "cell_type": "markdown",
   "metadata": {},
   "source": [
    "# 1. Import the required libraries"
   ]
  },
  {
   "cell_type": "code",
   "execution_count": 16,
   "metadata": {},
   "outputs": [],
   "source": [
    "# Standard code libraries\n",
    "import os\n",
    "import ipywidgets as widgets\n",
    "\n",
    "# Custom code libraries from ReSurfEMG\n",
    "from resurfemg.config.config import Config\n",
    "from resurfemg.data_connector.file_discovery import find_files, find_folders\n",
    "from resurfemg.pipelines.ipy_widgets import file_select\n",
    "from resurfemg.data_connector.tmsisdk_lite import Poly5Reader\n",
    "\n",
    "config = Config()\n",
    "\n",
    "%matplotlib widget"
   ]
  },
  {
   "cell_type": "markdown",
   "metadata": {},
   "source": [
    "## 2. Load sEMG test data"
   ]
  },
  {
   "cell_type": "code",
   "execution_count": 23,
   "metadata": {},
   "outputs": [
    {
     "data": {
      "application/vnd.jupyter.widget-view+json": {
       "model_id": "36981afa0a784b2a9d20ba7b2f1a20fd",
       "version_major": 2,
       "version_minor": 0
      },
      "text/plain": [
       "interactive(children=(Dropdown(description='files:', options=('emg_data_synth_pocc.Poly5', 'emg_data_synth_qui…"
      ]
     },
     "metadata": {},
     "output_type": "display_data"
    }
   ],
   "source": [
    "# For the test data:\n",
    "base_path = config.get_directory('test_data')\n",
    "\n",
    "files = find_files(\n",
    "    base_path=base_path,\n",
    "    file_name_regex='*',\n",
    "    extension_regex='Poly5',\n",
    "    folder_levels=None,\n",
    "    verbose=False\n",
    ")\n",
    "button_list = file_select(\n",
    "    files=files,\n",
    "    folder_levels=['files'],\n",
    "    default_value_select=None,\n",
    "    default_idx_select=[0])"
   ]
  },
  {
   "cell_type": "code",
   "execution_count": 24,
   "metadata": {},
   "outputs": [
    {
     "name": "stdout",
     "output_type": "stream",
     "text": [
      "Reading file  C:/Users/warnaarrsp/repos/ReSurfEMG_ReSurfEMG/test_data\\emg_data_synth_pocc.Poly5\n",
      "\t Number of samples:  860160 \n",
      "\t Number of channels:  2 \n",
      "\t Sample rate: 2048 Hz\n",
      "Done reading data.\n"
     ]
    }
   ],
   "source": [
    "# Load the EMG from the selected folders:\n",
    "emg_file_chosen = os.path.join(base_path, *[btn.value for btn in button_list])\n",
    "\n",
    "data_emg = Poly5Reader(emg_file_chosen)\n",
    "data_emg_samples = data_emg.samples[:data_emg.num_samples]\n",
    "fs_emg = data_emg.sample_rate"
   ]
  },
  {
   "cell_type": "markdown",
   "metadata": {},
   "source": [
    "## 3. Exammple: TOPSPIN data sEMG test data"
   ]
  },
  {
   "cell_type": "markdown",
   "metadata": {},
   "source": [
    "Example for the TOPSPIN study data, which is structured according to:\n",
    "- base_path/\n",
    "   - patients/\n",
    "       - date/\n",
    "           - measurement/\n",
    "               - EMG_recording.Poly5\n",
    "               - Draeger_recording.Poly5"
   ]
  },
  {
   "cell_type": "code",
   "execution_count": 25,
   "metadata": {},
   "outputs": [
    {
     "data": {
      "application/vnd.jupyter.widget-view+json": {
       "model_id": "4a34e7976316421588587b3c8cd272f2",
       "version_major": 2,
       "version_minor": 0
      },
      "text/plain": [
       "Dropdown(description='Patient:', options=('MST001', 'MST002', 'MST003', 'MST004', 'MST005', 'MST006', 'MST007'…"
      ]
     },
     "metadata": {},
     "output_type": "display_data"
    }
   ],
   "source": [
    "# First find the patients\n",
    "base_path = config.get_directory('root_patient_data_directory')\n",
    "patient_paths = find_folders(\n",
    "    base_path,\n",
    "    folder_levels=['patient'])\n",
    "patient_paths = list(patient_paths['patient'].values)\n",
    "\n",
    "patient = widgets.Dropdown(\n",
    "    options=patient_paths,\n",
    "    description='Patient' + ':',\n",
    "    disabled=False,\n",
    ")\n",
    "display(patient)"
   ]
  },
  {
   "cell_type": "code",
   "execution_count": 26,
   "metadata": {},
   "outputs": [
    {
     "name": "stdout",
     "output_type": "stream",
     "text": [
      "These files did not match the provided depth:\n",
      " [['2021-12-27_09-16-26', '00_Incorrect', '006 - Vroegtijdig gestopt', 'Draeger_recording.Poly5'], ['2021-12-27_09-16-26', '00_Incorrect', '006 - Vroegtijdig gestopt', 'EMG_recording.Poly5'], ['2021-12-27_09-16-26', '00_Incorrect', '009 - PS ipv PEEP', 'Draeger_recording.Poly5'], ['2021-12-27_09-16-26', '00_Incorrect', '009 - PS ipv PEEP', 'EMG_recording.Poly5'], ['No_NMC', '2021-12-31_10-31-03', '001', 'Draeger_recording.Poly5'], ['No_NMC', '2021-12-31_10-31-03', '001', 'EMG_recording.Poly5'], ['No_NMC', '2021-12-31_10-31-03', '002', 'Draeger_recording.Poly5'], ['No_NMC', '2021-12-31_10-31-03', '002', 'EMG_recording.Poly5'], ['No_NMC', '2021-12-31_10-31-03', '003', 'Draeger_recording.Poly5'], ['No_NMC', '2021-12-31_10-31-03', '003', 'EMG_recording.Poly5'], ['No_NMC', '2021-12-31_10-31-03', '004', 'Draeger_recording.Poly5'], ['No_NMC', '2021-12-31_10-31-03', '004', 'EMG_recording.Poly5'], ['No_NMC', '2021-12-31_10-31-03', '005', 'Draeger_recording.Poly5'], ['No_NMC', '2021-12-31_10-31-03', '005', 'EMG_recording.Poly5'], ['No_NMC', '2021-12-31_10-31-03', '006', 'Draeger_recording.Poly5'], ['No_NMC', '2021-12-31_10-31-03', '006', 'EMG_recording.Poly5'], ['No_NMC', '2021-12-31_10-31-03', '007', 'Draeger_recording.Poly5'], ['No_NMC', '2021-12-31_10-31-03', '007', 'EMG_recording.Poly5'], ['No_NMC', '2021-12-31_10-31-03', '008', 'Draeger_recording.Poly5'], ['No_NMC', '2021-12-31_10-31-03', '008', 'EMG_recording.Poly5']]\n"
     ]
    },
    {
     "data": {
      "application/vnd.jupyter.widget-view+json": {
       "model_id": "170f91e5d9264a3ba23230ad83324c45",
       "version_major": 2,
       "version_minor": 0
      },
      "text/plain": [
       "interactive(children=(Dropdown(description='date:', options=('2021-12-24_09-29-46', '2021-12-27_09-16-26', '20…"
      ]
     },
     "metadata": {},
     "output_type": "display_data"
    }
   ],
   "source": [
    "# Then find the files for the selected patients:\n",
    "#   NB One could also run this with:\n",
    "#       base_path=base_path, \n",
    "#       folder_levels = ['patient', date', 'measurement']\n",
    "#   This just takes way longer as the find_files has to iterate over all\n",
    "#   folders and files\n",
    "file_name_regex = None\n",
    "extension_regex = 'poly5'\n",
    "folder_levels = ['date', 'measurement']\n",
    "patient_path = os.path.join(base_path, patient.value)\n",
    "\n",
    "files = find_files(\n",
    "    base_path=patient_path,\n",
    "    file_name_regex=file_name_regex,\n",
    "    extension_regex=extension_regex,\n",
    "    folder_levels=folder_levels)\n",
    "\n",
    "# Then generate the linked buttons for the find files up to the measurement\n",
    "# level:\n",
    "button_list = file_select(\n",
    "    files,\n",
    "    folder_levels=folder_levels[:-1],\n",
    "    default_value_select=[None, '009'],\n",
    "    default_idx_select=[0, None])"
   ]
  },
  {
   "cell_type": "code",
   "execution_count": 28,
   "metadata": {},
   "outputs": [
    {
     "name": "stdout",
     "output_type": "stream",
     "text": [
      "Reading file  P:/TNW/CRPH/Projects/2021_Warnaar_TOPSPIN_studie/4_Patient_data/1_RAW\\MST001\\2021-12-24_09-29-46\\009\\EMG_recording.Poly5\n",
      "\t Number of samples:  654784 \n",
      "\t Number of channels:  3 \n",
      "\t Sample rate: 2048 Hz\n",
      "Done reading data.\n",
      "Reading file  P:/TNW/CRPH/Projects/2021_Warnaar_TOPSPIN_studie/4_Patient_data/1_RAW\\MST001\\2021-12-24_09-29-46\\009\\Draeger_recording.Poly5\n",
      "\t Number of samples:  31968 \n",
      "\t Number of channels:  3 \n",
      "\t Sample rate: 100 Hz\n",
      "Done reading data.\n"
     ]
    }
   ],
   "source": [
    "# Load the EMG from the selected folders:\n",
    "emg_file_chosen = os.path.join(\n",
    "    patient_path, *[btn.value for btn in button_list], 'EMG_recording.Poly5')\n",
    "\n",
    "data_emg = Poly5Reader(emg_file_chosen)\n",
    "y_emg = data_emg.samples[:data_emg.num_samples]\n",
    "fs_emg = data_emg.sample_rate\n",
    "\n",
    "# Load the ventilator from the selected folders:\n",
    "vent_file_chosen = os.path.join(\n",
    "    patient_path, *[btn.value for btn in button_list], 'Draeger_recording.Poly5')\n",
    "\n",
    "data_vent = Poly5Reader(vent_file_chosen)\n",
    "y_vent = data_vent.samples[:data_vent.num_samples]\n",
    "fs_vent = data_vent.sample_rate\n"
   ]
  }
 ],
 "metadata": {
  "kernelspec": {
   "display_name": ".venv310_win",
   "language": "python",
   "name": "python3"
  },
  "language_info": {
   "codemirror_mode": {
    "name": "ipython",
    "version": 3
   },
   "file_extension": ".py",
   "mimetype": "text/x-python",
   "name": "python",
   "nbconvert_exporter": "python",
   "pygments_lexer": "ipython3",
   "version": "3.10.5"
  }
 },
 "nbformat": 4,
 "nbformat_minor": 2
}
