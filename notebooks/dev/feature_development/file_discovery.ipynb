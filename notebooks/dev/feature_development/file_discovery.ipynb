{
 "cells": [
  {
   "cell_type": "markdown",
   "metadata": {},
   "source": [
    "# 1. Import the required libraries"
   ]
  },
  {
   "cell_type": "code",
   "execution_count": null,
   "metadata": {},
   "outputs": [],
   "source": [
    "# Standard code libraries\n",
    "import os\n",
    "import ipywidgets as widgets\n",
    "\n",
    "# Custom code libraries from ReSurfEMG\n",
    "from resurfemg.data_connector.config import Config\n",
    "from resurfemg.data_connector.file_discovery import find_files, find_folders\n",
    "from resurfemg.pipelines.ipy_widgets import file_select\n",
    "from resurfemg.data_connector.tmsisdk_lite import Poly5Reader\n",
    "\n",
    "config = Config()\n",
    "\n",
    "%matplotlib widget"
   ]
  },
  {
   "cell_type": "markdown",
   "metadata": {},
   "source": [
    "## 2. Load sEMG test data"
   ]
  },
  {
   "cell_type": "code",
   "execution_count": 2,
   "metadata": {},
   "outputs": [
    {
     "data": {
      "application/vnd.jupyter.widget-view+json": {
       "model_id": "0bcc1cde06ed4ee2be0feb0d79b9a479",
       "version_major": 2,
       "version_minor": 0
      },
      "text/plain": [
       "interactive(children=(Dropdown(description='files:', options=('emg_data_synth_pocc.Poly5', 'emg_data_synth_qui…"
      ]
     },
     "metadata": {},
     "output_type": "display_data"
    }
   ],
   "source": [
    "# For the test data:\n",
    "base_path = config.get_directory('test_data')\n",
    "\n",
    "files = find_files(\n",
    "    base_path=base_path,\n",
    "    file_name_regex='*',\n",
    "    extension_regex='Poly5',\n",
    "    folder_levels=None,\n",
    "    verbose=False\n",
    ")\n",
    "button_list = file_select(\n",
    "    files=files,\n",
    "    folder_levels=['files'],\n",
    "    default_value_select=None,\n",
    "    default_idx_select=[0])"
   ]
  },
  {
   "cell_type": "code",
   "execution_count": 3,
   "metadata": {},
   "outputs": [
    {
     "name": "stdout",
     "output_type": "stream",
     "text": [
      "Reading file  C:/Users/warnaarrsp/repos/ReSurfEMG_ReSurfEMG/test_data\\emg_data_synth_pocc.Poly5\n",
      "\t Number of samples:  860160 \n",
      "\t Number of channels:  2 \n",
      "\t Sample rate: 2048 Hz\n",
      "Done reading data.\n"
     ]
    }
   ],
   "source": [
    "# Load the EMG from the selected folders:\n",
    "emg_file_chosen = os.path.join(base_path, *[btn.value for btn in button_list])\n",
    "\n",
    "data_emg = Poly5Reader(emg_file_chosen)\n",
    "data_emg_samples = data_emg.samples[:data_emg.num_samples]\n",
    "fs_emg = data_emg.sample_rate"
   ]
  },
  {
   "cell_type": "markdown",
   "metadata": {},
   "source": [
    "## 3. Exammple: TOPSPIN data sEMG test data"
   ]
  },
  {
   "cell_type": "markdown",
   "metadata": {},
   "source": [
    "Example for the TOPSPIN study data, which is structured according to:\n",
    "- base_path/\n",
    "   - patients/\n",
    "       - date/\n",
    "           - measurement/\n",
    "               - EMG_recording.Poly5\n",
    "               - Draeger_recording.Poly5"
   ]
  },
  {
   "cell_type": "code",
   "execution_count": 4,
   "metadata": {},
   "outputs": [
    {
     "ename": "ValueError",
     "evalue": "Specified base_path cannot be found.",
     "output_type": "error",
     "traceback": [
      "\u001b[1;31m---------------------------------------------------------------------------\u001b[0m",
      "\u001b[1;31mValueError\u001b[0m                                Traceback (most recent call last)",
      "Cell \u001b[1;32mIn[4], line 3\u001b[0m\n\u001b[0;32m      1\u001b[0m \u001b[38;5;66;03m# First find the patients\u001b[39;00m\n\u001b[0;32m      2\u001b[0m base_path \u001b[38;5;241m=\u001b[39m config\u001b[38;5;241m.\u001b[39mget_directory(\u001b[38;5;124m'\u001b[39m\u001b[38;5;124mpatient_data\u001b[39m\u001b[38;5;124m'\u001b[39m)\n\u001b[1;32m----> 3\u001b[0m patient_paths \u001b[38;5;241m=\u001b[39m \u001b[43mfind_folders\u001b[49m\u001b[43m(\u001b[49m\n\u001b[0;32m      4\u001b[0m \u001b[43m    \u001b[49m\u001b[43mbase_path\u001b[49m\u001b[43m,\u001b[49m\n\u001b[0;32m      5\u001b[0m \u001b[43m    \u001b[49m\u001b[43mfolder_levels\u001b[49m\u001b[38;5;241;43m=\u001b[39;49m\u001b[43m[\u001b[49m\u001b[38;5;124;43m'\u001b[39;49m\u001b[38;5;124;43mpatient\u001b[39;49m\u001b[38;5;124;43m'\u001b[39;49m\u001b[43m]\u001b[49m\u001b[43m)\u001b[49m\n\u001b[0;32m      6\u001b[0m patient_paths \u001b[38;5;241m=\u001b[39m \u001b[38;5;28mlist\u001b[39m(patient_paths[\u001b[38;5;124m'\u001b[39m\u001b[38;5;124mpatient\u001b[39m\u001b[38;5;124m'\u001b[39m]\u001b[38;5;241m.\u001b[39mvalues)\n\u001b[0;32m      8\u001b[0m patient \u001b[38;5;241m=\u001b[39m widgets\u001b[38;5;241m.\u001b[39mDropdown(\n\u001b[0;32m      9\u001b[0m     options\u001b[38;5;241m=\u001b[39mpatient_paths,\n\u001b[0;32m     10\u001b[0m     description\u001b[38;5;241m=\u001b[39m\u001b[38;5;124m'\u001b[39m\u001b[38;5;124mPatient\u001b[39m\u001b[38;5;124m'\u001b[39m \u001b[38;5;241m+\u001b[39m \u001b[38;5;124m'\u001b[39m\u001b[38;5;124m:\u001b[39m\u001b[38;5;124m'\u001b[39m,\n\u001b[0;32m     11\u001b[0m     disabled\u001b[38;5;241m=\u001b[39m\u001b[38;5;28;01mFalse\u001b[39;00m,\n\u001b[0;32m     12\u001b[0m )\n",
      "File \u001b[1;32m~\\repos\\ReSurfEMG_ReSurfEMG\\resurfemg\\data_connector\\file_discovery.py:118\u001b[0m, in \u001b[0;36mfind_folders\u001b[1;34m(base_path, folder_levels, verbose)\u001b[0m\n\u001b[0;32m    101\u001b[0m \u001b[38;5;250m\u001b[39m\u001b[38;5;124;03m\"\"\"\u001b[39;00m\n\u001b[0;32m    102\u001b[0m \u001b[38;5;124;03mFind folders up to the depth of the provided folder_levels starting from\u001b[39;00m\n\u001b[0;32m    103\u001b[0m \u001b[38;5;124;03mthe provided base_path. If `folder_levels` is None, all folders in the\u001b[39;00m\n\u001b[1;32m   (...)\u001b[0m\n\u001b[0;32m    114\u001b[0m \u001b[38;5;124;03m:rtype folders: pd.DataFrame\u001b[39;00m\n\u001b[0;32m    115\u001b[0m \u001b[38;5;124;03m\"\"\"\u001b[39;00m\n\u001b[0;32m    117\u001b[0m \u001b[38;5;28;01mif\u001b[39;00m \u001b[38;5;129;01mnot\u001b[39;00m os\u001b[38;5;241m.\u001b[39mpath\u001b[38;5;241m.\u001b[39misdir(base_path):\n\u001b[1;32m--> 118\u001b[0m     \u001b[38;5;28;01mraise\u001b[39;00m \u001b[38;5;167;01mValueError\u001b[39;00m(\u001b[38;5;124m'\u001b[39m\u001b[38;5;124mSpecified base_path cannot be found.\u001b[39m\u001b[38;5;124m'\u001b[39m)\n\u001b[0;32m    120\u001b[0m \u001b[38;5;28;01mif\u001b[39;00m \u001b[38;5;28misinstance\u001b[39m(folder_levels, \u001b[38;5;28mlist\u001b[39m):\n\u001b[0;32m    121\u001b[0m     depth \u001b[38;5;241m=\u001b[39m \u001b[38;5;28mlen\u001b[39m(folder_levels)\n",
      "\u001b[1;31mValueError\u001b[0m: Specified base_path cannot be found."
     ]
    }
   ],
   "source": [
    "# First find the patients\n",
    "base_path = config.get_directory('patient_data')\n",
    "patient_paths = find_folders(\n",
    "    base_path,\n",
    "    folder_levels=['patient'])\n",
    "patient_paths = list(patient_paths['patient'].values)\n",
    "\n",
    "patient = widgets.Dropdown(\n",
    "    options=patient_paths,\n",
    "    description='Patient' + ':',\n",
    "    disabled=False,\n",
    ")\n",
    "display(patient)"
   ]
  },
  {
   "cell_type": "code",
   "execution_count": null,
   "metadata": {},
   "outputs": [],
   "source": [
    "# Then find the files for the selected patients:\n",
    "#   NB One could also run this with:\n",
    "#       base_path=base_path, \n",
    "#       folder_levels = ['patient', date', 'measurement']\n",
    "#   This just takes way longer as the find_files has to iterate over all\n",
    "#   folders and files\n",
    "file_name_regex = None\n",
    "extension_regex = 'poly5'\n",
    "folder_levels = ['date', 'measurement']\n",
    "patient_path = os.path.join(base_path, patient.value)\n",
    "\n",
    "files = find_files(\n",
    "    base_path=patient_path,\n",
    "    file_name_regex=file_name_regex,\n",
    "    extension_regex=extension_regex,\n",
    "    folder_levels=folder_levels)\n",
    "\n",
    "# Then generate the linked buttons for the find files up to the measurement\n",
    "# level:\n",
    "button_list = file_select(\n",
    "    files,\n",
    "    folder_levels=folder_levels[:-1],\n",
    "    default_value_select=[None, '009'],\n",
    "    default_idx_select=[0, None])"
   ]
  },
  {
   "cell_type": "code",
   "execution_count": null,
   "metadata": {},
   "outputs": [],
   "source": [
    "# Load the EMG from the selected folders:\n",
    "emg_file_chosen = os.path.join(\n",
    "    patient_path, *[btn.value for btn in button_list], 'EMG_recording.Poly5')\n",
    "\n",
    "data_emg = Poly5Reader(emg_file_chosen)\n",
    "y_emg = data_emg.samples[:data_emg.num_samples]\n",
    "fs_emg = data_emg.sample_rate\n",
    "\n",
    "# Load the ventilator from the selected folders:\n",
    "vent_file_chosen = os.path.join(\n",
    "    patient_path, *[btn.value for btn in button_list], 'Draeger_recording.Poly5')\n",
    "\n",
    "data_vent = Poly5Reader(vent_file_chosen)\n",
    "y_vent = data_vent.samples[:data_vent.num_samples]\n",
    "fs_vent = data_vent.sample_rate\n"
   ]
  }
 ],
 "metadata": {
  "kernelspec": {
   "display_name": ".venv310_win",
   "language": "python",
   "name": "python3"
  },
  "language_info": {
   "codemirror_mode": {
    "name": "ipython",
    "version": 3
   },
   "file_extension": ".py",
   "mimetype": "text/x-python",
   "name": "python",
   "nbconvert_exporter": "python",
   "pygments_lexer": "ipython3",
   "version": "3.10.5"
  }
 },
 "nbformat": 4,
 "nbformat_minor": 2
}
