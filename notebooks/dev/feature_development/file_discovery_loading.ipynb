{
 "cells": [
  {
   "cell_type": "markdown",
   "metadata": {},
   "source": [
    "# 1. Import the required libraries"
   ]
  },
  {
   "cell_type": "code",
<<<<<<< HEAD
   "execution_count": null,
=======
   "execution_count": 1,
>>>>>>> 34c784f (Release 2 0 0/wavelet denoising (#336))
   "metadata": {},
   "outputs": [],
   "source": [
    "# Standard code libraries\n",
    "import os\n",
    "import ipywidgets as widgets\n",
    "\n",
    "# Custom code libraries from ReSurfEMG\n",
<<<<<<< HEAD
    "from resurfemg.data_connector.config import Config\n",
=======
    "from resurfemg.helper_functions.config import Config\n",
>>>>>>> 34c784f (Release 2 0 0/wavelet denoising (#336))
    "from resurfemg.data_connector.file_discovery import find_files, find_folders\n",
    "from resurfemg.data_connector import converter_functions\n",
    "from resurfemg.pipelines.ipy_widgets import file_select\n",
    "from resurfemg.data_connector.tmsisdk_lite import Poly5Reader\n",
    "\n",
    "config = Config()\n",
    "\n",
    "%matplotlib widget"
   ]
  },
  {
   "cell_type": "markdown",
   "metadata": {},
   "source": [
    "## 2. Load sEMG test data"
   ]
  },
  {
   "cell_type": "code",
   "execution_count": 2,
   "metadata": {},
   "outputs": [
    {
     "data": {
      "application/vnd.jupyter.widget-view+json": {
       "model_id": "ca4cdf29077743ff83d6af6103aa7eb4",
       "version_major": 2,
       "version_minor": 0
      },
      "text/plain": [
       "interactive(children=(Dropdown(description='files:', options=('emg_data_synth_quiet_breathing.Poly5', 'emg_dat…"
      ]
     },
     "metadata": {},
     "output_type": "display_data"
    }
   ],
   "source": [
    "# First find the patients\n",
    "base_path = config.get_directory('test_data')\n",
    "files = find_files(\n",
    "    base_path=base_path,\n",
    "    file_name_regex='emg_data_synth_quiet_breathing*',\n",
    "    extension_regex='*',\n",
    "    folder_levels=None,\n",
    "    verbose=False\n",
    ")\n",
    "button_list = file_select(\n",
    "    files=files,\n",
    "    folder_levels=['files'],\n",
    "    default_value_select=None,\n",
    "    default_idx_select=[0, 0])"
   ]
  },
  {
   "cell_type": "code",
   "execution_count": 3,
   "metadata": {},
   "outputs": [
    {
     "name": "stdout",
     "output_type": "stream",
     "text": [
      "C:/Users/warnaarrsp/repos/ReSurfEMG_ReSurfEMG/test_data\\emg_data_synth_quiet_breathing.Poly5\n"
     ]
    }
   ],
   "source": [
    "# Load the EMG from the selected folders:\n",
    "emg_file_chosen = os.path.join(\n",
    "    base_path, *[btn.value for btn in button_list])\n",
    "print(emg_file_chosen)"
   ]
  },
  {
   "cell_type": "code",
<<<<<<< HEAD
   "execution_count": null,
=======
   "execution_count": 4,
>>>>>>> 34c784f (Release 2 0 0/wavelet denoising (#336))
   "metadata": {},
   "outputs": [
    {
     "name": "stdout",
     "output_type": "stream",
     "text": [
      "Detected .Poly5\n",
      "Loading .Poly5 ...\n",
      "Reading file  C:/Users/warnaarrsp/repos/ReSurfEMG_ReSurfEMG/test_data\\emg_data_synth_quiet_breathing.Poly5\n",
      "\t Number of samples:  860160 \n",
      "\t Number of channels:  2 \n",
      "\t Sample rate: 2048 Hz\n",
      "Done reading data.\n",
      "Loaded .Poly5, extracting data ...\n",
      "Loading data completed\n",
      "Loaded channels as np.array: ['ECG' 'EMGdi'] ...\n"
     ]
    }
   ],
   "source": [
    "y_emg, y_df, metadata = converter_functions.load_file(\n",
    "    emg_file_chosen,\n",
    "    force_col_reading=False,\n",
    "    key_name='mat5_data',\n",
    "    verbose=True)\n",
<<<<<<< HEAD
    "if 'fs' in metadata:\n",
=======
    "if 'fs' in metadata.keys():\n",
>>>>>>> 34c784f (Release 2 0 0/wavelet denoising (#336))
    "    fs_emg = metadata['fs']"
   ]
  },
  {
   "cell_type": "code",
   "execution_count": 5,
   "metadata": {},
   "outputs": [
    {
     "data": {
      "text/plain": [
       "((860160, 2), (2, 860160))"
      ]
     },
     "execution_count": 5,
     "metadata": {},
     "output_type": "execute_result"
    }
   ],
   "source": [
    "y_df.shape, y_emg.shape"
   ]
  },
  {
   "cell_type": "code",
   "execution_count": 6,
   "metadata": {},
   "outputs": [
    {
     "name": "stdout",
     "output_type": "stream",
     "text": [
      "{'fs': 2048, 'loaded_channels': ['ECG', 'EMGdi'], 'units': ['uV', 'uV'], 'file_name': 'emg_data_synth_quiet_breathing.Poly5', 'file_dir': 'C:/Users/warnaarrsp/repos/ReSurfEMG_ReSurfEMG/test_data', 'file_extension': 'Poly5', 'dropped_channels': [], 'float_channels': array(['ECG', 'EMGdi'], dtype=object)}\n"
     ]
    }
   ],
   "source": [
    "print(metadata)"
   ]
  },
  {
   "cell_type": "code",
   "execution_count": 7,
   "metadata": {},
   "outputs": [
    {
     "data": {
      "text/html": [
       "<div>\n",
       "<style scoped>\n",
       "    .dataframe tbody tr th:only-of-type {\n",
       "        vertical-align: middle;\n",
       "    }\n",
       "\n",
       "    .dataframe tbody tr th {\n",
       "        vertical-align: top;\n",
       "    }\n",
       "\n",
       "    .dataframe thead th {\n",
       "        text-align: right;\n",
       "    }\n",
       "</style>\n",
       "<table border=\"1\" class=\"dataframe\">\n",
       "  <thead>\n",
       "    <tr style=\"text-align: right;\">\n",
       "      <th></th>\n",
       "      <th>ECG</th>\n",
       "      <th>EMGdi</th>\n",
       "    </tr>\n",
       "  </thead>\n",
       "  <tbody>\n",
       "    <tr>\n",
       "      <th>0</th>\n",
       "      <td>218.828598</td>\n",
       "      <td>211.390396</td>\n",
       "    </tr>\n",
       "    <tr>\n",
       "      <th>1</th>\n",
       "      <td>218.697556</td>\n",
       "      <td>211.446991</td>\n",
       "    </tr>\n",
       "    <tr>\n",
       "      <th>2</th>\n",
       "      <td>218.898331</td>\n",
       "      <td>213.793991</td>\n",
       "    </tr>\n",
       "    <tr>\n",
       "      <th>3</th>\n",
       "      <td>217.060333</td>\n",
       "      <td>206.576874</td>\n",
       "    </tr>\n",
       "    <tr>\n",
       "      <th>4</th>\n",
       "      <td>219.599976</td>\n",
       "      <td>221.875122</td>\n",
       "    </tr>\n",
       "  </tbody>\n",
       "</table>\n",
       "</div>"
      ],
      "text/plain": [
       "          ECG       EMGdi\n",
       "0  218.828598  211.390396\n",
       "1  218.697556  211.446991\n",
       "2  218.898331  213.793991\n",
       "3  217.060333  206.576874\n",
       "4  219.599976  221.875122"
      ]
     },
     "execution_count": 7,
     "metadata": {},
     "output_type": "execute_result"
    }
   ],
   "source": [
    "y_df.head()"
   ]
  },
  {
   "cell_type": "code",
   "execution_count": null,
   "metadata": {},
   "outputs": [],
   "source": []
  }
 ],
 "metadata": {
  "kernelspec": {
   "display_name": ".venv310_win",
   "language": "python",
   "name": "python3"
  },
  "language_info": {
   "codemirror_mode": {
    "name": "ipython",
    "version": 3
   },
   "file_extension": ".py",
   "mimetype": "text/x-python",
   "name": "python",
   "nbconvert_exporter": "python",
   "pygments_lexer": "ipython3",
   "version": "3.10.5"
  }
 },
 "nbformat": 4,
 "nbformat_minor": 2
}
