{
 "cells": [
  {
   "attachments": {},
   "cell_type": "markdown",
   "metadata": {},
   "source": [
    "# Pocc quality assessment feature"
   ]
  },
  {
   "attachments": {},
   "cell_type": "markdown",
   "metadata": {},
   "source": [
    "## 1. Import code libraries"
   ]
  },
  {
   "cell_type": "code",
   "execution_count": null,
   "metadata": {},
   "outputs": [],
   "source": [
    "# Standard code libraries\n",
    "import os\n",
    "import platform\n",
    "import glob\n",
    "\n",
    "import scipy\n",
    "import numpy as np\n",
    "\n",
    "import matplotlib.pyplot as plt\n",
    "import ipywidgets as widgets\n",
    "\n",
    "%matplotlib widget"
   ]
  },
  {
   "cell_type": "code",
   "execution_count": null,
   "metadata": {},
   "outputs": [],
   "source": [
    "# Custom code libraries from the ReSurfEMG repository\n",
    "import resurfemg.preprocessing.ecg_removal as ecg_rm\n",
    "import resurfemg.preprocessing.envelope as evl\n",
    "import resurfemg.preprocessing.filtering as filt\n",
    "\n",
    "from resurfemg.data_connector.tmsisdk_lite import Poly5Reader\n",
    "\n",
    "from resurfemg.pipelines.pipelines import ecg_removal_gating\n",
    "\n",
    "from resurfemg.config.config import Config"
   ]
  },
  {
   "attachments": {},
   "cell_type": "markdown",
   "metadata": {},
   "source": [
    "## Initiation of output folder for experiments"
   ]
  },
  {
   "cell_type": "code",
   "execution_count": null,
   "metadata": {},
   "outputs": [],
   "source": [
    "# Root directory for patient data\n",
    "config = Config()\n",
    "root_patient_data_directory = \\\n",
    "    config.get_directory('test_data')\n",
    "\n",
    "if platform.system() == 'Windows':\n",
    "    path_sep = \"\\\\\"\n",
    "else:\n",
    "    path_sep = '/'\n",
    "\n",
    "patient_idx = 0"
   ]
  },
  {
   "attachments": {},
   "cell_type": "markdown",
   "metadata": {},
   "source": [
    "## 2. Load the ventilator and sEMG data"
   ]
  },
  {
   "cell_type": "code",
   "execution_count": null,
   "metadata": {},
   "outputs": [],
   "source": [
    "# Identify all recordings available for the selected patient/measurement_date\n",
    "\n",
    "emg_pattern = os.path.join(root_patient_data_directory, '**/*.Poly5')\n",
    "emg_and_vent_files = glob.glob(emg_pattern, recursive=True)\n",
    "\n",
    "emg_files = []\n",
    "vent_files = []\n",
    "\n",
    "for file in emg_and_vent_files:\n",
    "    if 'vent' in file:\n",
    "        vent_files.append(file)\n",
    "    else:\n",
    "        emg_files.append(file)\n",
    "\n",
    "emg_file_chosen = emg_files[0]\n",
    "vent_file_chosen = vent_files[0]\n",
    "print(\"The chosen files are:\\n\", emg_file_chosen, '\\n', vent_file_chosen)"
   ]
  },
  {
   "cell_type": "code",
   "execution_count": null,
   "metadata": {},
   "outputs": [],
   "source": [
    "# Load the EMG and ventilator data recordings from the selected folders.\n",
    "data_emg = Poly5Reader(emg_file_chosen)\n",
    "data_vent = Poly5Reader(vent_file_chosen)\n",
    "data_emg_samples = data_emg.samples[:data_emg.num_samples]\n",
    "fs_emg = data_emg.sample_rate\n",
    "data_vent_samples = data_vent.samples[:data_vent.num_samples]\n",
    "vent_fs = data_vent.sample_rate\n",
    "\n",
    "# Define the time series of the EMG and ventilator recordings\n",
    "y_emg = data_emg_samples\n",
    "y_vent = data_vent_samples\n",
    "\n",
    "# Define the time axes\n",
    "t_emg = [i/fs_emg for i in range(len(y_emg[0, :]))]\n",
    "t_vent = [i/vent_fs for i in range(len(y_vent[0, :]))]\n",
    "\n",
    "# Default settings for window of interest including the end-expiratory occlusion\n",
    "# manoeuvres (Pocc)\n",
    "t_start_default = t_vent[-1]-60\n",
    "t_end_default = t_vent[-1]-5"
   ]
  },
  {
   "cell_type": "markdown",
   "metadata": {},
   "source": [
    "## 3. Select the time window of interest"
   ]
  },
  {
   "attachments": {},
   "cell_type": "markdown",
   "metadata": {},
   "source": [
    "Enter the start and end time of the window in which the occlusions occur. Make sure to take some margin around the peaks in the order of a couple of seconds to allow for the filtering algorithms to work properly. On the other hand, if the window is to broad, the algorithms will also take longer to evaluate."
   ]
  },
  {
   "cell_type": "code",
   "execution_count": null,
   "metadata": {},
   "outputs": [],
   "source": [
    "# Window selection\n",
    "\n",
    "start_widget = widgets.BoundedFloatText(\n",
    "    value=np.floor(t_start_default),\n",
    "    min=1,\n",
    "    max=t_vent[-1],\n",
    "    step=1,\n",
    "    description='Start:',\n",
    "    disabled=False\n",
    ")\n",
    "end_widget = widgets.BoundedFloatText(\n",
    "    value=np.floor(t_end_default),\n",
    "    min=1,\n",
    "    max=t_vent[-1],\n",
    "    step=1,\n",
    "    description='End:',\n",
    "    disabled=False\n",
    ")\n",
    "widgets.VBox([start_widget, end_widget])"
   ]
  },
  {
   "cell_type": "code",
   "execution_count": null,
   "metadata": {},
   "outputs": [],
   "source": [
    "# Plot the selected window if valid start and end times are entered\n",
    "start = start_widget.value  \n",
    "end = end_widget.value  \n",
    "if ((0 > start) | (t_vent[-1] < start) | (0 > end) | (t_vent[-1] < end) \n",
    "    | (start >= end)):    \n",
    "    print('Please make sure that 1) the start and end times are within the'  \n",
    "          +' limits of the recording and 2) that the start time is before the' \n",
    "          + ' end time.')\n",
    "else:\n",
    "    # Plot the selected window.\n",
    "    start_idx = int(float(start)* fs_emg)\n",
    "    end_s = min([int(float(end)*fs_emg), len(y_emg[0,:])-1])\n",
    "    start_vent_s = int(float(start)* vent_fs)\n",
    "    end_vent_s = min(\n",
    "        [int(float(end)* vent_fs), len(y_vent[0,:])-1]\n",
    "    )\n",
    "\n",
    "    fig, axis = plt.subplots(nrows=3, ncols=2, figsize=(12, 6))\n",
    "    axis[0, 0].set(title='sEMG leads')\n",
    "    axis[0, 0].grid(True)\n",
    "    axis[0, 0].plot(t_emg[int(start_idx):int(end_s)], \n",
    "                    y_emg[0][int(start_idx):int(end_s)])\n",
    "    axis[0, 0].set_ylabel('ECG (uV)')\n",
    "    axis[1, 0].plot(t_emg[int(start_idx):int(end_s)], \n",
    "                    y_emg[1][int(start_idx):int(end_s)])\n",
    "    axis[1, 0].set_ylabel('sEMGdi (uV)')\n",
    "    axis[1, 0].set_xlabel('t (s)')\n",
    "    \n",
    "    axis[2, 0].axis('off')\n",
    "\n",
    "    axis[0, 1].set(title='Ventilator data')\n",
    "    axis[0, 1].grid(True)\n",
    "    axis[0, 1].plot(\n",
    "        t_vent[int(start_vent_s):int(end_vent_s)], \n",
    "        y_vent[0][int(start_vent_s):int(end_vent_s)]\n",
    "    )\n",
    "    axis[0, 1].set_ylabel('Paw (cmH2O)')\n",
    "    axis[1, 1].plot(\n",
    "        t_vent[int(start_vent_s):int(end_vent_s)], \n",
    "        y_vent[1][int(start_vent_s):int(end_vent_s)]\n",
    "    )\n",
    "    axis[1, 1].set_ylabel('F (L/min)')\n",
    "    axis[2, 1].plot(\n",
    "        t_vent[int(start_vent_s):int(end_vent_s)], \n",
    "        y_vent[2][int(start_vent_s):int(end_vent_s)]\n",
    "    )\n",
    "    axis[2, 1].set_ylabel('V (mL)')\n",
    "    axis[2, 1].set_xlabel('t (s)')"
   ]
  },
  {
   "cell_type": "markdown",
   "metadata": {},
   "source": [
    "Examine at the selected window:\n",
    "1. Does it contain all occlusions? If not, adapt the start and/or end time to include all Pocc manoeuvres.\n",
    "2. Does the window contain limited data before and after the occlusions (~10 s). If noy, you can adapt the start and/or end time to optimise calculation speed."
   ]
  },
  {
   "attachments": {},
   "cell_type": "markdown",
   "metadata": {},
   "source": [
    "## 4. Pre-process the sEMGdi"
   ]
  },
  {
   "cell_type": "code",
   "execution_count": null,
   "metadata": {},
   "outputs": [],
   "source": [
    "# Set the default pipeline parameters\n",
    "# Gating settings\n",
    "gate_width_default = 0.10\n",
    "gate_threshold_default = 0.30\n",
    "gate_ECG_shift_default = -10\n",
    "gate_twice = False\n",
    "\n",
    "# RMS window\n",
    "RMS_window_ms_default = 200\n",
    "\n",
    "# # Peak detection settings\n",
    "# time_shift_default = 0.5 - RMS_window_ms_default/1000/2\n",
    "P_occ_prominence_factor_default = 0.8\n",
    "# sEAdi_prominence_factor_default = 0.5"
   ]
  },
  {
   "cell_type": "code",
   "execution_count": null,
   "metadata": {},
   "outputs": [],
   "source": [
    "# Eliminate the baseline wander from the data using a band-pass filter\n",
    "bd_filtered_file_data = filt.emg_bandpass_butter_sample(\n",
    "    data_emg_samples, 1, 500, 2048, output='sos')\n",
    "    \n",
    "processed_data_emg_di = bd_filtered_file_data[1]"
   ]
  },
  {
   "cell_type": "code",
   "execution_count": null,
   "metadata": {},
   "outputs": [],
   "source": [
    "# Gating settings\n",
    "\n",
    "# Window size to plot the gating results from\n",
    "plot_window = 5         \n",
    "\n",
    "# QRS peak detection settings\n",
    "# peak_fraction = 0.30 (default value)\n",
    "peak_fraction = gate_threshold_default     # Minimal relative peak height\n",
    "peak_width = 0.001\n",
    "peak_dist = int(fs_emg/3)\n",
    "\n",
    "# Shift of gated in samples relative to detected peaks      \n",
    "# ECG_shift = -10 (default value)\n",
    "ECG_shift = gate_ECG_shift_default\n",
    "\n",
    "# Gate width in seconds\n",
    "# gate_width = 0.10 (default value)\n",
    "gate_width = gate_width_default"
   ]
  },
  {
   "cell_type": "markdown",
   "metadata": {},
   "source": [
    "Apply QRS gating"
   ]
  },
  {
   "cell_type": "code",
   "execution_count": null,
   "metadata": {},
   "outputs": [],
   "source": [
    "# First run of QRS gating\n",
    "\n",
    "# Detect ECG peaks on 1Hz high-pass filtered signals\n",
    "ecg = bd_filtered_file_data[0]\n",
    "ecg_rms = evl.full_rolling_rms(ecg, 10)\n",
    "max_ecg_rms = max(\n",
    "    ecg_rms[int(start_idx):int(start_idx+plot_window*fs_emg)])\n",
    "min_ecg_rms = min(\n",
    "    ecg_rms[int(start_idx):int(start_idx+plot_window*fs_emg)])\n",
    "peak_height = peak_fraction*(max_ecg_rms - min_ecg_rms)\n",
    "\n",
    "ECG_peaks, properties  = scipy.signal.find_peaks(\n",
    "    ecg_rms, \n",
    "    height=peak_height, \n",
    "    width=peak_width*fs_emg, \n",
    "    distance=peak_dist\n",
    ")\n",
    "\n",
    "# The RMS filter is not centred. Therefore, shift the ECG peak locations\n",
    "ECG_peaks = ECG_peaks - ECG_shift\n",
    "\n",
    "# Filter EXG signals 20Hz high pass\n",
    "ECG_h20 = filt.emg_bandpass_butter_sample(ecg, 20, 500, 2048, output='sos')\n",
    "emg_di_h20 = filt.emg_bandpass_butter_sample(\n",
    "    processed_data_emg_di, 20, 500, 2048, output='sos')\n",
    "\n",
    "# Gate ECG and EMG signal\n",
    "# Fill methods 0: Zeros, 1: Interpolate start-end, 2: Average prior data, \n",
    "# 3: Moving average\n",
    "gate_fill_method = 3    \n",
    "gate_width_samples = int(gate_width*fs_emg)\n",
    "\n",
    "gate_samples = list()\n",
    "for i in range(len(ECG_peaks)):\n",
    "    for k in range(\n",
    "        int(ECG_peaks[i]-gate_width_samples/2),\n",
    "        int(ECG_peaks[i]+gate_width_samples/2)\n",
    "    ):\n",
    "        gate_samples.append(k)\n",
    "\n",
    "ECG_gated = ecg_rm.gating(\n",
    "    ECG_h20, ECG_peaks, gate_width=gate_width_samples, method=3)\n",
    "emg_di_gated = ecg_rm.gating(\n",
    "    emg_di_h20, ECG_peaks, gate_width=gate_width_samples, method=3)\n"
   ]
  },
  {
   "cell_type": "code",
   "execution_count": null,
   "metadata": {},
   "outputs": [],
   "source": [
    "ecg_peaks_fun = ecg_rm.detect_ecg_peaks(\n",
    "    ecg_raw=data_emg_samples[0],\n",
    "    fs=fs_emg,\n",
    "    bp_filter=True,\n",
    ")\n",
    "\n",
    "ecg_gated_fun = ecg_removal_gating(\n",
    "    ECG_h20,\n",
    "    ecg_peaks_fun,\n",
    "    gate_width_samples, \n",
    "    ecg_shift=10,\n",
    "    )\n",
    "\n",
    "emg_di_gated_fun = ecg_removal_gating(\n",
    "    emg_di_h20,\n",
    "    ecg_peaks_fun,\n",
    "    gate_width_samples,\n",
    "    ecg_shift=10,\n",
    "    )\n",
    "\n",
    "np.sum(np.abs(emg_di_gated-emg_di_gated_fun))"
   ]
  },
  {
   "cell_type": "code",
   "execution_count": null,
   "metadata": {},
   "outputs": [],
   "source": [
    "# Plot gating result\n",
    "fig, axis = plt.subplots(nrows=4, ncols=1, figsize=(12, 6))\n",
    "start_i = int(start_idx)\n",
    "end_i = int(start_idx+plot_window*2048)\n",
    "axis[0].grid(True)\n",
    "axis[0].plot(t_emg[start_i:end_i], bd_filtered_file_data[0, start_i:end_i])\n",
    "axis[0].set_ylabel('raw ECG (uV)')\n",
    "axis[0].set(title='leads in EMG')\n",
    "axis[1].grid(True)\n",
    "axis[1].plot(t_emg[start_i:end_i], ECG_gated[start_i:end_i])\n",
    "axis[1].set_ylabel('ECG gated (uV)')\n",
    "axis[2].grid(True)\n",
    "axis[2].plot(t_emg[start_i:end_i], emg_di_gated[start_i:end_i], color='tab:blue')\n",
    "axis[2].plot(t_emg[start_i:end_i], emg_di_gated_fun[start_i:end_i], color='tab:orange')\n",
    "axis[2].set_ylabel('EMGdi gated (uV)')\n",
    "axis[3].grid(True)\n",
    "axis[3].plot(t_emg[start_i:end_i], ecg_rms[start_i:end_i])\n",
    "axis[3].set_ylabel('ECG rms (uV)')\n",
    "axis[3].hlines(\n",
    "    y=peak_height, \n",
    "    xmin=t_emg[start_i], \n",
    "    xmax=t_emg[end_i],\n",
    "    color = \"C1\"\n",
    ")\n",
    "axis[3].set_xlabel('t (s)')\n",
    "\n",
    "for idx in range(len(ECG_peaks)):\n",
    "    if ((ECG_peaks[idx] > int(start_idx)) \n",
    "        & (ECG_peaks[idx] < int(start_idx+plot_window*2048))):\n",
    "        axis[3].plot(t_emg[ECG_peaks[idx]], ecg_rms[ECG_peaks[idx]],'rx')\n"
   ]
  },
  {
   "cell_type": "code",
   "execution_count": null,
   "metadata": {},
   "outputs": [],
   "source": [
    "# Second run of QRS gating, if selected with gate_twice == True\n",
    "# This is usefull, e.g., in case of splitted QRS complex or pacing\n",
    "\n",
    "# Detect ECG peaks on 1Hz high-pass filtered signals\n",
    "ecg = ecg_gated_fun\n",
    "ecg_rms = evl.full_rolling_rms(ecg_gated_fun, 10)\n",
    "max_ecg_rms = max(ecg_rms)\n",
    "min_ecg_rms = min(ecg_rms)\n",
    "peak_height = peak_fraction*(max_ecg_rms - min_ecg_rms)\n",
    "\n",
    "ECG_peaks_2nd, properties  = scipy.signal.find_peaks(\n",
    "    ecg_rms, \n",
    "    height=peak_height, \n",
    "    width=peak_width*fs_emg, \n",
    "    distance=peak_dist\n",
    ")\n",
    "# The RMS filter is not centred. Therefore, shift the ECG peak locations\n",
    "ECG_peaks_2nd = ECG_peaks_2nd - ECG_shift\n",
    "\n",
    "# Gate ECG and EMG signal\n",
    "# Fill methods: 0: Zeros, 1: Interpolate start-end, 2: Average prior data, \n",
    "# 3: Moving average\n",
    "gate_fill_method = 3    \n",
    "gate_width_samples = int(gate_width*fs_emg)\n",
    "\n",
    "gate_samples = list()\n",
    "for i in range(len(ECG_peaks)):\n",
    "    for k in range(\n",
    "        int(ECG_peaks[i]-gate_width_samples/2),\n",
    "        int(ECG_peaks[i]+gate_width_samples/2)\n",
    "    ):\n",
    "        gate_samples.append(k)\n",
    "\n",
    "\n",
    "ECG_gated_twice = ecg_rm.gating(\n",
    "    ecg_gated_fun, ECG_peaks_2nd, gate_width=gate_width_samples, method=3)\n",
    "emg_di_gated_twice = ecg_rm.gating(\n",
    "    emg_di_gated_fun, ECG_peaks_2nd, gate_width=gate_width_samples, method=3)"
   ]
  },
  {
   "cell_type": "code",
   "execution_count": null,
   "metadata": {},
   "outputs": [],
   "source": [
    "ecg_peaks_fun_twice = ecg_rm.detect_ecg_peaks(\n",
    "    ecg_raw=ecg_gated_fun,\n",
    "    fs=fs_emg,\n",
    "    bp_filter=False,\n",
    ")\n",
    "\n",
    "ecg_gated_fun_twice = ecg_removal_gating(\n",
    "    ecg_gated_fun,\n",
    "    ecg_peaks_fun_twice,\n",
    "    gate_width_samples, \n",
    "    ecg_shift=10,\n",
    "    )\n",
    "\n",
    "emg_di_gated_fun_twice = ecg_removal_gating(\n",
    "    emg_di_gated_fun,\n",
    "    ecg_peaks_fun_twice,\n",
    "    gate_width_samples,\n",
    "    ecg_shift=10,\n",
    "    )\n",
    "\n",
    "np.sum(np.abs(emg_di_gated_twice-emg_di_gated_fun_twice))"
   ]
  },
  {
   "cell_type": "code",
   "execution_count": null,
   "metadata": {},
   "outputs": [],
   "source": [
    "# Plot gating result\n",
    "fig, axis = plt.subplots(nrows=4, ncols=1, figsize=(12, 6))\n",
    "start_i = int(start_idx)\n",
    "end_i = int(start_idx+plot_window*2048)\n",
    "axis[0].grid(True)\n",
    "axis[0].plot(t_emg[start_i:end_i], bd_filtered_file_data[0, start_i:end_i])\n",
    "axis[0].set_ylabel('raw ECG (uV)')\n",
    "axis[0].set(title='leads in EMG')\n",
    "axis[1].grid(True)\n",
    "axis[1].plot(t_emg[start_i:end_i], ECG_gated_twice[start_i:end_i], color='tab:blue')\n",
    "axis[1].plot(t_emg[start_i:end_i], ecg_gated_fun_twice[start_i:end_i], color='tab:orange')\n",
    "axis[1].set_ylabel('ECG gated (uV)')\n",
    "axis[2].grid(True)\n",
    "axis[2].plot(t_emg[start_i:end_i], emg_di_gated_twice[start_i:end_i], color='tab:blue')\n",
    "axis[2].plot(t_emg[start_i:end_i], emg_di_gated_fun_twice[start_i:end_i], color='tab:orange')\n",
    "axis[2].set_ylabel('EMGdi gated (uV)')\n",
    "axis[3].grid(True)\n",
    "axis[3].plot(t_emg[start_i:end_i], ecg_rms[start_i:end_i])\n",
    "axis[3].set_ylabel('ECG rms (uV)')\n",
    "axis[3].hlines(\n",
    "    y=peak_height, \n",
    "    xmin=t_emg[start_i], \n",
    "    xmax=t_emg[end_i],\n",
    "    color = \"C1\"\n",
    ")\n",
    "axis[3].set_xlabel('t (s)')\n",
    "\n",
    "for idx in range(len(ECG_peaks)):\n",
    "    if ((ECG_peaks[idx] > int(start_idx)) \n",
    "        & (ECG_peaks[idx] < int(start_idx+plot_window*2048))):\n",
    "        axis[3].plot(t_emg[ECG_peaks[idx]], ecg_rms[ECG_peaks[idx]],'rx')\n"
   ]
  },
  {
   "cell_type": "code",
   "execution_count": null,
   "metadata": {},
   "outputs": [],
   "source": []
  }
 ],
 "metadata": {
  "kernelspec": {
   "display_name": "emgandash_230307",
   "language": "python",
   "name": "python3"
  },
  "language_info": {
   "codemirror_mode": {
    "name": "ipython",
    "version": 3
   },
   "file_extension": ".py",
   "mimetype": "text/x-python",
   "name": "python",
   "nbconvert_exporter": "python",
   "pygments_lexer": "ipython3",
   "version": "3.10.5"
  },
  "vscode": {
   "interpreter": {
    "hash": "715559eda0e456e9cdc499f5ec9b632cad73616ca8207bb3c3108e6214e21bfd"
   }
  }
 },
 "nbformat": 4,
 "nbformat_minor": 4
}
