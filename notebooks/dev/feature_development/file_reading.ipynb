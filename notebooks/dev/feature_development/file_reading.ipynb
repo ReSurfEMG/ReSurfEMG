{
 "cells": [
  {
   "cell_type": "code",
   "execution_count": 1,
   "id": "2d1b817b",
   "metadata": {},
   "outputs": [
    {
     "name": "stderr",
     "output_type": "stream",
     "text": [
      "C:\\Users\\makeda\\anaconda3\\envs\\emgandash\\lib\\site-packages\\mne\\fixes.py:321: DeprecationWarning: distutils Version classes are deprecated. Use packaging.version instead.\n",
      "  if LooseVersion(scipy.__version__) >= '1.1':\n",
      "C:\\Users\\makeda\\anaconda3\\envs\\emgandash\\lib\\site-packages\\mne\\fixes.py:1134: DeprecationWarning: distutils Version classes are deprecated. Use packaging.version instead.\n",
      "  if LooseVersion(numba.__version__) < LooseVersion('0.40'):\n",
      "C:\\Users\\makeda\\anaconda3\\envs\\emgandash\\lib\\site-packages\\mne\\fixes.py:1134: DeprecationWarning: distutils Version classes are deprecated. Use packaging.version instead.\n",
      "  if LooseVersion(numba.__version__) < LooseVersion('0.40'):\n"
     ]
    }
   ],
   "source": [
    "%matplotlib widget\n",
    "import ipywidgets as widgets\n",
    "import matplotlib.pyplot as plt\n",
    "import numpy as np\n",
    "import sys\n",
    "import os\n",
    "import glob\n",
    "import numpy as np\n",
    "import pandas as pd\n",
    "import matplotlib.pyplot as plt\n",
    "from scipy.signal import savgol_filter\n",
    "from scipy.signal import find_peaks\n",
    "import collections\n",
    "from collections import namedtuple\n",
    "import builtins\n",
    "import math\n",
    "# import our library as is now\n",
    "sys.path.insert(0, '../resurfemg')\n",
    "import helper_functions as hf\n",
    "import converter_functions as cf\n",
    "from config import Config\n",
    "\n",
    "config = Config()\n"
   ]
  },
  {
   "cell_type": "code",
   "execution_count": 2,
   "id": "aa429248",
   "metadata": {},
   "outputs": [],
   "source": [
    "# get new changes in our library i.e. the tmsisdk\n",
    "import sys\n",
    "sys.path.insert(0, '../resurfemg')\n",
    "\n",
    "from tmsisdk_lite import Poly5Reader"
   ]
  },
  {
   "cell_type": "code",
   "execution_count": 3,
   "id": "7bd9c5bc",
   "metadata": {},
   "outputs": [],
   "source": [
    "root_emg_directory = config.get_directory('root_emg_directory')"
   ]
  },
  {
   "cell_type": "code",
   "execution_count": 4,
   "id": "5a983356",
   "metadata": {},
   "outputs": [],
   "source": [
    "new_emg_different = 'C:/Projects/20180523_225654.Data8Raw.Poly5'"
   ]
  },
  {
   "cell_type": "code",
   "execution_count": 5,
   "id": "eb0a41d1",
   "metadata": {},
   "outputs": [],
   "source": [
    "\n",
    " \n",
    "# what is inside duiverman emg\n",
    "# 1 Int: EMG of intercostal muscles\n",
    "# 2 F dia: EMG of frontal diaphragm\n",
    "# 3 D dia: EMG of dorsal diaphragm\n",
    "# 4 Abd: EMG of abdominal muscles (not always recorded)\n",
    "# 5 VAR: no idea.. I have to look that up. Looking at the other arrays, it may be the EMG of the right diaphragm. Can you look at the data? Is it an EMG channel?\n",
    "# 6 L Dia: EMG of left diaphragm\n",
    "# 7 RMS int: root mean square of intercostal muscles (so filtered)\n",
    "# 8 RMS F dia: root mean square of frontal diaphragm (so filtered)\n",
    "# 9 RMS D dia: root mean square of dorsal diaphragm (so filtered)\n",
    "# 10 RMS abd: root mean square of abdominal diaphragm (so filtered)\n",
    "# 11 RMS R dia: root mean square of right diaphragm (so filtered)\n",
    "# 12 RMS L dia: root mean square of left diaphragm (so filtered)\n",
    "# 13 Paw: airway pressure (not always recorded)\n",
    "# 14 Pes: esophageal pressure (not always recorded)\n",
    "# 15 Pga: gastric pressure (not always recorded)\n",
    "# 16 RR: respiratory rate I guess (very unreliable)\n",
    "# 17 HR: heart rate (very unreliable)\n",
    "# 18 Tach: number of breath I gues (also very unreliable)\n",
    " "
   ]
  },
  {
   "cell_type": "code",
   "execution_count": 6,
   "id": "4f3cfca7",
   "metadata": {},
   "outputs": [
    {
     "name": "stdout",
     "output_type": "stream",
     "text": [
      "Reading file  C:/Projects/20180523_225654.Data8Raw.Poly5\n",
      "\t Number of samples:  10175502 \n",
      "\t Number of channels:  18 \n",
      "\t Sample rate: 500 Hz\n",
      "Done reading data.\n"
     ]
    }
   ],
   "source": [
    "data_emg = Poly5Reader(new_emg_different)\n",
    "#data_emg = Poly5Reader(our_sample)\n",
    "data_samples = data_emg.samples\n",
    "emg_fs = data_emg.sample_rate\n",
    "converted_to_seconds =  []\n",
    "converted_to_samples = []\n",
    "for i in range(len(data_samples[0])):\n",
    "    converted_to_seconds.append(i/emg_fs)\n",
    "    converted_to_samples.append(i)\n",
    "data_samples = data_emg.samples\n",
    "emg_fs = data_emg.sample_rate\n",
    "converted_to_seconds =  []\n",
    "converted_to_samples = []\n",
    "for i in range(len(data_samples[0])):\n",
    "    converted_to_seconds.append(i/emg_fs)\n",
    "    converted_to_samples.append(i)"
   ]
  },
  {
   "cell_type": "code",
   "execution_count": 7,
   "id": "cbe4c970",
   "metadata": {},
   "outputs": [
    {
     "data": {
      "text/plain": [
       "(18, 10175502)"
      ]
     },
     "execution_count": 7,
     "metadata": {},
     "output_type": "execute_result"
    }
   ],
   "source": [
    "data_samples.shape"
   ]
  },
  {
   "cell_type": "code",
   "execution_count": 8,
   "id": "e66978ec",
   "metadata": {},
   "outputs": [],
   "source": [
    "def poly_duiverman(duiverman_poly5_file): \n",
    "    \"\"\"\n",
    "    This is a function to read in Duiverman type Poly5 files,\n",
    "    which has 18 layers\n",
    "    and return an array of the 12  unprocessed leads\n",
    "    for further pre-processing\n",
    "    \"\"\"\n",
    "    data_emg = Poly5Reader(duiverman_poly5_file)\n",
    "    samps = np.vstack([data_samples[:6],data_samples[12:]])\n",
    "    return samps\n"
   ]
  },
  {
   "cell_type": "code",
   "execution_count": 9,
   "id": "99cd47ce",
   "metadata": {},
   "outputs": [
    {
     "name": "stdout",
     "output_type": "stream",
     "text": [
      "Reading file  C:/Projects/20180523_225654.Data8Raw.Poly5\n",
      "\t Number of samples:  10175502 \n",
      "\t Number of channels:  18 \n",
      "\t Sample rate: 500 Hz\n",
      "Done reading data.\n"
     ]
    },
    {
     "data": {
      "text/plain": [
       "array([[-3.89819169, -5.61415386, -3.80954814, ...,  0.        ,\n",
       "         0.        ,  0.        ],\n",
       "       [-3.64805627,  5.31452036, 13.85493565, ...,  0.        ,\n",
       "         0.        ,  0.        ],\n",
       "       [10.73729706,  2.730896  , -7.74936914, ...,  0.        ,\n",
       "         0.        ,  0.        ],\n",
       "       ...,\n",
       "       [39.23068619, 39.23561096, 39.24053192, ...,  0.        ,\n",
       "         0.        ,  0.        ],\n",
       "       [89.91201019, 89.91389465, 89.91577911, ...,  0.        ,\n",
       "         0.        ,  0.        ],\n",
       "       [98.        , 98.        , 98.        , ...,  0.        ,\n",
       "         0.        ,  0.        ]])"
      ]
     },
     "execution_count": 9,
     "metadata": {},
     "output_type": "execute_result"
    }
   ],
   "source": [
    "poly_duiverman(new_emg_different)"
   ]
  },
  {
   "cell_type": "code",
   "execution_count": null,
   "id": "5ea51c55",
   "metadata": {},
   "outputs": [],
   "source": []
  },
  {
   "cell_type": "code",
   "execution_count": 10,
   "id": "2a69c5b0",
   "metadata": {},
   "outputs": [
    {
     "name": "stderr",
     "output_type": "stream",
     "text": [
      "C:\\Users\\makeda\\AppData\\Local\\Temp\\ipykernel_13808\\1367814705.py:1: DtypeWarning: Columns (1) have mixed types. Specify dtype option on import or set low_memory=False.\n",
      "  newnow= pd.read_csv('C:/Projects/20180523_225654.DataPF.csv')\n"
     ]
    }
   ],
   "source": [
    "newnow= pd.read_csv('C:/Projects/20180523_225654.DataPF.csv')"
   ]
  },
  {
   "cell_type": "code",
   "execution_count": 11,
   "id": "95c1e64b",
   "metadata": {},
   "outputs": [
    {
     "data": {
      "text/html": [
       "<div>\n",
       "<style scoped>\n",
       "    .dataframe tbody tr th:only-of-type {\n",
       "        vertical-align: middle;\n",
       "    }\n",
       "\n",
       "    .dataframe tbody tr th {\n",
       "        vertical-align: top;\n",
       "    }\n",
       "\n",
       "    .dataframe thead th {\n",
       "        text-align: right;\n",
       "    }\n",
       "</style>\n",
       "<table border=\"1\" class=\"dataframe\">\n",
       "  <thead>\n",
       "    <tr style=\"text-align: right;\">\n",
       "      <th></th>\n",
       "      <th>Time</th>\n",
       "      <th>Events</th>\n",
       "      <th>RMS Int [uV]</th>\n",
       "      <th>RMS F Dia [uV]</th>\n",
       "      <th>RMS D Dia [uV]</th>\n",
       "      <th>RMS Abd [uV]</th>\n",
       "      <th>RMS R Dia [uV]</th>\n",
       "      <th>RMS L Dia [uV]</th>\n",
       "      <th>Paw [mB]</th>\n",
       "      <th>Pes [mB]</th>\n",
       "      <th>Pga [mB]</th>\n",
       "    </tr>\n",
       "  </thead>\n",
       "  <tbody>\n",
       "    <tr>\n",
       "      <th>1017531</th>\n",
       "      <td>5:39:10.680</td>\n",
       "      <td>NaN</td>\n",
       "      <td>21.080</td>\n",
       "      <td>30.873</td>\n",
       "      <td>13.892</td>\n",
       "      <td>10.627</td>\n",
       "      <td>14.831</td>\n",
       "      <td>14.831</td>\n",
       "      <td>-2.462</td>\n",
       "      <td>0.380</td>\n",
       "      <td>0.331</td>\n",
       "    </tr>\n",
       "    <tr>\n",
       "      <th>1017532</th>\n",
       "      <td>5:39:10.700</td>\n",
       "      <td>NaN</td>\n",
       "      <td>20.826</td>\n",
       "      <td>29.963</td>\n",
       "      <td>13.422</td>\n",
       "      <td>10.404</td>\n",
       "      <td>14.813</td>\n",
       "      <td>14.813</td>\n",
       "      <td>-2.456</td>\n",
       "      <td>0.381</td>\n",
       "      <td>0.335</td>\n",
       "    </tr>\n",
       "    <tr>\n",
       "      <th>1017533</th>\n",
       "      <td>5:39:10.720</td>\n",
       "      <td>NaN</td>\n",
       "      <td>20.614</td>\n",
       "      <td>28.946</td>\n",
       "      <td>12.948</td>\n",
       "      <td>10.144</td>\n",
       "      <td>14.732</td>\n",
       "      <td>14.732</td>\n",
       "      <td>-2.450</td>\n",
       "      <td>0.386</td>\n",
       "      <td>0.338</td>\n",
       "    </tr>\n",
       "    <tr>\n",
       "      <th>1017534</th>\n",
       "      <td>5:39:10.740</td>\n",
       "      <td>NaN</td>\n",
       "      <td>20.436</td>\n",
       "      <td>27.839</td>\n",
       "      <td>12.492</td>\n",
       "      <td>9.850</td>\n",
       "      <td>14.586</td>\n",
       "      <td>14.586</td>\n",
       "      <td>-2.451</td>\n",
       "      <td>0.385</td>\n",
       "      <td>0.339</td>\n",
       "    </tr>\n",
       "    <tr>\n",
       "      <th>1017535</th>\n",
       "      <td>5:39:10.760</td>\n",
       "      <td>NaN</td>\n",
       "      <td>20.271</td>\n",
       "      <td>26.659</td>\n",
       "      <td>12.057</td>\n",
       "      <td>9.527</td>\n",
       "      <td>14.380</td>\n",
       "      <td>14.380</td>\n",
       "      <td>-2.453</td>\n",
       "      <td>0.384</td>\n",
       "      <td>0.341</td>\n",
       "    </tr>\n",
       "  </tbody>\n",
       "</table>\n",
       "</div>"
      ],
      "text/plain": [
       "                Time Events  RMS Int [uV]  RMS F Dia [uV]  RMS D Dia [uV]  \\\n",
       "1017531  5:39:10.680    NaN        21.080          30.873          13.892   \n",
       "1017532  5:39:10.700    NaN        20.826          29.963          13.422   \n",
       "1017533  5:39:10.720    NaN        20.614          28.946          12.948   \n",
       "1017534  5:39:10.740    NaN        20.436          27.839          12.492   \n",
       "1017535  5:39:10.760    NaN        20.271          26.659          12.057   \n",
       "\n",
       "         RMS Abd [uV]  RMS R Dia [uV]  RMS L Dia [uV]  Paw [mB]  Pes [mB]  \\\n",
       "1017531        10.627          14.831          14.831    -2.462     0.380   \n",
       "1017532        10.404          14.813          14.813    -2.456     0.381   \n",
       "1017533        10.144          14.732          14.732    -2.450     0.386   \n",
       "1017534         9.850          14.586          14.586    -2.451     0.385   \n",
       "1017535         9.527          14.380          14.380    -2.453     0.384   \n",
       "\n",
       "         Pga [mB]  \n",
       "1017531     0.331  \n",
       "1017532     0.335  \n",
       "1017533     0.338  \n",
       "1017534     0.339  \n",
       "1017535     0.341  "
      ]
     },
     "execution_count": 11,
     "metadata": {},
     "output_type": "execute_result"
    }
   ],
   "source": [
    "newnow.tail(5)"
   ]
  },
  {
   "cell_type": "code",
   "execution_count": 12,
   "id": "79c41bba",
   "metadata": {},
   "outputs": [],
   "source": [
    "def dvrmn_csv_freq_find(file_name):\n",
    "    file = pd.read_csv(file_name)\n",
    "    sample_points = len(file)\n",
    "    time_string = file['Time'][sample_points -1]\n",
    "    seconds = float(time_string[5:10])\n",
    "    minutes = float(time_string[2:4])\n",
    "    hours =  int(time_string[0:1])\n",
    "    sum_time = (hours*3600) + (minutes*60) + seconds \n",
    "    freq = round(sample_points/sum_time)\n",
    "    return freq # 10175"
   ]
  },
  {
   "cell_type": "code",
   "execution_count": 13,
   "id": "af4e8234",
   "metadata": {},
   "outputs": [
    {
     "name": "stderr",
     "output_type": "stream",
     "text": [
      "C:\\Users\\makeda\\AppData\\Local\\Temp\\ipykernel_13808\\983619166.py:2: DtypeWarning: Columns (1) have mixed types. Specify dtype option on import or set low_memory=False.\n",
      "  file = pd.read_csv(file_name)\n"
     ]
    },
    {
     "data": {
      "text/plain": [
       "50"
      ]
     },
     "execution_count": 13,
     "metadata": {},
     "output_type": "execute_result"
    }
   ],
   "source": [
    "dvrmn_csv_freq_find('C:/Projects/20180523_225654.DataPF.csv')"
   ]
  },
  {
   "cell_type": "code",
   "execution_count": null,
   "id": "d74e8531",
   "metadata": {},
   "outputs": [],
   "source": []
  },
  {
   "cell_type": "code",
   "execution_count": 14,
   "id": "4f8d49e8",
   "metadata": {},
   "outputs": [],
   "source": [
    "def dvrmn_csv_to_array(file_name):\n",
    "    \"\"\"\n",
    "    This transformed an already preprocessed csv from the Duiverman lab into an EMG\n",
    "    in the format our other functions can work on it. \n",
    "    \"\"\"\n",
    "    file = pd.read_csv(file_name)\n",
    "    new_df = file.drop(['Events', 'Time'], axis =1)\n",
    "    arrayed = np.rot90(new_df)\n",
    "    arrayed = np.flipud(arrayed)\n",
    "    return arrayed\n"
   ]
  },
  {
   "cell_type": "code",
   "execution_count": 15,
   "id": "ba69d004",
   "metadata": {},
   "outputs": [
    {
     "name": "stderr",
     "output_type": "stream",
     "text": [
      "C:\\Users\\makeda\\AppData\\Local\\Temp\\ipykernel_13808\\2972198589.py:6: DtypeWarning: Columns (1) have mixed types. Specify dtype option on import or set low_memory=False.\n",
      "  file = pd.read_csv(file_name)\n"
     ]
    },
    {
     "data": {
      "text/plain": [
       "array([[ 4.0140e+00,  4.0590e+00,  4.1170e+00, ...,  2.0614e+01,\n",
       "         2.0436e+01,  2.0271e+01],\n",
       "       [ 8.5080e+00,  7.9160e+00,  7.3790e+00, ...,  2.8946e+01,\n",
       "         2.7839e+01,  2.6659e+01],\n",
       "       [ 3.5780e+00,  3.3760e+00,  3.1840e+00, ...,  1.2948e+01,\n",
       "         1.2492e+01,  1.2057e+01],\n",
       "       ...,\n",
       "       [-1.0000e-03,  3.0000e-03,  4.0000e-03, ..., -2.4500e+00,\n",
       "        -2.4510e+00, -2.4530e+00],\n",
       "       [-1.2000e-02, -6.0000e-03, -5.0000e-03, ...,  3.8600e-01,\n",
       "         3.8500e-01,  3.8400e-01],\n",
       "       [ 8.0000e-03,  1.5000e-02,  1.4000e-02, ...,  3.3800e-01,\n",
       "         3.3900e-01,  3.4100e-01]])"
      ]
     },
     "execution_count": 15,
     "metadata": {},
     "output_type": "execute_result"
    }
   ],
   "source": [
    "dvrmn_csv_to_array('C:/Projects/20180523_225654.DataPF.csv')"
   ]
  },
  {
   "cell_type": "code",
   "execution_count": 16,
   "id": "2d47e210",
   "metadata": {},
   "outputs": [
    {
     "data": {
      "text/plain": [
       "[<matplotlib.lines.Line2D at 0x1dab182daf0>]"
      ]
     },
     "execution_count": 16,
     "metadata": {},
     "output_type": "execute_result"
    },
    {
     "data": {
      "application/vnd.jupyter.widget-view+json": {
       "model_id": "c8353a0c236a4ca5805789bc686a7dd0",
       "version_major": 2,
       "version_minor": 0
      },
      "image/png": "[encoded data removed]",
      "text/html": [
       "\n",
       "            <div style=\"display: inline-block;\">\n",
       "                <div class=\"jupyter-widgets widget-label\" style=\"text-align: center;\">\n",
       "                    Figure\n",
       "                </div>\n",
       "                <img src='data:image/png;base64,iVBORw0KGgoAAAANSUhEUgAAAoAAAAHgCAYAAAA10dzkAAAAOXRFWHRTb2Z0d2FyZQBNYXRwbG90bGliIHZlcnNpb24zLjMuMywgaHR0cHM6Ly9tYXRwbG90bGliLm9yZy/Il7ecAAAACXBIWXMAAA9hAAAPYQGoP6dpAABt/UlEQVR4nO3deXQb5b0//vdot2VL3i3LdvaF7AkJJA6FsCaEJaW0BUpvmvRCKJdSCiG/3tL2tCnfAqe9LfSWLrQ0NC2EQksbbimUJkBICCQhi012sjnxvtuSN+3z+0OWIlmSLcna5/06xyfx6NHo0Via+cyzfB5BFEURRERERCQZsmRXgIiIiIgSiwEgERERkcQwACQiIiKSGAaARERERBLDAJCIiIhIYhgAEhEREUkMA0AiIiIiiWEASERERCQxDACJiIiIJIYBIBEREZHEMAAkIiIikhgGgEREREQSwwCQiIiISGIYABIRERFJDANAIiIiIolhAEhEREQkMQwAiYiIiCSGASARERGRxDAAJCIiIpIYBoBEREREEsMAkIiIiEhiGAASERERSQwDQCIiIiKJYQBIREREJDEMAImIiIgkhgEgERERkcQwACQiIiKSGAaARERERBLDAJCIiIhIYhgAEhEREUkMA0AiIiIiiWEASERERCQxDACJiIiIJIYBIBEREZHEMAAkIiIikhgGgEREREQSwwCQiIiISGIYABIRERFJDANAIiIiIolhAEhEREQkMQwAiYiIiCSGASARERGRxDAAJCIiIpIYBoBEREREEsMAkIiIiEhiGAASERERSQwDQCIiIiKJYQBIREREJDEMAImIiIgkhgEgERERkcQwACQiIiKSGAaARERERBLDAJCIiIhIYhgAEhEREUkMA0AiIiIiiWEASERERCQximRXIJ25XC40NTUhNzcXgiAkuzpEREQUBlEU0dvbC6PRCJlMmm1hDADHoKmpCZWVlcmuBhEREUWhvr4eFRUVya5GUjAAHIPc3FwA7g+QTqdLcm2IiIgoHGazGZWVld7ruBQxABwDT7evTqdjAEhERJRmpDx8S5od30REREQSxgCQiIiISGIYABIRERFJDANAIiIiIolhAEhEREQkMQwAiYiIiCSGASARERGRxDAAJCIiIpIYBoBEREREEsMAkIiIiEhiGAASERERSQwDQCIiIiKJYQBIRESUjjrOABc+AkQx2TWhNKRIdgWIiIgoCkf+6v43twwomJjculDaYQsgERFROrP1JbsGlIYYABIRERFJTMoFgLt27cKtt94Ko9EIQRDw+uuv+z2+du1aCILg97NkyRK/MlarFd/4xjdQVFQErVaLVatWoaGhwa9Md3c3Vq9eDb1eD71ej9WrV6OnpyfO746IiIgo+VIuAOzv78e8efPwy1/+MmSZG2+8Ec3Nzd6ft956y+/xhx9+GFu3bsUrr7yC3bt3o6+vD7fccgucTqe3zN13342amhq8/fbbePvtt1FTU4PVq1fH7X0RERERpYqUmwSycuVKrFy5csQyarUaBoMh6GMmkwmbNm3Ciy++iOuvvx4A8NJLL6GyshLvvPMOVqxYgRMnTuDtt9/G3r17sXjxYgDA888/j6qqKnz66aeYPn16bN8UERERUQpJuRbAcLz//vsoKSnBtGnTsG7dOrS1tXkfO3jwIOx2O5YvX+7dZjQaMXv2bHz00UcAgD179kCv13uDPwBYsmQJ9Hq9t0wwVqsVZrPZ74eIiIgo3aRdALhy5Ups2bIF7733Hn72s59h//79uPbaa2G1WgEALS0tUKlUyM/P93teaWkpWlpavGVKSkoC9l1SUuItE8xTTz3lHTOo1+tRWVkZw3dGRERElBgp1wU8mjvvvNP7/9mzZ2PRokUYP3483nzzTdx+++0hnyeKIgRB8P7u+/9QZYZ77LHHsH79eu/vZrOZQSARERGlnbRrARyurKwM48ePx+nTpwEABoMBNpsN3d3dfuXa2tpQWlrqLdPa2hqwr/b2dm+ZYNRqNXQ6nd8PERERUbpJ+wCws7MT9fX1KCsrAwAsXLgQSqUS27dv95Zpbm7G0aNHsXTpUgBAVVUVTCYTPv74Y2+Zffv2wWQyecsQERERZaqU6wLu6+vDmTNnvL/X1taipqYGBQUFKCgowMaNG/H5z38eZWVlOH/+PL7zne+gqKgIn/vc5wAAer0e99xzDx599FEUFhaioKAAGzZswJw5c7yzgmfMmIEbb7wR69atw29/+1sAwH333YdbbrmFM4CJiIgo46VcAHjgwAFcc8013t89Y+7WrFmD3/zmNzhy5Aj+9Kc/oaenB2VlZbjmmmvw6quvIjc31/ucZ555BgqFAnfccQcGBwdx3XXXYfPmzZDL5d4yW7ZswUMPPeSdLbxq1aoRcw8SERERZQpBFEUx2ZVIV2azGXq9HiaTieMBiYgosXY85f53xq2AYXZy65JmeP3OgDGARERERBQZBoBEREREEsMAkIiIiEhiGAASERERSQwDQCIiIiKJYQBIREREJDEMAImIiIgkhgEgERERkcQwACQiIiKSGAaARERERBLDAJCIiIhIYhgAEhEREUkMA0AiIiIiiWEASERERCQxDACJiIiIJIYBIBEREZHEMAAkIiIikhgGgEREREQSwwCQiIiISGIYABIRERFJDANAIiIiIolhAEhEREQkMQwAiYiIiCSGASARERGRxDAAJCIiSmeCkOwaUBpiAEhEREQkMQwAiYiIiCSGASARERGRxDAAJCIiIpIYBoBEREREEsMAkIiIiEhiGAASERERSQwDQCIiIiKJYQBIREREJDEMAImIiIgkhgEgERERkcQwACQiIiKSGAaARERERBLDAJCIiIhIYhgAEhEREUkMA0AiIiIiiWEASERERCQxDACJiIiIJIYBIBEREZHEMAAkIiIikpiUCwB37dqFW2+9FUajEYIg4PXXX/d7XBRFbNy4EUajEVlZWbj66qtx7NgxvzJWqxXf+MY3UFRUBK1Wi1WrVqGhocGvTHd3N1avXg29Xg+9Xo/Vq1ejp6cnzu+OiIiIKPlSLgDs7+/HvHnz8Mtf/jLo4z/5yU/w9NNP45e//CX2798Pg8GAG264Ab29vd4yDz/8MLZu3YpXXnkFu3fvRl9fH2655RY4nU5vmbvvvhs1NTV4++238fbbb6OmpgarV6+O+/sjIiIiSjZBFEUx2ZUIRRAEbN26FbfddhsAd+uf0WjEww8/jP/+7/8G4G7tKy0txY9//GN87Wtfg8lkQnFxMV588UXceeedAICmpiZUVlbirbfewooVK3DixAnMnDkTe/fuxeLFiwEAe/fuRVVVFU6ePInp06eHVT+z2Qy9Xg+TyQSdThf7A0BERBTKjqfc/85cBZTOSm5d0gyv3ynYAjiS2tpatLS0YPny5d5tarUay5Ytw0cffQQAOHjwIOx2u18Zo9GI2bNne8vs2bMHer3eG/wBwJIlS6DX671lgrFarTCbzX4/REREROkmrQLAlpYWAEBpaanf9tLSUu9jLS0tUKlUyM/PH7FMSUlJwP5LSkq8ZYJ56qmnvGMG9Xo9Kisrx/R+iIiIxk5IdgUoDaVVAOghCP4fdlEUA7YNN7xMsPKj7eexxx6DyWTy/tTX10dYcyIiIqLkS6sA0GAwAEBAK11bW5u3VdBgMMBms6G7u3vEMq2trQH7b29vD2hd9KVWq6HT6fx+iIiIiNJNWgWAEydOhMFgwPbt273bbDYbdu7ciaVLlwIAFi5cCKVS6VemubkZR48e9ZapqqqCyWTCxx9/7C2zb98+mEwmbxkiIiKiTKVIdgWG6+vrw5kzZ7y/19bWoqamBgUFBRg3bhwefvhhPPnkk5g6dSqmTp2KJ598EtnZ2bj77rsBAHq9Hvfccw8effRRFBYWoqCgABs2bMCcOXNw/fXXAwBmzJiBG2+8EevWrcNvf/tbAMB9992HW265JewZwJQkZ94BIABTrkt2TYiIiNJWygWABw4cwDXXXOP9ff369QCANWvWYPPmzfjWt76FwcFBPPDAA+ju7sbixYuxbds25Obmep/zzDPPQKFQ4I477sDg4CCuu+46bN68GXK53Ftmy5YteOihh7yzhVetWhUy9yClCPsgUL/f/f/xSwFlVnLrQ0RElKZSOg9gqmMeoQSz9QMf/sL9/yseAlTa5NaHiCiZvHkAPwuUzkxuXdIMr99pNgaQiIiIiMaOASARERGRxDAAJCIiIpIYBoCUnjh0lYiIKGoMAImIiIgkhgEgERERJZfLBbQeB6y9ya6JZDAAJCIiouRq2A8c/z/g498luyaSwQCQiIiIkqvrnPtfhy259ZAQBoBEREREEsMAkNKIkOwKEBERZQQGgBQ7DhtQtw8Y6Ep2TYiIiGgEDAApdmp3Amff4yBeojTyzvFWvHeyNdnVIKIEYwBIsdNT5/6XSZqJ0kK/1YEjjSZ8Um+C1eFMdnWIKIEYABIRSZTvrRrv24ikhQEgpSlerYiIiKLFAJCIiIhIYhgAUsqz2J240NkPF/uoiIiIYkKR7AoQjebV/fXo6rfh6sk5WJDsypBkiKIIQWDuSSLKTGwBpOiIItDfkZCR41397qWBzrRykXBKjPquATz/wTmcaeNnjtIAb1QoCgwAKTpn3wU+fh6o3ZXsmhDF3NbqRvRbnXjjk+ZkV4WIKC4YAKYDUQSc9mTXwl/9fve/Fz5K4IvyLpcSw+mSxnhTfqOIpIsBYDo4+jdg10+BwZ5k14QkQuSEG0qWrtqLSeWJKG4YAKaDjtPuf1sOJ7ceScaQJDEcThde3HsBbx9tSXZVSGrsg8AnrwDVWwCXK9m1IcpoDACJyM+FrgF09tlwotmc7KpQAqVEo6990OeXVKgQxUur2cJzTJIxDQyljezBZg5aSoCUCASIKKO9vM/dzZ+rUaAiPzvJtZEmtgCmMbPFDodTOt0keb2nLv7CKIWIKO150nxR4jEATFMdfVZs+qAWf9xzIdlVISIiojTDADBNnW3rAwCYB1MsPQwREVEErA4nugdsEDnuM6EYABIRSRQXkKBkEyDgL/vrsa+2C+291mRXR1IYABLRMHG+C7f2Asf/AZga4/s6RJQWOvpsfv9SYjAApLSh6z+f7CpQLJx8E2g9Bhz6U7JrkrGaTYN4ae8F1HcNJLsqRJSiGABS2hBczqifK6XZ0ilvsDvZNUgKq8OJQVv0n+FI/O1gA9p7rXjtYEPYz0m98VfS658WRREdfVauxEMJwQAwrUjvhBgLRxtNePa9MzjZwqSjlByiKOLXO87iuZ1nYU/AzYjdyQAiHe063YEX91zA7jMdya4KSQADQMp424+3AgD+dYRLmwFAz4AN7xxvRc8Ax9skim+DDmfuUyiHLrhbxw+cl2YrOSUWA8A0JXD6HkXpDx+ex5FGE/7w4flkV4XIy+F0ubs/U64rmigzMQCk+IrbWBZeJOKFw48oGf5e3Yi/HqhHRy9bpqXE05ahdFo4yCnBGABmAJdLTM1Bw2feAfb9FrBbkl0TkqiG7oGUyC2WyAb7HSfbwi4rpNAlt7F7EADQ2svzhdSUm6qRbe9MdjUkhwFgBvj97nPYMrSwdkqp3++e8dn8SUx212d1xGQ/JA2mQTv+eqABL+29gFOtvXh+1zk09biDDN8bpqaewYxJlyKKImrqe5JdDaKIVJr2J7sKksQAMFW5XIBzWMDTdS5o0X6rM2mtHP1WB+o6R7t4xq510pWKLZ0UN939NjSbBqN6ru9kizcPN6PP6sCr++vRb3Vg0+5a7DnbCVEU8er+erx2sAEWe2JStPATPAoeIKKEYACYqg5sAj58BnD6zBg0NwEW05h2W981gI6+2AWLhxtN+NuhBpgtnNlI4Qq/23HzR+fxysf1MMVw5uxfD9Sj1+LA3nOdcPkEG4nK0RdPY7k/4r0VpQqL3Ym/HqjHsaaxXe9oZAwAU1V/h7sFsK/Vu6nXYseFJncqk2jGFJkG7HjtYANe3HMhVrX06rU4AIcVVoeTs/gSoNdix8kWM5wuaRzraFLWhApougcSe7NiGrAzL18EHC4mbZe6vec60dA9iG3HWkcvTFFTJLsCFL6jTWYcdbbijrJJUT2/ZzB+s+sEAM2tLTjfOYAyvQYTfB9k00LMvbj3Aqx2F3qnOnDZhIJkVydp6rsG0Nlvw/zKvGRXJai2Xgu27K1Djpqn2nAN2hkAStZQw4bNwc9AIrAFMA2l6mSIuqGB9M2m+M3iYyjpZh26SNZ29Md83+l0jF872IAdJ9tSdhLH2Tb33ydVv7OUKVJnNjelDwaAacolka4/ykBxyInCMahuPCtEps1swUt7L+B8HG6kMp1p0I5PW3ojTkEmimJKpGYiBoCpL8SX62hTaq1rK9WFSQ5e6MbHtV3Jq0AUV3yFcxCG3iNQOJlvLRnGOiKivmsAr3xch7YY5MuT6vfW4/9qmtDea8XW6sZkVyXtvLC7Fm8dacaxCK9Fu8904KW9sR+HTpFLywBw48aNEATB78dgMHgfF0URGzduhNFoRFZWFq6++mocO3bMbx9WqxXf+MY3UFRUBK1Wi1WrVqGhoSHRbyVqwdYTdUSwyHwkLYjVdd344HR72OWlwuF0Ydepdnx4pgP9adTFN71jOyZ078G0jm3Jroqf3afdF4amnkEcbzInJLl5bxq2HL52sAHNJgteZ9AyZolK/ZPJGrojS9PEdY5TR1oGgAAwa9YsNDc3e3+OHDnifewnP/kJnn76afzyl7/E/v37YTAYcMMNN6C3t9db5uGHH8bWrVvxyiuvYPfu3ejr68Mtt9wCpzM1TgguUUSr2QJzBIHFs++dwanWXr9toih6g5PO/ouTQGoaekbcl2nAjjcPN6PFZMH7n7bjwPnumLQ4xEyMgoNP6nvw3snWqIIN3xjakUZd8rlW90xy3dC/iWZ3unC+sz9gXNz+811o77Xi1f31+Pcx94SisQhnNrrvesg2pwt1nQMBM6s/qe8J+F6FK54tbANB0tYkakUgu9MFewQ3nESUetJ2appCofBr9fMQRRE///nP8d3vfhe33347AOCPf/wjSktL8fLLL+NrX/saTCYTNm3ahBdffBHXX389AOCll15CZWUl3nnnHaxYsSKh7yWYhu5BNPYM4tShBqzRhP+8t440Y1ppLgDgDx/Womco5cW1l5Rg56cXW/GaegZx6bj8kPv555EmtJmtfhc+31QWPYM27wB3ILWWlIrEe0PLZk0tyUVlQXaSayMNtR196DRZ0GyyoGqEcp0xzFcZjpeHVtNZNMH/e+H5jEy7ITeh9UkE38Tq4YaOLpeIX753BgDwzeumQiaLzXdfEJ0oHDgbk31R+vC9SUrPq0j6StsWwNOnT8NoNGLixIm46667cO6ce5WM2tpatLS0YPny5d6yarUay5Ytw0cffQQAOHjwIOx2u18Zo9GI2bNne8sEY7VaYTab/X7ixZP4Ntr8YXanyxv8ARcvYuHqCZIrzbd14URzL2xJaAHwbXUQRTFmefCsTDvgFe9GpD5rarSyh3K4IXWTz/q2msbi73SqtS/i51gczqD/H6sK00FUmg7GbH9ENLK0DAAXL16MP/3pT/j3v/+N559/Hi0tLVi6dCk6OzvR0uLu1iotLfV7TmlpqfexlpYWqFQq5OfnhywTzFNPPQW9Xu/9qaysjPE7u8gb6Aw7ywujnPXDvSiYB0fuWo60K2nkrq7Q+4pk3CIAVNf1eLv2/n6oEc/tPAtrDC9CkZD6APqoJai3PNoAKVHJtZtNgxiwjT7EY9Dm9NbJPsqNSqQ1t/qMgdt+vCVhXcjBlJtrEv6a/A6PHY9h+krLAHDlypX4/Oc/jzlz5uD666/Hm2++CcDd1eshDPtUiqIYsG240co89thjMJlM3p/6+voxvIuR+bZIOX1Oylp756jPff/TNrSMkouv1WwJOobn4IVubNpdO2LLY6gJD5FeN8+19+HZ987g4IXgs2jruwZwsiWwldWTb7CuawA2hyuMtYgzl1RWXXGJgTclvp/fWA5BSEQA2NA9gFc+rsfvdvmv7213unCmrc97U9NrseO5nWex+aPzca/T+Y4B/P1QY0RL4vVZHUkNGlORxe7Eq/vrcHiUcdbkNvz75hRFnG1nWp5ESMsAcDitVos5c+bg9OnT3nGBw1vy2travK2CBoMBNpsN3d3dIcsEo1arodPp/H4S4ePaLtTU93h/H+2EW13Xg9cOjj6jefgMuLPtfdh1qj3oDGMA6O63QxRFPP/BuaCPD+d0iWjrtQS8jmnAjtOtvfi/miYAwK5THUGf/9rBBvzrSGCLbFNPCk1GGdLea8EbnzShqz9+q62kg44+K9472TrK7NrwAgbfe7HXqxvx548v3nCdbu31jkNLNyJE703L8K/yjpNteOOTJvzm/bOwO124MFQu1Hcy1uq6BvDuyfCX39qytw7vnohseEmm21fbhaYeC49LmHyP06DdiY9ruzg7O0EyIgC0Wq04ceIEysrKMHHiRBgMBmzfvt37uM1mw86dO7F06VIAwMKFC6FUKv3KNDc34+jRo94yqWZw6AuRa20ZtXUvXMPH+f1jKCAL5Z0Trdh1uiNo15opyAXqfGc/zrb34x81Tdh2rAUDNgdaTBa88GEt/nm42a+sb6vDsSYTdkQ4ZnGsxtqN8cYnzTjT1if5fGJb9tbhk3pT0MDdo8cS3sl9+CzXVrPFu+LHv44Ou8Eb6wx1MTZjQDv7rKiu6/a2agT7WI10/+bJqSaKwNvD3qPN4QoInR1OF442miJaacTudOEvB+px4HxX0Fb7VnPwyTeDNmfQC/ORxtQdM5kMo3XTJ0O6tNJauAxgQqXlLOANGzbg1ltvxbhx49DW1oYf/ehHMJvNWLNmDQRBwMMPP4wnn3wSU6dOxdSpU/Hkk08iOzsbd999NwBAr9fjnnvuwaOPPorCwkIUFBRgw4YN3i7lVCIMO+UXDpxDS1s7YjFf6rWDDVg134h/1DSFvZ7soQvBczi9ebgZS4Zta/PJ9n6syTxiwtDndp7F5JIc6LOUIV8jHSSqpSZWuvptKNCqYrY/z6zS9hjM4A2WL6y6vgeVBdkB3UbVdT2YZdSjOFcd8etM6XwPBQPnUW28C3b52GaC/2mPO8GtCIScZf/hmQ6/gK3VbEGpLnCq/5m2PuizlN7ff7XjDOaPy/Mr89HZThy80I0ctQLrrpoUMrg83NCDPosDS6cU4UijCY3dg2gcJX+bacAOmQzI1SjhcLrw3E73DN11V0W3Fnm6O9PWhw/PdGDlbANKgvy9PFIt1BqwOfDnj+sxw5CLpVOKvNs9QeFoQ6M87E4XDjeYMKlIi/xRzhkWuxNNPYMYX6iFPEazxCn20jIAbGhowJe+9CV0dHSguLgYS5Yswd69ezF+/HgAwLe+9S0MDg7igQceQHd3NxYvXoxt27YhN/diGodnnnkGCoUCd9xxBwYHB3Hddddh8+bNkMvlyXpbYWtuawXUgSlwouFp9dt/PrarWTyz/VRAQDias23hz0isD3HxCmesJ130x4/O4+Hrp0Z8zOq7BpCtkkOXpcTRRhMmFeVAn60c/Ylx1GwajCoALOp3dyUX959Ck27+iGUHbU60mi3otzlgsTuxcHzwG6c2s7tFMlgwcGHYmNVTrb1BA0DAPSbXV01dj9/vnpuq0VoAPd1sU0tz4Qgjs4DV4cQLH9YCAPKzlej26S2wpWALVyK88Yn7XPmPT5pw75XpEQSfaevD4YYemAft2Ffb5RcAvnG4GZ19VqxeMh4K+eidgXuGbjZ2nWrHIzdMC3jcYneivdeKivwsvF7diGaTBZdNKMBnphYF2RulgrQMAF955ZURHxcEARs3bsTGjRtDltFoNHj22Wfx7LPPxrh28cfwZuhkrHAH9CLcFyzTgB1/r27E0smFmFuRl9T6JUq4PTsOpwtvHmnGhEJt0H34xn8jTSxp77XitYMN3q7AS8fn49CFbuw+3YFvXDfVZ5/ufbhcYszyxPnuN/hj7n+r67rhcIkoyok8GBzJ8SYz3jnR6tf6OLEoJ2gL6tn2frSaLdhzdvRJWx7RdNP5dsm+ebh51ITV4aZu6rNcDCi7hw0V+euBwMlvjT2DsNidmFycg36rAx19VlTmZ8f0b58qQk2QczhdON5sTpnVZdqGxiUH83Ftl/eGu3GopW40jT3Bb7qPN5khwD1+tNfiwIpZBjQPDVM60WxmAJjC0jIAzHSt5tSb5JDK3hwaTyiXCXC6RLx7oi0hAWA6XdqONplxrr0f59r7I26Z9eUb/AHwjskLthLKiWYzth9vxa3zjJhYFPwC88z2U5hbocdV04rDev1z7f348EzwSUOAO+B8fyjh+fUzQk/oisa/jwWOa/zj0OzcScVanPOZuWhzuLyJpUdzpNGEzj4bmkyRLak1XKjg73SEq5iMFogGW4HkL/vdQeFXr5jgt7pKXrYSa6omQCYTYHe60NZrhVGvCWhxPtGcWmubR2Pvua6Y96REo7vfhlyNImguV8DdJTzSdyiYVrPFb+z50WHjPn2H9xz3+Vv2WR041drrXZwgmhn27NWJHwaAKei9k22YMPR/lZPT4YMLPJEkKn9bOopVt93wSQChggW7U/ROYni9unHEbubDDaaIki9/XBv6IutbG4crcV2V58aQtsJqd6G2I37fc98JVy6XOOrFv9fi8I5ljJRv8Ae4J5o19gyisiAbr1c3+q0bW5ijgtXuwuQSLT6pN/ndmNicLsRuZGpieNJTJdOFzn78/VAjSnRqzDLqg5ZpHjaJ0Degd7lEtPVaUZyr9hu7N/xmZvvx0DPF64cdhzcPN2PKdTmo73anGYrUieZezDQmJuOG1DAATEG+19QpnTuSV5GYYWCWrlpMFhj0Ghy80O0d1+aro+9i2ptQ+SEB903NdTNKYY5j99h7J9v8Vrx532fpQ3ILJz1UPF6zPC8roAuxc+iz80l9YPDf1W9DbEY5x16oxqhk5uS80DWAQZfZO/u+zWxFZ1/g5//fx1pwfNhkvLePtmBGmTvA2nW6HdVD40xXzjFgWkkuTgTJxRopEcCbR5pHLRdMffcAA8A4yYg0MJlm1BPJUISotbajwnQQMlf4KSAyRd5gbC9kqdLBYHe68O6J1ri2CEXin4c9uRrbcbJl5K7E4UmNfR1uMOGZ7aew6YPamNaP0kOo8WOJYHU4cbTRFFGC60Tac7YTn/jkeY2UKIp4/9O2gNRLwXpEhgd/vtp7rd7gDwD+daQFB+u6se1Y+HkhR6pjtD4d5bxD0WMAmILaQuThGm5O61ZUmA7CmIQllJJN4Rr5gjLWRKJn2vrw5uHmoKulxFN1XQ8ON5jwepj5BGPZ5vD20Rb8ZX+9Xws0u9Up3W071ortx1vxj09SL0dnV78Ne891RrxWu69YfENrO/rx0t7Abv/dpyMbKxjKG4ebYI0yxx/PQfHDADADZNuTP/A41Yw0RiUcb9Q0oq6hHu8nOCF1MmYQ2ofGyp1oNqOxZ9BvsPeAzekd8K2zNGFi1weQu6S92gnFXywTF58Zmu0abAWhsU4ucDhdONPWG/UNZyzG5sbiSIV7wxmt8x3JHx9JgTgGkDLShc6xdaFO6v4AJX0ncWFwCTDrCzGqVWr69Y6zuG1Buff34UMQPMH0zLZ/AgBcggIX8qsSV0GSLIvdCUEA1IrUzM/qScRdolOHnZKJImd3uqAMI1chRYZHNA3JRbbAxGPMnm+rQ0nfSQBAhelgHF4p8VyjXJ18WwCCDcr3pXGkf8qOYARewVNGi8kCh8uF37x/Fr/ecRauIN2ANocLx5vMYxrbN9aWRs/4tHCH7Qzn2wBpdUT+Pjr6rGO+2U0H+86xlyseGACmoYndHya7Cmkj3BP89uOteP6DcwFdOcOX4ks14by9jj5rRAmJ401MmSk3/ipN+5NdBRpicbgw4PNd7LU6MGDzn+y249M2/PtYS9Trb4uiGDKpczg6+6x+K7CEuyenS8Sp1t6A1Vt+veNsxHU43dYXcu3mTFIrgSA3GdgFnIbUjvCXTJMql+ge2FyqC281CE8urL8dasCkohzvdpmY/jOsI036SpQKdviMv31ht3v2+NevmQKVwt1u4ZnRGkni/DazBYU57hx3Yxkn3Ngz6E1+7eEIc8LYoTr3yjlZKjk+5zP0YjiL3Qm1QgaXCMmvp9vRm/lBbjKwBVBilI5+5A3Whb+GWJpyukS8Xt2IP38cuGzVSNrMVuw9599aFssB6aPx7RL6V5R5s4gyQbDk2m297mCvZ2DkYTChvrNb9tV5E5QfG5YSRRRFdPZZR511OmhzBgR/7joFTuDy7boesDmw/XirtzV+0OYcset416l2/PVAA36762zQySIdfQyKaGwYAGaCCGayLWh+BZe0v42igTNxrNBwcQigwgzKzIP+J+ULnf346GwHmobWLg2H54KRaCdbekedFdxqtgSkqjnZYpbEuCCSnr8eaMCHZzoCgp+X99XB4XRh0ObEyRYzfrXjDA5e6AqavDxY9yvgntDxpz0X8It3TwcEkCMlOR/J/757GgM2B1pMFuw42Y6jjSa/APOdE6FbIY81uWflW+0u/GrHGXT32/Dyvjrvkn8v+q3WIu0WQooOu4DTVGnvsaieJxPdQU+epR4d2qmxrFJa8CxFFMmg4pMtvVg5pyxeVfIjDDuRhxPm/vtYC26ZawTgXlvX45EbpsWl9XLsY/h4saLoBVsKsNVswbPv+d/U7joVeujD80GSlvvu9+fvnAbgXst41Txj1EvjAcBvd4ZOkB6JzUPrTr95uBnnyjgMiMaOAWCa4kQQ6TBb7Djb1ocZZTpolIHpME63ui8Gw1sLPcHg+MLs+FeSKAP1DNjHFPzFy4lmro5BY8cAUKoyewhgQgyG6EIWRRF7znXCoNNgUvHFCSUDNgc0CjlkEQzo/tNH570zFZt6LLh5bvCWyJr6Hr9B874udDIJKxER+eMYwAygs3CyQLydaL44YNzmcKFnwIYdnwYutg4AZ9v7se9cF/6vpsm7rb3Xit/uPIf/ffc0zkewzq9vmoraDndLX31XYEAXKvgjIiIKhgFgBlC4wk+DQNF5+2gLntl+CoM2J3614wz+8OF5nG0LPg5n+ABzURRxrOlicuWt1Y2w2J14eV8dDl64OO7I6nCioTt0a53D5d7PawcbxvhuiIiSSz9Yj3JTdcZnpEhl7AKmiBT3fYpyc3Wyq5G0BM3P7YwsWevBC904NLRUlK8PTneg1WxBq9mCQq0aVocLb42S9kUU3QvbExGluxnt/wIA9KsKQpYp7vsUDpka3dkTElQraWEASBGZ3LUz2VVIeb7dsbtOubuJ+9r9WwWPNvq3CBIRSVGohQ3Ujl7v9WbvuPsSWSXJYBcwxZ08A1bTICKixFE4ObQp3hgASlQiu1CN5k/isFeOGyEiIooWA8AMobc0YFbr/yHL3p3sqhCNgomgicgtWeO5iQFgxpjR9hZyra2Y1rE92VUhIiIaG98lTsXAtZBp7BgAZhglx00QEVGaE3zGjqudXPouHhgApiLmRRoVuw3SV7a9M9lVIKKUMfq53LOGPcUWA8AMI3J8FaWwbFtHsqtARGnh4rVsSueOJNYjczEAlCy2oFHiyV32ZFeBiNKMljeOccEAkIgSR2ALNRFdVGE6lOwqSBYDwJQ0hta5JFxf5S5b4l+UiDKe3GXl+SXDKVzWoNs5nCn+GADSmE3reCfZVaA0wYEHFC6Z6MRlDX/EZQ2bOTEugwiiAxO6Pkx2NQgMADOO312TKCbkxKm3NMT9NYhiThQxqWtXsmtBIaic/d7/cxZo5jD0Hoeh79iIZWa0vcklRBOAAWCmEl2Y1/JXzGp7IyXuni9p+1fEz1E6B1DSdwIyThxIKWMbkJ063TpaWwdK+k4muxpEkpJrax21jN7SiJlt/0xAbaSNAWAKikWOuyyHCVn2HuRaW7zbfFNwhPsaguhEae9xqO2mMdUnz1IfdlmlcwCC6MDMtn9iUtcHmNg9SneBKEJrbeNYoRjSDzZgevu/oXIEJmDNlKSsMrBVKZX5jwFL/k0sxQbP06lDkewKUGypnAMhH5vZ9mbE+zOaP0Gl6QAAYO+4+6KuV7jUdhMWNL8KUZBBGFr+p2DwPAbMn/gX9GnVLBg8j2kd22FV5KLa+KW411EKZrS/NfQ/EZ8W3xjweI61BX1qQ8T71TjGdiNBROmNSfxTB1sAJSTUbKuR6KzN3v9f0vbWCCWHibLbeXrHNgDwBn+A+45xfM++kM8pHDgLAFA7eqN6TQpNZ2kOun126z+i2p8mhf5GvAylkFHOFwwaMgjX9U0ZDABpRL4n3rwETPbItnfH/TUofHIxtuMvU+kybug7HrBtRtubUDvMSaiN1AX5ZDBnZEbiXzV1MABMSalzmdRa2+P+GqW9xzGue29KTFahyCmcg1COMPQgVRX1nwnYprc0YnLnziTUhkbGc8NI0itnHv+WqYIBYAqa1LU7pvub2vke8gfO+20rGKgd9XmC6Ih5C5CHytHnnWAwsXs3jL2HkWNrC/v5xt7DyLZ1AnCPAfRiEJlYoguLGl/EwsaXIHMFSduQot09vpOjhlO6BgG4J0DNbP0HKns+TlS1JCt4F286BTUULoHn6JTBADAFFfefiun+CgfOesfWRWJOy/9F/ZohB/uLIjT2Hlza9DIubXoZgk+up0hnh81t+RuW1P3Ob7xgad+JqOpL0ZH5HHtP4CRzOaB0DqCo/zSW1G8KuPlIBWXmwyEf87SmFAzUQmdtQbm5JkG1ShyZy4GJXbuhHxx9WEdKpGFi0DAivbUx2VWIAP+WqYKzgCmkbHtn1M8d37M3YNuSut8FbFtc/4L3/zPaI88VOBxnmY4sO4ocfvrBBpiyKoI+JvMJ4BVOC6yKXCxseskvmJ/esc1nBvnYW3UE0QlRkAc+ILqgdFlgl2cHeUyE3tIQ1mcsa+gzlMnJh429n6C07zhK+46POLtfP1iPGe3/QqNuAerzLgssIIoo7j+FAWUB+tXFMa1jenVrJpfO0pTsKoSNE3pSB1sApUx0+d1ZT+vYjiV1v4PR/AnKTdUR7apoWKtl8pr5eXIZScDs3TC6aC+mhPGndvRiUeOL3t8dcg2A+OT50th7MLlzB2a2voHF9ZugsfdA5ehzty6KIhROC5bU/x4LG1+C1ho4lGCc6eOwbzCEFOm2Vjn6UNp7zK9rXeG0oKj/dPDu9hDUjt6A8sHyOwLu4Lq471Of4RkfAQDKzcHPB3pLIyZ37cSc1q1h1yc4fm/HIp2CqixO9EsZbAHMQNPat/mPiwthSf3vg24fN0LKlVCmdL7v93skiZ9jqaz3KBp1C+CQZyXl9VONxt4DqyLX22ImG7a8UqXpYPCWnTAsaPqz3+8iBOSMMLYumKkd7+BM4TWQiU6oHb0YVOYhb7AeZb1H/FIQDTe/+S/e/3dop/hN6Cjv/QRnlctQbq6GcXj+yAj4Hqty0yFYFDr0ZI1DwUAt7HINejTjAEGAIDohE51wylTh7ddlh6HvGOQuGxp1C+CSKb2PeVs3RRHzWl6D3GVDlr0H7TnTMaDMw4z2t4ZWYtnhbblTO3phled4Z83mDdZhaud7OGy4HRq7GTPa34JDpoFZU4aO7Cnoyp6IooGLx6u09xhac2YAggxGcw0qTQfhlKmwv2ItXIJPG4Eo+s/MFV3Icly8mMudFjiHbgKybR1QOi0wa8q8XchOuQYQXRAguuvs+VyGcbPItsCRZdl7vMc0GJnLgTxLHQYVeZjQswdNufNCturHWya3rKcbQRQ5uCJaZrMZer0eJpMJOp0uZvvds2lDzPYlVR3aKThTeC0A9xjIqR3votr4pZAnyOF8u6sTkQA7HgoGzmFaxzswacpxouRmAMG74cOxv2INLmv4Y9R1OVdwJZwyFbLsPagwHYx6PyQd1ca7sKDpFQDAgfKveFuYM01R/ynYZdnegCzb1umdENemvWTEdDjDv8+1+VfA0HcMJ4tWwCHXIG+wHnLRAUPvkYAUWyIEWJR6tOTMRmvOJdDaOjGozIdLpkC2rRP5g+fRnDsXgPsmw6bQwilTD9X5NAaUBRhQFXr3V9h/BgqXFa05M1FhPoReVQnMmjKIgrudSe6yYnzPvqiXX6y656dRPS+UeF2/0wlbACkjFfWfgUtQoCN7MqZ2vAvA3WJl0lRAP5TPsNr4JeTY2qC1dXhbiur1l6Eze6Lfvjwn2dr8K2DWGGGV50DpGoTcZUOOrQMiBJg05ZjY/SGUzkEIcKE2/wqIghylvcfQmT0ZStcAsuw9UAx1j7Zpp8Muz4LO2oSO7CkA3K2X43v24mD5f7jHsYkiZrT/C3pLA04V3QDHUADVqzZgbsvfgr7vurzF3hZci0IPwN1Np7H3eH+PxliCPwCY1PXBmJ5P0uMJ/gBAb2mAKMhgUeihtzRC5exDXd5iiBCgdvZD5rJDLtrRryrE1M4d6MyeBIXTAptci56sSshEB0TIIRPtKByohcrZD4dMjWadO8BROfrgEhTBg0xPG8lQa68IGRQuK1yCHHLRjgndezCgLEBz7hwAgNLZD6tS720xdbfidqHCVI16/SJYlHo4BSUgCNDYe/x6T0yacugtFyd05FpbcT6/Cobe4xCHXt8pU6Fg8ELQcX+eZTMXNL866vEVICLL3oOJ3bsxsTt45onKUW7WThdeC6dMhZ6scZja+Z5fHTxs8mz0ZI3jutspiC2AY8AWQCIiovhjC2DsSX4SyK9//WtMnDgRGo0GCxcuxAcfsKWCiIiIMpukA8BXX30VDz/8ML773e+iuroaV155JVauXIm6urpkV42IiIgobiQdAD799NO45557cO+992LGjBn4+c9/jsrKSvzmN79JdtWIiIiI4kayAaDNZsPBgwexfPlyv+3Lly/HRx99lKRaEREREcWfZGcBd3R0wOl0orS01G97aWkpWlqC5zKzWq2wWq3e381mc1zrSERERBQPkm0B9BCG5VgSRTFgm8dTTz0FvV7v/amsrExEFYmIiIhiSrIBYFFREeRyeUBrX1tbW0CroMdjjz0Gk8nk/amvT85qF0RERERjIdkAUKVSYeHChdi+fbvf9u3bt2Pp0qVBn6NWq6HT6fx+iIiIiNKNZMcAAsD69euxevVqLFq0CFVVVfjd736Huro63H///cmuGo1BtfEuWOW57iWURBHTOrajYPA8zhRejY7sqVC4LBfXChZFLKl/3vvcvePuQ8FALaZ1+N8YmNUGnCi52bumLuBet3Vx/SYAuLh6BwC13eTNxL+v8j/dSyENrQrgWVXkeMnNMGvKAQQu5+SQqVFb8Bl0Zk9Gtq0DLkHht/ZtKIcNt0PlHMAl7W/jQt5i9zJOPsMZgr0vokxkVpfheOmtANyrfOTaWr0rAp3PX4qSvhPItnfDotCjK3sCAKA5ZzbsCi0gipCLNu+yZ8O/n91Z4/Fp8Qrv9k/KvohBZT7kLhsua9gMAGjSzUODbiFcMvclVmvrQLnpkHeN9k8MX8CgqiCspRmPla7ynj96VaUoGDwPmWgPWH89Ut1Z46FwWZBrbR2xnCjIIIguv237K9bg0saXIRftftutihwcNnwBRvMnKDdXB+zLd3k/Sj5JB4B33nknOjs78fjjj6O5uRmzZ8/GW2+9hfHjxye7ahSlzuzJsCp8WmYFAaeK/Wd6e4O/oceH61MV+/0eai1gUZDjXMGVEESXN/gbvk9BBETh4rZzBVci29YFs9roLXOu4Cpk2zthl2Ujy96NM4XXeMsPqIoCXrc7azzyBy/4bevQTsGAshADqiLsrVwX9H11ZwWOWd1beS/kLhtcMqU3uM0fOI/pHdv83/+wQDmYYyW3YlCZD4XLggndHyFvaMk9wH1BNJo/QYN+od9awEdLV0HlHIRTUKLcfAg6a/AJWKF0ZU3wXlR9uQQFZKIjon2NpKbsDtjl2RAhINfaCoVoRWf2ZOQPnIdLUMCsKUOWvRtOQQmZ6IRLpoTSOQCZ6IRdpoFFqffeLHi0aaejO2s8zGoDXDIFZKILht6jsCh07jWTzYcAuD8zZb1HkGXvQb3+Mgwo81HWdxRt2mko7TuJC3mLkW3vRo+mAi5BgUWNf/J7nXr9IjTqFgAQAQiQi3ZvoOLrSOnnIMCFPlUJZKIDLkEBAS7350IU3cupCTKIkGF8zx64BCUadQvgEmTQWVsws+2fAIBDxrvhFBQQBQWUrgEUDNRiQFkAqyIXVkUuRAjQ2rswqNBDJjrhkGugcFoC6h2uQWUe+pVFKBo4g+6s8dBbGvFp8Qrv4zZFDjoVORCLZMiz1KM1Zwa6siaguP8UWnNm+J8PAEAQ4BTU3l87sqegaOAMLuQtAQC05swAAJwtWAaly4JBZT4AwClToabsDuQP1qE1Z6Y3+AOAflURThUvR3Hfp1A5BzCoKgDg/gyU9H8KwL2sml2ejRxbG9q00zG5aycsCj161Qa/6nUNLVXZqyoddck3z/rnnkCzQXcprIpcdGeN9y57FywIrc2/Aq25s/y2ecr1aCrglKlxoOIr0FmaMaP9LW+Zev0iOGUq1Oddhvq8y1DSdwIOmQZFA2fQkT0FVoUOfapi5NjaR6w3JYakA0AAeOCBB/DAAw8kuxoxd6D8K6OeUD8p+yIGFXkoHDiLqZ3voS3nkqSt1+gSFHAJCihcloieZ5dlQekaHNNr1+ZfgYndH+JcwVUA3BeMcLUNXQx8OWQX1xMVhwViwcq35Vwy6uvsq7wHCpcVDpkKoqCA3GVDuekQjL2HIQoynCm89mLhEJOYPIuy+xFkcA5b/7Q/SNAZbJ97x92HbFsH5rb8HQBgl2fBIdfAIdfgZMlNfheWurzFaNAtRK7NP8Dr87m4mTTlEOCCyjkAjcMEk6YCakcv5C4rBlRFkDst7ouzTI3RKJyDWNT4YsD2AWUBGvSXYlrHO6Puw5dFmXexnlkV3v93D7UeAYHBulWR6/f7qaLrYTQfxrmCK6F0DsCsMfq1KDsFoFF/KQB3q1WF+RC6siagLWcG2nJmQOaywyVT+r1uh3YaAKBPfXHc8tmCZdA4zFA5+9CUO88bbADC0OuocLrwWu/arRfrn+/9jLgE9+uIGKqfIHi3AcCFfP9hMmaNEaeKrodFoff7/lhlOjTr5mE4z2fMBfc+HWH8TfeOuy8gWDlWcisGVAVwytQ4g2tDPNOtK3uiN3iyKXK8x3o0Z4quxRnxakDwHzHVnjM9oKxFmYdmn8/KcMOfcz7/CpT0f4petQGdWvea4GaN++bw0+IbR6yXVTn62t7DP4NOmTJovQH33+BI6W3QWVvQrp0a8Pjeynuhs7agT1UCwH0D7PtdaNQt8H4ePTznuy6f9dWdMtWo9abEkHwAmIk6syfDfbc/Ms+da6d2ivfkUzhwFnKXHXvH3Ye5zX9Dtr0zZvU6UL7ae7ftOZEPb60Kp0vEw9My5/scEcGDn5G05s4KuNsdC6dMhSOG2yFC8LvAj4UoyP1aGZ0yFRr0i2BTaNGdFdsW60gCYMFnKfHRjr1vi0jwnQkQIfe2FAGeC5j7/8MD1RF35fP5v5C3GON79gEADpd9AQBg0lRA79NCOdxhw+24pP3fUDn7w37N0XRlT0JX9qSh3wpHLGtT5LiHD+Di58cT/I0m1AXeV2f2ZDhlKvQrC6FxmN3HPtgNQgQuvrfYOzkUDJ0uug5F/We8LeC9mrK4vaYfIT7D5V0yBfZV3gMxzsPxm3TzkD94IegNqIdDpoFVqUd7qMBSkHmD02B61SVh1ibyczTFBwPAFGRWGyLuCvN1uvAaKCNsSfPYX/FV7//tcg1gH6HwCIJdYH27WkJ1q4bLGiJIEcIIfBMhaCtajLlkCrTkzonoOefzqzChe0/M6uDbwjC8tSGpfAPTIBfv0T4lA6oi1OVdNuZxVmMx1oBsRIKAnqxxAOAe95biejTulqbO7MlwCsqAIRDpLFY3icP5Bmt1eYtRl7c4aLmTxTei0nQAZwqujup1Pi1aDq29Ez2acWE+IzXO0cQAMCW5xnrij9Hd6oCyAHpLY1TPjfdXvF6/KM6vkJlacufENAB0yDU4XnKz+zM77HPn6Vo/W7AsZq8XjWhbV5wCu6pSkUXB7AvhOFV4XVjlerLGeW8GotGdPQHdmBB2+eETSih5GACmIN8xZFETxx6CtWunoaz3yNjrEmcWhc7djQWgVx08hyPFj2c283CtubPQrp0WdtdlLNkVWnRop8AFedAxRxalHhihCxhwT7ZpzZmB/mGTgii5LMo8nCi5CXZZ1uiFJSxgckuKSJVeGmIAmJJGHSuVIAOqkccpjaQ9Z7rfLNB4ssuzvQFgm3b0CRWUOMkI/jw8E2MKB84GPFavvwyG3mNBn9cxNB4WgoDagivjVj+KnklTMXohSlEMAFOFZBNBZ7rhd1k2eXTjfMzq0QdZdwfpPujMit+A8OF8u4RSJXjOFIMjzGhMF11ZE9CrNqApd653m1Omwv6KNajXX+ZX9kD5av8Z1ZQ0bOHLTOwCTh0MACVChIBDxrsjfp49jG6EltzZgRtDpCIZzfGSW4JuN4XoZqT4ssrDnxEcDqVzbCl7oiEKchwrXYW6/CV+250yNRr1C/y2pWq3mRSdY+trRvKkkaHkYwAoEaasCr/0HuEEdmGLYYu+eVjSU48TxSsTUwHyE0lKmHBk2Xtiuj/KXM4kDh+g+ElEhgQKDwPAFBROUtTR+HYB1+svw/m8Kr/HY507bjRh5+fzmUnao3GvXHEhb3HADFPf/HMcVBx7J4tvRGf2ZFzQXx7T/fKiTiRtwZJMU3JwwFQKatTNh9H8SVTPvTiD+GJQ1Jw7O+rB+APKAhTi3CilYhuAVRu/BLnLhgFlPrIcJgwq8mK6fxrdWFNDhDKgLBi9EElP0CEjTBgcLnfKpY+QFr0hcUqqTZHjXyIFhbPUVWSiP5E26eaiQb9wxDLRTjAJxarIdc9AFmTu1UpGG0+YBuc8cov1Z4WIPC6eCN1rP6eu2vzPJLsKBAaAmctvJYQx7EZQjBoADqoKvOvohhTlpBDKLGNJLUREoTX5rLkczZKYidSaOzOi8h3ZU+JUE2ljAEgx0ZaTvPx7HAOYeGP5e3MlBwpHqgcxqaZuWEqjdNeom+/9P8/x8cEAMMN4Tpr+X5jMPpF6UsTwgpEY7dppOMcuHKLU4ju2LgN6XBj0xR8ngWSIdu1UFPefRoP+0oDHggZGES4V16OpGNPKHvFcV7VNOx0OmYr5peKs2vgl5Fqb3d0xYxrInf4XJ0osASLDgQzVoF+ICtPBgO3+a3jzrx8PDAAzxNmCq9GoWwCLQh+X/Z8uug4FA+cxuWtnVM8/UXxjjGvkQxDQlZ24lUekyqrIhVWRm+xqkFRkQCsWjc7uzVxx0YAyH025c1BurgbAyWPxwi7gTCEIsCjzvCdNm98KDmM/kTplarTnTI/6+f1qts4RUfhcwsX2CQ7vGE1mHZ/DZV+EU67ByeIb0aGdMupERIoOWwAzlEumwP6KNe5mdN5JE1Gascq1qMu7HE5BydxxYbIodNA4zOjKmpDsqsREvPKRkhsDwAwW+3yCRESJ0+QzE5RG90nZF6B0WmK+hCNlJt5Wpamm3LnJrkJScYYYEZE/UVCkXfDXqy5NdhUkiy2AaaoufwmMvYeTXQ0iIqKIHTR+GSpnPwZURcmuimQxAKS4a86dnewqUAoROSaVSPLsCi3sCs7uTSZ2AWeAruyJya7CiPxnJBMREVGyMQDMAC5BnrDXElNmNh7HAEbLs4xba05k63ESEVHmYBdwBkhkjqwawxdRMHgB43v2Juw1KbZq869Am3YaV04hIpKwVGnOoTRhVerRrAs+A9nBtDNpQRTk6FMbmFuNUhzHihLFE68AFDODyvxkV4GIiIjCwAAwI0R+p5zYPHocr0dERJRKGABmgF61IdlVICIiojTCSSBprLrsTuTaWtGRPSXZVSEiIqI0wgAwjVmVeliV+mRXg4iIiNIMu4AphhI31k8QOa4wXSUybREREQXHAJCIiJLOyhWDosblFSkaDAAlK4GtdQl7JSLKFGzjJ4ovBoCUpnh5ICIiihYDQCIiIiKJYQBIRETJx7EiRAnFAJDipjN7MlyCHG3aacmuCqUUXumJiJKNeQApZoanZjldeC0EuCAK8iTViIiIiIJhAChRCVkLWBAggsEfERFRqmEXMNEInDJlsqtAJE3MbUcUVwwAiSjBeGEnIko2BoApakBZCIdMHfSxT4uWj2HP7ouvSV0+hn0QERFROuMYwBR12HA7BLiwuH5TwGN2eVbU+z1k/BK0tg50Z40fS/WIiGKMLcNEicQAMFXFaQKFTZEDmyJea25ydQ4iIqJ0kJZdwBMmTIAgCH4/3/72t/3K1NXV4dZbb4VWq0VRUREeeugh2Gw2vzJHjhzBsmXLkJWVhfLycjz++OMQRQYxRFLUoLs02VUgIkqYtG0BfPzxx7Fu3Trv7zk5F1u1nE4nbr75ZhQXF2P37t3o7OzEmjVrIIoinn32WQCA2WzGDTfcgGuuuQb79+/HqVOnsHbtWmi1Wjz66KMJfz8UmYSksSFJYb5KIpKStA0Ac3NzYTAYgj62bds2HD9+HPX19TAajQCAn/3sZ1i7di2eeOIJ6HQ6bNmyBRaLBZs3b4Zarcbs2bNx6tQpPP3001i/fj0EpiAgIiKiDJWWXcAA8OMf/xiFhYWYP38+nnjiCb/u3T179mD27Nne4A8AVqxYAavVioMHD3rLLFu2DGq12q9MU1MTzp8/n7D3QSQ1YoreXKVqvaSLf4/w8VhR5NKyBfCb3/wmLr30UuTn5+Pjjz/GY489htraWvz+978HALS0tKC0tNTvOfn5+VCpVGhpafGWmTBhgl8Zz3NaWlowceLEgNe1Wq2wWq3e381mcyzfFkVATNQJjz3NRESUgVKmBXDjxo0BEzuG/xw4cAAA8Mgjj2DZsmWYO3cu7r33Xjz33HPYtGkTOjs7vfsL1oUriqLf9uFlPBNAQnX/PvXUU9Dr9d6fysrKMb9vik5X1oRkV4EyjEltHL0QxU3CbuqICEAKtQA++OCDuOuuu0YsM7zFzmPJkiUAgDNnzqCwsBAGgwH79u3zK9Pd3Q273e5t5TMYDN7WQI+2tjYACGg99Hjsscewfv167+9mszlJQWBqNkslcmIGB+xTrBwo/wrUzj70q4qSXRUiooRJmQCwqKgIRUXRnYCrq6sBAGVlZQCAqqoqPPHEE2hubvZu27ZtG9RqNRYuXOgt853vfAc2mw0qlcpbxmg0hgw01Wq135hBIkp/DrkGDrkm2dUgIkqolOkCDteePXvwzDPPoKamBrW1tfjLX/6Cr33ta1i1ahXGjRsHAFi+fDlmzpyJ1atXo7q6Gu+++y42bNiAdevWQafTAQDuvvtuqNVqrF27FkePHsXWrVvx5JNPcgYwERERZby0CwDVajVeffVVXH311Zg5cya+//3vY926dfjzn//sLSOXy/Hmm29Co9HgiiuuwB133IHbbrsNP/3pT71l9Ho9tm/fjoaGBixatAgPPPAA1q9f79fFmwrOFVyZ7CoQERFRhkmZLuBwXXrppdi7d++o5caNG4d//vOfI5aZM2cOdu3aFauqxUVbzgxM6vog2dUgIiKiDJJ2LYBE6UCr5iQVokj0qv0T+3NWMFF8MQAkGgOVQoa5FfqA7f+xZDwmFWtDPq8oRxXPahGlnfP5VWjTTk92NYgkgwEgURCe1od+VWHIMnMr9Pj6NVMwriA77P0qZAIWTywImGi0fFYpHrlhGh65YVp0FU4jbNmhYJwyNRr0C5NdDSLJSLsxgESJcLjsCzD0HkOjbn7IMpOKcwAAU0pycONsA3LUCrx2sGHE/a67ahI0SjnOdfR7t00oysYsY2ArIuBuYXS6RDhdqZn7kSiWEplLlEjq2AJIFMSgMh+1BZ+BTZEzallBEDCjTIfCYd26I6UTCjfT0I2zDXjouqnhFSYiIgoTA0CiCMw06iAbit4MuvgnD1bJ+RUlIqLYYxcwUQRWzDLg2ktK4HCKyFKNPNM3WCOfLEjTnzDCmLiK/KxIq+g1riAbdV0DUT8/fjgGkIgo2di8QBQhpVw2avA33FXTirFsejFUisi+cpGsSqOQhS576zxjRK8bjvxsZcz3SUREicEAkChGfFvyBAh+4/wWjs/HpePy4/r6184oCfnYlJLRxzJ6lOjCW++aSyZSfPHzFS7OrKdoMACkmDlbcBUcMjVq869IdlXi4rIJBSM+nqWS4xJDLqYbciNuIfQ1OYJgzVdxzsXA7QsLK6J+fWWQcYejvZ91V03CNZeEDkA9bphZGnW9iKRsRllusqtAGYYBIMXMgKoIB8q/gtbcWcmuSkwJAvDQdVPxmalFo5ZdOacMN80pAzDyBI6S3NATSK6aWoQslRxLJ1/MQbhkUuh8hB7Z6otDesvzIhs7GCyZta91V04a8fEctWLENoh7r5yI/7p6MmaXj/w6JHVMA+PxlarxmFik9f7/xtll+Ma1U5JcK8okDAAptjKgW/COyyoDtslHGF8XyhVTimDQa4K2el3pE0zma/3Tx+Rlq/C1qyZhcRhBn68ctQLLZ5Xi5rllkAWpb64m+JyvR26YhutmjNwyN/z9Xz29OKK65WqU0Ci5PJ5UhXMDk2lml+vx8PVTQ6Zxuu+qwJuqq6ZdPC/IZQJuW1COb143FYVDrfsKZgWgGOIs4DRwongl9NYmGM2fJLsqkjC89awiP/yVPnxp1Qp86fJxQR/TKOW487JKnGrtxZJJgV3L0Y6vC5VQGnAHtiebe/HhmY6o9u2rPD8LhxtMftviEfv/52cmQqdR4OfvnI79zsOQn61E94A9Ka+dSdLlvnBSsRaXGHSwOpxwukS0mCw42dIb8X7WLJ2AgqEbO3mQ9z6lJAdatQLzKvX4pN79PbptQTkq8rOw65T/9zPYzRxRLPB2Ig2YsipRl7c42dVIO1WTC3HPlRPHvJ+b5hhGLxQFY14Wrp5eArVi9JYxXdbY79V0GiUunzjyOEaPaFo8wyUOiwZGWv5On6WMKhgOlm4nGtdzzOKYqZXB18tOtlXzA2fGf3Z+OaYbcjG3Ig8LxuUHnbWvUsjwyA3T8NB1U1E6LBfo16+ZgnVXTfIGf6GsmBV4TplYpA3rc+tZY9yYF/88pJTZGABSxppcnAOdJjBVyXUjzJYNJluV/IbyGQYdFk8swO2Xlifk9e4M0g0+XF6YaWBmlOnGWp2IjC/Mxlc/M8F7oSR/oYYCxMv9V01Oie9QNDxjVst98nF6gjS5TMCEIv/eAZVChhz1yO91xSxDWOmgxBDDIT25SFfNS8y5gDIXA0BKU6MPFi/ODZ7OJD9bNWKrk69YtSSNlUwmYOmUIowvTExQU6rTBFzIrpjiPwlmeMtlqITWN872b+0YVMY3HY4+SwmdRonPzi8fdea2FC2K4zEZ/n1ZOccQtAvTc/NQnKvG5RML8PVrAic3iKN89T4bpAUv1i3XpToNvrZsEr5wafSz6oe7xDC22bwapRzzKvPGlGmACGAAmJKGrylLsWXQh991kiLxX9xEkph6ePfx8GOjzwqvRfBC3mI0587BkdLPeVujppW6L4pzK/RjWv1kuCumFIad13C4W+eVBWy7e7H/mM6vXzMFD18fm7Wav3HtFFw/ymQcX8tn+ZedWKQNa3LOtNLw0gyFyh2Zn63EV6+YEDS5+HUzSrx/SyD0TPg7L6vETXPKcNdllbhiSlFU37OcBLVkZqsUMRuHJwgc00epgwFgCho+roRiK1ieu3QU6aoi4dKO0F3naWHJzw68SaksyMK1YeQCdMrUuJBfhX51sTfn4crZBqxdOgHXXlIS01YcQRC8qTQiNaUksKWmVKfBwvHuFsyVc9xdeYIgQDlspP9/XT0Zs4y6iLqhR2pt1qoDW3sq8vy7H29bUI4FYSQbD7c7dniA6XHzXCPyslWYUpKDq6b5B5wapRw3zw0MnIPVYbohd0yzWotz1GNuTYuE5+9TGuUNBUXvtgXs7o6HzLgSZhjeH1I4DD43CrFYlu2z842YVHyxFUkM0s3+X1dPxgPXTA4aRAuCgHmVeX7bxhWEN4NaJhOQr1XFZXWRReMj7/KcaQw9bvHKqUW4f9lkXGK4WGb4bG+NUo7lswz47PzysJbh+9yC8hFbhmKdQufh66fi3lEmSKkVcqiVgX/nUEMrRntsJHLP391n4NukUQJ3QRCwcs7owWaoMY/jw/xsevzHknFYMC4v6ASOWOG5P7hob+JoZAwAiUYgpbv9ScU5+Oz8cmhHGMSulMvCmrXsMTXM7kZfwWZQTh9DS080LaXLR5j9KwhCwPirwhy1Xw43X1NKckbshv7askmYMHSBCxX/3jSnLOjQhc8tKEe2Sh5xC4kgCMgNMkFquJHWl46l4cHv3Ar9qLkpPTxjU0PlGgz194+09bEwR42rp5eM+P2I1IQEjeklCoYBINEIZpalXvqKVBGL0CDYPqomF2Lh+HzcdfnFmcjXzygNO5VIqNmTEdUrxi2RSydfDA7X+SQALtGp/bpkpxtyUaJTe7uZPYpy1EFzSk4o0uK+qyYlrIVktPQmsTLSMIThLp9YgHuvnIglkwqCfp5umlOGojBaJm8KozVxuEjqGYxCFvoSzDVRKN4YAKageHSDUaBw1svlnyK0ORWBKTJiQa2Q46ppxSjTX9yvSiHzaxFKdGqZcBRqw2st9p1dPXzmtFIuw5cXj/cbWzda0JWo88W6qybhP5aMD/l4XrYSuTFsHYtErsadL/KSIJ+Lohw1Vo9QbwDIVsmjamWeXa4PGP9JlC4YAJJkVYYxBijcXHdSVKbPwn1XRZ4iIzuN0ldEMiFlfGE2ls8qxZcXB1/9JdZikc9vtJyYvgFqjloR5HhcbKdaUzVhxHGMnrWtw5koFK1l0yJbonCs5DIBn4thihgKJMVlBBOFASAlxGjJUVPNHZdV4oaZpVEvAycVWvXIKTKCzWz1HT8XbDZxOBLVMmvQacLOBSkIAmYZ9SgJMos/VNAb7Rg7hUyISTqRuRV5IdeqjdRo9Vk8qRD3L5scMFEotIv7CzfYVSlk+OZ1UxO67nR5XhaWTS+OyUxVqfY4nCheGfKxYEtlUmyk11VZIjKp1UmlkKEiPwtXTyuBWinDb94/m+wqBZWlkmPQ5vT+Xp6XFbAmMEVutDQdc8pTe4ylIAi4ZV4Z/lHTNKb9lOo0uGpakTdX4vJZpdhf2xX1UnOxDBTiuezfcJEkL85Wyb2zigUB6LU4wnpeMvLsXRpG+h0KzZRVCbO6DDprc8BjHBIVP2wBTEELwr5DTp7z+VUAgHMFV46Y9+u2BeX47Pxy6LOVAXflw1NRlEWQoDlazCeVOCvnGILOtPR0vauVMkklxV04vsCbW3CWUY+1V0yMelJFuBfFcNeLjTZ9SzwTlwiCgC8vHocvLx4XcpWZdOG5EYokJZE6Tnk+Y+3h66fiy0sSM+yBYostgCloLMlRE6Uldw7atdPglKkxrTQXTeMGUV3XE1BON0LXzfBUFEsmFWJrdWNYr++QjTHfGCXNZ6YUIT9bFbe1emM9ezKR3YmxZMzTwJiXhaYey6hlP7egHCdbzDjSYEL3gD0BtQvOIfcNWIWMaf1ZPsuA+ePyUJo7ckAuCAI+O98Ih0uMabqZeBIEASWjvK8wdzT2fVBEUj/SoJTl9AnCrp7uP7A7W+VOIjvWNAkhCbH96KZrvj/PqjGpOCs2FKVchvmVedCFkYcuHNNKc3FLGKtPRMuod6/+EckybelGq1Zg4fiCmK8vO1Kak2CcMjVMl9wBLFwD+Dy3amgCSbrGCHKZgDJ9VkCLd7AchZOKc/yW0yOKl/S4xZAguUyA03WxLePG2Qb01Ln/r1Up0Bfj1yvRqdFmtsZsf/de6c51lupdfOuumoQBmwPHGs0ABpJdnYh9fmE5WkwWVMZhskos8uklgkYpw9TSXACB44cioVLIYHO4ArYLghCw5Fk6mlikTdiNwpJJhejst6KyIPJxtI7cCkDnv3rKxCIt/utq9wo024+3hr3CTKorHcr5qAtzHe1Mdd2MEhQq9ag7O7axthQZtgCmqNVLxvtNQtBlKZE3dJKYVR75SXz4gvW+s+q+ce0U3B0kyazH/csmR/x6cpkw4uDyWLU0rK4aOb/XcEW5/mOuctSK2HRfJIlaIcf4Qm3KB9qUeMMD+NsWlI9pRZVIVE0uxC1zjTHtwtUo5ZDLBNw42zDiUn0AMK/SPbloQlFqB4qem4v5aTDuezT/dfVkTCmJfOWfay8pwdyKPBj1Gi75lmAMAFNUvlaFOy67uBKCAPcqAbONOsyNYuakIAi46/JKXHNJCR66bqrfepYKuXtB+wXj8gC4T96+aVti2S101+WVqCzIxu2XxmYyRlFOZF232SG6pMvCHCxPmcuzLFc0S8fF01hiqHScPBHJUoOhLJlYiC8srMAtc0dfh5liQ6OUjynHpyAIfuubU/yxCziNyDyTJqK8IpTps/xWVxhu2bRizK3IQ362EkcaTBHvf3JJDs629Y0487BMnxXWChyJNr00F6KItDoBjdZDmyY9uCnjqmlFmFikjarbMlNE3u0fu0/ZjbMNONpowhVTxp74VyYTwkr0TiRlqXWrS0klCAIKtKpRu23+Y8l4bz4zX8tnluL6GaVYNS/9Uq0IgoAZZTrkJ2itU0otSycXIlejxEyjzm9merqbV6mHTBBG7TINJZGTLmaU6fDFRZUhW+lpZFdPT8w4VU5QyRwMACkoMcSd/YSi7JA5wzRKOeZU6MfUZRyv1CBEI0mX1iLP0m03zwlv1nOuRokHr53iN+SDAqV7a3m2WoEF4/ITsi7xytmhP0uR5Dmk5GMAmOHK87JimiJj6eQiAPFrGVg17+KYnaIcVczTUpC/RLUaxFM65M2MFc/SbRMiGCyfyJU+KLlCLbnpSaMTrlCTUiry3alsppYGn+yhD7GKVVhLHlYuBgB0ZU3wbvriotQbLpRJ2NaeJiINuGYZdaga6tZKJ6N1P19iyMWnLb0Jqk1mU8jca9eGksqtIlqVAldPL8aJ5l5cPkFarQ7hBnSp/Pej2DDo1GgxW4MGbFNKcnCmzZ0wLNiQnVAKtCpcc0kJaup7Ah777Pw4Du8pnAwsfRA91Z1Arw2r5hu5FnucMQBMU6FylnlU5GfHJfhLZm44ZfFk5GV1e9PjlOdLd7B+LKTjChe3zjPiVGsvLpuYD7VCjgVB1mDNHWH1GV9qpQxWe+jvEFGqm1CkRXl+NlRBWoSvmlaM9l4r5sUwxYynJa84R43TrcGz0Q5fVz0i6lzceZkWpkE7CiPM8ECRYwAoUaMtM5QSSYAFwa8eiy6ZDDQeREV+Fj4/rwKGBKwdTKllSklOyFxjn1tQjrPtfVg4PjAoDGbt0gn47c5zANJ3hQmSNgECVCHG/emzlPjPz7jXWjcFWd5v5RwDHE4Rx5vNaOwejOh1F47PhyAIQfMsXjYhH7tOdfhtK8hRhb3QgEIuY/CXIAwAM0BRrhodvZGt4lGgVWHFLAO06vBagQx6DfosjjEsGh87giBgXCG7BsjfhCJtRGPjONuUMs200lzsq+1CUY5/NgN9thJrl07AS3svwDG0wtQlBvfM8Nnlejyz/ZS3rCcf7NTSnJCtfAq5DJdPDDX04mJA+uUl43DoQg+qJhdCKRdgsbvwx4/OR/fmKOZ4BkxTFflZONfeDwD40mWVePa9MxHvI5LUEHddVglRvLi0WyIGlmsUMuQXZOF0ax8ng/ioLMhGfdcA5lVEnhCciDLQUBP24kmFKNFpUBFkeEy+1j2prtfiCLmbRRPyMWdooYGb55TBMUtEU88g/n6oMapqleRqcKPPrOEsZSp0LZEHA8A05RsAKuQyfHFRBUQReO1gAwD3+KaxyFYrMOAzjkMQBL9ushtnG/DGJ81YGuHssnDcOs+IQxe6sXymAWqlDCW5GvcSVvVnY/5a6ehzC8phHrQzZ2EE5o/LQ01dD4pyVBiwOXH9zFK/x7OVqXsqTGTvdEV+NppNFnaJpym5TIhqOTaPohy1dyKeIAhQyoW0m0hI4Uvdsx5FxDNb6roZJWg1WzFpjGsq3jynDO+dbMPiEM38Jbka3DM0viTWho/zCt3VIE1ymZAWwV8qLUO2bGoxZpXphi5wF2eb37agHBa7M2T6inQWzTjeJZMKkKNRYGJheOcPztLMfEwjlLkYAKaJcC+mcyvyYvJ6BVpV6i3ZVnk50PwJUDY32TWRhJSYCBQjMpmAkiDL/HHxeX8KuSxkDrhgSnUa3L14XMj8c6nq+hmloxeSoGAtv/osJS4dnw+VXOYdAhT9/hlMppL0+taStGXlAVc+Csikk/g3nnguplgoTaP1swFgboUecyQ6fjZUAHbp+Hw0dg9iSnHw7uNl09I/YTwFYgBI6WWE4M9zp7rjZFsCK0RElN4Y4ElTyjWlPPHEE1i6dCmys7ORl5cXtExdXR1uvfVWaLVaFBUV4aGHHoLNZvMrc+TIESxbtgxZWVkoLy/H448/DnFYn9bOnTuxcOFCaDQaTJo0Cc8991y83lbMzTLqoVXLMbtcmneywQgCkJ+BY7mIKL7YGE5SlHItgDabDV/84hdRVVWFTZs2BTzudDpx8803o7i4GLt370ZnZyfWrFkDURTx7LPPAgDMZjNuuOEGXHPNNdi/fz9OnTqFtWvXQqvV4tFHHwUA1NbW4qabbsK6devw0ksv4cMPP8QDDzyA4uJifP7zn0/oe46GRinHuisncUwFEVGUbpxtwM5T7bjVZw3ytKRhQwBFLuUCwB/+8IcAgM2bNwd9fNu2bTh+/Djq6+thNLq/tD/72c+wdu1aPPHEE9DpdNiyZQssFgs2b94MtVqN2bNn49SpU3j66aexfv16CIKA5557DuPGjcPPf/5zAMCMGTNw4MAB/PSnP03JADBYnMfgj4goejPKdLjEkJu+59J5dwEDXUDeuGTXhNJQynUBj2bPnj2YPXu2N/gDgBUrVsBqteLgwYPeMsuWLYNarfYr09TUhPPnz3vLLF++3G/fK1aswIEDB2C3By6bQ0REmSdtgz8AKJgIVCxMdi0oTaVdANjS0oLSUv8p/Pn5+VCpVGhpaQlZxvP7aGUcDgc6OvzXMfSwWq0wm81+P0REmSqtg6MQ0i1lTfrJoPxRGS4hAeDGjRuHVpII/XPgwIGw9xfspCSKot/24WU8E0AiLePrqaeegl6v9/5UVlaGXeexUivSLlYPW3GuGnKZAGNe4PJFsTS1NPoM+VIk8kSeVGV6d3qVmUaO74qF2xaUY065HpeOz092VYhSQkJuhR588EHcddddI5aZMGFCWPsyGAzYt2+f37bu7m7Y7XZvi57BYPC29Hm0tblTg4xWRqFQoLAw+PJmjz32GNavX+/93Ww2xz0IXDnHgEGbE3nZqb/yQ7S+vHgcnC4RCvnYg1ze3VOmuP3SCrT1WlAe4Y1RtkqOAZsTE4q4SoeviUVaJv4m8pGQq2VRURGKiopisq+qqio88cQTaG5uRllZGQD3xBC1Wo2FCxd6y3znO9+BzWaDSqXyljEajd5As6qqCm+88Ybfvrdt24ZFixZBqQyeSkStVvuNK0yESwy6wI1ZmXUHKwgCFPKxdzXlZStRmKPGyjkGaFUMBCm9qRSyqJZa+/KS8ajrHMA0tngT0QhSrl+xrq4ONTU1qKurg9PpRE1NDWpqatDX1wcAWL58OWbOnInVq1ejuroa7777LjZs2IB169ZBp3MHS3fffTfUajXWrl2Lo0ePYuvWrXjyySe9M4AB4P7778eFCxewfv16nDhxAi+88AI2bdqEDRs2JO29j2rJfwGX3QuoeBfr667LKzGjLBc3zDQAcAfNlQVs/SBpylErMNOoi0mLOhFlrpRrJvn+97+PP/7xj97fFyxYAADYsWMHrr76asjlcrz55pt44IEHcMUVVyArKwt33303fvrTn3qfo9frsX37dnz961/HokWLkJ+fj/Xr1/t1306cOBFvvfUWHnnkEfzqV7+C0WjEL37xi5RMAeOVlZfsGqSkMn0WyvTxHT9IRESUSVIuANy8eXPIHIAe48aNwz//+c8Ry8yZMwe7du0ascyyZctw6NChSKtIRESUdjJvTjeNBfsIiCTGMxB+fmVecitCKY8BA1HmSrkWQCKKr1vmlqGjz4ZSXWInNBERUepgAEiSURnFjMpMpJDLYBjKMRdPMjYfERGlLAaAlPH+8zMT0WwaxLSS3GRXJa2IUeaBvnR8PlpNFkwqZhoSIqJUxQCQMp4+Swl9VvDcjhR7y6YVJ7sKREQ0Ck4CISIiIpIYBoBERBTUDTPdS2deOTU2KzlR5ptl1EOXpcT8cXnJrgqNgl3AREQUVGVBNh66birknNFDYdIo5fjPKyZ4V92i1MUWQCIiConBH0WKwV96YABIRERECfEZDidIGQwAiYiIJECjlCe7CrhsQgG+tmxSsqtBYABIlLFy1BziS0QX3TjbgFKdBqvmG5Naj2wVz02pgH8Fogy1bFoxXKKI2UZ9sqtCRCmgQKvC3YvHJbsalCIYABJlqCyVHDfNKYv6+Sq5DDaHK4Y1IiKiVMEuYCIKatV8IwpzVPhskruLiIgo9tgCSERBleo0+ErVhGRXg4iI4oAtgEREREQSwwCQiIiISGIYABIRERFJDANAIiIiIolhAEhEREQkMQwAiYiIiCSGASARERGRxDAAJCIiIpIYBoBEREREEsMAkIiIiEhiGAASERERSQwDQCIiIiKJYQBIREREJDEMAImIiIgkhgEgERERkcQwACQiIiKSGAaARERERBLDAJCIiIhIYhgAEhEREUkMA0AiIiIiiWEASERERCQxDACJiIiIJIYBIBEREZHEMAAkIiIikhgGgEREREQSwwCQiIiISGIYABIREVFSlOjUya6CZCmSXQEiIiKSljVLJ8A0aEeZPivZVZEsBoBERESUUAVaFQq0qmRXQ9JSrgv4iSeewNKlS5GdnY28vLygZQRBCPh57rnn/MocOXIEy5YtQ1ZWFsrLy/H4449DFEW/Mjt37sTChQuh0WgwadKkgH0QERERZaKUawG02Wz44he/iKqqKmzatClkuT/84Q+48cYbvb/r9Xrv/81mM2644QZcc8012L9/P06dOoW1a9dCq9Xi0UcfBQDU1tbipptuwrp16/DSSy/hww8/xAMPPIDi4mJ8/vOfj98bJCIiIkqylAsAf/jDHwIANm/ePGK5vLw8GAyGoI9t2bIFFosFmzdvhlqtxuzZs3Hq1Ck8/fTTWL9+vbfFcNy4cfj5z38OAJgxYwYOHDiAn/70pwwAiYiIKKOlXBdwuB588EEUFRXhsssuw3PPPQeXy+V9bM+ePVi2bBnU6ouzi1asWIGmpiacP3/eW2b58uV++1yxYgUOHDgAu92ekPdARERElAwp1wIYjv/3//4frrvuOmRlZeHdd9/Fo48+io6ODnzve98DALS0tGDChAl+zyktLfU+NnHiRLS0tHi3+ZZxOBzo6OhAWVlZwOtarVZYrVbv72azOcbvjIiIiCj+EtICuHHjxqATN3x/Dhw4EPb+vve976Gqqgrz58/Ho48+iscffxz/8z//41dGEAS/3z0TQHy3h1PG11NPPQW9Xu/9qaysDLvORERERKkiIS2ADz74IO66664RywxvsYvEkiVLYDab0draitLSUhgMBrS0tPiVaWtrA3CxJTBUGYVCgcLCwqCv89hjj2H9+vXe381mM4NAIiIiSjsJCQCLiopQVFQUt/1XV1dDo9F408ZUVVXhO9/5Dmw2G1Qqd56hbdu2wWg0egPNqqoqvPHGG3772bZtGxYtWgSlUhn0ddRqtd+4QiIiIqJ0lHKTQOrq6lBTU4O6ujo4nU7U1NSgpqYGfX19AIA33ngDzz//PI4ePYqzZ8/i97//Pb773e/ivvvu8wZnd999N9RqNdauXYujR49i69atePLJJ70zgAHg/vvvx4ULF7B+/XqcOHECL7zwAjZt2oQNGzYk7b0TERERJYIgDs+OnGRr167FH//4x4DtO3bswNVXX423334bjz32GM6cOQOXy4VJkybh3nvvxde//nUoFBcbNI8cOYKvf/3r+Pjjj5Gfn4/7778f3//+9/3G9+3cuROPPPIIjh07BqPRiP/+7//G/fffH3ZdzWYz9Ho9TCYTdDrd2N44ERERJQSv3ykYAKYTfoCIiIjSD6/fKdgFTERERETxxQCQiIiISGLSMhF0qvD0njMhNBERUfrwXLelPAqOAeAY9Pb2AgBzARIREaWh3t5e6PX6ZFcjKTgJZAxcLheampqQm5sbcvWQaHmSTNfX10t2gGo88fjGH49xfPH4xh+Pcfwl6xiLooje3l4YjUbIZNIcDccWwDGQyWSoqKiI62vodDqeeOKIxzf+eIzji8c3/niM4y8Zx1iqLX8e0gx7iYiIiCSMASARERGRxDAATFFqtRo/+MEPuPZwnPD4xh+PcXzx+MYfj3H88RgnDyeBEBEREUkMWwCJiIiIJIYBIBEREZHEMAAkIiIikhgGgEREREQSwwAwSX79619j4sSJ0Gg0WLhwIT744IMRy+/cuRMLFy6ERqPBpEmT8NxzzyWopukrkmP897//HTfccAOKi4uh0+lQVVWFf//73wmsbXqK9HPs8eGHH0KhUGD+/PnxrWCai/T4Wq1WfPe738X48eOhVqsxefJkvPDCCwmqbXqK9Bhv2bIF8+bNQ3Z2NsrKyvDVr34VnZ2dCaptetm1axduvfVWGI1GCIKA119/fdTn8FqXQCIl3CuvvCIqlUrx+eefF48fPy5+85vfFLVarXjhwoWg5c+dOydmZ2eL3/zmN8Xjx4+Lzz//vKhUKsXXXnstwTVPH5Ee429+85vij3/8Y/Hjjz8WT506JT722GOiUqkUDx06lOCap49Ij7FHT0+POGnSJHH58uXivHnzElPZNBTN8V21apW4ePFicfv27WJtba24b98+8cMPP0xgrdNLpMf4gw8+EGUymfi///u/4rlz58QPPvhAnDVrlnjbbbcluObp4a233hK/+93vin/7299EAOLWrVtHLM9rXWIxAEyCyy+/XLz//vv9tl1yySXit7/97aDlv/Wtb4mXXHKJ37avfe1r4pIlS+JWx3QX6TEOZubMmeIPf/jDWFctY0R7jO+8807xe9/7nviDH/yAAeAIIj2+//rXv0S9Xi92dnYmonoZIdJj/D//8z/ipEmT/Lb94he/ECsqKuJWx0wRTgDIa11isQs4wWw2Gw4ePIjly5f7bV++fDk++uijoM/Zs2dPQPkVK1bgwIEDsNvtcatruormGA/ncrnQ29uLgoKCeFQx7UV7jP/whz/g7Nmz+MEPfhDvKqa1aI7vP/7xDyxatAg/+clPUF5ejmnTpmHDhg0YHBxMRJXTTjTHeOnSpWhoaMBbb70FURTR2tqK1157DTfffHMiqpzxeK1LLEWyKyA1HR0dcDqdKC0t9dteWlqKlpaWoM9paWkJWt7hcKCjowNlZWVxq286iuYYD/ezn/0M/f39uOOOO+JRxbQXzTE+ffo0vv3tb+ODDz6AQsFTz0iiOb7nzp3D7t27odFosHXrVnR0dOCBBx5AV1cXxwEGEc0xXrp0KbZs2YI777wTFosFDocDq1atwrPPPpuIKmc8XusSiy2ASSIIgt/voigGbButfLDtdFGkx9jjz3/+MzZu3IhXX30VJSUl8apeRgj3GDudTtx999344Q9/iGnTpiWqemkvks+wy+WCIAjYsmULLr/8ctx00014+umnsXnzZrYCjiCSY3z8+HE89NBD+P73v4+DBw/i7bffRm1tLe6///5EVFUSeK1LHN6GJ1hRURHkcnnAHWZbW1vAnY+HwWAIWl6hUKCwsDBudU1X0Rxjj1dffRX33HMP/vrXv+L666+PZzXTWqTHuLe3FwcOHEB1dTUefPBBAO6ARRRFKBQKbNu2Dddee21C6p4OovkMl5WVoby8HHq93rttxowZEEURDQ0NmDp1alzrnG6iOcZPPfUUrrjiCvx//9//BwCYO3cutFotrrzySvzoRz9iC9UY8VqXWGwBTDCVSoWFCxdi+/btftu3b9+OpUuXBn1OVVVVQPlt27Zh0aJFUCqVcatruormGAPulr+1a9fi5Zdf5pieUUR6jHU6HY4cOYKamhrvz/3334/p06ejpqYGixcvTlTV00I0n+ErrrgCTU1N6Ovr8247deoUZDIZKioq4lrfdBTNMR4YGIBM5n/ZlMvlAC62VFH0eK1LsCRNPpE0T+qBTZs2icePHxcffvhhUavViufPnxdFURS//e1vi6tXr/aW90yNf+SRR8Tjx4+LmzZt4tT4UUR6jF9++WVRoVCIv/rVr8Tm5mbvT09PT7LeQsqL9BgPx1nAI4v0+Pb29ooVFRXiF77wBfHYsWPizp07xalTp4r33ntvst5Cyov0GP/hD38QFQqF+Otf/1o8e/asuHv3bnHRokXi5Zdfnqy3kNJ6e3vF6upqsbq6WgQgPv3002J1dbU3zQ6vdcnFADBJfvWrX4njx48XVSqVeOmll4o7d+70PrZmzRpx2bJlfuXff/99ccGCBaJKpRInTJgg/uY3v0lwjdNPJMd42bJlIoCAnzVr1iS+4mkk0s+xLwaAo4v0+J44cUK8/vrrxaysLLGiokJcv369ODAwkOBap5dIj/EvfvELcebMmWJWVpZYVlYmfvnLXxYbGhoSXOv0sGPHjhHPq7zWJZcgimy3JiIiIpISjgEkIiIikhgGgEREREQSwwCQiIiISGIYABIRERFJDANAIiIiIolhAEhEREQkMQwAiYiIiCSGASARERGllF27duHWW2+F0WiEIAh4/fXXI3r+xo0bIQhCwI9Wq41PhdMQA0AiIiJKKf39/Zg3bx5++ctfRvX8DRs2oLm52e9n5syZ+OIXvxjjmqYvBoBERESUUlauXIkf/ehHuP3224M+brPZ8K1vfQvl5eXQarVYvHgx3n//fe/jOTk5MBgM3p/W1lYcP34c99xzT4LeQepTJLsCRERERJH46le/ivPnz+OVV16B0WjE1q1bceONN+LIkSOYOnVqQPnf//73mDZtGq688sok1DY1sQWQiIiI0sbZs2fx5z//GX/9619x5ZVXYvLkydiwYQM+85nP4A9/+ENAeavVii1btrD1bxi2ABIREVHaOHToEERRxLRp0/y2W61WFBYWBpT/+9//jt7eXnzlK19JVBXTAgNAIiIiShsulwtyuRwHDx6EXC73eywnJyeg/O9//3vccsstMBgMiapiWmAASERERGljwYIFcDqdaGtrG3VMX21tLXbs2IF//OMfCapd+mAASERERCmlr68PZ86c8f5eW1uLmpoaFBQUYNq0afjyl7+Mr3zlK/jZz36GBQsWoKOjA++99x7mzJmDm266yfu8F154AWVlZVi5cmUy3kZKE0RRFJNdCSIiIiKP999/H9dcc03A9jVr1mDz5s2w2+340Y9+hD/96U9obGxEYWEhqqqq8MMf/hBz5swB4O4qHj9+PL7yla/giSeeSPRbSHkMAImIiIgkhmlgiIiIiCSGASARERGRxDAAJCIiIpIYBoBEREREEsMAkIiIiEhiGAASERERSQwDQCIiIiKJYQBIREREJDEMAImIiIgkhgEgERERkcQwACQiIiKSGAaARERERBLDAJCIiIhIYv5/zMq6bbJJve0AAAAASUVORK5CYII=' width=640.0/>\n",
       "            </div>\n",
       "        "
      ],
      "text/plain": [
       "Canvas(toolbar=Toolbar(toolitems=[('Home', 'Reset original view', 'home', 'home'), ('Back', 'Back to previous …"
      ]
     },
     "metadata": {},
     "output_type": "display_data"
    }
   ],
   "source": [
    "plt.plot(data_samples[1], alpha = 0.5)\n",
    "plt.plot(data_samples[0], alpha = 0.5)"
   ]
  },
  {
   "cell_type": "code",
   "execution_count": 17,
   "id": "fbd53c68",
   "metadata": {},
   "outputs": [
    {
     "data": {
      "text/plain": [
       "[<matplotlib.lines.Line2D at 0x1daa302a610>]"
      ]
     },
     "execution_count": 17,
     "metadata": {},
     "output_type": "execute_result"
    }
   ],
   "source": [
    "plt.plot(data_samples[2], alpha = 0.5)\n",
    "plt.plot(data_samples[3], alpha = 0.5)"
   ]
  },
  {
   "cell_type": "code",
   "execution_count": 18,
   "id": "f819b0ac",
   "metadata": {},
   "outputs": [
    {
     "data": {
      "text/plain": [
       "[<matplotlib.lines.Line2D at 0x1daa302f370>]"
      ]
     },
     "execution_count": 18,
     "metadata": {},
     "output_type": "execute_result"
    }
   ],
   "source": [
    "plt.plot(data_samples[10], alpha = 0.5)\n",
    "plt.plot(data_samples[11], alpha = 0.5)"
   ]
  },
  {
   "cell_type": "code",
   "execution_count": 19,
   "id": "9a7c2cf0",
   "metadata": {},
   "outputs": [
    {
     "data": {
      "text/plain": [
       "[<matplotlib.lines.Line2D at 0x1daa3022880>]"
      ]
     },
     "execution_count": 19,
     "metadata": {},
     "output_type": "execute_result"
    }
   ],
   "source": [
    "plt.plot(data_samples[13], alpha = 0.5)\n",
    "plt.plot(data_samples[14], alpha = 0.5)"
   ]
  },
  {
   "cell_type": "code",
   "execution_count": 20,
   "id": "cf3d30de",
   "metadata": {},
   "outputs": [
    {
     "data": {
      "text/plain": [
       "[<matplotlib.lines.Line2D at 0x1daa30130d0>]"
      ]
     },
     "execution_count": 20,
     "metadata": {},
     "output_type": "execute_result"
    }
   ],
   "source": [
    "plt.plot(data_samples[15], alpha = 0.5)\n",
    "plt.plot(data_samples[16], alpha = 0.5)"
   ]
  },
  {
   "cell_type": "code",
   "execution_count": 21,
   "id": "d37fe04b",
   "metadata": {},
   "outputs": [
    {
     "data": {
      "text/plain": [
       "[<matplotlib.lines.Line2D at 0x1daa3013d90>]"
      ]
     },
     "execution_count": 21,
     "metadata": {},
     "output_type": "execute_result"
    }
   ],
   "source": [
    "plt.plot(data_samples[17], alpha = 0.5)\n",
    "plt.plot(data_samples[16], alpha = 0.5)"
   ]
  },
  {
   "cell_type": "code",
   "execution_count": 22,
   "id": "35b1ae73",
   "metadata": {},
   "outputs": [
    {
     "data": {
      "text/html": [
       "<div>\n",
       "<style scoped>\n",
       "    .dataframe tbody tr th:only-of-type {\n",
       "        vertical-align: middle;\n",
       "    }\n",
       "\n",
       "    .dataframe tbody tr th {\n",
       "        vertical-align: top;\n",
       "    }\n",
       "\n",
       "    .dataframe thead th {\n",
       "        text-align: right;\n",
       "    }\n",
       "</style>\n",
       "<table border=\"1\" class=\"dataframe\">\n",
       "  <thead>\n",
       "    <tr style=\"text-align: right;\">\n",
       "      <th></th>\n",
       "      <th>Time</th>\n",
       "      <th>Events</th>\n",
       "      <th>RMS Int [uV]</th>\n",
       "      <th>RMS F Dia [uV]</th>\n",
       "      <th>RMS D Dia [uV]</th>\n",
       "      <th>RMS Abd [uV]</th>\n",
       "      <th>RMS R Dia [uV]</th>\n",
       "      <th>RMS L Dia [uV]</th>\n",
       "      <th>Paw [mB]</th>\n",
       "      <th>Pes [mB]</th>\n",
       "      <th>Pga [mB]</th>\n",
       "    </tr>\n",
       "  </thead>\n",
       "  <tbody>\n",
       "    <tr>\n",
       "      <th>0</th>\n",
       "      <td>0:00:00.060</td>\n",
       "      <td>22:56:54</td>\n",
       "      <td>4.014</td>\n",
       "      <td>8.508</td>\n",
       "      <td>3.578</td>\n",
       "      <td>2.783</td>\n",
       "      <td>7.867</td>\n",
       "      <td>7.867</td>\n",
       "      <td>-0.001</td>\n",
       "      <td>-0.012</td>\n",
       "      <td>0.008</td>\n",
       "    </tr>\n",
       "    <tr>\n",
       "      <th>1</th>\n",
       "      <td>0:00:00.080</td>\n",
       "      <td>NaN</td>\n",
       "      <td>4.059</td>\n",
       "      <td>7.916</td>\n",
       "      <td>3.376</td>\n",
       "      <td>2.602</td>\n",
       "      <td>7.487</td>\n",
       "      <td>7.487</td>\n",
       "      <td>0.003</td>\n",
       "      <td>-0.006</td>\n",
       "      <td>0.015</td>\n",
       "    </tr>\n",
       "    <tr>\n",
       "      <th>2</th>\n",
       "      <td>0:00:00.100</td>\n",
       "      <td>NaN</td>\n",
       "      <td>4.117</td>\n",
       "      <td>7.379</td>\n",
       "      <td>3.184</td>\n",
       "      <td>2.449</td>\n",
       "      <td>7.103</td>\n",
       "      <td>7.103</td>\n",
       "      <td>0.004</td>\n",
       "      <td>-0.005</td>\n",
       "      <td>0.014</td>\n",
       "    </tr>\n",
       "    <tr>\n",
       "      <th>3</th>\n",
       "      <td>0:00:00.120</td>\n",
       "      <td>NaN</td>\n",
       "      <td>4.188</td>\n",
       "      <td>6.894</td>\n",
       "      <td>3.006</td>\n",
       "      <td>2.322</td>\n",
       "      <td>6.723</td>\n",
       "      <td>6.723</td>\n",
       "      <td>0.006</td>\n",
       "      <td>-0.004</td>\n",
       "      <td>0.015</td>\n",
       "    </tr>\n",
       "    <tr>\n",
       "      <th>4</th>\n",
       "      <td>0:00:00.140</td>\n",
       "      <td>NaN</td>\n",
       "      <td>4.272</td>\n",
       "      <td>6.453</td>\n",
       "      <td>2.842</td>\n",
       "      <td>2.223</td>\n",
       "      <td>6.347</td>\n",
       "      <td>6.347</td>\n",
       "      <td>0.002</td>\n",
       "      <td>-0.008</td>\n",
       "      <td>0.007</td>\n",
       "    </tr>\n",
       "    <tr>\n",
       "      <th>5</th>\n",
       "      <td>0:00:00.160</td>\n",
       "      <td>NaN</td>\n",
       "      <td>4.367</td>\n",
       "      <td>6.054</td>\n",
       "      <td>2.695</td>\n",
       "      <td>2.150</td>\n",
       "      <td>5.974</td>\n",
       "      <td>5.974</td>\n",
       "      <td>0.001</td>\n",
       "      <td>-0.010</td>\n",
       "      <td>0.003</td>\n",
       "    </tr>\n",
       "    <tr>\n",
       "      <th>6</th>\n",
       "      <td>0:00:00.180</td>\n",
       "      <td>NaN</td>\n",
       "      <td>4.466</td>\n",
       "      <td>5.701</td>\n",
       "      <td>2.566</td>\n",
       "      <td>2.100</td>\n",
       "      <td>5.614</td>\n",
       "      <td>5.614</td>\n",
       "      <td>0.001</td>\n",
       "      <td>-0.008</td>\n",
       "      <td>0.002</td>\n",
       "    </tr>\n",
       "    <tr>\n",
       "      <th>7</th>\n",
       "      <td>0:00:00.200</td>\n",
       "      <td>NaN</td>\n",
       "      <td>4.563</td>\n",
       "      <td>5.401</td>\n",
       "      <td>2.458</td>\n",
       "      <td>2.072</td>\n",
       "      <td>5.279</td>\n",
       "      <td>5.279</td>\n",
       "      <td>0.004</td>\n",
       "      <td>-0.004</td>\n",
       "      <td>0.003</td>\n",
       "    </tr>\n",
       "    <tr>\n",
       "      <th>8</th>\n",
       "      <td>0:00:00.220</td>\n",
       "      <td>NaN</td>\n",
       "      <td>4.654</td>\n",
       "      <td>5.146</td>\n",
       "      <td>2.376</td>\n",
       "      <td>2.061</td>\n",
       "      <td>4.977</td>\n",
       "      <td>4.977</td>\n",
       "      <td>0.008</td>\n",
       "      <td>0.000</td>\n",
       "      <td>0.004</td>\n",
       "    </tr>\n",
       "    <tr>\n",
       "      <th>9</th>\n",
       "      <td>0:00:00.240</td>\n",
       "      <td>NaN</td>\n",
       "      <td>4.737</td>\n",
       "      <td>4.921</td>\n",
       "      <td>2.318</td>\n",
       "      <td>2.060</td>\n",
       "      <td>4.703</td>\n",
       "      <td>4.703</td>\n",
       "      <td>0.011</td>\n",
       "      <td>0.004</td>\n",
       "      <td>0.005</td>\n",
       "    </tr>\n",
       "  </tbody>\n",
       "</table>\n",
       "</div>"
      ],
      "text/plain": [
       "          Time    Events  RMS Int [uV]  RMS F Dia [uV]  RMS D Dia [uV]  \\\n",
       "0  0:00:00.060  22:56:54         4.014           8.508           3.578   \n",
       "1  0:00:00.080       NaN         4.059           7.916           3.376   \n",
       "2  0:00:00.100       NaN         4.117           7.379           3.184   \n",
       "3  0:00:00.120       NaN         4.188           6.894           3.006   \n",
       "4  0:00:00.140       NaN         4.272           6.453           2.842   \n",
       "5  0:00:00.160       NaN         4.367           6.054           2.695   \n",
       "6  0:00:00.180       NaN         4.466           5.701           2.566   \n",
       "7  0:00:00.200       NaN         4.563           5.401           2.458   \n",
       "8  0:00:00.220       NaN         4.654           5.146           2.376   \n",
       "9  0:00:00.240       NaN         4.737           4.921           2.318   \n",
       "\n",
       "   RMS Abd [uV]  RMS R Dia [uV]  RMS L Dia [uV]  Paw [mB]  Pes [mB]  Pga [mB]  \n",
       "0         2.783           7.867           7.867    -0.001    -0.012     0.008  \n",
       "1         2.602           7.487           7.487     0.003    -0.006     0.015  \n",
       "2         2.449           7.103           7.103     0.004    -0.005     0.014  \n",
       "3         2.322           6.723           6.723     0.006    -0.004     0.015  \n",
       "4         2.223           6.347           6.347     0.002    -0.008     0.007  \n",
       "5         2.150           5.974           5.974     0.001    -0.010     0.003  \n",
       "6         2.100           5.614           5.614     0.001    -0.008     0.002  \n",
       "7         2.072           5.279           5.279     0.004    -0.004     0.003  \n",
       "8         2.061           4.977           4.977     0.008     0.000     0.004  \n",
       "9         2.060           4.703           4.703     0.011     0.004     0.005  "
      ]
     },
     "execution_count": 22,
     "metadata": {},
     "output_type": "execute_result"
    }
   ],
   "source": [
    "newnow.head(10)"
   ]
  },
  {
   "cell_type": "code",
   "execution_count": null,
   "id": "f23dd2ae",
   "metadata": {},
   "outputs": [],
   "source": [
    "\n"
   ]
  },
  {
   "cell_type": "code",
   "execution_count": 23,
   "id": "18bb16c7",
   "metadata": {},
   "outputs": [
    {
     "ename": "NameError",
     "evalue": "name 'accomanycsv' is not defined",
     "output_type": "error",
     "traceback": [
      "\u001b[1;31m---------------------------------------------------------------------------\u001b[0m",
      "\u001b[1;31mNameError\u001b[0m                                 Traceback (most recent call last)",
      "Input \u001b[1;32mIn [23]\u001b[0m, in \u001b[0;36m<cell line: 1>\u001b[1;34m()\u001b[0m\n\u001b[1;32m----> 1\u001b[0m \u001b[43maccomanycsv\u001b[49m\u001b[38;5;241m.\u001b[39mshape[\u001b[38;5;241m0\u001b[39m]\n",
      "\u001b[1;31mNameError\u001b[0m: name 'accomanycsv' is not defined"
     ]
    }
   ],
   "source": [
    "accomanycsv.shape[0]"
   ]
  },
  {
   "cell_type": "code",
   "execution_count": null,
   "id": "4851ecdf",
   "metadata": {},
   "outputs": [],
   "source": [
    "data_emg.channels"
   ]
  },
  {
   "cell_type": "code",
   "execution_count": null,
   "id": "572a64b5",
   "metadata": {},
   "outputs": [],
   "source": [
    "data_emg.samples"
   ]
  },
  {
   "cell_type": "code",
   "execution_count": null,
   "id": "2f715555",
   "metadata": {},
   "outputs": [],
   "source": [
    "%matplotlib inline\n",
    "# set up plotn\n",
    "x = data_samples\n",
    "fig, axis = plt.subplots(nrows = 5, ncols = 1, figsize=(8, 8))\n",
    "#ax.set_ylim([-4, 4d])\n",
    "axis[0].grid(True)\n",
    "axis[0].plot(x[0])\n",
    "axis[0].set(title='leads in samples')\n",
    "axis[1].plot(x[1])\n",
    "axis[2].plot(x[2])\n",
    "axis[3].plot(x[3])\n",
    "axis[4].plot(x[4])\n",
    "\n",
    "# axis[5].plot(x[5])\n",
    "# axis[6].plot(x[6])\n",
    "# axis[7].plot(x[7])\n",
    "# axis[8].plot(x[8])\n",
    "# axis[9].plot(x[9])\n",
    "# axis[10].plot(x[10])\n",
    "\n",
    "# axis[11].plot(x[11])\n",
    "# axis[12].plot(x[12])\n",
    "# axis[13].plot(x[13])\n",
    "# axis[14].plot(x[14])\n",
    "# axis[15].plot(x[15])\n",
    "\n",
    "# axis[16].plot(x[16])\n",
    "# axis[17].plot(x[17])\n",
    "\n",
    "plt.show()\n"
   ]
  },
  {
   "cell_type": "code",
   "execution_count": null,
   "id": "62653ee1",
   "metadata": {},
   "outputs": [],
   "source": [
    "accomanycsv= pd.read_csv('C:/Projects/20180523_225654.DataPF.csv')"
   ]
  },
  {
   "cell_type": "code",
   "execution_count": null,
   "id": "91c228cd",
   "metadata": {},
   "outputs": [],
   "source": [
    "accomanycsv.head(5)"
   ]
  },
  {
   "cell_type": "code",
   "execution_count": null,
   "id": "d7adf8fa",
   "metadata": {},
   "outputs": [],
   "source": [
    "accomanycsv.shape"
   ]
  },
  {
   "cell_type": "code",
   "execution_count": null,
   "id": "dc8617e4",
   "metadata": {},
   "outputs": [],
   "source": [
    "data_samples.shape"
   ]
  },
  {
   "cell_type": "code",
   "execution_count": null,
   "id": "cce6f917",
   "metadata": {},
   "outputs": [],
   "source": [
    "converted = pd.DataFrame(data = data_samples)"
   ]
  },
  {
   "cell_type": "code",
   "execution_count": null,
   "id": "697ddc66",
   "metadata": {},
   "outputs": [],
   "source": [
    "converted.head(15)"
   ]
  },
  {
   "cell_type": "code",
   "execution_count": null,
   "id": "ad919e3b",
   "metadata": {},
   "outputs": [],
   "source": [
    "import scipy\n",
    "#C:\\Projects\n",
    "import scipy.io as sio"
   ]
  },
  {
   "cell_type": "code",
   "execution_count": null,
   "id": "082da033",
   "metadata": {},
   "outputs": [],
   "source": [
    "file_name = 'C://Projects/data_sEMG_test.mat'\n",
    "file =sio.loadmat(file_name, mdict=None, appendmat=True)"
   ]
  },
  {
   "cell_type": "code",
   "execution_count": null,
   "id": "d9034369",
   "metadata": {},
   "outputs": [],
   "source": [
    "#file"
   ]
  },
  {
   "cell_type": "code",
   "execution_count": null,
   "id": "1fb8ef0e",
   "metadata": {
    "scrolled": true
   },
   "outputs": [],
   "source": [
    "file.keys()"
   ]
  },
  {
   "cell_type": "code",
   "execution_count": null,
   "id": "c5897e19",
   "metadata": {},
   "outputs": [],
   "source": [
    "#file.values()"
   ]
  },
  {
   "cell_type": "code",
   "execution_count": null,
   "id": "896f2b06",
   "metadata": {},
   "outputs": [],
   "source": [
    "file['__header__']"
   ]
  },
  {
   "cell_type": "code",
   "execution_count": null,
   "id": "d0c1fd95",
   "metadata": {},
   "outputs": [],
   "source": [
    "file['__version__']"
   ]
  },
  {
   "cell_type": "code",
   "execution_count": null,
   "id": "8e67909d",
   "metadata": {},
   "outputs": [],
   "source": [
    "file['__globals__']"
   ]
  },
  {
   "cell_type": "code",
   "execution_count": null,
   "id": "30f031ac",
   "metadata": {},
   "outputs": [],
   "source": [
    "file['data_emg']"
   ]
  },
  {
   "cell_type": "code",
   "execution_count": null,
   "id": "3450de7d",
   "metadata": {},
   "outputs": [],
   "source": [
    "file['data_emg'].shape"
   ]
  },
  {
   "cell_type": "code",
   "execution_count": null,
   "id": "6a922ae5",
   "metadata": {},
   "outputs": [],
   "source": [
    "file['data_emg'][:, 0]"
   ]
  },
  {
   "cell_type": "markdown",
   "id": "6b245ea4",
   "metadata": {},
   "source": [
    "we have the info that it was run at 2000 hertz for 100 seconds, 5 leads, note this file type does not seem to record the frequency of sampling"
   ]
  },
  {
   "cell_type": "code",
   "execution_count": null,
   "id": "4a9c443a",
   "metadata": {},
   "outputs": [],
   "source": [
    "# %matplotlib inline\n",
    "# # set up plotn\n",
    "# x = file['data_emg'] # data_samples\n",
    "# fig, axis = plt.subplots(nrows = 5, ncols = 1, figsize=(8, 8))\n",
    "# #ax.set_ylim([-4, 4d])\n",
    "# axis[0].grid(True)\n",
    "# axis[0].plot(x[:, 0])\n",
    "# axis[0].set(title='leads in samples')\n",
    "# axis[1].plot(x[:,1])\n",
    "# axis[2].plot(x[:,2])\n",
    "# axis[3].plot(x[:,3])\n",
    "# axis[4].plot(x[:,4])\n"
   ]
  },
  {
   "cell_type": "markdown",
   "id": "ce47bdfd",
   "metadata": {},
   "source": [
    "OK, so now the question is to write something generalizable so we can have 3,5,or even 18 leads..."
   ]
  },
  {
   "cell_type": "code",
   "execution_count": null,
   "id": "6fab8898",
   "metadata": {},
   "outputs": [],
   "source": [
    "def working_pipeline_pre_entropy(our_chosen_samples): \n",
    "    cut_file_data = hf.bad_end_cutter_for_samples(our_chosen_samples, percent_to_cut=3, tolerance_percent=5)\n",
    "    bd_filtered_file_data = hf.emg_bandpass_butter_sample(cut_file_data, 5, 450, 2048, output='sos')\n",
    "    # step 3 end-cutting again to get rid of filtering artifacts\n",
    "    re_cut_file_data = hf.bad_end_cutter_for_samples(bd_filtered_file_data, percent_to_cut=3, tolerance_percent=5)\n",
    "    # skip step4 and do step 5 ICA\n",
    "    components = hf.compute_ICA_two_comp(re_cut_file_data)\n",
    "    #     the picking step!\n",
    "    emg= hf.pick_more_peaks_array(components)\n",
    "    # now process it in final steps\n",
    "    abs_values = abs(emg)\n",
    "    final_envelope_d = hf.emg_highpass_butter(abs_values, 150, 2048)\n",
    "    \n",
    "        \n",
    "    return final_envelope_d"
   ]
  },
  {
   "cell_type": "code",
   "execution_count": null,
   "id": "51f28d01",
   "metadata": {},
   "outputs": [],
   "source": [
    "cut_file_data = hf.bad_end_cutter_for_samples(file['data_emg'], percent_to_cut=3, tolerance_percent=5)"
   ]
  },
  {
   "cell_type": "code",
   "execution_count": null,
   "id": "8fc88faa",
   "metadata": {},
   "outputs": [],
   "source": [
    "cut_file_data.shape"
   ]
  },
  {
   "cell_type": "markdown",
   "id": "6b24dfd0",
   "metadata": {},
   "source": [
    "The above did not work- it cuts the last lead. Maybe we need tomchange the shape with a roll, lets compare to our typical file"
   ]
  },
  {
   "cell_type": "code",
   "execution_count": null,
   "id": "2e741463",
   "metadata": {},
   "outputs": [],
   "source": [
    "typical_file_chosen = '../not_pushed/topspin_data_anonymized/M001/001/EMG_recording.Poly5'"
   ]
  },
  {
   "cell_type": "code",
   "execution_count": null,
   "id": "cd10dea1",
   "metadata": {},
   "outputs": [],
   "source": [
    "data_emg = Poly5Reader(typical_file_chosen)\n",
    "data_samples= data_emg.samples\n",
    "emg_fs = data_emg.sample_rate\n",
    "converted_to_seconds =  []\n",
    "converted_to_samples = []\n",
    "for i in range(len(data_samples[0])):\n",
    "    converted_to_seconds.append(i/emg_fs)\n",
    "    converted_to_samples.append(i)"
   ]
  },
  {
   "cell_type": "code",
   "execution_count": null,
   "id": "1a7047d3",
   "metadata": {},
   "outputs": [],
   "source": [
    "data_samples.shape"
   ]
  },
  {
   "cell_type": "code",
   "execution_count": null,
   "id": "0a2777a8",
   "metadata": {},
   "outputs": [],
   "source": [
    "file['data_emg'].shape"
   ]
  },
  {
   "cell_type": "markdown",
   "id": "ffd79204",
   "metadata": {},
   "source": [
    "There we go, we must resolve this so we get the same shaped array before we process it."
   ]
  },
  {
   "cell_type": "code",
   "execution_count": null,
   "id": "05c6ca20",
   "metadata": {},
   "outputs": [],
   "source": [
    "def matlab5_jkmn_to_array(file_name):\n",
    "    file =sio.loadmat(file_name, mdict=None, appendmat=False)\n",
    "    arrays = np.rot90(file['data_emg'])\n",
    "    return arrays"
   ]
  },
  {
   "cell_type": "code",
   "execution_count": null,
   "id": "28c44269",
   "metadata": {},
   "outputs": [],
   "source": [
    "output = cf.matlab5_jkmn_to_array(file_name)"
   ]
  },
  {
   "cell_type": "code",
   "execution_count": null,
   "id": "f249cdd1",
   "metadata": {},
   "outputs": [],
   "source": [
    "output"
   ]
  },
  {
   "cell_type": "code",
   "execution_count": null,
   "id": "941871c5",
   "metadata": {},
   "outputs": [],
   "source": [
    "def csv_from_jkmn_to_array(file_name):\n",
    "    file = pd.read_csv(file_name)\n",
    "    new_df = (file.T.reset_index().T.reset_index(drop=True)\n",
    "            .set_axis([f'lead.{i+1}' for i in range(file.shape[1])], axis=1))\n",
    "\n",
    "    arrayed = np.rot90(new_df)\n",
    "    output_copy = arrayed.copy()\n",
    "    arrayed[4] = output_copy[0]\n",
    "    arrayed[3] = output_copy[1]\n",
    "    arrayed[1] = output_copy[3]\n",
    "    arrayed[0] = output_copy[4]\n",
    "    return arrayed"
   ]
  },
  {
   "cell_type": "code",
   "execution_count": null,
   "id": "952bc3ae",
   "metadata": {},
   "outputs": [],
   "source": [
    "file_name2= 'C:/Projects/ReSurfEMG/open_work/hidden/data_sEMG_test.csv'\n",
    "output2 = csv_from_jkmn_to_array(file_name2)"
   ]
  },
  {
   "cell_type": "code",
   "execution_count": null,
   "id": "236e3d34",
   "metadata": {},
   "outputs": [],
   "source": [
    "print(type(output[0][12]))"
   ]
  },
  {
   "cell_type": "code",
   "execution_count": null,
   "id": "481a2da5",
   "metadata": {},
   "outputs": [],
   "source": [
    "print(type(output3[0][5]))"
   ]
  },
  {
   "cell_type": "code",
   "execution_count": null,
   "id": "7e6ae441",
   "metadata": {},
   "outputs": [],
   "source": [
    "#plt.plot(output[0])\n",
    "output3 = np.array(output2).astype('float64')\n",
    "plt.plot(output3[0]- output[0])"
   ]
  },
  {
   "cell_type": "code",
   "execution_count": null,
   "id": "e82ac6fb",
   "metadata": {},
   "outputs": [],
   "source": [
    "output[0] - output3[0]"
   ]
  },
  {
   "cell_type": "code",
   "execution_count": null,
   "id": "3de09657",
   "metadata": {},
   "outputs": [],
   "source": [
    "output[:,:1000]"
   ]
  },
  {
   "cell_type": "code",
   "execution_count": null,
   "id": "3b12b6c4",
   "metadata": {},
   "outputs": [],
   "source": [
    "%matplotlib inline\n",
    "# set up plotn\n",
    "x = output[:,:20000]# data_samples\n",
    "fig, axis = plt.subplots(nrows = 5, ncols = 1, figsize=(8, 8))\n",
    "#ax.set_ylim([-4, 4d])\n",
    "axis[0].grid(True)\n",
    "axis[0].plot(x[0])\n",
    "axis[0].set(title='leads in samples')\n",
    "axis[1].plot(x[1])\n",
    "axis[2].plot(x[2])\n",
    "axis[3].plot(x[3])\n",
    "axis[4].plot(x[4])"
   ]
  },
  {
   "cell_type": "code",
   "execution_count": null,
   "id": "75a2ef74",
   "metadata": {},
   "outputs": [],
   "source": [
    "# %matplotlib inline\n",
    "# # set up plotn\n",
    "# x = output # data_samples\n",
    "# fig, axis = plt.subplots(nrows = 5, ncols = 1, figsize=(8, 8))\n",
    "# #ax.set_ylim([-4, 4d])\n",
    "# axis[0].grid(True)\n",
    "# axis[0].plot(x[0])\n",
    "# axis[0].set(title='leads in samples')\n",
    "# axis[1].plot(x[1])\n",
    "# axis[2].plot(x[2])\n",
    "# axis[3].plot(x[3])\n",
    "# axis[4].plot(x[4])"
   ]
  },
  {
   "cell_type": "code",
   "execution_count": null,
   "id": "7d48de04",
   "metadata": {},
   "outputs": [],
   "source": [
    "# output_copy= output.copy()\n",
    "# #output_copy\n",
    "# output[4] = output_copy[0]\n",
    "# output[3] = output_copy[1]\n",
    "# output[1] = output_copy[3]\n",
    "# output[0] = output_copy[4]\n",
    "# x = output # data_samples\n",
    "# fig, axis = plt.subplots(nrows = 5, ncols = 1, figsize=(8, 8))\n",
    "# #ax.set_ylim([-4, 4d])\n",
    "# axis[0].grid(True)\n",
    "# axis[0].plot(x[0])\n",
    "# axis[0].set(title='leads in samples')\n",
    "# axis[1].plot(x[1])\n",
    "# axis[2].plot(x[2])\n",
    "# axis[3].plot(x[3])\n",
    "# axis[4].plot(x[4])"
   ]
  },
  {
   "cell_type": "code",
   "execution_count": null,
   "id": "e6c58332",
   "metadata": {},
   "outputs": [],
   "source": [
    "list(range(output.shape[0]))"
   ]
  },
  {
   "cell_type": "code",
   "execution_count": null,
   "id": "7a6b26f3",
   "metadata": {},
   "outputs": [],
   "source": [
    "\n",
    "def compute_ICA_two_comp(emg_samples):\n",
    "    \"\"\"A function that performs an independant component analysis\n",
    "    (ICA) meant for EMG data that includes stacked three arrays.\n",
    "\n",
    "    :param emg_samples: Original signal array with three layers\n",
    "    :type emg_samples: ~numpy.ndarray\n",
    "\n",
    "    :returns: Two arrays of independent components (ECG-like and EMG)\n",
    "    :rtype: ~numpy.ndarray\n",
    "    \"\"\"\n",
    "    print(emg_samples[0])\n",
    "    X = np.c_[emg_samples[0], emg_samples[2]]\n",
    "    print(X)\n",
    "    ica = FastICA(n_components=2)\n",
    "    S = ica.fit_transform(X)\n",
    "    component_0 = S.T[0]\n",
    "    component_1 = S.T[1]\n",
    "    return component_0, component_1\n"
   ]
  },
  {
   "cell_type": "code",
   "execution_count": null,
   "id": "8bc3fae5",
   "metadata": {},
   "outputs": [],
   "source": [
    "hoho = compute_ICA_two_comp(output)\n",
    "hoho"
   ]
  },
  {
   "cell_type": "code",
   "execution_count": null,
   "id": "549a10df",
   "metadata": {},
   "outputs": [],
   "source": [
    "from sklearn.decomposition import FastICA\n",
    "def compute_ICA_two_comp_selective(emg_samples, use_all_leads=True, desired_leads=[0,2]):\n",
    "    \"\"\"A function that performs an independant component analysis\n",
    "    (ICA) meant for EMG data that includes stacked arrays,\n",
    "    there should be at least 3 arrays but there can be more.\n",
    "\n",
    "    :param emg_samples: Original signal array with three or more layers\n",
    "    :type emg_samples: ~numpy.ndarray\n",
    "\n",
    "    :returns: Two arrays of independent components (ECG-like and EMG)\n",
    "    :rtype: ~numpy.ndarray\n",
    "    \"\"\"\n",
    "    if use_all_leads == True:\n",
    "        all_component_numbers = list(range(emg_samples.shape[0]))\n",
    "    else:\n",
    "        all_component_numbers = desired_leads\n",
    "    list_to_c = []\n",
    "    for i in all_component_numbers:\n",
    "        print(i)\n",
    "        list_to_c.append(emg_samples[i])\n",
    "    #print( list_to_c)    \n",
    "    X = np.column_stack(list_to_c)\n",
    "    #print(X)\n",
    "    \n",
    "    ica = FastICA(n_components=2)\n",
    "    S = ica.fit_transform(X)\n",
    "    component_0 = S.T[0]\n",
    "    component_1 = S.T[1]\n",
    "    return component_0, component_1"
   ]
  },
  {
   "cell_type": "code",
   "execution_count": null,
   "id": "00f4356f",
   "metadata": {},
   "outputs": [],
   "source": [
    "output.shape"
   ]
  },
  {
   "cell_type": "code",
   "execution_count": null,
   "id": "ceddeaeb",
   "metadata": {},
   "outputs": [],
   "source": [
    "hulu = compute_ICA_two_comp_new(output, use_all_leads=False,desired_leads=[1,3] )"
   ]
  },
  {
   "cell_type": "code",
   "execution_count": null,
   "id": "d7449447",
   "metadata": {},
   "outputs": [],
   "source": [
    "i= 10\n",
    "if i not in [1,2,3]:\n",
    "    print(i)"
   ]
  },
  {
   "cell_type": "code",
   "execution_count": null,
   "id": "1925cde0",
   "metadata": {},
   "outputs": [],
   "source": [
    "a = np.array((1,2,3))\n",
    "\n",
    "b = np.array((2,3,4))\n",
    "c = np.array((2,6,4))\n",
    "\n",
    "np.column_stack((a,b,c))"
   ]
  },
  {
   "cell_type": "code",
   "execution_count": null,
   "id": "d1ce2781",
   "metadata": {},
   "outputs": [],
   "source": [
    "# %matplotlib inline\n",
    "# # set up plotn\n",
    "# x = hulu # data_samples\n",
    "# fig, axis = plt.subplots(nrows = 2, ncols = 1, figsize=(8, 8))\n",
    "# #ax.set_ylim([-4, 4d])\n",
    "# axis[0].grid(True)\n",
    "# axis[0].plot(x[0])\n",
    "# axis[0].set(title='leads in samples')\n",
    "# axis[1].plot(x[1])"
   ]
  },
  {
   "cell_type": "code",
   "execution_count": null,
   "id": "0c249572",
   "metadata": {},
   "outputs": [],
   "source": []
  }
 ],
 "metadata": {
  "kernelspec": {
   "display_name": "Python 3 (ipykernel)",
   "language": "python",
   "name": "python3"
  },
  "language_info": {
   "codemirror_mode": {
    "name": "ipython",
    "version": 3
   },
   "file_extension": ".py",
   "mimetype": "text/x-python",
   "name": "python",
   "nbconvert_exporter": "python",
   "pygments_lexer": "ipython3",
   "version": "3.10.5"
  }
 },
 "nbformat": 4,
 "nbformat_minor": 5
}
