{
 "cells": [
  {
   "cell_type": "markdown",
   "metadata": {},
   "source": [
    "# Experiments on NME"
   ]
  },
  {
   "cell_type": "markdown",
   "metadata": {},
   "source": [
    "Import libraries"
   ]
  },
  {
   "cell_type": "code",
   "execution_count": null,
   "metadata": {},
   "outputs": [],
   "source": [
    "%matplotlib widget\n",
    "import ipywidgets as widgets\n",
    "import matplotlib.pyplot as plt\n",
    "import numpy as np\n",
    "import sys\n",
    "import os\n",
    "import glob\n",
    "import numpy as np\n",
    "import pandas as pd\n",
    "import matplotlib.pyplot as plt\n",
    "import scipy\n",
    "from scipy import interpolate as interp\n",
    "import collections\n",
    "import math\n",
    "import copy\n",
    "sys.path.insert(0, '../ReSurfEMG')\n",
    "import helper_functions as hf\n",
    "from config import Config\n"
   ]
  },
  {
   "cell_type": "code",
   "execution_count": null,
   "metadata": {},
   "outputs": [],
   "source": [
    "# get new changes in our library i.e. the tmsisdk\n",
    "import sys\n",
    "sys.path.insert(0, '../resurfemg')\n",
    "\n",
    "from tmsisdk_lite import Poly5Reader"
   ]
  },
  {
   "cell_type": "markdown",
   "metadata": {},
   "source": [
    "# Set a collection place for experiments"
   ]
  },
  {
   "cell_type": "markdown",
   "metadata": {},
   "source": [
    "Below change the path to the root directory where you are keeping your EMGs and ventilator \"Draeger\" files"
   ]
  },
  {
   "cell_type": "markdown",
   "metadata": {},
   "source": [
    "# Reruns should be done from this cell as the start"
   ]
  },
  {
   "cell_type": "code",
   "execution_count": null,
   "metadata": {},
   "outputs": [],
   "source": [
    "y_axis = widgets.Dropdown(\n",
    "    options=[\"Samples\", \"Seconds\"],\n",
    "    value='Seconds',\n",
    "    description=\"Select View Option\",\n",
    "    disabled=False,\n",
    ")\n",
    "display(y_axis)"
   ]
  },
  {
   "cell_type": "code",
   "execution_count": null,
   "metadata": {},
   "outputs": [],
   "source": [
    "time_view = y_axis.value\n",
    "time_view"
   ]
  },
  {
   "cell_type": "markdown",
   "metadata": {},
   "source": [
    "<a id='#patient_select'>Input patient file path</a>"
   ]
  },
  {
   "cell_type": "code",
   "execution_count": null,
   "metadata": {},
   "outputs": [],
   "source": [
    "config = Config()\n",
    "root_emg_directory = config.get_directory('root_emg_directory')"
   ]
  },
  {
   "cell_type": "markdown",
   "metadata": {},
   "source": [
    "Now you can pick a file from the list, which have been numbered."
   ]
  },
  {
   "cell_type": "code",
   "execution_count": null,
   "metadata": {},
   "outputs": [],
   "source": [
    "emg_pattern = os.path.join(root_emg_directory, '**/*.Poly5')\n",
    "emg_and_draeger_files = glob.glob(emg_pattern, recursive=True)\n",
    "\n",
    "emg_files = []\n",
    "draeger_files = []\n",
    "\n",
    "for file in emg_and_draeger_files:\n",
    "    if 'Draeger' in file:\n",
    "        draeger_files.append(file)\n",
    "    else:\n",
    "        emg_files.append(file)\n",
    "list_of_numbers_strung = []\n",
    "\n",
    "for i in range(len(emg_files)):\n",
    "    list_of_numbers_strung.append(str(i))\n",
    "\n",
    "\n",
    "btn = widgets.Dropdown(\n",
    "    options=list_of_numbers_strung,\n",
    "    value='0',\n",
    "    description='Picked File:',\n",
    "    disabled=False,\n",
    ")\n",
    "display(btn)"
   ]
  },
  {
   "cell_type": "code",
   "execution_count": null,
   "metadata": {},
   "outputs": [],
   "source": [
    "number_chosen = int(btn.value)\n",
    "emg_file_chosen = emg_files[number_chosen]\n",
    "draeger_file_chosen = draeger_files[number_chosen]\n",
    "print(\"The files you chose are:\\n\", emg_file_chosen, '\\n', draeger_file_chosen)"
   ]
  },
  {
   "cell_type": "code",
   "execution_count": null,
   "metadata": {},
   "outputs": [],
   "source": [
    "# get the poly5 reading\n",
    "data_emg = Poly5Reader(emg_file_chosen)\n",
    "data_draeger = Poly5Reader(draeger_file_chosen)\n",
    "data_emg_samples = data_emg.samples[:data_emg.num_samples]\n",
    "emg_fs = data_emg.sample_rate\n",
    "data_draeger_samples = data_draeger.samples[:data_draeger.num_samples]\n",
    "draeger_fs = data_draeger.sample_rate\n"
   ]
  },
  {
   "cell_type": "code",
   "execution_count": null,
   "metadata": {},
   "outputs": [],
   "source": [
    "x_emg = copy.deepcopy(data_emg_samples)\n",
    "x_draeger = copy.deepcopy(data_draeger_samples)\n",
    "\n",
    "y_emg = [i/emg_fs for i in range(len(data_emg_samples[0]))]\n",
    "y_draeger = [i/draeger_fs for i in range(len(data_draeger_samples[0]))]\n",
    "\n",
    "fig, axis = plt.subplots(nrows=3, ncols=4, figsize=(12, 6))\n",
    "axis[0, 0].grid(True)\n",
    "axis[0, 0].plot(x_emg[0])\n",
    "axis[0, 0].set(title='leads in EMG in sam')\n",
    "axis[1, 0].plot(x_emg[1])\n",
    "axis[2, 0].plot(x_emg[2])\n",
    "\n",
    "axis[0, 1].set(title='leads in Draeger in sam')\n",
    "axis[0, 1].grid(True)\n",
    "axis[0, 1].plot(x_draeger[0])\n",
    "axis[1, 1].plot(x_draeger[1])\n",
    "axis[2, 1].plot(x_draeger[2])\n",
    "\n",
    "axis[0, 2].grid(True)\n",
    "axis[0, 2].plot(y_emg, x_emg[0])\n",
    "axis[0, 2].set(title='leads in EMG in sec')\n",
    "axis[1, 2].plot(y_emg, x_emg[1])\n",
    "axis[2, 2].plot(y_emg, x_emg[2])\n",
    "\n",
    "axis[0, 3].set(title='leads in Draeger in sec')\n",
    "axis[0, 3].grid(True)\n",
    "axis[0, 3].plot(y_draeger, x_draeger[0])\n",
    "axis[1, 3].plot(y_draeger, x_draeger[1])\n",
    "axis[2, 3].plot(y_draeger, x_draeger[2])\n"
   ]
  },
  {
   "cell_type": "code",
   "execution_count": null,
   "metadata": {},
   "outputs": [],
   "source": [
    "# type in start number and press return for it to update\n",
    "start = input()"
   ]
  },
  {
   "cell_type": "code",
   "execution_count": null,
   "metadata": {},
   "outputs": [],
   "source": [
    "# type in end number and press return for it to update\n",
    "end = input()"
   ]
  },
  {
   "cell_type": "code",
   "execution_count": null,
   "metadata": {},
   "outputs": [],
   "source": [
    "if time_view == 'Seconds':\n",
    "    start_idx = int(float(start)* emg_fs)\n",
    "    end_s = min([int(float(end)*emg_fs), len(data_emg_samples[0])-1])\n",
    "    start_draeger_s = int(float(start)* draeger_fs)\n",
    "    end_draeger_s = min([int(float(end)* draeger_fs), len(data_draeger_samples[0])-1])\n",
    "\n",
    "else:\n",
    "    start_idx = int(float(start))\n",
    "    end_s = min([int(float(end)), len(data_emg_samples[0])-1])\n",
    "    start_draeger_s = int(float(start)* draeger_fs/emg_fs)\n",
    "    end_draeger_s = min([int(float(start)* draeger_fs/emg_fs), len(data_draeger_samples[0])-1])\n",
    "    y_emg = [range(len(data_emg_samples[0]))]\n",
    "    y_draeger = [range(len(data_draeger_samples[0]))]\n",
    "\n",
    "# nox examine at a certain scale- from point a to b as samples\n",
    "fig, axis = plt.subplots(nrows=3, ncols=2, figsize=(12, 6))\n",
    "axis[0, 0].grid(True)\n",
    "axis[0, 0].plot(y_emg[int(start_idx):int(end_s)], x_emg[0][int(start_idx):int(end_s)])\n",
    "axis[0, 0].set(title='leads in EMG')\n",
    "axis[1, 0].plot(y_emg[int(start_idx):int(end_s)], x_emg[1][int(start_idx):int(end_s)])\n",
    "axis[2, 0].plot(y_emg[int(start_idx):int(end_s)], x_emg[2][int(start_idx):int(end_s)])\n",
    "axis[0, 1].set(title='leads in Draeger')\n",
    "axis[0, 1].grid(True)\n",
    "axis[0, 1].plot(y_draeger[int(start_draeger_s):int(end_draeger_s)], x_draeger[0][int(start_draeger_s):int(end_draeger_s)])\n",
    "axis[1, 1].plot(y_draeger[int(start_draeger_s):int(end_draeger_s)], x_draeger[1][int(start_draeger_s):int(end_draeger_s)])\n",
    "axis[2, 1].plot(y_draeger[int(start_draeger_s):int(end_draeger_s)], x_draeger[2][int(start_draeger_s):int(end_draeger_s)])"
   ]
  },
  {
   "cell_type": "markdown",
   "metadata": {},
   "source": [
    "Happy with your selection? If not redo, then we can see how the filter works on it."
   ]
  },
  {
   "cell_type": "markdown",
   "metadata": {},
   "source": [
    "# Pre-processing pipeline"
   ]
  },
  {
   "cell_type": "code",
   "execution_count": null,
   "metadata": {},
   "outputs": [],
   "source": [
    "# processed_data_emg_di = working_pipeline_pre_entropy(data_emg_samples)\n",
    "bd_filtered_file_data = hf.emg_bandpass_butter_sample(data_emg_samples, 1, 500, 2048, output='sos')\n",
    "processed_data_ecg = bd_filtered_file_data[0, start_idx:end_s]\n",
    "processed_data_emg_di = bd_filtered_file_data[1, start_idx:end_s]\n",
    "processed_data_emg_para = bd_filtered_file_data[2, start_idx:end_s]\n",
    "\n",
    "x_draeger = x_draeger[:, start_draeger_s:end_draeger_s]\n",
    "\n",
    "y_emg = [i/emg_fs for i in range(len(data_emg_samples[0]))]\n",
    "y_draeger = [i/draeger_fs for i in range(len(data_draeger_samples[0]))]\n",
    "\n",
    "y_emg = y_emg[start_idx:end_s]\n",
    "y_draeger = y_draeger[start_draeger_s:end_draeger_s]"
   ]
  },
  {
   "cell_type": "code",
   "execution_count": null,
   "metadata": {},
   "outputs": [],
   "source": [
    "plot_window = 5\n",
    "\n",
    "# Detect ECG peaks on 1Hz high-pass filtered signals\n",
    "peak_width = 0.001\n",
    "peak_fraction = 0.40\n",
    "\n",
    "ecg = processed_data_ecg\n",
    "ecg_rms = hf.full_rolling_rms(ecg, 10)\n",
    "peak_height = peak_fraction*(max(ecg_rms[0:int(plot_window*emg_fs)]) - min(ecg_rms[0:int(plot_window*emg_fs)]))\n",
    "\n",
    "ECG_peaks, properties  = scipy.signal.find_peaks(ecg_rms, height=peak_height, width=peak_width*emg_fs)\n",
    "ECG_peaks = ECG_peaks - 5\n",
    "\n",
    "# Filter EXG signals 20Hz high pass\n",
    "ECG_h20 = hf.emg_bandpass_butter_sample(ecg, 20, 500, 2048, output='sos')\n",
    "emg_di_h20 = hf.emg_bandpass_butter_sample(processed_data_emg_di, 20, 500, 2048, output='sos')\n",
    "\n",
    "# Gate ECG and EMG signal\n",
    "gate_width = 0.1\n",
    "gate_fill_method = 3    # 0: Zeros, 1: Interpolate start-end, 2: Average prior data, 3: Moving average\n",
    "gate_width_samples = int(gate_width*emg_fs)\n",
    "\n",
    "ECG_gated = hf.gating(ECG_h20, ECG_peaks, gate_width=gate_width_samples, method=gate_fill_method)\n",
    "emg_di_gated = hf.gating(emg_di_h20, ECG_peaks, gate_width=gate_width_samples, method=gate_fill_method)\n",
    "\n",
    "# Example of all methods\n",
    "emg_di_gated_zero = hf.gating(emg_di_h20, ECG_peaks, gate_width=gate_width_samples, method=0)\n",
    "emg_di_gated_interpolate = hf.gating(emg_di_h20, ECG_peaks, gate_width=gate_width_samples, method=1)\n",
    "emg_di_gated_prior_ave = hf.gating(emg_di_h20, ECG_peaks, gate_width=gate_width_samples, method=2)\n",
    "emg_di_gated_MA = hf.gating(emg_di_h20, ECG_peaks, gate_width=gate_width_samples, method=3) # Default\n"
   ]
  },
  {
   "cell_type": "markdown",
   "metadata": {},
   "source": [
    "Plot gated signal"
   ]
  },
  {
   "cell_type": "code",
   "execution_count": null,
   "metadata": {},
   "outputs": [],
   "source": [
    "\n",
    "fig, axis = plt.subplots(nrows=4, ncols=1, figsize=(12, 6))\n",
    "axis[0].grid(True)\n",
    "axis[0].plot(y_emg[0:int(+plot_window*2048)], bd_filtered_file_data[0, int(start_idx):int(start_idx+plot_window*2048)])\n",
    "axis[1].set_ylabel('Source ECG (uV)')\n",
    "\n",
    "axis[0].set(title='leads in EMG')\n",
    "axis[1].grid(True)\n",
    "axis[1].plot(y_emg[0:int(plot_window*2048)], ECG_gated[0:int(plot_window*2048)])\n",
    "axis[1].set_ylabel('Gated ECG (uV)')\n",
    "# axis[1].plot(y_emg[int(start_idx):int(start_idx+plot_window*2048)], ECG_gated_RMS[int(start_idx):int(start_idx+plot_window*2048)])\n",
    "axis[2].grid(True)\n",
    "axis[2].plot(y_emg[0:int(plot_window*2048)], emg_di_gated[0:int(plot_window*2048)])\n",
    "# axis[2].plot(y_emg[int(start_idx):int(start_idx+plot_window*2048)], emg_gated_RMS[int(start_idx):int(start_idx+plot_window*2048)])\n",
    "axis[2].set_ylabel('Gated EMG_di (uV)')\n",
    "\n",
    "axis[3].grid(True)\n",
    "axis[3].plot(y_emg[0:int(plot_window*2048)], ecg_rms[0:int(plot_window*2048)])\n",
    "axis[3].hlines(y=peak_height, xmin=y_emg[0], xmax=y_emg[int(plot_window*2048)], color = \"C1\")\n",
    "for idx in range(len(ECG_peaks)):\n",
    "    if (ECG_peaks[idx] > int(0)) & (ECG_peaks[idx] < int(plot_window*2048)):\n",
    "        axis[3].plot(y_emg[ECG_peaks[idx]], ecg_rms[ECG_peaks[idx]],'rx')\n",
    "\n",
    "axis[3].set_xlabel('t (s)')"
   ]
  },
  {
   "cell_type": "markdown",
   "metadata": {},
   "source": [
    "Calculate RMS"
   ]
  },
  {
   "cell_type": "code",
   "execution_count": null,
   "metadata": {},
   "outputs": [],
   "source": [
    "RMS_window_ms = 200\n",
    "RMS_windows_samp = int(RMS_window_ms / 1000 *  emg_fs)\n",
    "\n",
    "RMS_data_emg_di = hf.full_rolling_rms(emg_di_gated, RMS_windows_samp)\n",
    "\n",
    "RMS_data_emg_di_zero = hf.full_rolling_rms(emg_di_gated_zero, RMS_windows_samp)\n",
    "RMS_data_emg_di_interpolate = hf.full_rolling_rms(emg_di_gated_interpolate, RMS_windows_samp)\n",
    "RMS_data_emg_di_prior_ave = hf.full_rolling_rms(emg_di_gated_prior_ave, RMS_windows_samp)\n",
    "RMS_data_emg_di_MA = hf.full_rolling_rms(emg_di_gated_MA, RMS_windows_samp)"
   ]
  },
  {
   "cell_type": "markdown",
   "metadata": {},
   "source": [
    "Plot RMS signals"
   ]
  },
  {
   "cell_type": "code",
   "execution_count": null,
   "metadata": {},
   "outputs": [],
   "source": [
    "fig, axis = plt.subplots(nrows=3, ncols=1, figsize=(12, 6))\n",
    "axis[0].grid(True)\n",
    "axis[0].plot(y_emg, processed_data_emg_di)\n",
    "axis[0].set_ylabel('Raw sEMGdi (uV)')\n",
    "\n",
    "axis[1].plot(y_emg, RMS_data_emg_di_zero, linewidth=1)\n",
    "axis[1].plot(y_emg, RMS_data_emg_di_interpolate, linewidth=1)\n",
    "axis[1].plot(y_emg, RMS_data_emg_di_prior_ave, linewidth=1)\n",
    "axis[1].plot(y_emg, RMS_data_emg_di_MA, linewidth=1)\n",
    "axis[1].set_xlabel('t (s)')\n",
    "axis[1].set_ylabel('RMS{sEMGdi} (uV)')\n",
    "axis[1].legend(['Zero', 'Interpolate', 'Prior average', 'Rolling moving average'])\n",
    "\n",
    "axis[-1].grid(True)\n",
    "axis[-1].plot(y_draeger, x_draeger[0])\n",
    "axis[-1].set_ylabel('P_vent (cmH2O)')"
   ]
  },
  {
   "cell_type": "code",
   "execution_count": null,
   "metadata": {},
   "outputs": [],
   "source": []
  },
  {
   "cell_type": "code",
   "execution_count": null,
   "metadata": {},
   "outputs": [],
   "source": []
  }
 ],
 "metadata": {
  "kernelspec": {
   "display_name": "Python 3 (ipykernel)",
   "language": "python",
   "name": "python3"
  },
  "language_info": {
   "codemirror_mode": {
    "name": "ipython",
    "version": 3
   },
   "file_extension": ".py",
   "mimetype": "text/x-python",
   "name": "python",
   "nbconvert_exporter": "python",
   "pygments_lexer": "ipython3",
   "version": "3.8.6"
  },
  "vscode": {
   "interpreter": {
    "hash": "e8dd7ce9e20bfffb3e7d20120f80949d3a8fde68f5792e20536ad84d47a48ee1"
   }
  }
 },
 "nbformat": 4,
 "nbformat_minor": 4
}
